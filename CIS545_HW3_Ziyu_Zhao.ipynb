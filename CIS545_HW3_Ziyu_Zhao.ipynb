{
  "nbformat": 4,
  "nbformat_minor": 0,
  "metadata": {
    "colab": {
      "name": "CIS545_HW3_Ziyu_Zhao",
      "provenance": [],
      "collapsed_sections": []
    },
    "kernelspec": {
      "name": "python3",
      "display_name": "Python 3"
    },
    "widgets": {
      "application/vnd.jupyter.widget-state+json": {
        "2974448725cc4a81b33825f775ec5bd1": {
          "model_module": "@jupyter-widgets/controls",
          "model_name": "FloatProgressModel",
          "state": {
            "_view_name": "ProgressView",
            "style": "IPY_MODEL_82a4372dbdce4217b6dc55df218506c1",
            "_dom_classes": [],
            "description": "Progress:",
            "_model_name": "FloatProgressModel",
            "bar_style": "info",
            "max": 1,
            "_view_module": "@jupyter-widgets/controls",
            "_model_module_version": "1.5.0",
            "value": 0,
            "_view_count": null,
            "_view_module_version": "1.5.0",
            "orientation": "horizontal",
            "min": 0,
            "description_tooltip": null,
            "_model_module": "@jupyter-widgets/controls",
            "layout": "IPY_MODEL_10f2ffc6256640929371dda0501ab2a1"
          }
        },
        "82a4372dbdce4217b6dc55df218506c1": {
          "model_module": "@jupyter-widgets/controls",
          "model_name": "ProgressStyleModel",
          "state": {
            "_view_name": "StyleView",
            "_model_name": "ProgressStyleModel",
            "description_width": "",
            "_view_module": "@jupyter-widgets/base",
            "_model_module_version": "1.5.0",
            "_view_count": null,
            "_view_module_version": "1.2.0",
            "bar_color": null,
            "_model_module": "@jupyter-widgets/controls"
          }
        },
        "10f2ffc6256640929371dda0501ab2a1": {
          "model_module": "@jupyter-widgets/base",
          "model_name": "LayoutModel",
          "state": {
            "_view_name": "LayoutView",
            "grid_template_rows": null,
            "right": null,
            "justify_content": null,
            "_view_module": "@jupyter-widgets/base",
            "overflow": null,
            "_model_module_version": "1.2.0",
            "_view_count": null,
            "flex_flow": null,
            "width": "50%",
            "min_width": null,
            "border": null,
            "align_items": null,
            "bottom": null,
            "_model_module": "@jupyter-widgets/base",
            "top": null,
            "grid_column": null,
            "overflow_y": null,
            "overflow_x": null,
            "grid_auto_flow": null,
            "grid_area": null,
            "grid_template_columns": null,
            "flex": null,
            "_model_name": "LayoutModel",
            "justify_items": null,
            "grid_row": null,
            "max_height": null,
            "align_content": null,
            "visibility": null,
            "align_self": null,
            "height": "25px",
            "min_height": null,
            "padding": null,
            "grid_auto_rows": null,
            "grid_gap": null,
            "max_width": null,
            "order": null,
            "_view_module_version": "1.2.0",
            "grid_template_areas": null,
            "object_position": null,
            "object_fit": null,
            "grid_auto_columns": null,
            "margin": null,
            "display": null,
            "left": null
          }
        },
        "9e9d43163b134b59ba56b9eb5ee3d5c8": {
          "model_module": "@jupyter-widgets/controls",
          "model_name": "FloatProgressModel",
          "state": {
            "_view_name": "ProgressView",
            "style": "IPY_MODEL_38bc6cea743149ff8d09c9b59311446e",
            "_dom_classes": [],
            "description": "Progress:",
            "_model_name": "FloatProgressModel",
            "bar_style": "info",
            "max": 1,
            "_view_module": "@jupyter-widgets/controls",
            "_model_module_version": "1.5.0",
            "value": 0,
            "_view_count": null,
            "_view_module_version": "1.5.0",
            "orientation": "horizontal",
            "min": 0,
            "description_tooltip": null,
            "_model_module": "@jupyter-widgets/controls",
            "layout": "IPY_MODEL_05b913d6a68a4b9c82b1840d4b9c782f"
          }
        },
        "38bc6cea743149ff8d09c9b59311446e": {
          "model_module": "@jupyter-widgets/controls",
          "model_name": "ProgressStyleModel",
          "state": {
            "_view_name": "StyleView",
            "_model_name": "ProgressStyleModel",
            "description_width": "",
            "_view_module": "@jupyter-widgets/base",
            "_model_module_version": "1.5.0",
            "_view_count": null,
            "_view_module_version": "1.2.0",
            "bar_color": null,
            "_model_module": "@jupyter-widgets/controls"
          }
        },
        "05b913d6a68a4b9c82b1840d4b9c782f": {
          "model_module": "@jupyter-widgets/base",
          "model_name": "LayoutModel",
          "state": {
            "_view_name": "LayoutView",
            "grid_template_rows": null,
            "right": null,
            "justify_content": null,
            "_view_module": "@jupyter-widgets/base",
            "overflow": null,
            "_model_module_version": "1.2.0",
            "_view_count": null,
            "flex_flow": null,
            "width": "50%",
            "min_width": null,
            "border": null,
            "align_items": null,
            "bottom": null,
            "_model_module": "@jupyter-widgets/base",
            "top": null,
            "grid_column": null,
            "overflow_y": null,
            "overflow_x": null,
            "grid_auto_flow": null,
            "grid_area": null,
            "grid_template_columns": null,
            "flex": null,
            "_model_name": "LayoutModel",
            "justify_items": null,
            "grid_row": null,
            "max_height": null,
            "align_content": null,
            "visibility": null,
            "align_self": null,
            "height": "25px",
            "min_height": null,
            "padding": null,
            "grid_auto_rows": null,
            "grid_gap": null,
            "max_width": null,
            "order": null,
            "_view_module_version": "1.2.0",
            "grid_template_areas": null,
            "object_position": null,
            "object_fit": null,
            "grid_auto_columns": null,
            "margin": null,
            "display": null,
            "left": null
          }
        },
        "b0723aea077643ee80364e97014d8ad6": {
          "model_module": "@jupyter-widgets/controls",
          "model_name": "FloatProgressModel",
          "state": {
            "_view_name": "ProgressView",
            "style": "IPY_MODEL_6c4535dd5e654c2b84ce8f0c70069371",
            "_dom_classes": [],
            "description": "Progress:",
            "_model_name": "FloatProgressModel",
            "bar_style": "info",
            "max": 1,
            "_view_module": "@jupyter-widgets/controls",
            "_model_module_version": "1.5.0",
            "value": 0,
            "_view_count": null,
            "_view_module_version": "1.5.0",
            "orientation": "horizontal",
            "min": 0,
            "description_tooltip": null,
            "_model_module": "@jupyter-widgets/controls",
            "layout": "IPY_MODEL_0f78090387b7411490dfe6c1d1f1f020"
          }
        },
        "6c4535dd5e654c2b84ce8f0c70069371": {
          "model_module": "@jupyter-widgets/controls",
          "model_name": "ProgressStyleModel",
          "state": {
            "_view_name": "StyleView",
            "_model_name": "ProgressStyleModel",
            "description_width": "",
            "_view_module": "@jupyter-widgets/base",
            "_model_module_version": "1.5.0",
            "_view_count": null,
            "_view_module_version": "1.2.0",
            "bar_color": null,
            "_model_module": "@jupyter-widgets/controls"
          }
        },
        "0f78090387b7411490dfe6c1d1f1f020": {
          "model_module": "@jupyter-widgets/base",
          "model_name": "LayoutModel",
          "state": {
            "_view_name": "LayoutView",
            "grid_template_rows": null,
            "right": null,
            "justify_content": null,
            "_view_module": "@jupyter-widgets/base",
            "overflow": null,
            "_model_module_version": "1.2.0",
            "_view_count": null,
            "flex_flow": null,
            "width": "50%",
            "min_width": null,
            "border": null,
            "align_items": null,
            "bottom": null,
            "_model_module": "@jupyter-widgets/base",
            "top": null,
            "grid_column": null,
            "overflow_y": null,
            "overflow_x": null,
            "grid_auto_flow": null,
            "grid_area": null,
            "grid_template_columns": null,
            "flex": null,
            "_model_name": "LayoutModel",
            "justify_items": null,
            "grid_row": null,
            "max_height": null,
            "align_content": null,
            "visibility": null,
            "align_self": null,
            "height": "25px",
            "min_height": null,
            "padding": null,
            "grid_auto_rows": null,
            "grid_gap": null,
            "max_width": null,
            "order": null,
            "_view_module_version": "1.2.0",
            "grid_template_areas": null,
            "object_position": null,
            "object_fit": null,
            "grid_auto_columns": null,
            "margin": null,
            "display": null,
            "left": null
          }
        },
        "e206ff3c51dc4a4c8bae0cb102b9dd08": {
          "model_module": "@jupyter-widgets/controls",
          "model_name": "FloatProgressModel",
          "state": {
            "_view_name": "ProgressView",
            "style": "IPY_MODEL_2868fbdc7334407da76df2bb656b3b8d",
            "_dom_classes": [],
            "description": "Progress:",
            "_model_name": "FloatProgressModel",
            "bar_style": "info",
            "max": 1,
            "_view_module": "@jupyter-widgets/controls",
            "_model_module_version": "1.5.0",
            "value": 0,
            "_view_count": null,
            "_view_module_version": "1.5.0",
            "orientation": "horizontal",
            "min": 0,
            "description_tooltip": null,
            "_model_module": "@jupyter-widgets/controls",
            "layout": "IPY_MODEL_847179cf75b344b48518c39011d4f49c"
          }
        },
        "2868fbdc7334407da76df2bb656b3b8d": {
          "model_module": "@jupyter-widgets/controls",
          "model_name": "ProgressStyleModel",
          "state": {
            "_view_name": "StyleView",
            "_model_name": "ProgressStyleModel",
            "description_width": "",
            "_view_module": "@jupyter-widgets/base",
            "_model_module_version": "1.5.0",
            "_view_count": null,
            "_view_module_version": "1.2.0",
            "bar_color": null,
            "_model_module": "@jupyter-widgets/controls"
          }
        },
        "847179cf75b344b48518c39011d4f49c": {
          "model_module": "@jupyter-widgets/base",
          "model_name": "LayoutModel",
          "state": {
            "_view_name": "LayoutView",
            "grid_template_rows": null,
            "right": null,
            "justify_content": null,
            "_view_module": "@jupyter-widgets/base",
            "overflow": null,
            "_model_module_version": "1.2.0",
            "_view_count": null,
            "flex_flow": null,
            "width": "50%",
            "min_width": null,
            "border": null,
            "align_items": null,
            "bottom": null,
            "_model_module": "@jupyter-widgets/base",
            "top": null,
            "grid_column": null,
            "overflow_y": null,
            "overflow_x": null,
            "grid_auto_flow": null,
            "grid_area": null,
            "grid_template_columns": null,
            "flex": null,
            "_model_name": "LayoutModel",
            "justify_items": null,
            "grid_row": null,
            "max_height": null,
            "align_content": null,
            "visibility": null,
            "align_self": null,
            "height": "25px",
            "min_height": null,
            "padding": null,
            "grid_auto_rows": null,
            "grid_gap": null,
            "max_width": null,
            "order": null,
            "_view_module_version": "1.2.0",
            "grid_template_areas": null,
            "object_position": null,
            "object_fit": null,
            "grid_auto_columns": null,
            "margin": null,
            "display": null,
            "left": null
          }
        },
        "2f3e58b19ac845ab84907d8fd5a83335": {
          "model_module": "@jupyter-widgets/controls",
          "model_name": "FloatProgressModel",
          "state": {
            "_view_name": "ProgressView",
            "style": "IPY_MODEL_0c43d4694b2a4eb2a85bb6742fecf88b",
            "_dom_classes": [],
            "description": "Progress:",
            "_model_name": "FloatProgressModel",
            "bar_style": "info",
            "max": 1,
            "_view_module": "@jupyter-widgets/controls",
            "_model_module_version": "1.5.0",
            "value": 0,
            "_view_count": null,
            "_view_module_version": "1.5.0",
            "orientation": "horizontal",
            "min": 0,
            "description_tooltip": null,
            "_model_module": "@jupyter-widgets/controls",
            "layout": "IPY_MODEL_8e78b33375c749dda32ca009fbc8f44e"
          }
        },
        "0c43d4694b2a4eb2a85bb6742fecf88b": {
          "model_module": "@jupyter-widgets/controls",
          "model_name": "ProgressStyleModel",
          "state": {
            "_view_name": "StyleView",
            "_model_name": "ProgressStyleModel",
            "description_width": "",
            "_view_module": "@jupyter-widgets/base",
            "_model_module_version": "1.5.0",
            "_view_count": null,
            "_view_module_version": "1.2.0",
            "bar_color": null,
            "_model_module": "@jupyter-widgets/controls"
          }
        },
        "8e78b33375c749dda32ca009fbc8f44e": {
          "model_module": "@jupyter-widgets/base",
          "model_name": "LayoutModel",
          "state": {
            "_view_name": "LayoutView",
            "grid_template_rows": null,
            "right": null,
            "justify_content": null,
            "_view_module": "@jupyter-widgets/base",
            "overflow": null,
            "_model_module_version": "1.2.0",
            "_view_count": null,
            "flex_flow": null,
            "width": "50%",
            "min_width": null,
            "border": null,
            "align_items": null,
            "bottom": null,
            "_model_module": "@jupyter-widgets/base",
            "top": null,
            "grid_column": null,
            "overflow_y": null,
            "overflow_x": null,
            "grid_auto_flow": null,
            "grid_area": null,
            "grid_template_columns": null,
            "flex": null,
            "_model_name": "LayoutModel",
            "justify_items": null,
            "grid_row": null,
            "max_height": null,
            "align_content": null,
            "visibility": null,
            "align_self": null,
            "height": "25px",
            "min_height": null,
            "padding": null,
            "grid_auto_rows": null,
            "grid_gap": null,
            "max_width": null,
            "order": null,
            "_view_module_version": "1.2.0",
            "grid_template_areas": null,
            "object_position": null,
            "object_fit": null,
            "grid_auto_columns": null,
            "margin": null,
            "display": null,
            "left": null
          }
        },
        "cf62912763a547cda4367f4536620655": {
          "model_module": "@jupyter-widgets/controls",
          "model_name": "FloatProgressModel",
          "state": {
            "_view_name": "ProgressView",
            "style": "IPY_MODEL_7ed843cb0ceb4346a518c1e4effca5e5",
            "_dom_classes": [],
            "description": "Progress:",
            "_model_name": "FloatProgressModel",
            "bar_style": "info",
            "max": 1,
            "_view_module": "@jupyter-widgets/controls",
            "_model_module_version": "1.5.0",
            "value": 0,
            "_view_count": null,
            "_view_module_version": "1.5.0",
            "orientation": "horizontal",
            "min": 0,
            "description_tooltip": null,
            "_model_module": "@jupyter-widgets/controls",
            "layout": "IPY_MODEL_8a5d76c211094316ac3d7939ca60eb34"
          }
        },
        "7ed843cb0ceb4346a518c1e4effca5e5": {
          "model_module": "@jupyter-widgets/controls",
          "model_name": "ProgressStyleModel",
          "state": {
            "_view_name": "StyleView",
            "_model_name": "ProgressStyleModel",
            "description_width": "",
            "_view_module": "@jupyter-widgets/base",
            "_model_module_version": "1.5.0",
            "_view_count": null,
            "_view_module_version": "1.2.0",
            "bar_color": null,
            "_model_module": "@jupyter-widgets/controls"
          }
        },
        "8a5d76c211094316ac3d7939ca60eb34": {
          "model_module": "@jupyter-widgets/base",
          "model_name": "LayoutModel",
          "state": {
            "_view_name": "LayoutView",
            "grid_template_rows": null,
            "right": null,
            "justify_content": null,
            "_view_module": "@jupyter-widgets/base",
            "overflow": null,
            "_model_module_version": "1.2.0",
            "_view_count": null,
            "flex_flow": null,
            "width": "50%",
            "min_width": null,
            "border": null,
            "align_items": null,
            "bottom": null,
            "_model_module": "@jupyter-widgets/base",
            "top": null,
            "grid_column": null,
            "overflow_y": null,
            "overflow_x": null,
            "grid_auto_flow": null,
            "grid_area": null,
            "grid_template_columns": null,
            "flex": null,
            "_model_name": "LayoutModel",
            "justify_items": null,
            "grid_row": null,
            "max_height": null,
            "align_content": null,
            "visibility": null,
            "align_self": null,
            "height": "25px",
            "min_height": null,
            "padding": null,
            "grid_auto_rows": null,
            "grid_gap": null,
            "max_width": null,
            "order": null,
            "_view_module_version": "1.2.0",
            "grid_template_areas": null,
            "object_position": null,
            "object_fit": null,
            "grid_auto_columns": null,
            "margin": null,
            "display": null,
            "left": null
          }
        },
        "3c7a9c859cdd4ec8aa068c2150961b6d": {
          "model_module": "@jupyter-widgets/controls",
          "model_name": "FloatProgressModel",
          "state": {
            "_view_name": "ProgressView",
            "style": "IPY_MODEL_fd900d40c0aa48de8ab54a23bb5daa2d",
            "_dom_classes": [],
            "description": "Progress:",
            "_model_name": "FloatProgressModel",
            "bar_style": "info",
            "max": 1,
            "_view_module": "@jupyter-widgets/controls",
            "_model_module_version": "1.5.0",
            "value": 0,
            "_view_count": null,
            "_view_module_version": "1.5.0",
            "orientation": "horizontal",
            "min": 0,
            "description_tooltip": null,
            "_model_module": "@jupyter-widgets/controls",
            "layout": "IPY_MODEL_99c7263e2f49471db9f9070c9c635202"
          }
        },
        "fd900d40c0aa48de8ab54a23bb5daa2d": {
          "model_module": "@jupyter-widgets/controls",
          "model_name": "ProgressStyleModel",
          "state": {
            "_view_name": "StyleView",
            "_model_name": "ProgressStyleModel",
            "description_width": "",
            "_view_module": "@jupyter-widgets/base",
            "_model_module_version": "1.5.0",
            "_view_count": null,
            "_view_module_version": "1.2.0",
            "bar_color": null,
            "_model_module": "@jupyter-widgets/controls"
          }
        },
        "99c7263e2f49471db9f9070c9c635202": {
          "model_module": "@jupyter-widgets/base",
          "model_name": "LayoutModel",
          "state": {
            "_view_name": "LayoutView",
            "grid_template_rows": null,
            "right": null,
            "justify_content": null,
            "_view_module": "@jupyter-widgets/base",
            "overflow": null,
            "_model_module_version": "1.2.0",
            "_view_count": null,
            "flex_flow": null,
            "width": "50%",
            "min_width": null,
            "border": null,
            "align_items": null,
            "bottom": null,
            "_model_module": "@jupyter-widgets/base",
            "top": null,
            "grid_column": null,
            "overflow_y": null,
            "overflow_x": null,
            "grid_auto_flow": null,
            "grid_area": null,
            "grid_template_columns": null,
            "flex": null,
            "_model_name": "LayoutModel",
            "justify_items": null,
            "grid_row": null,
            "max_height": null,
            "align_content": null,
            "visibility": null,
            "align_self": null,
            "height": "25px",
            "min_height": null,
            "padding": null,
            "grid_auto_rows": null,
            "grid_gap": null,
            "max_width": null,
            "order": null,
            "_view_module_version": "1.2.0",
            "grid_template_areas": null,
            "object_position": null,
            "object_fit": null,
            "grid_auto_columns": null,
            "margin": null,
            "display": null,
            "left": null
          }
        },
        "38349805dfde444682c47c30e45238f6": {
          "model_module": "@jupyter-widgets/controls",
          "model_name": "FloatProgressModel",
          "state": {
            "_view_name": "ProgressView",
            "style": "IPY_MODEL_72a44e7887cf4146a019ed0fa0367c76",
            "_dom_classes": [],
            "description": "Progress:",
            "_model_name": "FloatProgressModel",
            "bar_style": "info",
            "max": 1,
            "_view_module": "@jupyter-widgets/controls",
            "_model_module_version": "1.5.0",
            "value": 0,
            "_view_count": null,
            "_view_module_version": "1.5.0",
            "orientation": "horizontal",
            "min": 0,
            "description_tooltip": null,
            "_model_module": "@jupyter-widgets/controls",
            "layout": "IPY_MODEL_dab5c91584784ea988e389df78dcbf46"
          }
        },
        "72a44e7887cf4146a019ed0fa0367c76": {
          "model_module": "@jupyter-widgets/controls",
          "model_name": "ProgressStyleModel",
          "state": {
            "_view_name": "StyleView",
            "_model_name": "ProgressStyleModel",
            "description_width": "",
            "_view_module": "@jupyter-widgets/base",
            "_model_module_version": "1.5.0",
            "_view_count": null,
            "_view_module_version": "1.2.0",
            "bar_color": null,
            "_model_module": "@jupyter-widgets/controls"
          }
        },
        "dab5c91584784ea988e389df78dcbf46": {
          "model_module": "@jupyter-widgets/base",
          "model_name": "LayoutModel",
          "state": {
            "_view_name": "LayoutView",
            "grid_template_rows": null,
            "right": null,
            "justify_content": null,
            "_view_module": "@jupyter-widgets/base",
            "overflow": null,
            "_model_module_version": "1.2.0",
            "_view_count": null,
            "flex_flow": null,
            "width": "50%",
            "min_width": null,
            "border": null,
            "align_items": null,
            "bottom": null,
            "_model_module": "@jupyter-widgets/base",
            "top": null,
            "grid_column": null,
            "overflow_y": null,
            "overflow_x": null,
            "grid_auto_flow": null,
            "grid_area": null,
            "grid_template_columns": null,
            "flex": null,
            "_model_name": "LayoutModel",
            "justify_items": null,
            "grid_row": null,
            "max_height": null,
            "align_content": null,
            "visibility": null,
            "align_self": null,
            "height": "25px",
            "min_height": null,
            "padding": null,
            "grid_auto_rows": null,
            "grid_gap": null,
            "max_width": null,
            "order": null,
            "_view_module_version": "1.2.0",
            "grid_template_areas": null,
            "object_position": null,
            "object_fit": null,
            "grid_auto_columns": null,
            "margin": null,
            "display": null,
            "left": null
          }
        },
        "f5845dcc161d49f5a8ca1e1797208fff": {
          "model_module": "@jupyter-widgets/controls",
          "model_name": "FloatProgressModel",
          "state": {
            "_view_name": "ProgressView",
            "style": "IPY_MODEL_8191561881a74039942ca2571e53ee67",
            "_dom_classes": [],
            "description": "Progress:",
            "_model_name": "FloatProgressModel",
            "bar_style": "info",
            "max": 1,
            "_view_module": "@jupyter-widgets/controls",
            "_model_module_version": "1.5.0",
            "value": 0,
            "_view_count": null,
            "_view_module_version": "1.5.0",
            "orientation": "horizontal",
            "min": 0,
            "description_tooltip": null,
            "_model_module": "@jupyter-widgets/controls",
            "layout": "IPY_MODEL_64c9ff0e09b84a29a4e6087a07b3ee09"
          }
        },
        "8191561881a74039942ca2571e53ee67": {
          "model_module": "@jupyter-widgets/controls",
          "model_name": "ProgressStyleModel",
          "state": {
            "_view_name": "StyleView",
            "_model_name": "ProgressStyleModel",
            "description_width": "",
            "_view_module": "@jupyter-widgets/base",
            "_model_module_version": "1.5.0",
            "_view_count": null,
            "_view_module_version": "1.2.0",
            "bar_color": null,
            "_model_module": "@jupyter-widgets/controls"
          }
        },
        "64c9ff0e09b84a29a4e6087a07b3ee09": {
          "model_module": "@jupyter-widgets/base",
          "model_name": "LayoutModel",
          "state": {
            "_view_name": "LayoutView",
            "grid_template_rows": null,
            "right": null,
            "justify_content": null,
            "_view_module": "@jupyter-widgets/base",
            "overflow": null,
            "_model_module_version": "1.2.0",
            "_view_count": null,
            "flex_flow": null,
            "width": "50%",
            "min_width": null,
            "border": null,
            "align_items": null,
            "bottom": null,
            "_model_module": "@jupyter-widgets/base",
            "top": null,
            "grid_column": null,
            "overflow_y": null,
            "overflow_x": null,
            "grid_auto_flow": null,
            "grid_area": null,
            "grid_template_columns": null,
            "flex": null,
            "_model_name": "LayoutModel",
            "justify_items": null,
            "grid_row": null,
            "max_height": null,
            "align_content": null,
            "visibility": null,
            "align_self": null,
            "height": "25px",
            "min_height": null,
            "padding": null,
            "grid_auto_rows": null,
            "grid_gap": null,
            "max_width": null,
            "order": null,
            "_view_module_version": "1.2.0",
            "grid_template_areas": null,
            "object_position": null,
            "object_fit": null,
            "grid_auto_columns": null,
            "margin": null,
            "display": null,
            "left": null
          }
        },
        "0a5198e7cca0489e8cfc6c69e89f2295": {
          "model_module": "@jupyter-widgets/controls",
          "model_name": "FloatProgressModel",
          "state": {
            "_view_name": "ProgressView",
            "style": "IPY_MODEL_a559d5c91c8e4059a5ee68d4910bea9b",
            "_dom_classes": [],
            "description": "Progress:",
            "_model_name": "FloatProgressModel",
            "bar_style": "info",
            "max": 1,
            "_view_module": "@jupyter-widgets/controls",
            "_model_module_version": "1.5.0",
            "value": 0.125,
            "_view_count": null,
            "_view_module_version": "1.5.0",
            "orientation": "horizontal",
            "min": 0,
            "description_tooltip": null,
            "_model_module": "@jupyter-widgets/controls",
            "layout": "IPY_MODEL_8ffd5a0f3a8c41b5b9bc09a0f3808195"
          }
        },
        "a559d5c91c8e4059a5ee68d4910bea9b": {
          "model_module": "@jupyter-widgets/controls",
          "model_name": "ProgressStyleModel",
          "state": {
            "_view_name": "StyleView",
            "_model_name": "ProgressStyleModel",
            "description_width": "",
            "_view_module": "@jupyter-widgets/base",
            "_model_module_version": "1.5.0",
            "_view_count": null,
            "_view_module_version": "1.2.0",
            "bar_color": null,
            "_model_module": "@jupyter-widgets/controls"
          }
        },
        "8ffd5a0f3a8c41b5b9bc09a0f3808195": {
          "model_module": "@jupyter-widgets/base",
          "model_name": "LayoutModel",
          "state": {
            "_view_name": "LayoutView",
            "grid_template_rows": null,
            "right": null,
            "justify_content": null,
            "_view_module": "@jupyter-widgets/base",
            "overflow": null,
            "_model_module_version": "1.2.0",
            "_view_count": null,
            "flex_flow": null,
            "width": "50%",
            "min_width": null,
            "border": null,
            "align_items": null,
            "bottom": null,
            "_model_module": "@jupyter-widgets/base",
            "top": null,
            "grid_column": null,
            "overflow_y": null,
            "overflow_x": null,
            "grid_auto_flow": null,
            "grid_area": null,
            "grid_template_columns": null,
            "flex": null,
            "_model_name": "LayoutModel",
            "justify_items": null,
            "grid_row": null,
            "max_height": null,
            "align_content": null,
            "visibility": null,
            "align_self": null,
            "height": "25px",
            "min_height": null,
            "padding": null,
            "grid_auto_rows": null,
            "grid_gap": null,
            "max_width": null,
            "order": null,
            "_view_module_version": "1.2.0",
            "grid_template_areas": null,
            "object_position": null,
            "object_fit": null,
            "grid_auto_columns": null,
            "margin": null,
            "display": null,
            "left": null
          }
        },
        "8decea1083a642a3bc28d13622489ed3": {
          "model_module": "@jupyter-widgets/controls",
          "model_name": "FloatProgressModel",
          "state": {
            "_view_name": "ProgressView",
            "style": "IPY_MODEL_0d8e7bb4391a4443bc293c3f1ab62018",
            "_dom_classes": [],
            "description": "Progress:",
            "_model_name": "FloatProgressModel",
            "bar_style": "info",
            "max": 1,
            "_view_module": "@jupyter-widgets/controls",
            "_model_module_version": "1.5.0",
            "value": 0,
            "_view_count": null,
            "_view_module_version": "1.5.0",
            "orientation": "horizontal",
            "min": 0,
            "description_tooltip": null,
            "_model_module": "@jupyter-widgets/controls",
            "layout": "IPY_MODEL_fb5918a182f5413fb9a6bd1a265e09f9"
          }
        },
        "0d8e7bb4391a4443bc293c3f1ab62018": {
          "model_module": "@jupyter-widgets/controls",
          "model_name": "ProgressStyleModel",
          "state": {
            "_view_name": "StyleView",
            "_model_name": "ProgressStyleModel",
            "description_width": "",
            "_view_module": "@jupyter-widgets/base",
            "_model_module_version": "1.5.0",
            "_view_count": null,
            "_view_module_version": "1.2.0",
            "bar_color": null,
            "_model_module": "@jupyter-widgets/controls"
          }
        },
        "fb5918a182f5413fb9a6bd1a265e09f9": {
          "model_module": "@jupyter-widgets/base",
          "model_name": "LayoutModel",
          "state": {
            "_view_name": "LayoutView",
            "grid_template_rows": null,
            "right": null,
            "justify_content": null,
            "_view_module": "@jupyter-widgets/base",
            "overflow": null,
            "_model_module_version": "1.2.0",
            "_view_count": null,
            "flex_flow": null,
            "width": "50%",
            "min_width": null,
            "border": null,
            "align_items": null,
            "bottom": null,
            "_model_module": "@jupyter-widgets/base",
            "top": null,
            "grid_column": null,
            "overflow_y": null,
            "overflow_x": null,
            "grid_auto_flow": null,
            "grid_area": null,
            "grid_template_columns": null,
            "flex": null,
            "_model_name": "LayoutModel",
            "justify_items": null,
            "grid_row": null,
            "max_height": null,
            "align_content": null,
            "visibility": null,
            "align_self": null,
            "height": "25px",
            "min_height": null,
            "padding": null,
            "grid_auto_rows": null,
            "grid_gap": null,
            "max_width": null,
            "order": null,
            "_view_module_version": "1.2.0",
            "grid_template_areas": null,
            "object_position": null,
            "object_fit": null,
            "grid_auto_columns": null,
            "margin": null,
            "display": null,
            "left": null
          }
        },
        "da9d525f091844fdac3f0897542c46de": {
          "model_module": "@jupyter-widgets/controls",
          "model_name": "FloatProgressModel",
          "state": {
            "_view_name": "ProgressView",
            "style": "IPY_MODEL_ebed3d380a3c4af3a5efa75b78935120",
            "_dom_classes": [],
            "description": "Progress:",
            "_model_name": "FloatProgressModel",
            "bar_style": "info",
            "max": 1,
            "_view_module": "@jupyter-widgets/controls",
            "_model_module_version": "1.5.0",
            "value": 0.47058823529411764,
            "_view_count": null,
            "_view_module_version": "1.5.0",
            "orientation": "horizontal",
            "min": 0,
            "description_tooltip": null,
            "_model_module": "@jupyter-widgets/controls",
            "layout": "IPY_MODEL_9a1e82d92988401fbcec4089ac019450"
          }
        },
        "ebed3d380a3c4af3a5efa75b78935120": {
          "model_module": "@jupyter-widgets/controls",
          "model_name": "ProgressStyleModel",
          "state": {
            "_view_name": "StyleView",
            "_model_name": "ProgressStyleModel",
            "description_width": "",
            "_view_module": "@jupyter-widgets/base",
            "_model_module_version": "1.5.0",
            "_view_count": null,
            "_view_module_version": "1.2.0",
            "bar_color": null,
            "_model_module": "@jupyter-widgets/controls"
          }
        },
        "9a1e82d92988401fbcec4089ac019450": {
          "model_module": "@jupyter-widgets/base",
          "model_name": "LayoutModel",
          "state": {
            "_view_name": "LayoutView",
            "grid_template_rows": null,
            "right": null,
            "justify_content": null,
            "_view_module": "@jupyter-widgets/base",
            "overflow": null,
            "_model_module_version": "1.2.0",
            "_view_count": null,
            "flex_flow": null,
            "width": "50%",
            "min_width": null,
            "border": null,
            "align_items": null,
            "bottom": null,
            "_model_module": "@jupyter-widgets/base",
            "top": null,
            "grid_column": null,
            "overflow_y": null,
            "overflow_x": null,
            "grid_auto_flow": null,
            "grid_area": null,
            "grid_template_columns": null,
            "flex": null,
            "_model_name": "LayoutModel",
            "justify_items": null,
            "grid_row": null,
            "max_height": null,
            "align_content": null,
            "visibility": null,
            "align_self": null,
            "height": "25px",
            "min_height": null,
            "padding": null,
            "grid_auto_rows": null,
            "grid_gap": null,
            "max_width": null,
            "order": null,
            "_view_module_version": "1.2.0",
            "grid_template_areas": null,
            "object_position": null,
            "object_fit": null,
            "grid_auto_columns": null,
            "margin": null,
            "display": null,
            "left": null
          }
        },
        "b473417b123d4b3b988823979245aab0": {
          "model_module": "@jupyter-widgets/controls",
          "model_name": "FloatProgressModel",
          "state": {
            "_view_name": "ProgressView",
            "style": "IPY_MODEL_9c123599e8d84e32aa8606ed52682bb7",
            "_dom_classes": [],
            "description": "Progress:",
            "_model_name": "FloatProgressModel",
            "bar_style": "info",
            "max": 1,
            "_view_module": "@jupyter-widgets/controls",
            "_model_module_version": "1.5.0",
            "value": 0.47058823529411764,
            "_view_count": null,
            "_view_module_version": "1.5.0",
            "orientation": "horizontal",
            "min": 0,
            "description_tooltip": null,
            "_model_module": "@jupyter-widgets/controls",
            "layout": "IPY_MODEL_87f4a012d8ff4d89855b57db05d10431"
          }
        },
        "9c123599e8d84e32aa8606ed52682bb7": {
          "model_module": "@jupyter-widgets/controls",
          "model_name": "ProgressStyleModel",
          "state": {
            "_view_name": "StyleView",
            "_model_name": "ProgressStyleModel",
            "description_width": "",
            "_view_module": "@jupyter-widgets/base",
            "_model_module_version": "1.5.0",
            "_view_count": null,
            "_view_module_version": "1.2.0",
            "bar_color": null,
            "_model_module": "@jupyter-widgets/controls"
          }
        },
        "87f4a012d8ff4d89855b57db05d10431": {
          "model_module": "@jupyter-widgets/base",
          "model_name": "LayoutModel",
          "state": {
            "_view_name": "LayoutView",
            "grid_template_rows": null,
            "right": null,
            "justify_content": null,
            "_view_module": "@jupyter-widgets/base",
            "overflow": null,
            "_model_module_version": "1.2.0",
            "_view_count": null,
            "flex_flow": null,
            "width": "50%",
            "min_width": null,
            "border": null,
            "align_items": null,
            "bottom": null,
            "_model_module": "@jupyter-widgets/base",
            "top": null,
            "grid_column": null,
            "overflow_y": null,
            "overflow_x": null,
            "grid_auto_flow": null,
            "grid_area": null,
            "grid_template_columns": null,
            "flex": null,
            "_model_name": "LayoutModel",
            "justify_items": null,
            "grid_row": null,
            "max_height": null,
            "align_content": null,
            "visibility": null,
            "align_self": null,
            "height": "25px",
            "min_height": null,
            "padding": null,
            "grid_auto_rows": null,
            "grid_gap": null,
            "max_width": null,
            "order": null,
            "_view_module_version": "1.2.0",
            "grid_template_areas": null,
            "object_position": null,
            "object_fit": null,
            "grid_auto_columns": null,
            "margin": null,
            "display": null,
            "left": null
          }
        },
        "39347c19c36d47ad90e090e9463ec4b4": {
          "model_module": "@jupyter-widgets/controls",
          "model_name": "FloatProgressModel",
          "state": {
            "_view_name": "ProgressView",
            "style": "IPY_MODEL_2f50ea66ca3d4eccbeb49d831308943f",
            "_dom_classes": [],
            "description": "Progress:",
            "_model_name": "FloatProgressModel",
            "bar_style": "info",
            "max": 1,
            "_view_module": "@jupyter-widgets/controls",
            "_model_module_version": "1.5.0",
            "value": 0.1111111111111111,
            "_view_count": null,
            "_view_module_version": "1.5.0",
            "orientation": "horizontal",
            "min": 0,
            "description_tooltip": null,
            "_model_module": "@jupyter-widgets/controls",
            "layout": "IPY_MODEL_5fbab3c1bf284928b4088a3e52e4589c"
          }
        },
        "2f50ea66ca3d4eccbeb49d831308943f": {
          "model_module": "@jupyter-widgets/controls",
          "model_name": "ProgressStyleModel",
          "state": {
            "_view_name": "StyleView",
            "_model_name": "ProgressStyleModel",
            "description_width": "",
            "_view_module": "@jupyter-widgets/base",
            "_model_module_version": "1.5.0",
            "_view_count": null,
            "_view_module_version": "1.2.0",
            "bar_color": null,
            "_model_module": "@jupyter-widgets/controls"
          }
        },
        "5fbab3c1bf284928b4088a3e52e4589c": {
          "model_module": "@jupyter-widgets/base",
          "model_name": "LayoutModel",
          "state": {
            "_view_name": "LayoutView",
            "grid_template_rows": null,
            "right": null,
            "justify_content": null,
            "_view_module": "@jupyter-widgets/base",
            "overflow": null,
            "_model_module_version": "1.2.0",
            "_view_count": null,
            "flex_flow": null,
            "width": "50%",
            "min_width": null,
            "border": null,
            "align_items": null,
            "bottom": null,
            "_model_module": "@jupyter-widgets/base",
            "top": null,
            "grid_column": null,
            "overflow_y": null,
            "overflow_x": null,
            "grid_auto_flow": null,
            "grid_area": null,
            "grid_template_columns": null,
            "flex": null,
            "_model_name": "LayoutModel",
            "justify_items": null,
            "grid_row": null,
            "max_height": null,
            "align_content": null,
            "visibility": null,
            "align_self": null,
            "height": "25px",
            "min_height": null,
            "padding": null,
            "grid_auto_rows": null,
            "grid_gap": null,
            "max_width": null,
            "order": null,
            "_view_module_version": "1.2.0",
            "grid_template_areas": null,
            "object_position": null,
            "object_fit": null,
            "grid_auto_columns": null,
            "margin": null,
            "display": null,
            "left": null
          }
        },
        "f11c4f90c83b4ec0985ed815296ad23e": {
          "model_module": "@jupyter-widgets/controls",
          "model_name": "FloatProgressModel",
          "state": {
            "_view_name": "ProgressView",
            "style": "IPY_MODEL_5c6837e2908b40abbdb76165436ebebd",
            "_dom_classes": [],
            "description": "Progress:",
            "_model_name": "FloatProgressModel",
            "bar_style": "info",
            "max": 1,
            "_view_module": "@jupyter-widgets/controls",
            "_model_module_version": "1.5.0",
            "value": 0,
            "_view_count": null,
            "_view_module_version": "1.5.0",
            "orientation": "horizontal",
            "min": 0,
            "description_tooltip": null,
            "_model_module": "@jupyter-widgets/controls",
            "layout": "IPY_MODEL_322e8ed3fdd94a50a587118269cd0023"
          }
        },
        "5c6837e2908b40abbdb76165436ebebd": {
          "model_module": "@jupyter-widgets/controls",
          "model_name": "ProgressStyleModel",
          "state": {
            "_view_name": "StyleView",
            "_model_name": "ProgressStyleModel",
            "description_width": "",
            "_view_module": "@jupyter-widgets/base",
            "_model_module_version": "1.5.0",
            "_view_count": null,
            "_view_module_version": "1.2.0",
            "bar_color": null,
            "_model_module": "@jupyter-widgets/controls"
          }
        },
        "322e8ed3fdd94a50a587118269cd0023": {
          "model_module": "@jupyter-widgets/base",
          "model_name": "LayoutModel",
          "state": {
            "_view_name": "LayoutView",
            "grid_template_rows": null,
            "right": null,
            "justify_content": null,
            "_view_module": "@jupyter-widgets/base",
            "overflow": null,
            "_model_module_version": "1.2.0",
            "_view_count": null,
            "flex_flow": null,
            "width": "50%",
            "min_width": null,
            "border": null,
            "align_items": null,
            "bottom": null,
            "_model_module": "@jupyter-widgets/base",
            "top": null,
            "grid_column": null,
            "overflow_y": null,
            "overflow_x": null,
            "grid_auto_flow": null,
            "grid_area": null,
            "grid_template_columns": null,
            "flex": null,
            "_model_name": "LayoutModel",
            "justify_items": null,
            "grid_row": null,
            "max_height": null,
            "align_content": null,
            "visibility": null,
            "align_self": null,
            "height": "25px",
            "min_height": null,
            "padding": null,
            "grid_auto_rows": null,
            "grid_gap": null,
            "max_width": null,
            "order": null,
            "_view_module_version": "1.2.0",
            "grid_template_areas": null,
            "object_position": null,
            "object_fit": null,
            "grid_auto_columns": null,
            "margin": null,
            "display": null,
            "left": null
          }
        },
        "d77da4146f1f4e8c9a093fab9fdfa445": {
          "model_module": "@jupyter-widgets/controls",
          "model_name": "FloatProgressModel",
          "state": {
            "_view_name": "ProgressView",
            "style": "IPY_MODEL_4df8e0ee19394221824826c5dc1b0ea1",
            "_dom_classes": [],
            "description": "Progress:",
            "_model_name": "FloatProgressModel",
            "bar_style": "info",
            "max": 1,
            "_view_module": "@jupyter-widgets/controls",
            "_model_module_version": "1.5.0",
            "value": 0.058823529411764705,
            "_view_count": null,
            "_view_module_version": "1.5.0",
            "orientation": "horizontal",
            "min": 0,
            "description_tooltip": null,
            "_model_module": "@jupyter-widgets/controls",
            "layout": "IPY_MODEL_2cfe04d327e84b9b8ee076ba79882fb7"
          }
        },
        "4df8e0ee19394221824826c5dc1b0ea1": {
          "model_module": "@jupyter-widgets/controls",
          "model_name": "ProgressStyleModel",
          "state": {
            "_view_name": "StyleView",
            "_model_name": "ProgressStyleModel",
            "description_width": "",
            "_view_module": "@jupyter-widgets/base",
            "_model_module_version": "1.5.0",
            "_view_count": null,
            "_view_module_version": "1.2.0",
            "bar_color": null,
            "_model_module": "@jupyter-widgets/controls"
          }
        },
        "2cfe04d327e84b9b8ee076ba79882fb7": {
          "model_module": "@jupyter-widgets/base",
          "model_name": "LayoutModel",
          "state": {
            "_view_name": "LayoutView",
            "grid_template_rows": null,
            "right": null,
            "justify_content": null,
            "_view_module": "@jupyter-widgets/base",
            "overflow": null,
            "_model_module_version": "1.2.0",
            "_view_count": null,
            "flex_flow": null,
            "width": "50%",
            "min_width": null,
            "border": null,
            "align_items": null,
            "bottom": null,
            "_model_module": "@jupyter-widgets/base",
            "top": null,
            "grid_column": null,
            "overflow_y": null,
            "overflow_x": null,
            "grid_auto_flow": null,
            "grid_area": null,
            "grid_template_columns": null,
            "flex": null,
            "_model_name": "LayoutModel",
            "justify_items": null,
            "grid_row": null,
            "max_height": null,
            "align_content": null,
            "visibility": null,
            "align_self": null,
            "height": "25px",
            "min_height": null,
            "padding": null,
            "grid_auto_rows": null,
            "grid_gap": null,
            "max_width": null,
            "order": null,
            "_view_module_version": "1.2.0",
            "grid_template_areas": null,
            "object_position": null,
            "object_fit": null,
            "grid_auto_columns": null,
            "margin": null,
            "display": null,
            "left": null
          }
        },
        "99ffaa8ff24244b0ba089df5c870ba53": {
          "model_module": "@jupyter-widgets/controls",
          "model_name": "FloatProgressModel",
          "state": {
            "_view_name": "ProgressView",
            "style": "IPY_MODEL_cc2cd996c5e740f59a97915f57fd3617",
            "_dom_classes": [],
            "description": "Progress:",
            "_model_name": "FloatProgressModel",
            "bar_style": "info",
            "max": 1,
            "_view_module": "@jupyter-widgets/controls",
            "_model_module_version": "1.5.0",
            "value": 0.33796296296296297,
            "_view_count": null,
            "_view_module_version": "1.5.0",
            "orientation": "horizontal",
            "min": 0,
            "description_tooltip": null,
            "_model_module": "@jupyter-widgets/controls",
            "layout": "IPY_MODEL_2cfdf7fcc41f406cab541873ee917d81"
          }
        },
        "cc2cd996c5e740f59a97915f57fd3617": {
          "model_module": "@jupyter-widgets/controls",
          "model_name": "ProgressStyleModel",
          "state": {
            "_view_name": "StyleView",
            "_model_name": "ProgressStyleModel",
            "description_width": "",
            "_view_module": "@jupyter-widgets/base",
            "_model_module_version": "1.5.0",
            "_view_count": null,
            "_view_module_version": "1.2.0",
            "bar_color": null,
            "_model_module": "@jupyter-widgets/controls"
          }
        },
        "2cfdf7fcc41f406cab541873ee917d81": {
          "model_module": "@jupyter-widgets/base",
          "model_name": "LayoutModel",
          "state": {
            "_view_name": "LayoutView",
            "grid_template_rows": null,
            "right": null,
            "justify_content": null,
            "_view_module": "@jupyter-widgets/base",
            "overflow": null,
            "_model_module_version": "1.2.0",
            "_view_count": null,
            "flex_flow": null,
            "width": "50%",
            "min_width": null,
            "border": null,
            "align_items": null,
            "bottom": null,
            "_model_module": "@jupyter-widgets/base",
            "top": null,
            "grid_column": null,
            "overflow_y": null,
            "overflow_x": null,
            "grid_auto_flow": null,
            "grid_area": null,
            "grid_template_columns": null,
            "flex": null,
            "_model_name": "LayoutModel",
            "justify_items": null,
            "grid_row": null,
            "max_height": null,
            "align_content": null,
            "visibility": null,
            "align_self": null,
            "height": "25px",
            "min_height": null,
            "padding": null,
            "grid_auto_rows": null,
            "grid_gap": null,
            "max_width": null,
            "order": null,
            "_view_module_version": "1.2.0",
            "grid_template_areas": null,
            "object_position": null,
            "object_fit": null,
            "grid_auto_columns": null,
            "margin": null,
            "display": null,
            "left": null
          }
        },
        "8eef3daead7a4448b18e9171567c1aff": {
          "model_module": "@jupyter-widgets/controls",
          "model_name": "FloatProgressModel",
          "state": {
            "_view_name": "ProgressView",
            "style": "IPY_MODEL_75beb180c3be432fb3c5e7d5d7703ee2",
            "_dom_classes": [],
            "description": "Progress:",
            "_model_name": "FloatProgressModel",
            "bar_style": "info",
            "max": 1,
            "_view_module": "@jupyter-widgets/controls",
            "_model_module_version": "1.5.0",
            "value": 0,
            "_view_count": null,
            "_view_module_version": "1.5.0",
            "orientation": "horizontal",
            "min": 0,
            "description_tooltip": null,
            "_model_module": "@jupyter-widgets/controls",
            "layout": "IPY_MODEL_a9f059c35d314ce9a8a5209d48689646"
          }
        },
        "75beb180c3be432fb3c5e7d5d7703ee2": {
          "model_module": "@jupyter-widgets/controls",
          "model_name": "ProgressStyleModel",
          "state": {
            "_view_name": "StyleView",
            "_model_name": "ProgressStyleModel",
            "description_width": "",
            "_view_module": "@jupyter-widgets/base",
            "_model_module_version": "1.5.0",
            "_view_count": null,
            "_view_module_version": "1.2.0",
            "bar_color": null,
            "_model_module": "@jupyter-widgets/controls"
          }
        },
        "a9f059c35d314ce9a8a5209d48689646": {
          "model_module": "@jupyter-widgets/base",
          "model_name": "LayoutModel",
          "state": {
            "_view_name": "LayoutView",
            "grid_template_rows": null,
            "right": null,
            "justify_content": null,
            "_view_module": "@jupyter-widgets/base",
            "overflow": null,
            "_model_module_version": "1.2.0",
            "_view_count": null,
            "flex_flow": null,
            "width": "50%",
            "min_width": null,
            "border": null,
            "align_items": null,
            "bottom": null,
            "_model_module": "@jupyter-widgets/base",
            "top": null,
            "grid_column": null,
            "overflow_y": null,
            "overflow_x": null,
            "grid_auto_flow": null,
            "grid_area": null,
            "grid_template_columns": null,
            "flex": null,
            "_model_name": "LayoutModel",
            "justify_items": null,
            "grid_row": null,
            "max_height": null,
            "align_content": null,
            "visibility": null,
            "align_self": null,
            "height": "25px",
            "min_height": null,
            "padding": null,
            "grid_auto_rows": null,
            "grid_gap": null,
            "max_width": null,
            "order": null,
            "_view_module_version": "1.2.0",
            "grid_template_areas": null,
            "object_position": null,
            "object_fit": null,
            "grid_auto_columns": null,
            "margin": null,
            "display": null,
            "left": null
          }
        },
        "3091acb7bbce464e9a909240bbb4ef21": {
          "model_module": "@jupyter-widgets/controls",
          "model_name": "FloatProgressModel",
          "state": {
            "_view_name": "ProgressView",
            "style": "IPY_MODEL_6fcb1ddd41f34c5196dc0645e540881d",
            "_dom_classes": [],
            "description": "Progress:",
            "_model_name": "FloatProgressModel",
            "bar_style": "info",
            "max": 1,
            "_view_module": "@jupyter-widgets/controls",
            "_model_module_version": "1.5.0",
            "value": 0.8942307692307693,
            "_view_count": null,
            "_view_module_version": "1.5.0",
            "orientation": "horizontal",
            "min": 0,
            "description_tooltip": null,
            "_model_module": "@jupyter-widgets/controls",
            "layout": "IPY_MODEL_fa5fcb8a66c14cb8bfe98e7a3884e858"
          }
        },
        "6fcb1ddd41f34c5196dc0645e540881d": {
          "model_module": "@jupyter-widgets/controls",
          "model_name": "ProgressStyleModel",
          "state": {
            "_view_name": "StyleView",
            "_model_name": "ProgressStyleModel",
            "description_width": "",
            "_view_module": "@jupyter-widgets/base",
            "_model_module_version": "1.5.0",
            "_view_count": null,
            "_view_module_version": "1.2.0",
            "bar_color": null,
            "_model_module": "@jupyter-widgets/controls"
          }
        },
        "fa5fcb8a66c14cb8bfe98e7a3884e858": {
          "model_module": "@jupyter-widgets/base",
          "model_name": "LayoutModel",
          "state": {
            "_view_name": "LayoutView",
            "grid_template_rows": null,
            "right": null,
            "justify_content": null,
            "_view_module": "@jupyter-widgets/base",
            "overflow": null,
            "_model_module_version": "1.2.0",
            "_view_count": null,
            "flex_flow": null,
            "width": "50%",
            "min_width": null,
            "border": null,
            "align_items": null,
            "bottom": null,
            "_model_module": "@jupyter-widgets/base",
            "top": null,
            "grid_column": null,
            "overflow_y": null,
            "overflow_x": null,
            "grid_auto_flow": null,
            "grid_area": null,
            "grid_template_columns": null,
            "flex": null,
            "_model_name": "LayoutModel",
            "justify_items": null,
            "grid_row": null,
            "max_height": null,
            "align_content": null,
            "visibility": null,
            "align_self": null,
            "height": "25px",
            "min_height": null,
            "padding": null,
            "grid_auto_rows": null,
            "grid_gap": null,
            "max_width": null,
            "order": null,
            "_view_module_version": "1.2.0",
            "grid_template_areas": null,
            "object_position": null,
            "object_fit": null,
            "grid_auto_columns": null,
            "margin": null,
            "display": null,
            "left": null
          }
        },
        "d3ae2e89b8944bad96796bf4afd31836": {
          "model_module": "@jupyter-widgets/controls",
          "model_name": "FloatProgressModel",
          "state": {
            "_view_name": "ProgressView",
            "style": "IPY_MODEL_2f17ce7cf72b44e1bcca7fae1f8b0abe",
            "_dom_classes": [],
            "description": "Progress:",
            "_model_name": "FloatProgressModel",
            "bar_style": "info",
            "max": 1,
            "_view_module": "@jupyter-widgets/controls",
            "_model_module_version": "1.5.0",
            "value": 0.5192307692307693,
            "_view_count": null,
            "_view_module_version": "1.5.0",
            "orientation": "horizontal",
            "min": 0,
            "description_tooltip": null,
            "_model_module": "@jupyter-widgets/controls",
            "layout": "IPY_MODEL_4888e7493b4f477f80f310add399e9db"
          }
        },
        "2f17ce7cf72b44e1bcca7fae1f8b0abe": {
          "model_module": "@jupyter-widgets/controls",
          "model_name": "ProgressStyleModel",
          "state": {
            "_view_name": "StyleView",
            "_model_name": "ProgressStyleModel",
            "description_width": "",
            "_view_module": "@jupyter-widgets/base",
            "_model_module_version": "1.5.0",
            "_view_count": null,
            "_view_module_version": "1.2.0",
            "bar_color": null,
            "_model_module": "@jupyter-widgets/controls"
          }
        },
        "4888e7493b4f477f80f310add399e9db": {
          "model_module": "@jupyter-widgets/base",
          "model_name": "LayoutModel",
          "state": {
            "_view_name": "LayoutView",
            "grid_template_rows": null,
            "right": null,
            "justify_content": null,
            "_view_module": "@jupyter-widgets/base",
            "overflow": null,
            "_model_module_version": "1.2.0",
            "_view_count": null,
            "flex_flow": null,
            "width": "50%",
            "min_width": null,
            "border": null,
            "align_items": null,
            "bottom": null,
            "_model_module": "@jupyter-widgets/base",
            "top": null,
            "grid_column": null,
            "overflow_y": null,
            "overflow_x": null,
            "grid_auto_flow": null,
            "grid_area": null,
            "grid_template_columns": null,
            "flex": null,
            "_model_name": "LayoutModel",
            "justify_items": null,
            "grid_row": null,
            "max_height": null,
            "align_content": null,
            "visibility": null,
            "align_self": null,
            "height": "25px",
            "min_height": null,
            "padding": null,
            "grid_auto_rows": null,
            "grid_gap": null,
            "max_width": null,
            "order": null,
            "_view_module_version": "1.2.0",
            "grid_template_areas": null,
            "object_position": null,
            "object_fit": null,
            "grid_auto_columns": null,
            "margin": null,
            "display": null,
            "left": null
          }
        },
        "fa9fb5188cf84331b3cf21451237a6e7": {
          "model_module": "@jupyter-widgets/controls",
          "model_name": "FloatProgressModel",
          "state": {
            "_view_name": "ProgressView",
            "style": "IPY_MODEL_01a6599e4fba4909ab9cba5050551f60",
            "_dom_classes": [],
            "description": "Progress:",
            "_model_name": "FloatProgressModel",
            "bar_style": "info",
            "max": 1,
            "_view_module": "@jupyter-widgets/controls",
            "_model_module_version": "1.5.0",
            "value": 0,
            "_view_count": null,
            "_view_module_version": "1.5.0",
            "orientation": "horizontal",
            "min": 0,
            "description_tooltip": null,
            "_model_module": "@jupyter-widgets/controls",
            "layout": "IPY_MODEL_751e9a26703144b38870ceb462e24866"
          }
        },
        "01a6599e4fba4909ab9cba5050551f60": {
          "model_module": "@jupyter-widgets/controls",
          "model_name": "ProgressStyleModel",
          "state": {
            "_view_name": "StyleView",
            "_model_name": "ProgressStyleModel",
            "description_width": "",
            "_view_module": "@jupyter-widgets/base",
            "_model_module_version": "1.5.0",
            "_view_count": null,
            "_view_module_version": "1.2.0",
            "bar_color": null,
            "_model_module": "@jupyter-widgets/controls"
          }
        },
        "751e9a26703144b38870ceb462e24866": {
          "model_module": "@jupyter-widgets/base",
          "model_name": "LayoutModel",
          "state": {
            "_view_name": "LayoutView",
            "grid_template_rows": null,
            "right": null,
            "justify_content": null,
            "_view_module": "@jupyter-widgets/base",
            "overflow": null,
            "_model_module_version": "1.2.0",
            "_view_count": null,
            "flex_flow": null,
            "width": "50%",
            "min_width": null,
            "border": null,
            "align_items": null,
            "bottom": null,
            "_model_module": "@jupyter-widgets/base",
            "top": null,
            "grid_column": null,
            "overflow_y": null,
            "overflow_x": null,
            "grid_auto_flow": null,
            "grid_area": null,
            "grid_template_columns": null,
            "flex": null,
            "_model_name": "LayoutModel",
            "justify_items": null,
            "grid_row": null,
            "max_height": null,
            "align_content": null,
            "visibility": null,
            "align_self": null,
            "height": "25px",
            "min_height": null,
            "padding": null,
            "grid_auto_rows": null,
            "grid_gap": null,
            "max_width": null,
            "order": null,
            "_view_module_version": "1.2.0",
            "grid_template_areas": null,
            "object_position": null,
            "object_fit": null,
            "grid_auto_columns": null,
            "margin": null,
            "display": null,
            "left": null
          }
        },
        "50c403ac68f8455f9a58ac9aae8c68ee": {
          "model_module": "@jupyter-widgets/controls",
          "model_name": "FloatProgressModel",
          "state": {
            "_view_name": "ProgressView",
            "style": "IPY_MODEL_9e3055f80e994960b50d5962e59c3bd4",
            "_dom_classes": [],
            "description": "Progress:",
            "_model_name": "FloatProgressModel",
            "bar_style": "info",
            "max": 1,
            "_view_module": "@jupyter-widgets/controls",
            "_model_module_version": "1.5.0",
            "value": 0.5313404050144648,
            "_view_count": null,
            "_view_module_version": "1.5.0",
            "orientation": "horizontal",
            "min": 0,
            "description_tooltip": null,
            "_model_module": "@jupyter-widgets/controls",
            "layout": "IPY_MODEL_4a3bf020e4eb400fa7759dc2f8775fbd"
          }
        },
        "9e3055f80e994960b50d5962e59c3bd4": {
          "model_module": "@jupyter-widgets/controls",
          "model_name": "ProgressStyleModel",
          "state": {
            "_view_name": "StyleView",
            "_model_name": "ProgressStyleModel",
            "description_width": "",
            "_view_module": "@jupyter-widgets/base",
            "_model_module_version": "1.5.0",
            "_view_count": null,
            "_view_module_version": "1.2.0",
            "bar_color": null,
            "_model_module": "@jupyter-widgets/controls"
          }
        },
        "4a3bf020e4eb400fa7759dc2f8775fbd": {
          "model_module": "@jupyter-widgets/base",
          "model_name": "LayoutModel",
          "state": {
            "_view_name": "LayoutView",
            "grid_template_rows": null,
            "right": null,
            "justify_content": null,
            "_view_module": "@jupyter-widgets/base",
            "overflow": null,
            "_model_module_version": "1.2.0",
            "_view_count": null,
            "flex_flow": null,
            "width": "50%",
            "min_width": null,
            "border": null,
            "align_items": null,
            "bottom": null,
            "_model_module": "@jupyter-widgets/base",
            "top": null,
            "grid_column": null,
            "overflow_y": null,
            "overflow_x": null,
            "grid_auto_flow": null,
            "grid_area": null,
            "grid_template_columns": null,
            "flex": null,
            "_model_name": "LayoutModel",
            "justify_items": null,
            "grid_row": null,
            "max_height": null,
            "align_content": null,
            "visibility": null,
            "align_self": null,
            "height": "25px",
            "min_height": null,
            "padding": null,
            "grid_auto_rows": null,
            "grid_gap": null,
            "max_width": null,
            "order": null,
            "_view_module_version": "1.2.0",
            "grid_template_areas": null,
            "object_position": null,
            "object_fit": null,
            "grid_auto_columns": null,
            "margin": null,
            "display": null,
            "left": null
          }
        },
        "56587c341f6c40a191b56dcc4180c75b": {
          "model_module": "@jupyter-widgets/controls",
          "model_name": "FloatProgressModel",
          "state": {
            "_view_name": "ProgressView",
            "style": "IPY_MODEL_bb60a65e817943178c42d6007f1fb62d",
            "_dom_classes": [],
            "description": "Progress:",
            "_model_name": "FloatProgressModel",
            "bar_style": "info",
            "max": 1,
            "_view_module": "@jupyter-widgets/controls",
            "_model_module_version": "1.5.0",
            "value": 0.4792671166827387,
            "_view_count": null,
            "_view_module_version": "1.5.0",
            "orientation": "horizontal",
            "min": 0,
            "description_tooltip": null,
            "_model_module": "@jupyter-widgets/controls",
            "layout": "IPY_MODEL_4481ff8171bf49d4b15defcfa82b6818"
          }
        },
        "bb60a65e817943178c42d6007f1fb62d": {
          "model_module": "@jupyter-widgets/controls",
          "model_name": "ProgressStyleModel",
          "state": {
            "_view_name": "StyleView",
            "_model_name": "ProgressStyleModel",
            "description_width": "",
            "_view_module": "@jupyter-widgets/base",
            "_model_module_version": "1.5.0",
            "_view_count": null,
            "_view_module_version": "1.2.0",
            "bar_color": null,
            "_model_module": "@jupyter-widgets/controls"
          }
        },
        "4481ff8171bf49d4b15defcfa82b6818": {
          "model_module": "@jupyter-widgets/base",
          "model_name": "LayoutModel",
          "state": {
            "_view_name": "LayoutView",
            "grid_template_rows": null,
            "right": null,
            "justify_content": null,
            "_view_module": "@jupyter-widgets/base",
            "overflow": null,
            "_model_module_version": "1.2.0",
            "_view_count": null,
            "flex_flow": null,
            "width": "50%",
            "min_width": null,
            "border": null,
            "align_items": null,
            "bottom": null,
            "_model_module": "@jupyter-widgets/base",
            "top": null,
            "grid_column": null,
            "overflow_y": null,
            "overflow_x": null,
            "grid_auto_flow": null,
            "grid_area": null,
            "grid_template_columns": null,
            "flex": null,
            "_model_name": "LayoutModel",
            "justify_items": null,
            "grid_row": null,
            "max_height": null,
            "align_content": null,
            "visibility": null,
            "align_self": null,
            "height": "25px",
            "min_height": null,
            "padding": null,
            "grid_auto_rows": null,
            "grid_gap": null,
            "max_width": null,
            "order": null,
            "_view_module_version": "1.2.0",
            "grid_template_areas": null,
            "object_position": null,
            "object_fit": null,
            "grid_auto_columns": null,
            "margin": null,
            "display": null,
            "left": null
          }
        },
        "9e52a2e615984c73b0fb388771bf6d34": {
          "model_module": "@jupyter-widgets/controls",
          "model_name": "FloatProgressModel",
          "state": {
            "_view_name": "ProgressView",
            "style": "IPY_MODEL_d74ff89ed1b84526b7067016a540b9b8",
            "_dom_classes": [],
            "description": "Progress:",
            "_model_name": "FloatProgressModel",
            "bar_style": "info",
            "max": 1,
            "_view_module": "@jupyter-widgets/controls",
            "_model_module_version": "1.5.0",
            "value": 0,
            "_view_count": null,
            "_view_module_version": "1.5.0",
            "orientation": "horizontal",
            "min": 0,
            "description_tooltip": null,
            "_model_module": "@jupyter-widgets/controls",
            "layout": "IPY_MODEL_b35c53b4254145d89c243faba4868518"
          }
        },
        "d74ff89ed1b84526b7067016a540b9b8": {
          "model_module": "@jupyter-widgets/controls",
          "model_name": "ProgressStyleModel",
          "state": {
            "_view_name": "StyleView",
            "_model_name": "ProgressStyleModel",
            "description_width": "",
            "_view_module": "@jupyter-widgets/base",
            "_model_module_version": "1.5.0",
            "_view_count": null,
            "_view_module_version": "1.2.0",
            "bar_color": null,
            "_model_module": "@jupyter-widgets/controls"
          }
        },
        "b35c53b4254145d89c243faba4868518": {
          "model_module": "@jupyter-widgets/base",
          "model_name": "LayoutModel",
          "state": {
            "_view_name": "LayoutView",
            "grid_template_rows": null,
            "right": null,
            "justify_content": null,
            "_view_module": "@jupyter-widgets/base",
            "overflow": null,
            "_model_module_version": "1.2.0",
            "_view_count": null,
            "flex_flow": null,
            "width": "50%",
            "min_width": null,
            "border": null,
            "align_items": null,
            "bottom": null,
            "_model_module": "@jupyter-widgets/base",
            "top": null,
            "grid_column": null,
            "overflow_y": null,
            "overflow_x": null,
            "grid_auto_flow": null,
            "grid_area": null,
            "grid_template_columns": null,
            "flex": null,
            "_model_name": "LayoutModel",
            "justify_items": null,
            "grid_row": null,
            "max_height": null,
            "align_content": null,
            "visibility": null,
            "align_self": null,
            "height": "25px",
            "min_height": null,
            "padding": null,
            "grid_auto_rows": null,
            "grid_gap": null,
            "max_width": null,
            "order": null,
            "_view_module_version": "1.2.0",
            "grid_template_areas": null,
            "object_position": null,
            "object_fit": null,
            "grid_auto_columns": null,
            "margin": null,
            "display": null,
            "left": null
          }
        },
        "25fd957ec65b4acc93b013417e991730": {
          "model_module": "@jupyter-widgets/controls",
          "model_name": "FloatProgressModel",
          "state": {
            "_view_name": "ProgressView",
            "style": "IPY_MODEL_27aae71cffe44ed49810a5a31e7d0cab",
            "_dom_classes": [],
            "description": "Progress:",
            "_model_name": "FloatProgressModel",
            "bar_style": "info",
            "max": 1,
            "_view_module": "@jupyter-widgets/controls",
            "_model_module_version": "1.5.0",
            "value": 0.7824360105913504,
            "_view_count": null,
            "_view_module_version": "1.5.0",
            "orientation": "horizontal",
            "min": 0,
            "description_tooltip": null,
            "_model_module": "@jupyter-widgets/controls",
            "layout": "IPY_MODEL_09f2e881503e4cdfad0b5b7c0478b715"
          }
        },
        "27aae71cffe44ed49810a5a31e7d0cab": {
          "model_module": "@jupyter-widgets/controls",
          "model_name": "ProgressStyleModel",
          "state": {
            "_view_name": "StyleView",
            "_model_name": "ProgressStyleModel",
            "description_width": "",
            "_view_module": "@jupyter-widgets/base",
            "_model_module_version": "1.5.0",
            "_view_count": null,
            "_view_module_version": "1.2.0",
            "bar_color": null,
            "_model_module": "@jupyter-widgets/controls"
          }
        },
        "09f2e881503e4cdfad0b5b7c0478b715": {
          "model_module": "@jupyter-widgets/base",
          "model_name": "LayoutModel",
          "state": {
            "_view_name": "LayoutView",
            "grid_template_rows": null,
            "right": null,
            "justify_content": null,
            "_view_module": "@jupyter-widgets/base",
            "overflow": null,
            "_model_module_version": "1.2.0",
            "_view_count": null,
            "flex_flow": null,
            "width": "50%",
            "min_width": null,
            "border": null,
            "align_items": null,
            "bottom": null,
            "_model_module": "@jupyter-widgets/base",
            "top": null,
            "grid_column": null,
            "overflow_y": null,
            "overflow_x": null,
            "grid_auto_flow": null,
            "grid_area": null,
            "grid_template_columns": null,
            "flex": null,
            "_model_name": "LayoutModel",
            "justify_items": null,
            "grid_row": null,
            "max_height": null,
            "align_content": null,
            "visibility": null,
            "align_self": null,
            "height": "25px",
            "min_height": null,
            "padding": null,
            "grid_auto_rows": null,
            "grid_gap": null,
            "max_width": null,
            "order": null,
            "_view_module_version": "1.2.0",
            "grid_template_areas": null,
            "object_position": null,
            "object_fit": null,
            "grid_auto_columns": null,
            "margin": null,
            "display": null,
            "left": null
          }
        },
        "e41072917cc741a1808902cd9c45cda1": {
          "model_module": "@jupyter-widgets/controls",
          "model_name": "FloatProgressModel",
          "state": {
            "_view_name": "ProgressView",
            "style": "IPY_MODEL_5f42877036b448a5b4a64b3fc040a08b",
            "_dom_classes": [],
            "description": "Progress:",
            "_model_name": "FloatProgressModel",
            "bar_style": "info",
            "max": 1,
            "_view_module": "@jupyter-widgets/controls",
            "_model_module_version": "1.5.0",
            "value": 0.6306266548984996,
            "_view_count": null,
            "_view_module_version": "1.5.0",
            "orientation": "horizontal",
            "min": 0,
            "description_tooltip": null,
            "_model_module": "@jupyter-widgets/controls",
            "layout": "IPY_MODEL_cb4cf26193574aba916defeb2e9f5220"
          }
        },
        "5f42877036b448a5b4a64b3fc040a08b": {
          "model_module": "@jupyter-widgets/controls",
          "model_name": "ProgressStyleModel",
          "state": {
            "_view_name": "StyleView",
            "_model_name": "ProgressStyleModel",
            "description_width": "",
            "_view_module": "@jupyter-widgets/base",
            "_model_module_version": "1.5.0",
            "_view_count": null,
            "_view_module_version": "1.2.0",
            "bar_color": null,
            "_model_module": "@jupyter-widgets/controls"
          }
        },
        "cb4cf26193574aba916defeb2e9f5220": {
          "model_module": "@jupyter-widgets/base",
          "model_name": "LayoutModel",
          "state": {
            "_view_name": "LayoutView",
            "grid_template_rows": null,
            "right": null,
            "justify_content": null,
            "_view_module": "@jupyter-widgets/base",
            "overflow": null,
            "_model_module_version": "1.2.0",
            "_view_count": null,
            "flex_flow": null,
            "width": "50%",
            "min_width": null,
            "border": null,
            "align_items": null,
            "bottom": null,
            "_model_module": "@jupyter-widgets/base",
            "top": null,
            "grid_column": null,
            "overflow_y": null,
            "overflow_x": null,
            "grid_auto_flow": null,
            "grid_area": null,
            "grid_template_columns": null,
            "flex": null,
            "_model_name": "LayoutModel",
            "justify_items": null,
            "grid_row": null,
            "max_height": null,
            "align_content": null,
            "visibility": null,
            "align_self": null,
            "height": "25px",
            "min_height": null,
            "padding": null,
            "grid_auto_rows": null,
            "grid_gap": null,
            "max_width": null,
            "order": null,
            "_view_module_version": "1.2.0",
            "grid_template_areas": null,
            "object_position": null,
            "object_fit": null,
            "grid_auto_columns": null,
            "margin": null,
            "display": null,
            "left": null
          }
        },
        "37567e1ddc7b4eb391b249549fb595d4": {
          "model_module": "@jupyter-widgets/controls",
          "model_name": "FloatProgressModel",
          "state": {
            "_view_name": "ProgressView",
            "style": "IPY_MODEL_c1c08b78070949ffa77d7d4519ec77e9",
            "_dom_classes": [],
            "description": "Progress:",
            "_model_name": "FloatProgressModel",
            "bar_style": "info",
            "max": 1,
            "_view_module": "@jupyter-widgets/controls",
            "_model_module_version": "1.5.0",
            "value": 0,
            "_view_count": null,
            "_view_module_version": "1.5.0",
            "orientation": "horizontal",
            "min": 0,
            "description_tooltip": null,
            "_model_module": "@jupyter-widgets/controls",
            "layout": "IPY_MODEL_5a79e162a8b14a778e477224102da6ca"
          }
        },
        "c1c08b78070949ffa77d7d4519ec77e9": {
          "model_module": "@jupyter-widgets/controls",
          "model_name": "ProgressStyleModel",
          "state": {
            "_view_name": "StyleView",
            "_model_name": "ProgressStyleModel",
            "description_width": "",
            "_view_module": "@jupyter-widgets/base",
            "_model_module_version": "1.5.0",
            "_view_count": null,
            "_view_module_version": "1.2.0",
            "bar_color": null,
            "_model_module": "@jupyter-widgets/controls"
          }
        },
        "5a79e162a8b14a778e477224102da6ca": {
          "model_module": "@jupyter-widgets/base",
          "model_name": "LayoutModel",
          "state": {
            "_view_name": "LayoutView",
            "grid_template_rows": null,
            "right": null,
            "justify_content": null,
            "_view_module": "@jupyter-widgets/base",
            "overflow": null,
            "_model_module_version": "1.2.0",
            "_view_count": null,
            "flex_flow": null,
            "width": "50%",
            "min_width": null,
            "border": null,
            "align_items": null,
            "bottom": null,
            "_model_module": "@jupyter-widgets/base",
            "top": null,
            "grid_column": null,
            "overflow_y": null,
            "overflow_x": null,
            "grid_auto_flow": null,
            "grid_area": null,
            "grid_template_columns": null,
            "flex": null,
            "_model_name": "LayoutModel",
            "justify_items": null,
            "grid_row": null,
            "max_height": null,
            "align_content": null,
            "visibility": null,
            "align_self": null,
            "height": "25px",
            "min_height": null,
            "padding": null,
            "grid_auto_rows": null,
            "grid_gap": null,
            "max_width": null,
            "order": null,
            "_view_module_version": "1.2.0",
            "grid_template_areas": null,
            "object_position": null,
            "object_fit": null,
            "grid_auto_columns": null,
            "margin": null,
            "display": null,
            "left": null
          }
        },
        "9c595eb760144a21a882d37c3c3ff789": {
          "model_module": "@jupyter-widgets/controls",
          "model_name": "FloatProgressModel",
          "state": {
            "_view_name": "ProgressView",
            "style": "IPY_MODEL_dca19d0e8a184c8db6a13d48d7fef1e2",
            "_dom_classes": [],
            "description": "Progress:",
            "_model_name": "FloatProgressModel",
            "bar_style": "info",
            "max": 1,
            "_view_module": "@jupyter-widgets/controls",
            "_model_module_version": "1.5.0",
            "value": 0,
            "_view_count": null,
            "_view_module_version": "1.5.0",
            "orientation": "horizontal",
            "min": 0,
            "description_tooltip": null,
            "_model_module": "@jupyter-widgets/controls",
            "layout": "IPY_MODEL_187ee057db77456682b4f41a0a1e7c1b"
          }
        },
        "dca19d0e8a184c8db6a13d48d7fef1e2": {
          "model_module": "@jupyter-widgets/controls",
          "model_name": "ProgressStyleModel",
          "state": {
            "_view_name": "StyleView",
            "_model_name": "ProgressStyleModel",
            "description_width": "",
            "_view_module": "@jupyter-widgets/base",
            "_model_module_version": "1.5.0",
            "_view_count": null,
            "_view_module_version": "1.2.0",
            "bar_color": null,
            "_model_module": "@jupyter-widgets/controls"
          }
        },
        "187ee057db77456682b4f41a0a1e7c1b": {
          "model_module": "@jupyter-widgets/base",
          "model_name": "LayoutModel",
          "state": {
            "_view_name": "LayoutView",
            "grid_template_rows": null,
            "right": null,
            "justify_content": null,
            "_view_module": "@jupyter-widgets/base",
            "overflow": null,
            "_model_module_version": "1.2.0",
            "_view_count": null,
            "flex_flow": null,
            "width": "50%",
            "min_width": null,
            "border": null,
            "align_items": null,
            "bottom": null,
            "_model_module": "@jupyter-widgets/base",
            "top": null,
            "grid_column": null,
            "overflow_y": null,
            "overflow_x": null,
            "grid_auto_flow": null,
            "grid_area": null,
            "grid_template_columns": null,
            "flex": null,
            "_model_name": "LayoutModel",
            "justify_items": null,
            "grid_row": null,
            "max_height": null,
            "align_content": null,
            "visibility": null,
            "align_self": null,
            "height": "25px",
            "min_height": null,
            "padding": null,
            "grid_auto_rows": null,
            "grid_gap": null,
            "max_width": null,
            "order": null,
            "_view_module_version": "1.2.0",
            "grid_template_areas": null,
            "object_position": null,
            "object_fit": null,
            "grid_auto_columns": null,
            "margin": null,
            "display": null,
            "left": null
          }
        },
        "b1cdc99da31e44a3916121366e6d0b13": {
          "model_module": "@jupyter-widgets/controls",
          "model_name": "FloatProgressModel",
          "state": {
            "_view_name": "ProgressView",
            "style": "IPY_MODEL_bcb9f6deef2f4247aeec507cd4e19dc5",
            "_dom_classes": [],
            "description": "Progress:",
            "_model_name": "FloatProgressModel",
            "bar_style": "info",
            "max": 1,
            "_view_module": "@jupyter-widgets/controls",
            "_model_module_version": "1.5.0",
            "value": 0,
            "_view_count": null,
            "_view_module_version": "1.5.0",
            "orientation": "horizontal",
            "min": 0,
            "description_tooltip": null,
            "_model_module": "@jupyter-widgets/controls",
            "layout": "IPY_MODEL_a89b80a853c7497897daab459e20d303"
          }
        },
        "bcb9f6deef2f4247aeec507cd4e19dc5": {
          "model_module": "@jupyter-widgets/controls",
          "model_name": "ProgressStyleModel",
          "state": {
            "_view_name": "StyleView",
            "_model_name": "ProgressStyleModel",
            "description_width": "",
            "_view_module": "@jupyter-widgets/base",
            "_model_module_version": "1.5.0",
            "_view_count": null,
            "_view_module_version": "1.2.0",
            "bar_color": null,
            "_model_module": "@jupyter-widgets/controls"
          }
        },
        "a89b80a853c7497897daab459e20d303": {
          "model_module": "@jupyter-widgets/base",
          "model_name": "LayoutModel",
          "state": {
            "_view_name": "LayoutView",
            "grid_template_rows": null,
            "right": null,
            "justify_content": null,
            "_view_module": "@jupyter-widgets/base",
            "overflow": null,
            "_model_module_version": "1.2.0",
            "_view_count": null,
            "flex_flow": null,
            "width": "50%",
            "min_width": null,
            "border": null,
            "align_items": null,
            "bottom": null,
            "_model_module": "@jupyter-widgets/base",
            "top": null,
            "grid_column": null,
            "overflow_y": null,
            "overflow_x": null,
            "grid_auto_flow": null,
            "grid_area": null,
            "grid_template_columns": null,
            "flex": null,
            "_model_name": "LayoutModel",
            "justify_items": null,
            "grid_row": null,
            "max_height": null,
            "align_content": null,
            "visibility": null,
            "align_self": null,
            "height": "25px",
            "min_height": null,
            "padding": null,
            "grid_auto_rows": null,
            "grid_gap": null,
            "max_width": null,
            "order": null,
            "_view_module_version": "1.2.0",
            "grid_template_areas": null,
            "object_position": null,
            "object_fit": null,
            "grid_auto_columns": null,
            "margin": null,
            "display": null,
            "left": null
          }
        },
        "d633f1d512dd429388164dc9f525adab": {
          "model_module": "@jupyter-widgets/controls",
          "model_name": "FloatProgressModel",
          "state": {
            "_view_name": "ProgressView",
            "style": "IPY_MODEL_85fc570e250341c89f5b573313724403",
            "_dom_classes": [],
            "description": "Progress:",
            "_model_name": "FloatProgressModel",
            "bar_style": "info",
            "max": 1,
            "_view_module": "@jupyter-widgets/controls",
            "_model_module_version": "1.5.0",
            "value": 0.7362768496420048,
            "_view_count": null,
            "_view_module_version": "1.5.0",
            "orientation": "horizontal",
            "min": 0,
            "description_tooltip": null,
            "_model_module": "@jupyter-widgets/controls",
            "layout": "IPY_MODEL_ae48ab86f8fd4fe38aa57985181d4a1f"
          }
        },
        "85fc570e250341c89f5b573313724403": {
          "model_module": "@jupyter-widgets/controls",
          "model_name": "ProgressStyleModel",
          "state": {
            "_view_name": "StyleView",
            "_model_name": "ProgressStyleModel",
            "description_width": "",
            "_view_module": "@jupyter-widgets/base",
            "_model_module_version": "1.5.0",
            "_view_count": null,
            "_view_module_version": "1.2.0",
            "bar_color": null,
            "_model_module": "@jupyter-widgets/controls"
          }
        },
        "ae48ab86f8fd4fe38aa57985181d4a1f": {
          "model_module": "@jupyter-widgets/base",
          "model_name": "LayoutModel",
          "state": {
            "_view_name": "LayoutView",
            "grid_template_rows": null,
            "right": null,
            "justify_content": null,
            "_view_module": "@jupyter-widgets/base",
            "overflow": null,
            "_model_module_version": "1.2.0",
            "_view_count": null,
            "flex_flow": null,
            "width": "50%",
            "min_width": null,
            "border": null,
            "align_items": null,
            "bottom": null,
            "_model_module": "@jupyter-widgets/base",
            "top": null,
            "grid_column": null,
            "overflow_y": null,
            "overflow_x": null,
            "grid_auto_flow": null,
            "grid_area": null,
            "grid_template_columns": null,
            "flex": null,
            "_model_name": "LayoutModel",
            "justify_items": null,
            "grid_row": null,
            "max_height": null,
            "align_content": null,
            "visibility": null,
            "align_self": null,
            "height": "25px",
            "min_height": null,
            "padding": null,
            "grid_auto_rows": null,
            "grid_gap": null,
            "max_width": null,
            "order": null,
            "_view_module_version": "1.2.0",
            "grid_template_areas": null,
            "object_position": null,
            "object_fit": null,
            "grid_auto_columns": null,
            "margin": null,
            "display": null,
            "left": null
          }
        },
        "c433e1e9f96e42be814d2499c5adcf05": {
          "model_module": "@jupyter-widgets/controls",
          "model_name": "FloatProgressModel",
          "state": {
            "_view_name": "ProgressView",
            "style": "IPY_MODEL_2f57b70ea4b84f5cafbf5a3a232dbad1",
            "_dom_classes": [],
            "description": "Progress:",
            "_model_name": "FloatProgressModel",
            "bar_style": "info",
            "max": 1,
            "_view_module": "@jupyter-widgets/controls",
            "_model_module_version": "1.5.0",
            "value": 0.5988428158148505,
            "_view_count": null,
            "_view_module_version": "1.5.0",
            "orientation": "horizontal",
            "min": 0,
            "description_tooltip": null,
            "_model_module": "@jupyter-widgets/controls",
            "layout": "IPY_MODEL_f3ce10c8d0a34cde9f302f1d754c8641"
          }
        },
        "2f57b70ea4b84f5cafbf5a3a232dbad1": {
          "model_module": "@jupyter-widgets/controls",
          "model_name": "ProgressStyleModel",
          "state": {
            "_view_name": "StyleView",
            "_model_name": "ProgressStyleModel",
            "description_width": "",
            "_view_module": "@jupyter-widgets/base",
            "_model_module_version": "1.5.0",
            "_view_count": null,
            "_view_module_version": "1.2.0",
            "bar_color": null,
            "_model_module": "@jupyter-widgets/controls"
          }
        },
        "f3ce10c8d0a34cde9f302f1d754c8641": {
          "model_module": "@jupyter-widgets/base",
          "model_name": "LayoutModel",
          "state": {
            "_view_name": "LayoutView",
            "grid_template_rows": null,
            "right": null,
            "justify_content": null,
            "_view_module": "@jupyter-widgets/base",
            "overflow": null,
            "_model_module_version": "1.2.0",
            "_view_count": null,
            "flex_flow": null,
            "width": "50%",
            "min_width": null,
            "border": null,
            "align_items": null,
            "bottom": null,
            "_model_module": "@jupyter-widgets/base",
            "top": null,
            "grid_column": null,
            "overflow_y": null,
            "overflow_x": null,
            "grid_auto_flow": null,
            "grid_area": null,
            "grid_template_columns": null,
            "flex": null,
            "_model_name": "LayoutModel",
            "justify_items": null,
            "grid_row": null,
            "max_height": null,
            "align_content": null,
            "visibility": null,
            "align_self": null,
            "height": "25px",
            "min_height": null,
            "padding": null,
            "grid_auto_rows": null,
            "grid_gap": null,
            "max_width": null,
            "order": null,
            "_view_module_version": "1.2.0",
            "grid_template_areas": null,
            "object_position": null,
            "object_fit": null,
            "grid_auto_columns": null,
            "margin": null,
            "display": null,
            "left": null
          }
        },
        "2a17183b042e4cfeb7ec0febe44705f7": {
          "model_module": "@jupyter-widgets/controls",
          "model_name": "FloatProgressModel",
          "state": {
            "_view_name": "ProgressView",
            "style": "IPY_MODEL_b8a127938b364f0ab7bd8f5d0c781677",
            "_dom_classes": [],
            "description": "Progress:",
            "_model_name": "FloatProgressModel",
            "bar_style": "info",
            "max": 1,
            "_view_module": "@jupyter-widgets/controls",
            "_model_module_version": "1.5.0",
            "value": 0,
            "_view_count": null,
            "_view_module_version": "1.5.0",
            "orientation": "horizontal",
            "min": 0,
            "description_tooltip": null,
            "_model_module": "@jupyter-widgets/controls",
            "layout": "IPY_MODEL_fa0a591902ed4f968482cc72de39b0fd"
          }
        },
        "b8a127938b364f0ab7bd8f5d0c781677": {
          "model_module": "@jupyter-widgets/controls",
          "model_name": "ProgressStyleModel",
          "state": {
            "_view_name": "StyleView",
            "_model_name": "ProgressStyleModel",
            "description_width": "",
            "_view_module": "@jupyter-widgets/base",
            "_model_module_version": "1.5.0",
            "_view_count": null,
            "_view_module_version": "1.2.0",
            "bar_color": null,
            "_model_module": "@jupyter-widgets/controls"
          }
        },
        "fa0a591902ed4f968482cc72de39b0fd": {
          "model_module": "@jupyter-widgets/base",
          "model_name": "LayoutModel",
          "state": {
            "_view_name": "LayoutView",
            "grid_template_rows": null,
            "right": null,
            "justify_content": null,
            "_view_module": "@jupyter-widgets/base",
            "overflow": null,
            "_model_module_version": "1.2.0",
            "_view_count": null,
            "flex_flow": null,
            "width": "50%",
            "min_width": null,
            "border": null,
            "align_items": null,
            "bottom": null,
            "_model_module": "@jupyter-widgets/base",
            "top": null,
            "grid_column": null,
            "overflow_y": null,
            "overflow_x": null,
            "grid_auto_flow": null,
            "grid_area": null,
            "grid_template_columns": null,
            "flex": null,
            "_model_name": "LayoutModel",
            "justify_items": null,
            "grid_row": null,
            "max_height": null,
            "align_content": null,
            "visibility": null,
            "align_self": null,
            "height": "25px",
            "min_height": null,
            "padding": null,
            "grid_auto_rows": null,
            "grid_gap": null,
            "max_width": null,
            "order": null,
            "_view_module_version": "1.2.0",
            "grid_template_areas": null,
            "object_position": null,
            "object_fit": null,
            "grid_auto_columns": null,
            "margin": null,
            "display": null,
            "left": null
          }
        },
        "633734ba75314cdd8923af5e3606f3a1": {
          "model_module": "@jupyter-widgets/controls",
          "model_name": "FloatProgressModel",
          "state": {
            "_view_name": "ProgressView",
            "style": "IPY_MODEL_989ef9c2ab834b7e81634928fe0a8a10",
            "_dom_classes": [],
            "description": "Progress:",
            "_model_name": "FloatProgressModel",
            "bar_style": "info",
            "max": 1,
            "_view_module": "@jupyter-widgets/controls",
            "_model_module_version": "1.5.0",
            "value": 0,
            "_view_count": null,
            "_view_module_version": "1.5.0",
            "orientation": "horizontal",
            "min": 0,
            "description_tooltip": null,
            "_model_module": "@jupyter-widgets/controls",
            "layout": "IPY_MODEL_6dca7b7197ef41758d813810e9e3b871"
          }
        },
        "989ef9c2ab834b7e81634928fe0a8a10": {
          "model_module": "@jupyter-widgets/controls",
          "model_name": "ProgressStyleModel",
          "state": {
            "_view_name": "StyleView",
            "_model_name": "ProgressStyleModel",
            "description_width": "",
            "_view_module": "@jupyter-widgets/base",
            "_model_module_version": "1.5.0",
            "_view_count": null,
            "_view_module_version": "1.2.0",
            "bar_color": null,
            "_model_module": "@jupyter-widgets/controls"
          }
        },
        "6dca7b7197ef41758d813810e9e3b871": {
          "model_module": "@jupyter-widgets/base",
          "model_name": "LayoutModel",
          "state": {
            "_view_name": "LayoutView",
            "grid_template_rows": null,
            "right": null,
            "justify_content": null,
            "_view_module": "@jupyter-widgets/base",
            "overflow": null,
            "_model_module_version": "1.2.0",
            "_view_count": null,
            "flex_flow": null,
            "width": "50%",
            "min_width": null,
            "border": null,
            "align_items": null,
            "bottom": null,
            "_model_module": "@jupyter-widgets/base",
            "top": null,
            "grid_column": null,
            "overflow_y": null,
            "overflow_x": null,
            "grid_auto_flow": null,
            "grid_area": null,
            "grid_template_columns": null,
            "flex": null,
            "_model_name": "LayoutModel",
            "justify_items": null,
            "grid_row": null,
            "max_height": null,
            "align_content": null,
            "visibility": null,
            "align_self": null,
            "height": "25px",
            "min_height": null,
            "padding": null,
            "grid_auto_rows": null,
            "grid_gap": null,
            "max_width": null,
            "order": null,
            "_view_module_version": "1.2.0",
            "grid_template_areas": null,
            "object_position": null,
            "object_fit": null,
            "grid_auto_columns": null,
            "margin": null,
            "display": null,
            "left": null
          }
        },
        "bf4ace7451d44152a12c0b77b462638f": {
          "model_module": "@jupyter-widgets/controls",
          "model_name": "FloatProgressModel",
          "state": {
            "_view_name": "ProgressView",
            "style": "IPY_MODEL_8af9ca9bc0224214af6449fa07a34570",
            "_dom_classes": [],
            "description": "Progress:",
            "_model_name": "FloatProgressModel",
            "bar_style": "info",
            "max": 1,
            "_view_module": "@jupyter-widgets/controls",
            "_model_module_version": "1.5.0",
            "value": 0.3673708920187793,
            "_view_count": null,
            "_view_module_version": "1.5.0",
            "orientation": "horizontal",
            "min": 0,
            "description_tooltip": null,
            "_model_module": "@jupyter-widgets/controls",
            "layout": "IPY_MODEL_8a9ca4f2b50f4c2e87a4914426b9f0e8"
          }
        },
        "8af9ca9bc0224214af6449fa07a34570": {
          "model_module": "@jupyter-widgets/controls",
          "model_name": "ProgressStyleModel",
          "state": {
            "_view_name": "StyleView",
            "_model_name": "ProgressStyleModel",
            "description_width": "",
            "_view_module": "@jupyter-widgets/base",
            "_model_module_version": "1.5.0",
            "_view_count": null,
            "_view_module_version": "1.2.0",
            "bar_color": null,
            "_model_module": "@jupyter-widgets/controls"
          }
        },
        "8a9ca4f2b50f4c2e87a4914426b9f0e8": {
          "model_module": "@jupyter-widgets/base",
          "model_name": "LayoutModel",
          "state": {
            "_view_name": "LayoutView",
            "grid_template_rows": null,
            "right": null,
            "justify_content": null,
            "_view_module": "@jupyter-widgets/base",
            "overflow": null,
            "_model_module_version": "1.2.0",
            "_view_count": null,
            "flex_flow": null,
            "width": "50%",
            "min_width": null,
            "border": null,
            "align_items": null,
            "bottom": null,
            "_model_module": "@jupyter-widgets/base",
            "top": null,
            "grid_column": null,
            "overflow_y": null,
            "overflow_x": null,
            "grid_auto_flow": null,
            "grid_area": null,
            "grid_template_columns": null,
            "flex": null,
            "_model_name": "LayoutModel",
            "justify_items": null,
            "grid_row": null,
            "max_height": null,
            "align_content": null,
            "visibility": null,
            "align_self": null,
            "height": "25px",
            "min_height": null,
            "padding": null,
            "grid_auto_rows": null,
            "grid_gap": null,
            "max_width": null,
            "order": null,
            "_view_module_version": "1.2.0",
            "grid_template_areas": null,
            "object_position": null,
            "object_fit": null,
            "grid_auto_columns": null,
            "margin": null,
            "display": null,
            "left": null
          }
        },
        "c7b840f8772047c58bd398b4b4e5f5b6": {
          "model_module": "@jupyter-widgets/controls",
          "model_name": "FloatProgressModel",
          "state": {
            "_view_name": "ProgressView",
            "style": "IPY_MODEL_b31267c61d114b8792a2c005ddeeb272",
            "_dom_classes": [],
            "description": "Progress:",
            "_model_name": "FloatProgressModel",
            "bar_style": "info",
            "max": 1,
            "_view_module": "@jupyter-widgets/controls",
            "_model_module_version": "1.5.0",
            "value": 0.5940212150433944,
            "_view_count": null,
            "_view_module_version": "1.5.0",
            "orientation": "horizontal",
            "min": 0,
            "description_tooltip": null,
            "_model_module": "@jupyter-widgets/controls",
            "layout": "IPY_MODEL_6e418daad0ad401890bdbd24d007b7f4"
          }
        },
        "b31267c61d114b8792a2c005ddeeb272": {
          "model_module": "@jupyter-widgets/controls",
          "model_name": "ProgressStyleModel",
          "state": {
            "_view_name": "StyleView",
            "_model_name": "ProgressStyleModel",
            "description_width": "",
            "_view_module": "@jupyter-widgets/base",
            "_model_module_version": "1.5.0",
            "_view_count": null,
            "_view_module_version": "1.2.0",
            "bar_color": null,
            "_model_module": "@jupyter-widgets/controls"
          }
        },
        "6e418daad0ad401890bdbd24d007b7f4": {
          "model_module": "@jupyter-widgets/base",
          "model_name": "LayoutModel",
          "state": {
            "_view_name": "LayoutView",
            "grid_template_rows": null,
            "right": null,
            "justify_content": null,
            "_view_module": "@jupyter-widgets/base",
            "overflow": null,
            "_model_module_version": "1.2.0",
            "_view_count": null,
            "flex_flow": null,
            "width": "50%",
            "min_width": null,
            "border": null,
            "align_items": null,
            "bottom": null,
            "_model_module": "@jupyter-widgets/base",
            "top": null,
            "grid_column": null,
            "overflow_y": null,
            "overflow_x": null,
            "grid_auto_flow": null,
            "grid_area": null,
            "grid_template_columns": null,
            "flex": null,
            "_model_name": "LayoutModel",
            "justify_items": null,
            "grid_row": null,
            "max_height": null,
            "align_content": null,
            "visibility": null,
            "align_self": null,
            "height": "25px",
            "min_height": null,
            "padding": null,
            "grid_auto_rows": null,
            "grid_gap": null,
            "max_width": null,
            "order": null,
            "_view_module_version": "1.2.0",
            "grid_template_areas": null,
            "object_position": null,
            "object_fit": null,
            "grid_auto_columns": null,
            "margin": null,
            "display": null,
            "left": null
          }
        },
        "7e4c9e81dc864111877780296289cf03": {
          "model_module": "@jupyter-widgets/controls",
          "model_name": "FloatProgressModel",
          "state": {
            "_view_name": "ProgressView",
            "style": "IPY_MODEL_0d9cadf1b5664397ae5e84b9d59e85ba",
            "_dom_classes": [],
            "description": "Progress:",
            "_model_name": "FloatProgressModel",
            "bar_style": "info",
            "max": 1,
            "_view_module": "@jupyter-widgets/controls",
            "_model_module_version": "1.5.0",
            "value": 0,
            "_view_count": null,
            "_view_module_version": "1.5.0",
            "orientation": "horizontal",
            "min": 0,
            "description_tooltip": null,
            "_model_module": "@jupyter-widgets/controls",
            "layout": "IPY_MODEL_6a40050d1ab4437b9c95054e644aeca8"
          }
        },
        "0d9cadf1b5664397ae5e84b9d59e85ba": {
          "model_module": "@jupyter-widgets/controls",
          "model_name": "ProgressStyleModel",
          "state": {
            "_view_name": "StyleView",
            "_model_name": "ProgressStyleModel",
            "description_width": "",
            "_view_module": "@jupyter-widgets/base",
            "_model_module_version": "1.5.0",
            "_view_count": null,
            "_view_module_version": "1.2.0",
            "bar_color": null,
            "_model_module": "@jupyter-widgets/controls"
          }
        },
        "6a40050d1ab4437b9c95054e644aeca8": {
          "model_module": "@jupyter-widgets/base",
          "model_name": "LayoutModel",
          "state": {
            "_view_name": "LayoutView",
            "grid_template_rows": null,
            "right": null,
            "justify_content": null,
            "_view_module": "@jupyter-widgets/base",
            "overflow": null,
            "_model_module_version": "1.2.0",
            "_view_count": null,
            "flex_flow": null,
            "width": "50%",
            "min_width": null,
            "border": null,
            "align_items": null,
            "bottom": null,
            "_model_module": "@jupyter-widgets/base",
            "top": null,
            "grid_column": null,
            "overflow_y": null,
            "overflow_x": null,
            "grid_auto_flow": null,
            "grid_area": null,
            "grid_template_columns": null,
            "flex": null,
            "_model_name": "LayoutModel",
            "justify_items": null,
            "grid_row": null,
            "max_height": null,
            "align_content": null,
            "visibility": null,
            "align_self": null,
            "height": "25px",
            "min_height": null,
            "padding": null,
            "grid_auto_rows": null,
            "grid_gap": null,
            "max_width": null,
            "order": null,
            "_view_module_version": "1.2.0",
            "grid_template_areas": null,
            "object_position": null,
            "object_fit": null,
            "grid_auto_columns": null,
            "margin": null,
            "display": null,
            "left": null
          }
        },
        "d14d444930b146ff9da8db2623eee637": {
          "model_module": "@jupyter-widgets/controls",
          "model_name": "FloatProgressModel",
          "state": {
            "_view_name": "ProgressView",
            "style": "IPY_MODEL_20fa5d14a3ea4aea9736842bef60b70f",
            "_dom_classes": [],
            "description": "Progress:",
            "_model_name": "FloatProgressModel",
            "bar_style": "info",
            "max": 1,
            "_view_module": "@jupyter-widgets/controls",
            "_model_module_version": "1.5.0",
            "value": 0,
            "_view_count": null,
            "_view_module_version": "1.5.0",
            "orientation": "horizontal",
            "min": 0,
            "description_tooltip": null,
            "_model_module": "@jupyter-widgets/controls",
            "layout": "IPY_MODEL_a9cbc189e4ce475bb97c97f1dc942aa2"
          }
        },
        "20fa5d14a3ea4aea9736842bef60b70f": {
          "model_module": "@jupyter-widgets/controls",
          "model_name": "ProgressStyleModel",
          "state": {
            "_view_name": "StyleView",
            "_model_name": "ProgressStyleModel",
            "description_width": "",
            "_view_module": "@jupyter-widgets/base",
            "_model_module_version": "1.5.0",
            "_view_count": null,
            "_view_module_version": "1.2.0",
            "bar_color": null,
            "_model_module": "@jupyter-widgets/controls"
          }
        },
        "a9cbc189e4ce475bb97c97f1dc942aa2": {
          "model_module": "@jupyter-widgets/base",
          "model_name": "LayoutModel",
          "state": {
            "_view_name": "LayoutView",
            "grid_template_rows": null,
            "right": null,
            "justify_content": null,
            "_view_module": "@jupyter-widgets/base",
            "overflow": null,
            "_model_module_version": "1.2.0",
            "_view_count": null,
            "flex_flow": null,
            "width": "50%",
            "min_width": null,
            "border": null,
            "align_items": null,
            "bottom": null,
            "_model_module": "@jupyter-widgets/base",
            "top": null,
            "grid_column": null,
            "overflow_y": null,
            "overflow_x": null,
            "grid_auto_flow": null,
            "grid_area": null,
            "grid_template_columns": null,
            "flex": null,
            "_model_name": "LayoutModel",
            "justify_items": null,
            "grid_row": null,
            "max_height": null,
            "align_content": null,
            "visibility": null,
            "align_self": null,
            "height": "25px",
            "min_height": null,
            "padding": null,
            "grid_auto_rows": null,
            "grid_gap": null,
            "max_width": null,
            "order": null,
            "_view_module_version": "1.2.0",
            "grid_template_areas": null,
            "object_position": null,
            "object_fit": null,
            "grid_auto_columns": null,
            "margin": null,
            "display": null,
            "left": null
          }
        },
        "e521c52c5bb0443f8f40957ac233a0b3": {
          "model_module": "@jupyter-widgets/controls",
          "model_name": "FloatProgressModel",
          "state": {
            "_view_name": "ProgressView",
            "style": "IPY_MODEL_666c869939e248048803f2dd0d471ba6",
            "_dom_classes": [],
            "description": "Progress:",
            "_model_name": "FloatProgressModel",
            "bar_style": "info",
            "max": 1,
            "_view_module": "@jupyter-widgets/controls",
            "_model_module_version": "1.5.0",
            "value": 0,
            "_view_count": null,
            "_view_module_version": "1.5.0",
            "orientation": "horizontal",
            "min": 0,
            "description_tooltip": null,
            "_model_module": "@jupyter-widgets/controls",
            "layout": "IPY_MODEL_4e6e8474837a473589807ba175ada472"
          }
        },
        "666c869939e248048803f2dd0d471ba6": {
          "model_module": "@jupyter-widgets/controls",
          "model_name": "ProgressStyleModel",
          "state": {
            "_view_name": "StyleView",
            "_model_name": "ProgressStyleModel",
            "description_width": "",
            "_view_module": "@jupyter-widgets/base",
            "_model_module_version": "1.5.0",
            "_view_count": null,
            "_view_module_version": "1.2.0",
            "bar_color": null,
            "_model_module": "@jupyter-widgets/controls"
          }
        },
        "4e6e8474837a473589807ba175ada472": {
          "model_module": "@jupyter-widgets/base",
          "model_name": "LayoutModel",
          "state": {
            "_view_name": "LayoutView",
            "grid_template_rows": null,
            "right": null,
            "justify_content": null,
            "_view_module": "@jupyter-widgets/base",
            "overflow": null,
            "_model_module_version": "1.2.0",
            "_view_count": null,
            "flex_flow": null,
            "width": "50%",
            "min_width": null,
            "border": null,
            "align_items": null,
            "bottom": null,
            "_model_module": "@jupyter-widgets/base",
            "top": null,
            "grid_column": null,
            "overflow_y": null,
            "overflow_x": null,
            "grid_auto_flow": null,
            "grid_area": null,
            "grid_template_columns": null,
            "flex": null,
            "_model_name": "LayoutModel",
            "justify_items": null,
            "grid_row": null,
            "max_height": null,
            "align_content": null,
            "visibility": null,
            "align_self": null,
            "height": "25px",
            "min_height": null,
            "padding": null,
            "grid_auto_rows": null,
            "grid_gap": null,
            "max_width": null,
            "order": null,
            "_view_module_version": "1.2.0",
            "grid_template_areas": null,
            "object_position": null,
            "object_fit": null,
            "grid_auto_columns": null,
            "margin": null,
            "display": null,
            "left": null
          }
        },
        "d757ed6505f445f6ae686e89aa044c72": {
          "model_module": "@jupyter-widgets/controls",
          "model_name": "FloatProgressModel",
          "state": {
            "_view_name": "ProgressView",
            "style": "IPY_MODEL_f53db8d9e3844a598ff67270070546f3",
            "_dom_classes": [],
            "description": "Progress:",
            "_model_name": "FloatProgressModel",
            "bar_style": "info",
            "max": 1,
            "_view_module": "@jupyter-widgets/controls",
            "_model_module_version": "1.5.0",
            "value": 0,
            "_view_count": null,
            "_view_module_version": "1.5.0",
            "orientation": "horizontal",
            "min": 0,
            "description_tooltip": null,
            "_model_module": "@jupyter-widgets/controls",
            "layout": "IPY_MODEL_5f93f51861514d91b029e5c4a6b50fb9"
          }
        },
        "f53db8d9e3844a598ff67270070546f3": {
          "model_module": "@jupyter-widgets/controls",
          "model_name": "ProgressStyleModel",
          "state": {
            "_view_name": "StyleView",
            "_model_name": "ProgressStyleModel",
            "description_width": "",
            "_view_module": "@jupyter-widgets/base",
            "_model_module_version": "1.5.0",
            "_view_count": null,
            "_view_module_version": "1.2.0",
            "bar_color": null,
            "_model_module": "@jupyter-widgets/controls"
          }
        },
        "5f93f51861514d91b029e5c4a6b50fb9": {
          "model_module": "@jupyter-widgets/base",
          "model_name": "LayoutModel",
          "state": {
            "_view_name": "LayoutView",
            "grid_template_rows": null,
            "right": null,
            "justify_content": null,
            "_view_module": "@jupyter-widgets/base",
            "overflow": null,
            "_model_module_version": "1.2.0",
            "_view_count": null,
            "flex_flow": null,
            "width": "50%",
            "min_width": null,
            "border": null,
            "align_items": null,
            "bottom": null,
            "_model_module": "@jupyter-widgets/base",
            "top": null,
            "grid_column": null,
            "overflow_y": null,
            "overflow_x": null,
            "grid_auto_flow": null,
            "grid_area": null,
            "grid_template_columns": null,
            "flex": null,
            "_model_name": "LayoutModel",
            "justify_items": null,
            "grid_row": null,
            "max_height": null,
            "align_content": null,
            "visibility": null,
            "align_self": null,
            "height": "25px",
            "min_height": null,
            "padding": null,
            "grid_auto_rows": null,
            "grid_gap": null,
            "max_width": null,
            "order": null,
            "_view_module_version": "1.2.0",
            "grid_template_areas": null,
            "object_position": null,
            "object_fit": null,
            "grid_auto_columns": null,
            "margin": null,
            "display": null,
            "left": null
          }
        },
        "f00d4194340e41558a1fef2b1adda633": {
          "model_module": "@jupyter-widgets/controls",
          "model_name": "FloatProgressModel",
          "state": {
            "_view_name": "ProgressView",
            "style": "IPY_MODEL_d0a76a8052844490a13b2d4d147a0c29",
            "_dom_classes": [],
            "description": "Progress:",
            "_model_name": "FloatProgressModel",
            "bar_style": "info",
            "max": 1,
            "_view_module": "@jupyter-widgets/controls",
            "_model_module_version": "1.5.0",
            "value": 0,
            "_view_count": null,
            "_view_module_version": "1.5.0",
            "orientation": "horizontal",
            "min": 0,
            "description_tooltip": null,
            "_model_module": "@jupyter-widgets/controls",
            "layout": "IPY_MODEL_a96a760ea7234e3fabd92f1086b7186b"
          }
        },
        "d0a76a8052844490a13b2d4d147a0c29": {
          "model_module": "@jupyter-widgets/controls",
          "model_name": "ProgressStyleModel",
          "state": {
            "_view_name": "StyleView",
            "_model_name": "ProgressStyleModel",
            "description_width": "",
            "_view_module": "@jupyter-widgets/base",
            "_model_module_version": "1.5.0",
            "_view_count": null,
            "_view_module_version": "1.2.0",
            "bar_color": null,
            "_model_module": "@jupyter-widgets/controls"
          }
        },
        "a96a760ea7234e3fabd92f1086b7186b": {
          "model_module": "@jupyter-widgets/base",
          "model_name": "LayoutModel",
          "state": {
            "_view_name": "LayoutView",
            "grid_template_rows": null,
            "right": null,
            "justify_content": null,
            "_view_module": "@jupyter-widgets/base",
            "overflow": null,
            "_model_module_version": "1.2.0",
            "_view_count": null,
            "flex_flow": null,
            "width": "50%",
            "min_width": null,
            "border": null,
            "align_items": null,
            "bottom": null,
            "_model_module": "@jupyter-widgets/base",
            "top": null,
            "grid_column": null,
            "overflow_y": null,
            "overflow_x": null,
            "grid_auto_flow": null,
            "grid_area": null,
            "grid_template_columns": null,
            "flex": null,
            "_model_name": "LayoutModel",
            "justify_items": null,
            "grid_row": null,
            "max_height": null,
            "align_content": null,
            "visibility": null,
            "align_self": null,
            "height": "25px",
            "min_height": null,
            "padding": null,
            "grid_auto_rows": null,
            "grid_gap": null,
            "max_width": null,
            "order": null,
            "_view_module_version": "1.2.0",
            "grid_template_areas": null,
            "object_position": null,
            "object_fit": null,
            "grid_auto_columns": null,
            "margin": null,
            "display": null,
            "left": null
          }
        },
        "72d9535b113e479abadfa4bb54b45433": {
          "model_module": "@jupyter-widgets/controls",
          "model_name": "FloatProgressModel",
          "state": {
            "_view_name": "ProgressView",
            "style": "IPY_MODEL_dbb7ec8b6ca04a34a384472cbe450023",
            "_dom_classes": [],
            "description": "Progress:",
            "_model_name": "FloatProgressModel",
            "bar_style": "info",
            "max": 1,
            "_view_module": "@jupyter-widgets/controls",
            "_model_module_version": "1.5.0",
            "value": 0,
            "_view_count": null,
            "_view_module_version": "1.5.0",
            "orientation": "horizontal",
            "min": 0,
            "description_tooltip": null,
            "_model_module": "@jupyter-widgets/controls",
            "layout": "IPY_MODEL_6eda587895304b57b05bea0628e32ca1"
          }
        },
        "dbb7ec8b6ca04a34a384472cbe450023": {
          "model_module": "@jupyter-widgets/controls",
          "model_name": "ProgressStyleModel",
          "state": {
            "_view_name": "StyleView",
            "_model_name": "ProgressStyleModel",
            "description_width": "",
            "_view_module": "@jupyter-widgets/base",
            "_model_module_version": "1.5.0",
            "_view_count": null,
            "_view_module_version": "1.2.0",
            "bar_color": null,
            "_model_module": "@jupyter-widgets/controls"
          }
        },
        "6eda587895304b57b05bea0628e32ca1": {
          "model_module": "@jupyter-widgets/base",
          "model_name": "LayoutModel",
          "state": {
            "_view_name": "LayoutView",
            "grid_template_rows": null,
            "right": null,
            "justify_content": null,
            "_view_module": "@jupyter-widgets/base",
            "overflow": null,
            "_model_module_version": "1.2.0",
            "_view_count": null,
            "flex_flow": null,
            "width": "50%",
            "min_width": null,
            "border": null,
            "align_items": null,
            "bottom": null,
            "_model_module": "@jupyter-widgets/base",
            "top": null,
            "grid_column": null,
            "overflow_y": null,
            "overflow_x": null,
            "grid_auto_flow": null,
            "grid_area": null,
            "grid_template_columns": null,
            "flex": null,
            "_model_name": "LayoutModel",
            "justify_items": null,
            "grid_row": null,
            "max_height": null,
            "align_content": null,
            "visibility": null,
            "align_self": null,
            "height": "25px",
            "min_height": null,
            "padding": null,
            "grid_auto_rows": null,
            "grid_gap": null,
            "max_width": null,
            "order": null,
            "_view_module_version": "1.2.0",
            "grid_template_areas": null,
            "object_position": null,
            "object_fit": null,
            "grid_auto_columns": null,
            "margin": null,
            "display": null,
            "left": null
          }
        },
        "a88a5ea402ac47f886e30a3c42954967": {
          "model_module": "@jupyter-widgets/controls",
          "model_name": "FloatProgressModel",
          "state": {
            "_view_name": "ProgressView",
            "style": "IPY_MODEL_6f48396ac4b5466b962e34aaf1110405",
            "_dom_classes": [],
            "description": "Progress:",
            "_model_name": "FloatProgressModel",
            "bar_style": "info",
            "max": 1,
            "_view_module": "@jupyter-widgets/controls",
            "_model_module_version": "1.5.0",
            "value": 0,
            "_view_count": null,
            "_view_module_version": "1.5.0",
            "orientation": "horizontal",
            "min": 0,
            "description_tooltip": null,
            "_model_module": "@jupyter-widgets/controls",
            "layout": "IPY_MODEL_315325801b5c4d648544a5b591a96d38"
          }
        },
        "6f48396ac4b5466b962e34aaf1110405": {
          "model_module": "@jupyter-widgets/controls",
          "model_name": "ProgressStyleModel",
          "state": {
            "_view_name": "StyleView",
            "_model_name": "ProgressStyleModel",
            "description_width": "",
            "_view_module": "@jupyter-widgets/base",
            "_model_module_version": "1.5.0",
            "_view_count": null,
            "_view_module_version": "1.2.0",
            "bar_color": null,
            "_model_module": "@jupyter-widgets/controls"
          }
        },
        "315325801b5c4d648544a5b591a96d38": {
          "model_module": "@jupyter-widgets/base",
          "model_name": "LayoutModel",
          "state": {
            "_view_name": "LayoutView",
            "grid_template_rows": null,
            "right": null,
            "justify_content": null,
            "_view_module": "@jupyter-widgets/base",
            "overflow": null,
            "_model_module_version": "1.2.0",
            "_view_count": null,
            "flex_flow": null,
            "width": "50%",
            "min_width": null,
            "border": null,
            "align_items": null,
            "bottom": null,
            "_model_module": "@jupyter-widgets/base",
            "top": null,
            "grid_column": null,
            "overflow_y": null,
            "overflow_x": null,
            "grid_auto_flow": null,
            "grid_area": null,
            "grid_template_columns": null,
            "flex": null,
            "_model_name": "LayoutModel",
            "justify_items": null,
            "grid_row": null,
            "max_height": null,
            "align_content": null,
            "visibility": null,
            "align_self": null,
            "height": "25px",
            "min_height": null,
            "padding": null,
            "grid_auto_rows": null,
            "grid_gap": null,
            "max_width": null,
            "order": null,
            "_view_module_version": "1.2.0",
            "grid_template_areas": null,
            "object_position": null,
            "object_fit": null,
            "grid_auto_columns": null,
            "margin": null,
            "display": null,
            "left": null
          }
        },
        "fbb74f71aae249dd954b466652e35ef8": {
          "model_module": "@jupyter-widgets/controls",
          "model_name": "FloatProgressModel",
          "state": {
            "_view_name": "ProgressView",
            "style": "IPY_MODEL_caeb808c6d9d4a8da406696b00554437",
            "_dom_classes": [],
            "description": "Progress:",
            "_model_name": "FloatProgressModel",
            "bar_style": "info",
            "max": 1,
            "_view_module": "@jupyter-widgets/controls",
            "_model_module_version": "1.5.0",
            "value": 0.625,
            "_view_count": null,
            "_view_module_version": "1.5.0",
            "orientation": "horizontal",
            "min": 0,
            "description_tooltip": null,
            "_model_module": "@jupyter-widgets/controls",
            "layout": "IPY_MODEL_80c87c9a7076481988b9352748662407"
          }
        },
        "caeb808c6d9d4a8da406696b00554437": {
          "model_module": "@jupyter-widgets/controls",
          "model_name": "ProgressStyleModel",
          "state": {
            "_view_name": "StyleView",
            "_model_name": "ProgressStyleModel",
            "description_width": "",
            "_view_module": "@jupyter-widgets/base",
            "_model_module_version": "1.5.0",
            "_view_count": null,
            "_view_module_version": "1.2.0",
            "bar_color": null,
            "_model_module": "@jupyter-widgets/controls"
          }
        },
        "80c87c9a7076481988b9352748662407": {
          "model_module": "@jupyter-widgets/base",
          "model_name": "LayoutModel",
          "state": {
            "_view_name": "LayoutView",
            "grid_template_rows": null,
            "right": null,
            "justify_content": null,
            "_view_module": "@jupyter-widgets/base",
            "overflow": null,
            "_model_module_version": "1.2.0",
            "_view_count": null,
            "flex_flow": null,
            "width": "50%",
            "min_width": null,
            "border": null,
            "align_items": null,
            "bottom": null,
            "_model_module": "@jupyter-widgets/base",
            "top": null,
            "grid_column": null,
            "overflow_y": null,
            "overflow_x": null,
            "grid_auto_flow": null,
            "grid_area": null,
            "grid_template_columns": null,
            "flex": null,
            "_model_name": "LayoutModel",
            "justify_items": null,
            "grid_row": null,
            "max_height": null,
            "align_content": null,
            "visibility": null,
            "align_self": null,
            "height": "25px",
            "min_height": null,
            "padding": null,
            "grid_auto_rows": null,
            "grid_gap": null,
            "max_width": null,
            "order": null,
            "_view_module_version": "1.2.0",
            "grid_template_areas": null,
            "object_position": null,
            "object_fit": null,
            "grid_auto_columns": null,
            "margin": null,
            "display": null,
            "left": null
          }
        },
        "16227875ec254d859321b1fc2821932a": {
          "model_module": "@jupyter-widgets/controls",
          "model_name": "FloatProgressModel",
          "state": {
            "_view_name": "ProgressView",
            "style": "IPY_MODEL_567939b3112c471c88b57590eff97f79",
            "_dom_classes": [],
            "description": "Progress:",
            "_model_name": "FloatProgressModel",
            "bar_style": "info",
            "max": 1,
            "_view_module": "@jupyter-widgets/controls",
            "_model_module_version": "1.5.0",
            "value": 0,
            "_view_count": null,
            "_view_module_version": "1.5.0",
            "orientation": "horizontal",
            "min": 0,
            "description_tooltip": null,
            "_model_module": "@jupyter-widgets/controls",
            "layout": "IPY_MODEL_5bcf7c1bc98d4879a059e951a2c8212c"
          }
        },
        "567939b3112c471c88b57590eff97f79": {
          "model_module": "@jupyter-widgets/controls",
          "model_name": "ProgressStyleModel",
          "state": {
            "_view_name": "StyleView",
            "_model_name": "ProgressStyleModel",
            "description_width": "",
            "_view_module": "@jupyter-widgets/base",
            "_model_module_version": "1.5.0",
            "_view_count": null,
            "_view_module_version": "1.2.0",
            "bar_color": null,
            "_model_module": "@jupyter-widgets/controls"
          }
        },
        "5bcf7c1bc98d4879a059e951a2c8212c": {
          "model_module": "@jupyter-widgets/base",
          "model_name": "LayoutModel",
          "state": {
            "_view_name": "LayoutView",
            "grid_template_rows": null,
            "right": null,
            "justify_content": null,
            "_view_module": "@jupyter-widgets/base",
            "overflow": null,
            "_model_module_version": "1.2.0",
            "_view_count": null,
            "flex_flow": null,
            "width": "50%",
            "min_width": null,
            "border": null,
            "align_items": null,
            "bottom": null,
            "_model_module": "@jupyter-widgets/base",
            "top": null,
            "grid_column": null,
            "overflow_y": null,
            "overflow_x": null,
            "grid_auto_flow": null,
            "grid_area": null,
            "grid_template_columns": null,
            "flex": null,
            "_model_name": "LayoutModel",
            "justify_items": null,
            "grid_row": null,
            "max_height": null,
            "align_content": null,
            "visibility": null,
            "align_self": null,
            "height": "25px",
            "min_height": null,
            "padding": null,
            "grid_auto_rows": null,
            "grid_gap": null,
            "max_width": null,
            "order": null,
            "_view_module_version": "1.2.0",
            "grid_template_areas": null,
            "object_position": null,
            "object_fit": null,
            "grid_auto_columns": null,
            "margin": null,
            "display": null,
            "left": null
          }
        },
        "ae4357d048c24692a098db4789801d04": {
          "model_module": "@jupyter-widgets/controls",
          "model_name": "FloatProgressModel",
          "state": {
            "_view_name": "ProgressView",
            "style": "IPY_MODEL_22f1c60fe505446689237a9d5d54f5fc",
            "_dom_classes": [],
            "description": "Progress:",
            "_model_name": "FloatProgressModel",
            "bar_style": "info",
            "max": 1,
            "_view_module": "@jupyter-widgets/controls",
            "_model_module_version": "1.5.0",
            "value": 0.9907834101382489,
            "_view_count": null,
            "_view_module_version": "1.5.0",
            "orientation": "horizontal",
            "min": 0,
            "description_tooltip": null,
            "_model_module": "@jupyter-widgets/controls",
            "layout": "IPY_MODEL_98e60a9b60a14f2d851994cdd49882ef"
          }
        },
        "22f1c60fe505446689237a9d5d54f5fc": {
          "model_module": "@jupyter-widgets/controls",
          "model_name": "ProgressStyleModel",
          "state": {
            "_view_name": "StyleView",
            "_model_name": "ProgressStyleModel",
            "description_width": "",
            "_view_module": "@jupyter-widgets/base",
            "_model_module_version": "1.5.0",
            "_view_count": null,
            "_view_module_version": "1.2.0",
            "bar_color": null,
            "_model_module": "@jupyter-widgets/controls"
          }
        },
        "98e60a9b60a14f2d851994cdd49882ef": {
          "model_module": "@jupyter-widgets/base",
          "model_name": "LayoutModel",
          "state": {
            "_view_name": "LayoutView",
            "grid_template_rows": null,
            "right": null,
            "justify_content": null,
            "_view_module": "@jupyter-widgets/base",
            "overflow": null,
            "_model_module_version": "1.2.0",
            "_view_count": null,
            "flex_flow": null,
            "width": "50%",
            "min_width": null,
            "border": null,
            "align_items": null,
            "bottom": null,
            "_model_module": "@jupyter-widgets/base",
            "top": null,
            "grid_column": null,
            "overflow_y": null,
            "overflow_x": null,
            "grid_auto_flow": null,
            "grid_area": null,
            "grid_template_columns": null,
            "flex": null,
            "_model_name": "LayoutModel",
            "justify_items": null,
            "grid_row": null,
            "max_height": null,
            "align_content": null,
            "visibility": null,
            "align_self": null,
            "height": "25px",
            "min_height": null,
            "padding": null,
            "grid_auto_rows": null,
            "grid_gap": null,
            "max_width": null,
            "order": null,
            "_view_module_version": "1.2.0",
            "grid_template_areas": null,
            "object_position": null,
            "object_fit": null,
            "grid_auto_columns": null,
            "margin": null,
            "display": null,
            "left": null
          }
        },
        "2bcc72c09e774877a89b35c04509e210": {
          "model_module": "@jupyter-widgets/controls",
          "model_name": "FloatProgressModel",
          "state": {
            "_view_name": "ProgressView",
            "style": "IPY_MODEL_29cf66775ec34b768e7c98b5310968da",
            "_dom_classes": [],
            "description": "Progress:",
            "_model_name": "FloatProgressModel",
            "bar_style": "info",
            "max": 1,
            "_view_module": "@jupyter-widgets/controls",
            "_model_module_version": "1.5.0",
            "value": 0.026442307692307692,
            "_view_count": null,
            "_view_module_version": "1.5.0",
            "orientation": "horizontal",
            "min": 0,
            "description_tooltip": null,
            "_model_module": "@jupyter-widgets/controls",
            "layout": "IPY_MODEL_63f0bb5a05184aedbea1ee6821b7f3a5"
          }
        },
        "29cf66775ec34b768e7c98b5310968da": {
          "model_module": "@jupyter-widgets/controls",
          "model_name": "ProgressStyleModel",
          "state": {
            "_view_name": "StyleView",
            "_model_name": "ProgressStyleModel",
            "description_width": "",
            "_view_module": "@jupyter-widgets/base",
            "_model_module_version": "1.5.0",
            "_view_count": null,
            "_view_module_version": "1.2.0",
            "bar_color": null,
            "_model_module": "@jupyter-widgets/controls"
          }
        },
        "63f0bb5a05184aedbea1ee6821b7f3a5": {
          "model_module": "@jupyter-widgets/base",
          "model_name": "LayoutModel",
          "state": {
            "_view_name": "LayoutView",
            "grid_template_rows": null,
            "right": null,
            "justify_content": null,
            "_view_module": "@jupyter-widgets/base",
            "overflow": null,
            "_model_module_version": "1.2.0",
            "_view_count": null,
            "flex_flow": null,
            "width": "50%",
            "min_width": null,
            "border": null,
            "align_items": null,
            "bottom": null,
            "_model_module": "@jupyter-widgets/base",
            "top": null,
            "grid_column": null,
            "overflow_y": null,
            "overflow_x": null,
            "grid_auto_flow": null,
            "grid_area": null,
            "grid_template_columns": null,
            "flex": null,
            "_model_name": "LayoutModel",
            "justify_items": null,
            "grid_row": null,
            "max_height": null,
            "align_content": null,
            "visibility": null,
            "align_self": null,
            "height": "25px",
            "min_height": null,
            "padding": null,
            "grid_auto_rows": null,
            "grid_gap": null,
            "max_width": null,
            "order": null,
            "_view_module_version": "1.2.0",
            "grid_template_areas": null,
            "object_position": null,
            "object_fit": null,
            "grid_auto_columns": null,
            "margin": null,
            "display": null,
            "left": null
          }
        },
        "2752c685b6f64316b8f8a8862061e0ae": {
          "model_module": "@jupyter-widgets/controls",
          "model_name": "FloatProgressModel",
          "state": {
            "_view_name": "ProgressView",
            "style": "IPY_MODEL_894b4e4a4a2d457593854de36d19af07",
            "_dom_classes": [],
            "description": "Progress:",
            "_model_name": "FloatProgressModel",
            "bar_style": "info",
            "max": 1,
            "_view_module": "@jupyter-widgets/controls",
            "_model_module_version": "1.5.0",
            "value": 0,
            "_view_count": null,
            "_view_module_version": "1.5.0",
            "orientation": "horizontal",
            "min": 0,
            "description_tooltip": null,
            "_model_module": "@jupyter-widgets/controls",
            "layout": "IPY_MODEL_8a7cf9a20ccc48169d9f0b4ba18c6a1e"
          }
        },
        "894b4e4a4a2d457593854de36d19af07": {
          "model_module": "@jupyter-widgets/controls",
          "model_name": "ProgressStyleModel",
          "state": {
            "_view_name": "StyleView",
            "_model_name": "ProgressStyleModel",
            "description_width": "",
            "_view_module": "@jupyter-widgets/base",
            "_model_module_version": "1.5.0",
            "_view_count": null,
            "_view_module_version": "1.2.0",
            "bar_color": null,
            "_model_module": "@jupyter-widgets/controls"
          }
        },
        "8a7cf9a20ccc48169d9f0b4ba18c6a1e": {
          "model_module": "@jupyter-widgets/base",
          "model_name": "LayoutModel",
          "state": {
            "_view_name": "LayoutView",
            "grid_template_rows": null,
            "right": null,
            "justify_content": null,
            "_view_module": "@jupyter-widgets/base",
            "overflow": null,
            "_model_module_version": "1.2.0",
            "_view_count": null,
            "flex_flow": null,
            "width": "50%",
            "min_width": null,
            "border": null,
            "align_items": null,
            "bottom": null,
            "_model_module": "@jupyter-widgets/base",
            "top": null,
            "grid_column": null,
            "overflow_y": null,
            "overflow_x": null,
            "grid_auto_flow": null,
            "grid_area": null,
            "grid_template_columns": null,
            "flex": null,
            "_model_name": "LayoutModel",
            "justify_items": null,
            "grid_row": null,
            "max_height": null,
            "align_content": null,
            "visibility": null,
            "align_self": null,
            "height": "25px",
            "min_height": null,
            "padding": null,
            "grid_auto_rows": null,
            "grid_gap": null,
            "max_width": null,
            "order": null,
            "_view_module_version": "1.2.0",
            "grid_template_areas": null,
            "object_position": null,
            "object_fit": null,
            "grid_auto_columns": null,
            "margin": null,
            "display": null,
            "left": null
          }
        },
        "1edf9b66f5d749d189727c5da4cff70b": {
          "model_module": "@jupyter-widgets/controls",
          "model_name": "FloatProgressModel",
          "state": {
            "_view_name": "ProgressView",
            "style": "IPY_MODEL_487384b626c640f8bb47d9fe7580a18f",
            "_dom_classes": [],
            "description": "Progress:",
            "_model_name": "FloatProgressModel",
            "bar_style": "info",
            "max": 1,
            "_view_module": "@jupyter-widgets/controls",
            "_model_module_version": "1.5.0",
            "value": 0.697841726618705,
            "_view_count": null,
            "_view_module_version": "1.5.0",
            "orientation": "horizontal",
            "min": 0,
            "description_tooltip": null,
            "_model_module": "@jupyter-widgets/controls",
            "layout": "IPY_MODEL_11253129981344899d57a9cd9e688878"
          }
        },
        "487384b626c640f8bb47d9fe7580a18f": {
          "model_module": "@jupyter-widgets/controls",
          "model_name": "ProgressStyleModel",
          "state": {
            "_view_name": "StyleView",
            "_model_name": "ProgressStyleModel",
            "description_width": "",
            "_view_module": "@jupyter-widgets/base",
            "_model_module_version": "1.5.0",
            "_view_count": null,
            "_view_module_version": "1.2.0",
            "bar_color": null,
            "_model_module": "@jupyter-widgets/controls"
          }
        },
        "11253129981344899d57a9cd9e688878": {
          "model_module": "@jupyter-widgets/base",
          "model_name": "LayoutModel",
          "state": {
            "_view_name": "LayoutView",
            "grid_template_rows": null,
            "right": null,
            "justify_content": null,
            "_view_module": "@jupyter-widgets/base",
            "overflow": null,
            "_model_module_version": "1.2.0",
            "_view_count": null,
            "flex_flow": null,
            "width": "50%",
            "min_width": null,
            "border": null,
            "align_items": null,
            "bottom": null,
            "_model_module": "@jupyter-widgets/base",
            "top": null,
            "grid_column": null,
            "overflow_y": null,
            "overflow_x": null,
            "grid_auto_flow": null,
            "grid_area": null,
            "grid_template_columns": null,
            "flex": null,
            "_model_name": "LayoutModel",
            "justify_items": null,
            "grid_row": null,
            "max_height": null,
            "align_content": null,
            "visibility": null,
            "align_self": null,
            "height": "25px",
            "min_height": null,
            "padding": null,
            "grid_auto_rows": null,
            "grid_gap": null,
            "max_width": null,
            "order": null,
            "_view_module_version": "1.2.0",
            "grid_template_areas": null,
            "object_position": null,
            "object_fit": null,
            "grid_auto_columns": null,
            "margin": null,
            "display": null,
            "left": null
          }
        },
        "302e287852684d8e94477eb2a0f5796b": {
          "model_module": "@jupyter-widgets/controls",
          "model_name": "FloatProgressModel",
          "state": {
            "_view_name": "ProgressView",
            "style": "IPY_MODEL_f22a35d513c8446496fae0aae980e961",
            "_dom_classes": [],
            "description": "Progress:",
            "_model_name": "FloatProgressModel",
            "bar_style": "info",
            "max": 1,
            "_view_module": "@jupyter-widgets/controls",
            "_model_module_version": "1.5.0",
            "value": 0.823051948051948,
            "_view_count": null,
            "_view_module_version": "1.5.0",
            "orientation": "horizontal",
            "min": 0,
            "description_tooltip": null,
            "_model_module": "@jupyter-widgets/controls",
            "layout": "IPY_MODEL_6a3329650c14469688c33f911830e7fe"
          }
        },
        "f22a35d513c8446496fae0aae980e961": {
          "model_module": "@jupyter-widgets/controls",
          "model_name": "ProgressStyleModel",
          "state": {
            "_view_name": "StyleView",
            "_model_name": "ProgressStyleModel",
            "description_width": "",
            "_view_module": "@jupyter-widgets/base",
            "_model_module_version": "1.5.0",
            "_view_count": null,
            "_view_module_version": "1.2.0",
            "bar_color": null,
            "_model_module": "@jupyter-widgets/controls"
          }
        },
        "6a3329650c14469688c33f911830e7fe": {
          "model_module": "@jupyter-widgets/base",
          "model_name": "LayoutModel",
          "state": {
            "_view_name": "LayoutView",
            "grid_template_rows": null,
            "right": null,
            "justify_content": null,
            "_view_module": "@jupyter-widgets/base",
            "overflow": null,
            "_model_module_version": "1.2.0",
            "_view_count": null,
            "flex_flow": null,
            "width": "50%",
            "min_width": null,
            "border": null,
            "align_items": null,
            "bottom": null,
            "_model_module": "@jupyter-widgets/base",
            "top": null,
            "grid_column": null,
            "overflow_y": null,
            "overflow_x": null,
            "grid_auto_flow": null,
            "grid_area": null,
            "grid_template_columns": null,
            "flex": null,
            "_model_name": "LayoutModel",
            "justify_items": null,
            "grid_row": null,
            "max_height": null,
            "align_content": null,
            "visibility": null,
            "align_self": null,
            "height": "25px",
            "min_height": null,
            "padding": null,
            "grid_auto_rows": null,
            "grid_gap": null,
            "max_width": null,
            "order": null,
            "_view_module_version": "1.2.0",
            "grid_template_areas": null,
            "object_position": null,
            "object_fit": null,
            "grid_auto_columns": null,
            "margin": null,
            "display": null,
            "left": null
          }
        },
        "98bd2b09c79847b08075f1d9c0ef2962": {
          "model_module": "@jupyter-widgets/controls",
          "model_name": "FloatProgressModel",
          "state": {
            "_view_name": "ProgressView",
            "style": "IPY_MODEL_882d2c8662204aaf9237ab58110e2330",
            "_dom_classes": [],
            "description": "Progress:",
            "_model_name": "FloatProgressModel",
            "bar_style": "info",
            "max": 1,
            "_view_module": "@jupyter-widgets/controls",
            "_model_module_version": "1.5.0",
            "value": 0,
            "_view_count": null,
            "_view_module_version": "1.5.0",
            "orientation": "horizontal",
            "min": 0,
            "description_tooltip": null,
            "_model_module": "@jupyter-widgets/controls",
            "layout": "IPY_MODEL_ed2b31b7f0ad46db9278810f77d11d99"
          }
        },
        "882d2c8662204aaf9237ab58110e2330": {
          "model_module": "@jupyter-widgets/controls",
          "model_name": "ProgressStyleModel",
          "state": {
            "_view_name": "StyleView",
            "_model_name": "ProgressStyleModel",
            "description_width": "",
            "_view_module": "@jupyter-widgets/base",
            "_model_module_version": "1.5.0",
            "_view_count": null,
            "_view_module_version": "1.2.0",
            "bar_color": null,
            "_model_module": "@jupyter-widgets/controls"
          }
        },
        "ed2b31b7f0ad46db9278810f77d11d99": {
          "model_module": "@jupyter-widgets/base",
          "model_name": "LayoutModel",
          "state": {
            "_view_name": "LayoutView",
            "grid_template_rows": null,
            "right": null,
            "justify_content": null,
            "_view_module": "@jupyter-widgets/base",
            "overflow": null,
            "_model_module_version": "1.2.0",
            "_view_count": null,
            "flex_flow": null,
            "width": "50%",
            "min_width": null,
            "border": null,
            "align_items": null,
            "bottom": null,
            "_model_module": "@jupyter-widgets/base",
            "top": null,
            "grid_column": null,
            "overflow_y": null,
            "overflow_x": null,
            "grid_auto_flow": null,
            "grid_area": null,
            "grid_template_columns": null,
            "flex": null,
            "_model_name": "LayoutModel",
            "justify_items": null,
            "grid_row": null,
            "max_height": null,
            "align_content": null,
            "visibility": null,
            "align_self": null,
            "height": "25px",
            "min_height": null,
            "padding": null,
            "grid_auto_rows": null,
            "grid_gap": null,
            "max_width": null,
            "order": null,
            "_view_module_version": "1.2.0",
            "grid_template_areas": null,
            "object_position": null,
            "object_fit": null,
            "grid_auto_columns": null,
            "margin": null,
            "display": null,
            "left": null
          }
        },
        "319986521a9e4e3ea6657aeb36d58ac1": {
          "model_module": "@jupyter-widgets/controls",
          "model_name": "FloatProgressModel",
          "state": {
            "_view_name": "ProgressView",
            "style": "IPY_MODEL_0cb82a2ca70e4370a2b07c85d288d37c",
            "_dom_classes": [],
            "description": "Progress:",
            "_model_name": "FloatProgressModel",
            "bar_style": "info",
            "max": 1,
            "_view_module": "@jupyter-widgets/controls",
            "_model_module_version": "1.5.0",
            "value": 0,
            "_view_count": null,
            "_view_module_version": "1.5.0",
            "orientation": "horizontal",
            "min": 0,
            "description_tooltip": null,
            "_model_module": "@jupyter-widgets/controls",
            "layout": "IPY_MODEL_572cb78563f8494abc0ed368985e14aa"
          }
        },
        "0cb82a2ca70e4370a2b07c85d288d37c": {
          "model_module": "@jupyter-widgets/controls",
          "model_name": "ProgressStyleModel",
          "state": {
            "_view_name": "StyleView",
            "_model_name": "ProgressStyleModel",
            "description_width": "",
            "_view_module": "@jupyter-widgets/base",
            "_model_module_version": "1.5.0",
            "_view_count": null,
            "_view_module_version": "1.2.0",
            "bar_color": null,
            "_model_module": "@jupyter-widgets/controls"
          }
        },
        "572cb78563f8494abc0ed368985e14aa": {
          "model_module": "@jupyter-widgets/base",
          "model_name": "LayoutModel",
          "state": {
            "_view_name": "LayoutView",
            "grid_template_rows": null,
            "right": null,
            "justify_content": null,
            "_view_module": "@jupyter-widgets/base",
            "overflow": null,
            "_model_module_version": "1.2.0",
            "_view_count": null,
            "flex_flow": null,
            "width": "50%",
            "min_width": null,
            "border": null,
            "align_items": null,
            "bottom": null,
            "_model_module": "@jupyter-widgets/base",
            "top": null,
            "grid_column": null,
            "overflow_y": null,
            "overflow_x": null,
            "grid_auto_flow": null,
            "grid_area": null,
            "grid_template_columns": null,
            "flex": null,
            "_model_name": "LayoutModel",
            "justify_items": null,
            "grid_row": null,
            "max_height": null,
            "align_content": null,
            "visibility": null,
            "align_self": null,
            "height": "25px",
            "min_height": null,
            "padding": null,
            "grid_auto_rows": null,
            "grid_gap": null,
            "max_width": null,
            "order": null,
            "_view_module_version": "1.2.0",
            "grid_template_areas": null,
            "object_position": null,
            "object_fit": null,
            "grid_auto_columns": null,
            "margin": null,
            "display": null,
            "left": null
          }
        },
        "464a0c87aa3a4838b5e6d949d4f32a27": {
          "model_module": "@jupyter-widgets/controls",
          "model_name": "FloatProgressModel",
          "state": {
            "_view_name": "ProgressView",
            "style": "IPY_MODEL_cab4983edb3e48528f4b814fb3c0b4e3",
            "_dom_classes": [],
            "description": "Progress:",
            "_model_name": "FloatProgressModel",
            "bar_style": "info",
            "max": 1,
            "_view_module": "@jupyter-widgets/controls",
            "_model_module_version": "1.5.0",
            "value": 0.4318181818181818,
            "_view_count": null,
            "_view_module_version": "1.5.0",
            "orientation": "horizontal",
            "min": 0,
            "description_tooltip": null,
            "_model_module": "@jupyter-widgets/controls",
            "layout": "IPY_MODEL_51b4fe6e25984cb7bd288613d416583b"
          }
        },
        "cab4983edb3e48528f4b814fb3c0b4e3": {
          "model_module": "@jupyter-widgets/controls",
          "model_name": "ProgressStyleModel",
          "state": {
            "_view_name": "StyleView",
            "_model_name": "ProgressStyleModel",
            "description_width": "",
            "_view_module": "@jupyter-widgets/base",
            "_model_module_version": "1.5.0",
            "_view_count": null,
            "_view_module_version": "1.2.0",
            "bar_color": null,
            "_model_module": "@jupyter-widgets/controls"
          }
        },
        "51b4fe6e25984cb7bd288613d416583b": {
          "model_module": "@jupyter-widgets/base",
          "model_name": "LayoutModel",
          "state": {
            "_view_name": "LayoutView",
            "grid_template_rows": null,
            "right": null,
            "justify_content": null,
            "_view_module": "@jupyter-widgets/base",
            "overflow": null,
            "_model_module_version": "1.2.0",
            "_view_count": null,
            "flex_flow": null,
            "width": "50%",
            "min_width": null,
            "border": null,
            "align_items": null,
            "bottom": null,
            "_model_module": "@jupyter-widgets/base",
            "top": null,
            "grid_column": null,
            "overflow_y": null,
            "overflow_x": null,
            "grid_auto_flow": null,
            "grid_area": null,
            "grid_template_columns": null,
            "flex": null,
            "_model_name": "LayoutModel",
            "justify_items": null,
            "grid_row": null,
            "max_height": null,
            "align_content": null,
            "visibility": null,
            "align_self": null,
            "height": "25px",
            "min_height": null,
            "padding": null,
            "grid_auto_rows": null,
            "grid_gap": null,
            "max_width": null,
            "order": null,
            "_view_module_version": "1.2.0",
            "grid_template_areas": null,
            "object_position": null,
            "object_fit": null,
            "grid_auto_columns": null,
            "margin": null,
            "display": null,
            "left": null
          }
        },
        "879f7010427146a0a3dc05a2ccebb22a": {
          "model_module": "@jupyter-widgets/controls",
          "model_name": "FloatProgressModel",
          "state": {
            "_view_name": "ProgressView",
            "style": "IPY_MODEL_f73cde8240184e39b659e2a1b0b909a9",
            "_dom_classes": [],
            "description": "Progress:",
            "_model_name": "FloatProgressModel",
            "bar_style": "info",
            "max": 1,
            "_view_module": "@jupyter-widgets/controls",
            "_model_module_version": "1.5.0",
            "value": 0.04220779220779221,
            "_view_count": null,
            "_view_module_version": "1.5.0",
            "orientation": "horizontal",
            "min": 0,
            "description_tooltip": null,
            "_model_module": "@jupyter-widgets/controls",
            "layout": "IPY_MODEL_d0193417136c48bd8b00ff9a716dcaed"
          }
        },
        "f73cde8240184e39b659e2a1b0b909a9": {
          "model_module": "@jupyter-widgets/controls",
          "model_name": "ProgressStyleModel",
          "state": {
            "_view_name": "StyleView",
            "_model_name": "ProgressStyleModel",
            "description_width": "",
            "_view_module": "@jupyter-widgets/base",
            "_model_module_version": "1.5.0",
            "_view_count": null,
            "_view_module_version": "1.2.0",
            "bar_color": null,
            "_model_module": "@jupyter-widgets/controls"
          }
        },
        "d0193417136c48bd8b00ff9a716dcaed": {
          "model_module": "@jupyter-widgets/base",
          "model_name": "LayoutModel",
          "state": {
            "_view_name": "LayoutView",
            "grid_template_rows": null,
            "right": null,
            "justify_content": null,
            "_view_module": "@jupyter-widgets/base",
            "overflow": null,
            "_model_module_version": "1.2.0",
            "_view_count": null,
            "flex_flow": null,
            "width": "50%",
            "min_width": null,
            "border": null,
            "align_items": null,
            "bottom": null,
            "_model_module": "@jupyter-widgets/base",
            "top": null,
            "grid_column": null,
            "overflow_y": null,
            "overflow_x": null,
            "grid_auto_flow": null,
            "grid_area": null,
            "grid_template_columns": null,
            "flex": null,
            "_model_name": "LayoutModel",
            "justify_items": null,
            "grid_row": null,
            "max_height": null,
            "align_content": null,
            "visibility": null,
            "align_self": null,
            "height": "25px",
            "min_height": null,
            "padding": null,
            "grid_auto_rows": null,
            "grid_gap": null,
            "max_width": null,
            "order": null,
            "_view_module_version": "1.2.0",
            "grid_template_areas": null,
            "object_position": null,
            "object_fit": null,
            "grid_auto_columns": null,
            "margin": null,
            "display": null,
            "left": null
          }
        },
        "a40decd5967041c4b31e219a10fb906e": {
          "model_module": "@jupyter-widgets/controls",
          "model_name": "FloatProgressModel",
          "state": {
            "_view_name": "ProgressView",
            "style": "IPY_MODEL_4a8cc040fde943969bf89683bcb4e289",
            "_dom_classes": [],
            "description": "Progress:",
            "_model_name": "FloatProgressModel",
            "bar_style": "info",
            "max": 1,
            "_view_module": "@jupyter-widgets/controls",
            "_model_module_version": "1.5.0",
            "value": 0,
            "_view_count": null,
            "_view_module_version": "1.5.0",
            "orientation": "horizontal",
            "min": 0,
            "description_tooltip": null,
            "_model_module": "@jupyter-widgets/controls",
            "layout": "IPY_MODEL_a8130666b07741baad5d40172373fac7"
          }
        },
        "4a8cc040fde943969bf89683bcb4e289": {
          "model_module": "@jupyter-widgets/controls",
          "model_name": "ProgressStyleModel",
          "state": {
            "_view_name": "StyleView",
            "_model_name": "ProgressStyleModel",
            "description_width": "",
            "_view_module": "@jupyter-widgets/base",
            "_model_module_version": "1.5.0",
            "_view_count": null,
            "_view_module_version": "1.2.0",
            "bar_color": null,
            "_model_module": "@jupyter-widgets/controls"
          }
        },
        "a8130666b07741baad5d40172373fac7": {
          "model_module": "@jupyter-widgets/base",
          "model_name": "LayoutModel",
          "state": {
            "_view_name": "LayoutView",
            "grid_template_rows": null,
            "right": null,
            "justify_content": null,
            "_view_module": "@jupyter-widgets/base",
            "overflow": null,
            "_model_module_version": "1.2.0",
            "_view_count": null,
            "flex_flow": null,
            "width": "50%",
            "min_width": null,
            "border": null,
            "align_items": null,
            "bottom": null,
            "_model_module": "@jupyter-widgets/base",
            "top": null,
            "grid_column": null,
            "overflow_y": null,
            "overflow_x": null,
            "grid_auto_flow": null,
            "grid_area": null,
            "grid_template_columns": null,
            "flex": null,
            "_model_name": "LayoutModel",
            "justify_items": null,
            "grid_row": null,
            "max_height": null,
            "align_content": null,
            "visibility": null,
            "align_self": null,
            "height": "25px",
            "min_height": null,
            "padding": null,
            "grid_auto_rows": null,
            "grid_gap": null,
            "max_width": null,
            "order": null,
            "_view_module_version": "1.2.0",
            "grid_template_areas": null,
            "object_position": null,
            "object_fit": null,
            "grid_auto_columns": null,
            "margin": null,
            "display": null,
            "left": null
          }
        },
        "55d0370f9dcf4adeb4f0be1ce2fe8a0e": {
          "model_module": "@jupyter-widgets/controls",
          "model_name": "FloatProgressModel",
          "state": {
            "_view_name": "ProgressView",
            "style": "IPY_MODEL_376262fa538a48c593390784b6d61d73",
            "_dom_classes": [],
            "description": "Progress:",
            "_model_name": "FloatProgressModel",
            "bar_style": "info",
            "max": 1,
            "_view_module": "@jupyter-widgets/controls",
            "_model_module_version": "1.5.0",
            "value": 0.6599131693198264,
            "_view_count": null,
            "_view_module_version": "1.5.0",
            "orientation": "horizontal",
            "min": 0,
            "description_tooltip": null,
            "_model_module": "@jupyter-widgets/controls",
            "layout": "IPY_MODEL_27c4b122291e48c29ba9f41614669b04"
          }
        },
        "376262fa538a48c593390784b6d61d73": {
          "model_module": "@jupyter-widgets/controls",
          "model_name": "ProgressStyleModel",
          "state": {
            "_view_name": "StyleView",
            "_model_name": "ProgressStyleModel",
            "description_width": "",
            "_view_module": "@jupyter-widgets/base",
            "_model_module_version": "1.5.0",
            "_view_count": null,
            "_view_module_version": "1.2.0",
            "bar_color": null,
            "_model_module": "@jupyter-widgets/controls"
          }
        },
        "27c4b122291e48c29ba9f41614669b04": {
          "model_module": "@jupyter-widgets/base",
          "model_name": "LayoutModel",
          "state": {
            "_view_name": "LayoutView",
            "grid_template_rows": null,
            "right": null,
            "justify_content": null,
            "_view_module": "@jupyter-widgets/base",
            "overflow": null,
            "_model_module_version": "1.2.0",
            "_view_count": null,
            "flex_flow": null,
            "width": "50%",
            "min_width": null,
            "border": null,
            "align_items": null,
            "bottom": null,
            "_model_module": "@jupyter-widgets/base",
            "top": null,
            "grid_column": null,
            "overflow_y": null,
            "overflow_x": null,
            "grid_auto_flow": null,
            "grid_area": null,
            "grid_template_columns": null,
            "flex": null,
            "_model_name": "LayoutModel",
            "justify_items": null,
            "grid_row": null,
            "max_height": null,
            "align_content": null,
            "visibility": null,
            "align_self": null,
            "height": "25px",
            "min_height": null,
            "padding": null,
            "grid_auto_rows": null,
            "grid_gap": null,
            "max_width": null,
            "order": null,
            "_view_module_version": "1.2.0",
            "grid_template_areas": null,
            "object_position": null,
            "object_fit": null,
            "grid_auto_columns": null,
            "margin": null,
            "display": null,
            "left": null
          }
        },
        "ae04cca639604ef3bcf7b2886bed5c6f": {
          "model_module": "@jupyter-widgets/controls",
          "model_name": "FloatProgressModel",
          "state": {
            "_view_name": "ProgressView",
            "style": "IPY_MODEL_4a6ee76ca127420d83b4b8b2c179bcc9",
            "_dom_classes": [],
            "description": "Progress:",
            "_model_name": "FloatProgressModel",
            "bar_style": "info",
            "max": 1,
            "_view_module": "@jupyter-widgets/controls",
            "_model_module_version": "1.5.0",
            "value": 0.6786971830985915,
            "_view_count": null,
            "_view_module_version": "1.5.0",
            "orientation": "horizontal",
            "min": 0,
            "description_tooltip": null,
            "_model_module": "@jupyter-widgets/controls",
            "layout": "IPY_MODEL_83bc5f293e564abbba7b8708117ed8bd"
          }
        },
        "4a6ee76ca127420d83b4b8b2c179bcc9": {
          "model_module": "@jupyter-widgets/controls",
          "model_name": "ProgressStyleModel",
          "state": {
            "_view_name": "StyleView",
            "_model_name": "ProgressStyleModel",
            "description_width": "",
            "_view_module": "@jupyter-widgets/base",
            "_model_module_version": "1.5.0",
            "_view_count": null,
            "_view_module_version": "1.2.0",
            "bar_color": null,
            "_model_module": "@jupyter-widgets/controls"
          }
        },
        "83bc5f293e564abbba7b8708117ed8bd": {
          "model_module": "@jupyter-widgets/base",
          "model_name": "LayoutModel",
          "state": {
            "_view_name": "LayoutView",
            "grid_template_rows": null,
            "right": null,
            "justify_content": null,
            "_view_module": "@jupyter-widgets/base",
            "overflow": null,
            "_model_module_version": "1.2.0",
            "_view_count": null,
            "flex_flow": null,
            "width": "50%",
            "min_width": null,
            "border": null,
            "align_items": null,
            "bottom": null,
            "_model_module": "@jupyter-widgets/base",
            "top": null,
            "grid_column": null,
            "overflow_y": null,
            "overflow_x": null,
            "grid_auto_flow": null,
            "grid_area": null,
            "grid_template_columns": null,
            "flex": null,
            "_model_name": "LayoutModel",
            "justify_items": null,
            "grid_row": null,
            "max_height": null,
            "align_content": null,
            "visibility": null,
            "align_self": null,
            "height": "25px",
            "min_height": null,
            "padding": null,
            "grid_auto_rows": null,
            "grid_gap": null,
            "max_width": null,
            "order": null,
            "_view_module_version": "1.2.0",
            "grid_template_areas": null,
            "object_position": null,
            "object_fit": null,
            "grid_auto_columns": null,
            "margin": null,
            "display": null,
            "left": null
          }
        },
        "4a7ba9c174fc45b08697a3408be5a008": {
          "model_module": "@jupyter-widgets/controls",
          "model_name": "FloatProgressModel",
          "state": {
            "_view_name": "ProgressView",
            "style": "IPY_MODEL_5efa42d6051e45ee822cee2dfbed3a04",
            "_dom_classes": [],
            "description": "Progress:",
            "_model_name": "FloatProgressModel",
            "bar_style": "info",
            "max": 1,
            "_view_module": "@jupyter-widgets/controls",
            "_model_module_version": "1.5.0",
            "value": 0,
            "_view_count": null,
            "_view_module_version": "1.5.0",
            "orientation": "horizontal",
            "min": 0,
            "description_tooltip": null,
            "_model_module": "@jupyter-widgets/controls",
            "layout": "IPY_MODEL_ef597216436b4eac9b3ceaacdc5c0043"
          }
        },
        "5efa42d6051e45ee822cee2dfbed3a04": {
          "model_module": "@jupyter-widgets/controls",
          "model_name": "ProgressStyleModel",
          "state": {
            "_view_name": "StyleView",
            "_model_name": "ProgressStyleModel",
            "description_width": "",
            "_view_module": "@jupyter-widgets/base",
            "_model_module_version": "1.5.0",
            "_view_count": null,
            "_view_module_version": "1.2.0",
            "bar_color": null,
            "_model_module": "@jupyter-widgets/controls"
          }
        },
        "ef597216436b4eac9b3ceaacdc5c0043": {
          "model_module": "@jupyter-widgets/base",
          "model_name": "LayoutModel",
          "state": {
            "_view_name": "LayoutView",
            "grid_template_rows": null,
            "right": null,
            "justify_content": null,
            "_view_module": "@jupyter-widgets/base",
            "overflow": null,
            "_model_module_version": "1.2.0",
            "_view_count": null,
            "flex_flow": null,
            "width": "50%",
            "min_width": null,
            "border": null,
            "align_items": null,
            "bottom": null,
            "_model_module": "@jupyter-widgets/base",
            "top": null,
            "grid_column": null,
            "overflow_y": null,
            "overflow_x": null,
            "grid_auto_flow": null,
            "grid_area": null,
            "grid_template_columns": null,
            "flex": null,
            "_model_name": "LayoutModel",
            "justify_items": null,
            "grid_row": null,
            "max_height": null,
            "align_content": null,
            "visibility": null,
            "align_self": null,
            "height": "25px",
            "min_height": null,
            "padding": null,
            "grid_auto_rows": null,
            "grid_gap": null,
            "max_width": null,
            "order": null,
            "_view_module_version": "1.2.0",
            "grid_template_areas": null,
            "object_position": null,
            "object_fit": null,
            "grid_auto_columns": null,
            "margin": null,
            "display": null,
            "left": null
          }
        }
      }
    }
  },
  "cells": [
    {
      "cell_type": "code",
      "metadata": {
        "id": "oknPkLd3824l",
        "colab_type": "code",
        "colab": {}
      },
      "source": [
        "# [\n",
        "#  {\n",
        "#      \"Classification\": \"spark-env\",\n",
        "#   \"Configurations\": [\n",
        "#                      {\n",
        "#                          \"Classification\": \"export\",\n",
        "#                       \"Properties\": {\n",
        "#                           \"PYSPARK_PYTHON\": \"/usr/bin/python3\"\n",
        "#                       }\n",
        "#                      }\n",
        "#   ]\n",
        "#  }\n",
        "# ]\n",
        "\n",
        "# arbabaga/s3PennGrader.sh"
      ],
      "execution_count": 0,
      "outputs": []
    },
    {
      "cell_type": "markdown",
      "metadata": {
        "id": "qVMCjEV1IEC7",
        "colab_type": "text"
      },
      "source": [
        "# CIS 545 Homework 3: Spark SQL\n",
        "### **Due Date: March 27, 2020**\n",
        "\n",
        "Welcome to CIS 545 Homework 3! In this homework you will gain a mastery of using Spark SQL. By the end, you'll be a star (not that you aren't already one). Over the next few days you will be using an EMR cluster to use Spark to manipulate the  `linkedin_small_real.json` dataset  as well as the `stocks.csv`.\n",
        "\n",
        "The goal of the homework will be to create a training dataset for a Random Forest Machine learning model.  Yes, you'll be playing with machine learning shortly!\n",
        "\n",
        "The training data set will contain the monthly number of employees hired by companies in `linkedin_small_real.json` and their corresponding closing stock prices over a 10 year period (2000-2011). We will try and predict, based on this data, if the company will have a positive or negative growth in stock in the first quarter of the next year. Who's ready to make some money?\n",
        "\n",
        "## The Necessary Notes and Nags\n",
        "Before we begin here are some important notes to keep in mind,\n",
        "\n",
        "\n",
        "1.   **IMPORTANT!** I said it twice, it's really important. In this homework, we will be using AWS resources. You are given a quota ($75) to use for the entirety of the homework. There is a small chance you will use all this money, however it is important that at the end of every session, you **shut down your EMR cluster**.\n",
        "2.   **Be sure you use Google Colab for this Homework** since we must connect to the EMR cluster and local Jupyter will have issues doing that. Using a Google Colab Notebook with an EMR cluster has two important abnormalities:\n",
        "    * The first line of any cell in which you will use the spark session must be `%%spark`. Notice that all cells below have this.\n",
        "    * You will, unfortunately, not be able to stop a cell while it is running. If you wish to do so, you will need to restart your cluster. See the Setup EMR Document for reference.\n",
        "3.   You are **required** to use Spark SQL queries to handle the data in the assignment. Mastering SQL is more beneficial than being able to use Spark commands (functions) as it will show up in more areas of programming and data science/analytics than just Spark. Use the following [function list](https://spark.apache.org/docs/latest/api/sql/index.html#) to see all the SQL functions avaliable in Spark.\n",
        "4.   Throughout the homework you will be manipulating Spark dataframes (sdfs). We do not specify any ordering on the final output. You are welcome to order your final tables in whatever way you deem fit. We will conduct our own ordering when we grade.\n",
        "5. Based on the challenges you've faced in the previous homework, we are including information on the expected schema of your results.  Apache Spark is very fiddly but we hope this will help.\n",
        "6. There are portions of this homework that are hard. We urge you start early to come to office hours and get help if you get stuck. But don't worry, I can see the future, and you all got this.\n",
        "\n",
        "With that said, let's dive in.\n",
        "\n",
        "\n"
      ]
    },
    {
      "cell_type": "markdown",
      "metadata": {
        "id": "7XEqGpEGBWs5",
        "colab_type": "text"
      },
      "source": [
        "## Step 0: Set up EMR\n",
        "\n",
        "Your first task is to create an EMR (Elastic MapReduce) cluster your AWS Educate Accounts. Please see the [attached document](https://cis545hw1data.s3.amazonaws.com/Microsoft+Word+-+cis545_setup_emr+(2).doc.pdf) for detailed instructions.\n",
        "\n",
        "**There is one very important addition to the instructions:  when you get to page 13 and want to `Create a Cluster`, you need to first click on 'Block public access' (left side of the screen), then *Change* `Block public access` to *Off*.**  Otherwise your cluster will consistently fail to spin up!\n",
        "\n",
        "Move on to Step 0.1 after you have completed all the steps in the document.\n",
        "\n",
        "![ACME GIANT RUBBER BAND](https://pbs.twimg.com/media/DRqbJh7UMAE2z4o?format=jpg&name=4096x4096)\n"
      ]
    },
    {
      "cell_type": "markdown",
      "metadata": {
        "id": "5iBPXxgAdXkv",
        "colab_type": "text"
      },
      "source": [
        "### Step 0.1: The Superfluous Setup\n",
        "\n",
        "Run the following two cells. These will allow your colab notebook to connect to an use your EMR."
      ]
    },
    {
      "cell_type": "code",
      "metadata": {
        "id": "pvkEbVaaAQ1e",
        "colab_type": "code",
        "colab": {}
      },
      "source": [
        "%%capture\n",
        "!apt update\n",
        "!apt install gcc python-dev libkrb5-dev\n",
        "!pip install sparkmagic"
      ],
      "execution_count": 0,
      "outputs": []
    },
    {
      "cell_type": "code",
      "metadata": {
        "id": "6WAJmQ8IAbRs",
        "colab_type": "code",
        "colab": {}
      },
      "source": [
        "%%capture\n",
        "%load_ext sparkmagic.magics "
      ],
      "execution_count": 0,
      "outputs": []
    },
    {
      "cell_type": "markdown",
      "metadata": {
        "id": "CL6n768EPt9E",
        "colab_type": "text"
      },
      "source": [
        "### Step 0.2: The Sharp Spark\n",
        "\n",
        "Now, connect your notebook to the EMR cluster you created. In the first cell, copy the link to the Master Public DNS specified in the setup document. You will need to add `http://` to the beginning of the address and the port to the end. The final format should be,\n",
        "\n",
        "`http://<your-DNS-link>:8998`\n",
        "\n",
        "For example, if my DNS (directly from the AWS EMR console) is `ec2-3-15-237-211.us-east-2.compute.amazonaws.com` my address would be,\n",
        "\n",
        "`http://ec2-3-15-237-211.us-east-2.compute.amazonaws.com:8998`\n",
        "\n",
        "Insert this in the `# TODO # below`. For our example, the cell would read,\n",
        "\n",
        "\n",
        "\n",
        "```\n",
        "%spark add -s spark_session -l python -u http://ec2-3-15-237-211.us-east-2.compute.amazonaws.com:8998\n",
        "```"
      ]
    },
    {
      "cell_type": "code",
      "metadata": {
        "id": "R9XWNkCEAeWP",
        "colab_type": "code",
        "outputId": "1a9b0a8c-46c1-4530-e4c4-f63d90536684",
        "colab": {
          "base_uri": "https://localhost:8080/",
          "height": 95,
          "referenced_widgets": [
            "2974448725cc4a81b33825f775ec5bd1",
            "82a4372dbdce4217b6dc55df218506c1",
            "10f2ffc6256640929371dda0501ab2a1"
          ]
        }
      },
      "source": [
        "# TODO: Enter your Master Public DNS with the proper formatting and host\n",
        "\n",
        "#Change to your instance\n",
        "\n",
        "%spark add -s my_session1 -l python -u http://ec2-54-81-135-236.compute-1.amazonaws.com:8998"
      ],
      "execution_count": 4,
      "outputs": [
        {
          "output_type": "stream",
          "text": [
            "Starting Spark application\n"
          ],
          "name": "stdout"
        },
        {
          "output_type": "display_data",
          "data": {
            "text/html": [
              "<table>\n",
              "<tr><th>ID</th><th>YARN Application ID</th><th>Kind</th><th>State</th><th>Spark UI</th><th>Driver log</th><th>Current session?</th></tr><tr><td>1</td><td>application_1585286545888_0002</td><td>pyspark</td><td>idle</td><td><a target=\"_blank\" href=\"http://ip-172-31-36-131.ec2.internal:20888/proxy/application_1585286545888_0002/\">Link</a></td><td><a target=\"_blank\" href=\"http://ip-172-31-35-67.ec2.internal:8042/node/containerlogs/container_1585286545888_0002_01_000002/livy\">Link</a></td><td>✔</td></tr></table>"
            ],
            "text/plain": [
              "<IPython.core.display.HTML object>"
            ]
          },
          "metadata": {
            "tags": []
          }
        },
        {
          "output_type": "display_data",
          "data": {
            "application/vnd.jupyter.widget-view+json": {
              "model_id": "2974448725cc4a81b33825f775ec5bd1",
              "version_minor": 0,
              "version_major": 2
            },
            "text/plain": [
              "FloatProgress(value=0.0, bar_style='info', description='Progress:', layout=Layout(height='25px', width='50%'),…"
            ]
          },
          "metadata": {
            "tags": []
          }
        },
        {
          "output_type": "stream",
          "text": [
            "SparkSession available as 'spark'.\n"
          ],
          "name": "stdout"
        }
      ]
    },
    {
      "cell_type": "code",
      "metadata": {
        "id": "QwKAHhQL0lf7",
        "colab_type": "code",
        "colab": {}
      },
      "source": [
        "# If you ever need to restart, you may need to...\n",
        "#%spark delete -s my_session\n",
        "#OR just factory reset runtime under the runtime tab"
      ],
      "execution_count": 0,
      "outputs": []
    },
    {
      "cell_type": "markdown",
      "metadata": {
        "id": "v1IQjUwNObb8",
        "colab_type": "text"
      },
      "source": [
        "Enter your 8-digit Penn ID as an integer in the cell \n",
        "below. This will be used in the autograder."
      ]
    },
    {
      "cell_type": "code",
      "metadata": {
        "id": "7zM20juwqqQF",
        "colab_type": "code",
        "outputId": "2fc3a0c4-3ea7-4f4a-89f4-8529de6049ff",
        "colab": {
          "base_uri": "https://localhost:8080/",
          "height": 17,
          "referenced_widgets": [
            "9e9d43163b134b59ba56b9eb5ee3d5c8",
            "38bc6cea743149ff8d09c9b59311446e",
            "05b913d6a68a4b9c82b1840d4b9c782f"
          ]
        }
      },
      "source": [
        "%%spark\n",
        "from penngrader.grader import *\n",
        "STUDENT_ID = ******** #TODO: Add 8 digit Penn ID"
      ],
      "execution_count": 6,
      "outputs": [
        {
          "output_type": "display_data",
          "data": {
            "application/vnd.jupyter.widget-view+json": {
              "model_id": "9e9d43163b134b59ba56b9eb5ee3d5c8",
              "version_minor": 0,
              "version_major": 2
            },
            "text/plain": [
              "FloatProgress(value=0.0, bar_style='info', description='Progress:', layout=Layout(height='25px', width='50%'),…"
            ]
          },
          "metadata": {
            "tags": []
          }
        }
      ]
    },
    {
      "cell_type": "code",
      "metadata": {
        "id": "V8Oo_5D7qoWp",
        "colab_type": "code",
        "outputId": "e84a357b-5921-449a-82de-b7e85704d6fc",
        "colab": {
          "base_uri": "https://localhost:8080/",
          "height": 68,
          "referenced_widgets": [
            "b0723aea077643ee80364e97014d8ad6",
            "6c4535dd5e654c2b84ce8f0c70069371",
            "0f78090387b7411490dfe6c1d1f1f020"
          ]
        }
      },
      "source": [
        "%%spark\n",
        "grader = PennGrader(homework_id = 'CIS545_Spring_2020_HW3', student_id = STUDENT_ID)"
      ],
      "execution_count": 7,
      "outputs": [
        {
          "output_type": "display_data",
          "data": {
            "application/vnd.jupyter.widget-view+json": {
              "model_id": "b0723aea077643ee80364e97014d8ad6",
              "version_minor": 0,
              "version_major": 2
            },
            "text/plain": [
              "FloatProgress(value=0.0, bar_style='info', description='Progress:', layout=Layout(height='25px', width='50%'),…"
            ]
          },
          "metadata": {
            "tags": []
          }
        },
        {
          "output_type": "stream",
          "text": [
            "PennGrader initialized with Student ID: ********\n",
            "\n",
            "Make sure this correct or we will not be able to store your grade"
          ],
          "name": "stdout"
        }
      ]
    },
    {
      "cell_type": "markdown",
      "metadata": {
        "id": "Bfs-EQZUzF4j",
        "colab_type": "text"
      },
      "source": [
        "Run the following cell to setup the autograder, make sure to have set your 8 digit Penn ID in the cell above. It will also import all the modules you need for the homework.\n",
        "\n",
        "_Note_: Since we are using an EMR cluster we will only have access to some of modules that exist for Python, meaning things like `pandas`, `numpy`, etc. may not all be available. We have written the entire homework such that the solution does not require any of these. Don't try to import them. It won't work."
      ]
    },
    {
      "cell_type": "markdown",
      "metadata": {
        "id": "Nf_ADEXnIK0b",
        "colab_type": "text"
      },
      "source": [
        "## Step 1: Data Wrangling, Cleaning, and Shaping\n",
        "\n",
        "![Data Wrangler](https://compendiumofcountries.org/wiki/images/6/68/Data_Wrangler_-_Gaucho.png)\n",
        "\n",
        "The data you will use is stored in an S3 bucket, a cloud storage service. You now need to download it onto the nodes of your [EMR cluster](https://docs.aws.amazon.com/emr/latest/ManagementGuide/emr-what-is-emr.html). \n",
        "\n",
        "### Step 1.1: The Stupendous Schema\n",
        "\n",
        "When loading data, Spark will try to infer it's structure on it's own. This process is faulty because it will sometimes infer the type incorrectly. JSON documents, like the one we will use, can have nested types, such as: arrays, arrays of dictionaries, dictionaries of dictionaries, etc. Spark's ability to determine these nested types is not reliable, thus you will define a schema for `linkedin_small_real.json`.\n",
        "\n",
        "A schema is a description of the structure of data. You will be defining an explicit schema for `linkedin_small_real.json`. In Spark, schema's are defined using a `StructType` object. This is a collection of data types, termed `StructField`'s, that specify the structure and variable type of each component of the dataset. For example, suppose we have the following simple JSON object,\n",
        "\n",
        "\n",
        "```\n",
        "{\n",
        " \"student_name\": \"Craig Fan\",\n",
        " \"GPA\": 1.4,\n",
        " \"courses\": [\n",
        "    {\"department\": \"Computer and Information Science\",\n",
        "     \"course_id\": \"CIS 545\",\n",
        "     \"semester\": \"Fall 2019\"},\n",
        "    {\"department\": \"Computer and Information Science\",\n",
        "     \"course_id\": \"CIS 555\",\n",
        "     \"semester\": \"Fall 2019\"}\n",
        " ],\n",
        " \"grad_year\": 2020\n",
        " }\n",
        "```\n",
        "\n",
        "We would define its schema as follows,\n",
        "\n",
        "```       \n",
        "schema = StructType([\n",
        "           StructField(\"student_name\", StringType(), nullable=True),\n",
        "           StructField(\"GPA\", FloatType(), nullable=True),\n",
        "           StructField(\"courses\", ArrayType(\n",
        "                StructType([\n",
        "                  StructField(\"department\", StringType(), nullable=True),\n",
        "                  StructField(\"course_id\", StringType(), nullable=True),\n",
        "                  StructField(\"semester\", StringType(), nullable=True)\n",
        "                ])\n",
        "           ), nullable=True),\n",
        "           StructField(\"grad_year\", IntegerType(), nullable=True)\n",
        "         ])\n",
        "```\n",
        "\n",
        "\n",
        "Each `StructField` has the following structure: `(name, type, nullable)`. The `nullable` flag defines that the specified field may be empty. Your first task is to define the `schema` of `linkedin_small_real.json`. A smaller version of the JSON dataset can be found [here](https://drive.google.com/a/seas.upenn.edu/file/d/1yZ_0xz6uSJ8lAxhGzn2BVjCpDOjagcqb/view?usp=sharing).\n",
        "\n",
        "_Note_: In `linkedin_small_real.json` the field `specilities` is spelled incorrectly. This is **not** a typo. (Well, it is, but it's a typo in the raw data, and we have to live with what we're given.)\n",
        "\n",
        "There is also no grading cell for this step.  But your JSON file won't load if it's wrong, so you have a way of testing.\n",
        "\n",
        "Please fill in the TODOs below.\n",
        "\n"
      ]
    },
    {
      "cell_type": "code",
      "metadata": {
        "id": "pL-Ps4KWIJ9e",
        "colab_type": "code",
        "outputId": "2ded66cd-9bf1-40ae-8dcb-e655a31e99da",
        "colab": {
          "base_uri": "https://localhost:8080/",
          "height": 17,
          "referenced_widgets": [
            "e206ff3c51dc4a4c8bae0cb102b9dd08",
            "2868fbdc7334407da76df2bb656b3b8d",
            "847179cf75b344b48518c39011d4f49c"
          ]
        }
      },
      "source": [
        "%%spark\n",
        "\n",
        "from pyspark.sql.types import *\n",
        "\n",
        "# TODO: Finish defining the linkedin_small_real.json schema\n",
        "# We've provided most of the fiddly details, but you'll\n",
        "# need to fill in the **name** and the ** experience **!\n",
        "\n",
        "schema = StructType([\n",
        "    StructField(\"_id\", StringType(), nullable=True),\n",
        "    \n",
        "    # TODO: fill in the necessary structure for the education (Don't forget the comma at the end)!\n",
        "    StructField(\"education\", ArrayType(\n",
        "      StructType([\n",
        "          StructField(\"start\", StringType(), nullable=True),\n",
        "          StructField(\"major\", StringType(), nullable=True),\n",
        "          StructField(\"end\", StringType(), nullable=True),\n",
        "          StructField(\"name\", StringType(), nullable=True),\n",
        "          StructField(\"desc\", StringType(), nullable=True),\n",
        "          StructField(\"degree\", StringType(), nullable=True)  \n",
        "      ])), nullable=True),\n",
        "\n",
        "    StructField(\"group\", StructType([\n",
        "          StructField(\"affilition\", ArrayType(StringType()), nullable=True),\n",
        "          StructField(\"member\", StringType(), nullable=True)\n",
        "    ]), nullable=True), \n",
        "\n",
        "    # TODO: fill in the necessary structure for the name (Don't forget the comma at the end)!\n",
        "    StructField(\"name\", StructType([\n",
        "          StructField(\"family_name\", StringType(), nullable=True),\n",
        "          StructField(\"given_name\", StringType(), nullable=True)  \n",
        "    ]), nullable=True),\n",
        "\n",
        "    StructField(\"locality\", StringType(), nullable=True),\n",
        "    StructField(\"skills\", ArrayType(StringType()), nullable=True),\n",
        "    StructField(\"industry\", StringType(), nullable=True),\n",
        "    StructField(\"interval\", IntegerType(), nullable=True),\n",
        "\n",
        "    # TODO: fill in structure for experience (Don't forget the comma at the end)!\n",
        "    StructField(\"experience\", ArrayType(\n",
        "      StructType([\n",
        "          StructField(\"org\", StringType(), nullable=True),\n",
        "          StructField(\"title\", StringType(), nullable=True),\n",
        "          StructField(\"end\", StringType(), nullable=True),\n",
        "          StructField(\"start\", StringType(), nullable=True),\n",
        "          StructField(\"desc\", StringType(), nullable=True) \n",
        "      ])\n",
        "    ), nullable=True),\n",
        "\n",
        "    StructField(\"summary\", StringType(), nullable=True),\n",
        "    StructField(\"interests\", StringType(), nullable=True),\n",
        "    StructField(\"overview_html\", StringType(), nullable=True),\n",
        "    StructField(\"specilities\", StringType(), nullable=True),\n",
        "    StructField(\"homepage\", ArrayType(StringType()), nullable=True),\n",
        "    StructField(\"honors\", ArrayType(StringType()), nullable=True),\n",
        "    StructField(\"url\", StringType(), nullable=True),\n",
        "    StructField(\"also_view\", ArrayType(\n",
        "      StructType([\n",
        "          StructField(\"id\", StringType(), nullable=True),\n",
        "          StructField(\"url\", StringType(), nullable=True)\n",
        "      ])\n",
        "    ), nullable=True),\n",
        "    StructField(\"events\", ArrayType(\n",
        "      StructType([\n",
        "          StructField(\"from\", StringType(), nullable=True),\n",
        "          StructField(\"to\", StringType(), nullable=True),\n",
        "          StructField(\"title1\", StringType(), nullable=True),\n",
        "          StructField(\"start\", StringType(), nullable=True),\n",
        "          StructField(\"title2\", StringType(), nullable=True),\n",
        "          StructField(\"end\", IntegerType(), nullable=True)\n",
        "      ])), nullable=True)\n",
        "])\n"
      ],
      "execution_count": 8,
      "outputs": [
        {
          "output_type": "display_data",
          "data": {
            "application/vnd.jupyter.widget-view+json": {
              "model_id": "e206ff3c51dc4a4c8bae0cb102b9dd08",
              "version_minor": 0,
              "version_major": 2
            },
            "text/plain": [
              "FloatProgress(value=0.0, bar_style='info', description='Progress:', layout=Layout(height='25px', width='50%'),…"
            ]
          },
          "metadata": {
            "tags": []
          }
        }
      ]
    },
    {
      "cell_type": "markdown",
      "metadata": {
        "id": "2Su604X9ggc2",
        "colab_type": "text"
      },
      "source": [
        "### Step 1.2: The Langorous Load\n",
        "\n",
        "Load the `linkedin_small_real.json` dataset from your S3 bucket into a Spark dataframe (sdf) called `raw_data_sdf`. If you have constructed `schema` correctly `spark.read.json()` will read in the dataset. ***You do not need to edit this cell***.\n",
        "\n",
        "If this doesn't work, go back to the prior cell and update your `schema`!"
      ]
    },
    {
      "cell_type": "code",
      "metadata": {
        "id": "ji-KW2sAiB6r",
        "colab_type": "code",
        "outputId": "796aaa43-ee50-450d-a393-f66a7feb8745",
        "colab": {
          "base_uri": "https://localhost:8080/",
          "height": 17,
          "referenced_widgets": [
            "2f3e58b19ac845ab84907d8fd5a83335",
            "0c43d4694b2a4eb2a85bb6742fecf88b",
            "8e78b33375c749dda32ca009fbc8f44e"
          ]
        }
      },
      "source": [
        "%%spark\n",
        "\n",
        "raw_data_sdf = spark.read.json(\"s3a://penn-cis545-files/linkedin_small_real.json\", schema=schema)"
      ],
      "execution_count": 9,
      "outputs": [
        {
          "output_type": "display_data",
          "data": {
            "application/vnd.jupyter.widget-view+json": {
              "model_id": "2f3e58b19ac845ab84907d8fd5a83335",
              "version_minor": 0,
              "version_major": 2
            },
            "text/plain": [
              "FloatProgress(value=0.0, bar_style='info', description='Progress:', layout=Layout(height='25px', width='50%'),…"
            ]
          },
          "metadata": {
            "tags": []
          }
        }
      ]
    },
    {
      "cell_type": "code",
      "metadata": {
        "id": "76yrn4oHW64-",
        "colab_type": "code",
        "outputId": "11957259-4188-401d-fa7b-08e3ec8d5ac6",
        "colab": {
          "base_uri": "https://localhost:8080/",
          "height": 17,
          "referenced_widgets": [
            "cf62912763a547cda4367f4536620655",
            "7ed843cb0ceb4346a518c1e4effca5e5",
            "8a5d76c211094316ac3d7939ca60eb34"
          ]
        }
      },
      "source": [
        "%%spark\n",
        "\n",
        "import pandas as pd"
      ],
      "execution_count": 10,
      "outputs": [
        {
          "output_type": "display_data",
          "data": {
            "application/vnd.jupyter.widget-view+json": {
              "model_id": "cf62912763a547cda4367f4536620655",
              "version_minor": 0,
              "version_major": 2
            },
            "text/plain": [
              "FloatProgress(value=0.0, bar_style='info', description='Progress:', layout=Layout(height='25px', width='50%'),…"
            ]
          },
          "metadata": {
            "tags": []
          }
        }
      ]
    },
    {
      "cell_type": "markdown",
      "metadata": {
        "id": "jMVCVotcE1wv",
        "colab_type": "text"
      },
      "source": [
        "The cell below shows how to run SQL commands on Spark tables. Use this as a template for all your SQL queries in this notebook. ***You do not need to edit this cell***."
      ]
    },
    {
      "cell_type": "code",
      "metadata": {
        "id": "NJSVWeGiEO5c",
        "colab_type": "code",
        "outputId": "bd326150-4761-4141-ee04-fdef980953a1",
        "colab": {
          "base_uri": "https://localhost:8080/",
          "height": 17,
          "referenced_widgets": [
            "3c7a9c859cdd4ec8aa068c2150961b6d",
            "fd900d40c0aa48de8ab54a23bb5daa2d",
            "99c7263e2f49471db9f9070c9c635202"
          ]
        }
      },
      "source": [
        "%%spark\n",
        "\n",
        "# Create SQL-accesible table\n",
        "raw_data_sdf.createOrReplaceTempView(\"raw_data\")\n",
        "\n",
        "# Declare SQL query to be excecuted\n",
        "query = '''SELECT * \n",
        "           FROM raw_data LIMIT 10'''\n",
        "\n",
        "# Save the output sdf of spark.sql() as answer_sdf and convert to Pandas\n",
        "answer_sdf = spark.sql(query).toPandas()\n",
        "\n",
        "to_submit = pd.read_json(answer_sdf.to_json())\n"
      ],
      "execution_count": 11,
      "outputs": [
        {
          "output_type": "display_data",
          "data": {
            "application/vnd.jupyter.widget-view+json": {
              "model_id": "3c7a9c859cdd4ec8aa068c2150961b6d",
              "version_minor": 0,
              "version_major": 2
            },
            "text/plain": [
              "FloatProgress(value=0.0, bar_style='info', description='Progress:', layout=Layout(height='25px', width='50%'),…"
            ]
          },
          "metadata": {
            "tags": []
          }
        }
      ]
    },
    {
      "cell_type": "code",
      "metadata": {
        "id": "0tanLAYVq2Hn",
        "colab_type": "code",
        "outputId": "c0525a8e-a395-4565-f4e4-cb755f4cd371",
        "colab": {
          "base_uri": "https://localhost:8080/",
          "height": 68,
          "referenced_widgets": [
            "38349805dfde444682c47c30e45238f6",
            "72a44e7887cf4146a019ed0fa0367c76",
            "dab5c91584784ea988e389df78dcbf46"
          ]
        }
      },
      "source": [
        " #TODO Grader\n",
        "%%spark\n",
        "\n",
        "grader.grade(test_case_id = 'first', answer = to_submit)"
      ],
      "execution_count": 12,
      "outputs": [
        {
          "output_type": "display_data",
          "data": {
            "application/vnd.jupyter.widget-view+json": {
              "model_id": "38349805dfde444682c47c30e45238f6",
              "version_minor": 0,
              "version_major": 2
            },
            "text/plain": [
              "FloatProgress(value=0.0, bar_style='info', description='Progress:', layout=Layout(height='25px', width='50%'),…"
            ]
          },
          "metadata": {
            "tags": []
          }
        },
        {
          "output_type": "stream",
          "text": [
            "Correct! You earned 2/2 points. You are a star!\n",
            "\n",
            "Your submission has been successfully recorded in the gradebook."
          ],
          "name": "stdout"
        }
      ]
    },
    {
      "cell_type": "markdown",
      "metadata": {
        "id": "705XndyQYW6f",
        "colab_type": "text"
      },
      "source": [
        "In the next cell, create `step_1_2_sdf` to fetch the data from the above table, returning rows with schema `(_id, given_name)`, in **lexicographical order** of `_id`.  (Note `_id` is a string as opposed to an int.) Limit your sdf to 100 rows."
      ]
    },
    {
      "cell_type": "code",
      "metadata": {
        "id": "zOpHsWR2qQAY",
        "colab_type": "code",
        "outputId": "62dbc15a-a328-483c-8b1b-e358ab3e8173",
        "colab": {
          "base_uri": "https://localhost:8080/",
          "height": 17,
          "referenced_widgets": [
            "f5845dcc161d49f5a8ca1e1797208fff",
            "8191561881a74039942ca2571e53ee67",
            "64c9ff0e09b84a29a4e6087a07b3ee09"
          ]
        }
      },
      "source": [
        "%%spark \n",
        "\n",
        "# TODO\n",
        "step_1_2_sdf = spark.sql(\n",
        "    '''select _id, name.given_name from raw_data\n",
        "    where _id is not null and name.given_name is not null\n",
        "    order by _id asc\n",
        "    limit 100'''\n",
        ")"
      ],
      "execution_count": 13,
      "outputs": [
        {
          "output_type": "display_data",
          "data": {
            "application/vnd.jupyter.widget-view+json": {
              "model_id": "f5845dcc161d49f5a8ca1e1797208fff",
              "version_minor": 0,
              "version_major": 2
            },
            "text/plain": [
              "FloatProgress(value=0.0, bar_style='info', description='Progress:', layout=Layout(height='25px', width='50%'),…"
            ]
          },
          "metadata": {
            "tags": []
          }
        }
      ]
    },
    {
      "cell_type": "code",
      "metadata": {
        "id": "JZAF49wAv6Ka",
        "colab_type": "code",
        "outputId": "4ed5f999-dea6-4f82-e65c-4290d0e2fe0e",
        "colab": {
          "base_uri": "https://localhost:8080/",
          "height": 17,
          "referenced_widgets": [
            "0a5198e7cca0489e8cfc6c69e89f2295",
            "a559d5c91c8e4059a5ee68d4910bea9b",
            "8ffd5a0f3a8c41b5b9bc09a0f3808195"
          ]
        }
      },
      "source": [
        "%%spark\n",
        "#NO TOUCH\n",
        "to_submit = step_1_2_sdf.toPandas()"
      ],
      "execution_count": 14,
      "outputs": [
        {
          "output_type": "display_data",
          "data": {
            "application/vnd.jupyter.widget-view+json": {
              "model_id": "0a5198e7cca0489e8cfc6c69e89f2295",
              "version_minor": 0,
              "version_major": 2
            },
            "text/plain": [
              "FloatProgress(value=0.0, bar_style='info', description='Progress:', layout=Layout(height='25px', width='50%'),…"
            ]
          },
          "metadata": {
            "tags": []
          }
        }
      ]
    },
    {
      "cell_type": "code",
      "metadata": {
        "id": "p4hU1ihWYjL6",
        "colab_type": "code",
        "outputId": "c1422c6c-758e-4be3-cafa-c20d4ecef936",
        "colab": {
          "base_uri": "https://localhost:8080/",
          "height": 68,
          "referenced_widgets": [
            "8decea1083a642a3bc28d13622489ed3",
            "0d8e7bb4391a4443bc293c3f1ab62018",
            "fb5918a182f5413fb9a6bd1a265e09f9"
          ]
        }
      },
      "source": [
        "%%spark\n",
        "\n",
        "#NO TOUCH\n",
        "\n",
        "grader.grade(test_case_id = 'lex_10_ids_last_names', answer = to_submit)\n"
      ],
      "execution_count": 15,
      "outputs": [
        {
          "output_type": "display_data",
          "data": {
            "application/vnd.jupyter.widget-view+json": {
              "model_id": "8decea1083a642a3bc28d13622489ed3",
              "version_minor": 0,
              "version_major": 2
            },
            "text/plain": [
              "FloatProgress(value=0.0, bar_style='info', description='Progress:', layout=Layout(height='25px', width='50%'),…"
            ]
          },
          "metadata": {
            "tags": []
          }
        },
        {
          "output_type": "stream",
          "text": [
            "Correct! You earned 4/4 points. You are a star!\n",
            "\n",
            "Your submission has been successfully recorded in the gradebook."
          ],
          "name": "stdout"
        }
      ]
    },
    {
      "cell_type": "markdown",
      "metadata": {
        "id": "svOO4iLPist4",
        "colab_type": "text"
      },
      "source": [
        "### Step 1.3: The Extravagant Extraction\n",
        "\n",
        "In our training model, we are interested in when individuals began working at a company.  From creating the schema, you should notice that the collection of companies inviduals worked at are contained in the `experience` field as an array of dictionaries. You should use the `org` for the company name and `start` for the start date. Here is an example of an `experience` field,\n",
        "\n",
        "```\n",
        "{\n",
        "   \"experience\": [\n",
        "     {\n",
        "        \"org\": \"The Walt Disney Company\", \n",
        "        \"title\" : \"Mickey Mouse\",\n",
        "        \"end\" : \"Present\",\n",
        "        \"start\": \"November 1928\",\n",
        "        \"desc\": \"Sailed a boat.\"\n",
        "     },\n",
        "     {\n",
        "        \"org\": \"Walt Disney World Resort\",\n",
        "        \"title\": \"Mickey Mouse Mascot\",\n",
        "        \"start\": \"January 2005\",\n",
        "        \"desc\": \"Took pictures with kids.\"\n",
        "     }\n",
        "   ]\n",
        "}\n",
        "```\n",
        "\n",
        "Your task is to extract each pair of company and start date from these arrays. In Spark, this is known as \"exploding\" a row. If you think about how we used relational data to model a nested list in a separate table -- that's basically what `explode` does to the nested data within `linkedin`.\n",
        "\n",
        "Create an sdf called `raw_start_dates_sdf` that contains the company and start date for every experience of every individual in `raw_data_sdf`. Drop any row that contains a `null` in either column with `dropna()`. Remember we will sort the dataframe when grading so you can sort the elements however you wish (you don't need to if you don't want to). The sdf should look similar to:\n",
        "\n",
        "```\n",
        "+--------------------------+---------------+\n",
        "|org                       |start_date     |\n",
        "+--------------------------+---------------+\n",
        "|Walt Disney World Resort  |January 2005   | \n",
        "|The Walt Disney Company   |November 1928  |\n",
        "|...                       |...            |\n",
        "+--------------------------+---------------+\n",
        "```\n",
        "\n",
        "_Hint_: You may want to do two separate `explode`s for `org` and `start`. In an explode, the position of the element in the array can be extracted as well, and used to merge two seperate explodes. Reference the [function list](https://spark.apache.org/docs/2.3.0/api/sql/index.html).\n",
        "\n",
        "_Note_: Some of the entires in `org` are \"weird\", i.e. made up of non-english letters and characters. Keep them. **DO NOT** edit any name in the original dataframe unless we specify. **DO NOT** drop any row unless there is a `null` value as stated before. This goes for the rest of the homework as well, unless otherwise specified."
      ]
    },
    {
      "cell_type": "code",
      "metadata": {
        "id": "Kt16tyP0klQX",
        "colab_type": "code",
        "outputId": "2d94e1d1-5e2b-4b18-d150-5dcfb9fd02e5",
        "colab": {
          "base_uri": "https://localhost:8080/",
          "height": 442,
          "referenced_widgets": [
            "da9d525f091844fdac3f0897542c46de",
            "ebed3d380a3c4af3a5efa75b78935120",
            "9a1e82d92988401fbcec4089ac019450"
          ]
        }
      },
      "source": [
        "%%spark\n",
        "from pyspark.sql.functions import explode\n",
        "\n",
        "# TODO: Create [raw_start_dates_sdf]\n",
        "\n",
        "# POSEXPLODE() will explode a specified column of an sdf and return two rows\n",
        "# corresponding to the index of an element in an array \"pos\" and the element\n",
        "# itself.\n",
        "\n",
        "############################################\n",
        "\n",
        "org_exp = spark.sql(\n",
        "    '''select _id, posexplode(experience.org) from raw_data'''\n",
        ")\n",
        "org_exp.createOrReplaceTempView('org_table')\n",
        "start_exp = spark.sql(\n",
        "    '''select _id, posexplode(experience.start) from raw_data'''\n",
        ")\n",
        "start_exp.createOrReplaceTempView('start_table')\n",
        "\n",
        "raw_start_dates_sdf = spark.sql(\n",
        "    '''select org, start_date from\n",
        "    (select org_table.col as org, start_table.col as start_date from org_table\n",
        "    join start_table on org_table._id = start_table._id and org_table.pos = start_table.pos)\n",
        "    where org is not null and start_date is not null'''\n",
        ")\n",
        "\n",
        "raw_start_dates_sdf.show()"
      ],
      "execution_count": 16,
      "outputs": [
        {
          "output_type": "display_data",
          "data": {
            "application/vnd.jupyter.widget-view+json": {
              "model_id": "da9d525f091844fdac3f0897542c46de",
              "version_minor": 0,
              "version_major": 2
            },
            "text/plain": [
              "FloatProgress(value=0.0, bar_style='info', description='Progress:', layout=Layout(height='25px', width='50%'),…"
            ]
          },
          "metadata": {
            "tags": []
          }
        },
        {
          "output_type": "stream",
          "text": [
            "+--------------------+--------------+\n",
            "|                 org|    start_date|\n",
            "+--------------------+--------------+\n",
            "|             Spot.us|September 2009|\n",
            "|Pfizer Ltd. (WPO ...|          2005|\n",
            "|              ALSTOM|          2008|\n",
            "|DSM i-Nutrition B...|  January 2009|\n",
            "|Sujana Metal Prod...|   August 2012|\n",
            "|                 IBM| February 2010|\n",
            "|             PepsiCo|      May 1998|\n",
            "|Sleuths Mystery D...|   August 2011|\n",
            "|           Mindshare| February 2012|\n",
            "|  Project-A Ventures| February 2012|\n",
            "|Forcadell Juan Ba...|  January 2000|\n",
            "|  Slipgate Ironworks| February 2008|\n",
            "|SpenglerFox - Int...|September 2006|\n",
            "|        Everyone.net| November 2006|\n",
            "|                AACN|    April 1998|\n",
            "|           Garrigues|September 2004|\n",
            "|                Auna|          2004|\n",
            "|Cabezon Capital M...| February 2008|\n",
            "|Centre for Develo...|          1985|\n",
            "|  Liberty Syndicates|   August 2008|\n",
            "+--------------------+--------------+\n",
            "only showing top 20 rows"
          ],
          "name": "stdout"
        }
      ]
    },
    {
      "cell_type": "code",
      "metadata": {
        "id": "-a3xLDEYCcwl",
        "colab_type": "code",
        "outputId": "3bc75ada-ad1f-4149-ae43-0d63db5b5cff",
        "colab": {
          "base_uri": "https://localhost:8080/",
          "height": 170,
          "referenced_widgets": [
            "b473417b123d4b3b988823979245aab0",
            "9c123599e8d84e32aa8606ed52682bb7",
            "87f4a012d8ff4d89855b57db05d10431"
          ]
        }
      },
      "source": [
        "%%spark\n",
        "\n",
        "# For your info, see if it looks reasonable\n",
        "raw_start_dates_sdf.show(4)"
      ],
      "execution_count": 17,
      "outputs": [
        {
          "output_type": "display_data",
          "data": {
            "application/vnd.jupyter.widget-view+json": {
              "model_id": "b473417b123d4b3b988823979245aab0",
              "version_minor": 0,
              "version_major": 2
            },
            "text/plain": [
              "FloatProgress(value=0.0, bar_style='info', description='Progress:', layout=Layout(height='25px', width='50%'),…"
            ]
          },
          "metadata": {
            "tags": []
          }
        },
        {
          "output_type": "stream",
          "text": [
            "+--------------------+--------------+\n",
            "|                 org|    start_date|\n",
            "+--------------------+--------------+\n",
            "|             Spot.us|September 2009|\n",
            "|Pfizer Ltd. (WPO ...|          2005|\n",
            "|              ALSTOM|          2008|\n",
            "|DSM i-Nutrition B...|  January 2009|\n",
            "+--------------------+--------------+\n",
            "only showing top 4 rows"
          ],
          "name": "stdout"
        }
      ]
    },
    {
      "cell_type": "code",
      "metadata": {
        "id": "yKV_hk7gDX9l",
        "colab_type": "code",
        "outputId": "f6f23b5c-c643-4616-b8fa-fc6d487c0c1b",
        "colab": {
          "base_uri": "https://localhost:8080/",
          "height": 17,
          "referenced_widgets": [
            "39347c19c36d47ad90e090e9463ec4b4",
            "2f50ea66ca3d4eccbeb49d831308943f",
            "5fbab3c1bf284928b4088a3e52e4589c"
          ]
        }
      },
      "source": [
        "%%spark \n",
        "\n",
        "#NO TOUCH\n",
        "\n",
        "## AUTOGRADER Step 1.3: Run this to get your score. ##\n",
        "\n",
        "raw_start_dates_sdf.createOrReplaceTempView(\"test_1_3\")\n",
        "test_1_3_sdf = spark.sql(\"SELECT * FROM test_1_3 ORDER BY org ASC, start_date DESC LIMIT 10\").toPandas()\n",
        "# spark.catalog.dropTempView(\"test_1_3\")\n",
        "# test_1_3_sdf.show(10)\n",
        "to_submit = pd.read_json(test_1_3_sdf.to_json())"
      ],
      "execution_count": 18,
      "outputs": [
        {
          "output_type": "display_data",
          "data": {
            "application/vnd.jupyter.widget-view+json": {
              "model_id": "39347c19c36d47ad90e090e9463ec4b4",
              "version_minor": 0,
              "version_major": 2
            },
            "text/plain": [
              "FloatProgress(value=0.0, bar_style='info', description='Progress:', layout=Layout(height='25px', width='50%'),…"
            ]
          },
          "metadata": {
            "tags": []
          }
        }
      ]
    },
    {
      "cell_type": "code",
      "metadata": {
        "id": "LTukZvW9Pj04",
        "colab_type": "code",
        "outputId": "98124bff-d4b8-4f87-b253-9cc11f45bd5e",
        "colab": {
          "base_uri": "https://localhost:8080/",
          "height": 68,
          "referenced_widgets": [
            "f11c4f90c83b4ec0985ed815296ad23e",
            "5c6837e2908b40abbdb76165436ebebd",
            "322e8ed3fdd94a50a587118269cd0023"
          ]
        }
      },
      "source": [
        "%%spark\n",
        "\n",
        "#NO TOUCH\n",
        "\n",
        "grader.grade(test_case_id = 'explosion', answer = to_submit)"
      ],
      "execution_count": 19,
      "outputs": [
        {
          "output_type": "display_data",
          "data": {
            "application/vnd.jupyter.widget-view+json": {
              "model_id": "f11c4f90c83b4ec0985ed815296ad23e",
              "version_minor": 0,
              "version_major": 2
            },
            "text/plain": [
              "FloatProgress(value=0.0, bar_style='info', description='Progress:', layout=Layout(height='25px', width='50%'),…"
            ]
          },
          "metadata": {
            "tags": []
          }
        },
        {
          "output_type": "stream",
          "text": [
            "Correct! You earned 4/4 points. You are a star!\n",
            "\n",
            "Your submission has been successfully recorded in the gradebook."
          ],
          "name": "stdout"
        }
      ]
    },
    {
      "cell_type": "markdown",
      "metadata": {
        "id": "zSbb0t-d-VFt",
        "colab_type": "text"
      },
      "source": [
        "### Step 1.4: The Fortuitous Formatting\n",
        "\n",
        "There are two issues with the values in our `date` column. First, the values are saved as strings, not datetime types. This halts us from running functions such as `ORDER BY` or `GROUP BY` on common months or years. Second, some values do not have both month and year information or are in other languages. Your task is to filter out and clean the `date` column. We are interested in only those rows that have date in the following format \"(month_name) (year)\", e.g. \"October 2010\".\n",
        "\n",
        "Create an sdf called `filtered_start_dates_sdf` from `raw_start_dates_sdf` with the `date` column filtered in the manner above. Keep only those rows with a start date between January 2000 to December 2011, inclusive. Ensure that any dates that are not in our desired format are ommitted. Drop any row that contains a `null` in either column. The format of the sdf is shown below:\n",
        "```\n",
        "+--------------------------+---------------+\n",
        "|org                       |start_date     |\n",
        "+--------------------------+---------------+\n",
        "|Walt Disney World Resort  |2005-01-01     | \n",
        "|...                       |...            |\n",
        "+--------------------------+---------------+\n",
        "```\n",
        "_Hint_: Refer to the [function list](https://spark.apache.org/docs/2.3.0/api/sql/index.html) to format the `date` column. In Spark SQL the date format we are interested in is `\"MMM y\"`.\n",
        "\n",
        "_Note_: Spark will return the date in the format above, with the day as `01`. This is ok, since we are interested in the month and year each individual began working and all dates will have `01` as their day."
      ]
    },
    {
      "cell_type": "code",
      "metadata": {
        "id": "eelgTtOc_MBM",
        "colab_type": "code",
        "outputId": "e9dbb7f7-416d-4ad6-c203-d38d6e57ba48",
        "colab": {
          "base_uri": "https://localhost:8080/",
          "height": 442,
          "referenced_widgets": [
            "d77da4146f1f4e8c9a093fab9fdfa445",
            "4df8e0ee19394221824826c5dc1b0ea1",
            "2cfe04d327e84b9b8ee076ba79882fb7"
          ]
        }
      },
      "source": [
        "%%spark\n",
        "\n",
        "# TO_DATE() will convert a string to a datetime object. The string's format,\n",
        "# i.e. \"MMM y\" must be provided. Any string that does not have the specified\n",
        "# format will be returned as null.\n",
        "\n",
        "# Use TO_DATE() to convert the start_date column from a string to a datetime\n",
        "# object. Keep only dates that are between January 2000 and December 2011,\n",
        "# inclusive.\n",
        "\n",
        "\n",
        "# TODO: Create [filtered_start_dates_sdf]\n",
        "raw_start_dates_sdf.createOrReplaceTempView('raw_dates')\n",
        "filtered_start_dates_sdf = spark.sql(\n",
        "    '''select org, start_date from(\n",
        "    select org, to_date(start_date, 'MMM y') as start_date from raw_dates\n",
        "    where to_date(start_date, \"MMM y\") >= \"2000-01-01\" and to_date(start_date, \"MMM y\") <= \"2011-12-01\")\n",
        "    where start_date is not null'''\n",
        ")\n",
        "filtered_start_dates_sdf.show()\n"
      ],
      "execution_count": 20,
      "outputs": [
        {
          "output_type": "display_data",
          "data": {
            "application/vnd.jupyter.widget-view+json": {
              "model_id": "d77da4146f1f4e8c9a093fab9fdfa445",
              "version_minor": 0,
              "version_major": 2
            },
            "text/plain": [
              "FloatProgress(value=0.0, bar_style='info', description='Progress:', layout=Layout(height='25px', width='50%'),…"
            ]
          },
          "metadata": {
            "tags": []
          }
        },
        {
          "output_type": "stream",
          "text": [
            "+--------------------+----------+\n",
            "|                 org|start_date|\n",
            "+--------------------+----------+\n",
            "|             Spot.us|2009-09-01|\n",
            "|DSM i-Nutrition B...|2009-01-01|\n",
            "|                 IBM|2010-02-01|\n",
            "|Sleuths Mystery D...|2011-08-01|\n",
            "|Forcadell Juan Ba...|2000-01-01|\n",
            "|  Slipgate Ironworks|2008-02-01|\n",
            "|SpenglerFox - Int...|2006-09-01|\n",
            "|        Everyone.net|2006-11-01|\n",
            "|           Garrigues|2004-09-01|\n",
            "|Cabezon Capital M...|2008-02-01|\n",
            "|  Liberty Syndicates|2008-08-01|\n",
            "|FastScale Technology|2007-10-01|\n",
            "|     Reed Employment|2005-02-01|\n",
            "|Technicolor Netwo...|2005-10-01|\n",
            "|Maybank Philippin...|2010-01-01|\n",
            "|Vanguard Energy P...|2010-05-01|\n",
            "|         BSA Pty Ltd|2006-10-01|\n",
            "|Macdonald Realty ...|2011-02-01|\n",
            "|Irwin Financial C...|2005-06-01|\n",
            "|OptumInsight - In...|2003-10-01|\n",
            "+--------------------+----------+\n",
            "only showing top 20 rows"
          ],
          "name": "stdout"
        }
      ]
    },
    {
      "cell_type": "code",
      "metadata": {
        "id": "mx-g8FY0GeLA",
        "colab_type": "code",
        "outputId": "7810a70e-240b-408b-f6e9-68cc5147fd12",
        "colab": {
          "base_uri": "https://localhost:8080/",
          "height": 17,
          "referenced_widgets": [
            "99ffaa8ff24244b0ba089df5c870ba53",
            "cc2cd996c5e740f59a97915f57fd3617",
            "2cfdf7fcc41f406cab541873ee917d81"
          ]
        }
      },
      "source": [
        "%%spark\n",
        "\n",
        "## AUTOGRADER Step 1.4: Run this to get your score. ##\n",
        "\n",
        "#NO TOUCH\n",
        "\n",
        "filtered_start_dates_sdf.createOrReplaceTempView(\"test_1_4\")\n",
        "test_1_4_sdf = spark.sql(\"SELECT org, DATE_FORMAT(start_date, 'yyyy-MM-dd') AS start_date FROM test_1_4 ORDER BY org DESC, start_date DESC LIMIT 20\").toPandas()\n",
        "# spark.catalog.dropTempView(\"test_1_4\")\n",
        "# test_1_4_sdf.show(10)\n",
        "to_submit = pd.read_json(test_1_4_sdf.to_json())\n",
        "#grader.grade(question_id = \"1.4\", answer = (test_1_4_sdf.take(10), filtered_start_dates_sdf.dtypes))\n"
      ],
      "execution_count": 21,
      "outputs": [
        {
          "output_type": "display_data",
          "data": {
            "application/vnd.jupyter.widget-view+json": {
              "model_id": "99ffaa8ff24244b0ba089df5c870ba53",
              "version_minor": 0,
              "version_major": 2
            },
            "text/plain": [
              "FloatProgress(value=0.0, bar_style='info', description='Progress:', layout=Layout(height='25px', width='50%'),…"
            ]
          },
          "metadata": {
            "tags": []
          }
        }
      ]
    },
    {
      "cell_type": "code",
      "metadata": {
        "id": "FVyAg4wmQszL",
        "colab_type": "code",
        "outputId": "8c8209d7-a552-4595-efa7-be13dd3a622c",
        "colab": {
          "base_uri": "https://localhost:8080/",
          "height": 68,
          "referenced_widgets": [
            "8eef3daead7a4448b18e9171567c1aff",
            "75beb180c3be432fb3c5e7d5d7703ee2",
            "a9f059c35d314ce9a8a5209d48689646"
          ]
        }
      },
      "source": [
        "%%spark\n",
        "\n",
        "grader.grade(test_case_id = 'fortuitous', answer = to_submit)"
      ],
      "execution_count": 22,
      "outputs": [
        {
          "output_type": "display_data",
          "data": {
            "application/vnd.jupyter.widget-view+json": {
              "model_id": "8eef3daead7a4448b18e9171567c1aff",
              "version_minor": 0,
              "version_major": 2
            },
            "text/plain": [
              "FloatProgress(value=0.0, bar_style='info', description='Progress:', layout=Layout(height='25px', width='50%'),…"
            ]
          },
          "metadata": {
            "tags": []
          }
        },
        {
          "output_type": "stream",
          "text": [
            "Correct! You earned 3/3 points. You are a star!\n",
            "\n",
            "Your submission has been successfully recorded in the gradebook."
          ],
          "name": "stdout"
        }
      ]
    },
    {
      "cell_type": "markdown",
      "metadata": {
        "id": "LXYYQn2_GYwZ",
        "colab_type": "text"
      },
      "source": [
        "### Step 1.5 The Gregarious Grouping\n",
        "\n",
        "We now want to collect the number of individuals that started in the same month and year for each company. Create an sdf called `start_dates_sdf` that has the total number of employees who began working at the same company on the same start date. The format of the sdf is shown below:\n",
        "\n",
        "```\n",
        "+--------------------------+---------------+---------------+\n",
        "|org                       |start_date     |num_employees  |\n",
        "+--------------------------+---------------+---------------+\n",
        "|Walt Disney World Resort  |2005-01-01     |1              |\n",
        "|...                       |...            |...            |\n",
        "+--------------------------+---------------+---------------+\n",
        "```"
      ]
    },
    {
      "cell_type": "code",
      "metadata": {
        "id": "CxVIyc1CHooV",
        "colab_type": "code",
        "outputId": "134005d2-d292-4812-e82a-6eee51e9d926",
        "colab": {
          "base_uri": "https://localhost:8080/",
          "height": 442,
          "referenced_widgets": [
            "3091acb7bbce464e9a909240bbb4ef21",
            "6fcb1ddd41f34c5196dc0645e540881d",
            "fa5fcb8a66c14cb8bfe98e7a3884e858"
          ]
        }
      },
      "source": [
        "%%spark\n",
        "\n",
        "# TODO: Create [start_dates_sdf]\n",
        "\n",
        "# GROUP BY on org and start_date, in that order.\n",
        "\n",
        "filtered_start_dates_sdf.createOrReplaceTempView(\"filtered_dates\")\n",
        "start_dates_sdf = spark.sql(\n",
        "    '''select org, start_date, count(org) as num_employees from filtered_dates\n",
        "    group by org, start_date\n",
        "    order by num_employees desc'''\n",
        ")\n",
        "start_dates_sdf.show()"
      ],
      "execution_count": 23,
      "outputs": [
        {
          "output_type": "display_data",
          "data": {
            "application/vnd.jupyter.widget-view+json": {
              "model_id": "3091acb7bbce464e9a909240bbb4ef21",
              "version_minor": 0,
              "version_major": 2
            },
            "text/plain": [
              "FloatProgress(value=0.0, bar_style='info', description='Progress:', layout=Layout(height='25px', width='50%'),…"
            ]
          },
          "metadata": {
            "tags": []
          }
        },
        {
          "output_type": "stream",
          "text": [
            "+--------------------+----------+-------------+\n",
            "|                 org|start_date|num_employees|\n",
            "+--------------------+----------+-------------+\n",
            "|              Google|2011-05-01|           30|\n",
            "|              Google|2010-06-01|           22|\n",
            "|                 IBM|2011-01-01|           22|\n",
            "|              Google|2011-07-01|           22|\n",
            "|Brook Furniture R...|2005-04-01|           21|\n",
            "|           Microsoft|2008-06-01|           21|\n",
            "|              Google|2011-01-01|           20|\n",
            "|                 IBM|2010-01-01|           20|\n",
            "|           Accenture|2011-09-01|           19|\n",
            "|           Microsoft|2008-07-01|           19|\n",
            "|Nokia Siemens Net...|2007-04-01|           19|\n",
            "|           Microsoft|2006-06-01|           18|\n",
            "|              Google|2011-04-01|           18|\n",
            "|              Google|2011-08-01|           18|\n",
            "|              Google|2010-11-01|           17|\n",
            "|                 IBM|2006-01-01|           17|\n",
            "|              Google|2010-07-01|           17|\n",
            "|              Google|2008-05-01|           17|\n",
            "|           Microsoft|2008-05-01|           17|\n",
            "|           Microsoft|2011-01-01|           17|\n",
            "+--------------------+----------+-------------+\n",
            "only showing top 20 rows"
          ],
          "name": "stdout"
        }
      ]
    },
    {
      "cell_type": "code",
      "metadata": {
        "id": "aI7N3JgIMFeV",
        "colab_type": "code",
        "outputId": "741846bf-3438-489c-f6f6-239a6fca1bfa",
        "colab": {
          "base_uri": "https://localhost:8080/",
          "height": 17,
          "referenced_widgets": [
            "d3ae2e89b8944bad96796bf4afd31836",
            "2f17ce7cf72b44e1bcca7fae1f8b0abe",
            "4888e7493b4f477f80f310add399e9db"
          ]
        }
      },
      "source": [
        "%%spark\n",
        "\n",
        "#NO TOUCH\n",
        "\n",
        "## AUTOGRADER Step 1.5: Run this to get your score. ##\n",
        "\n",
        "start_dates_sdf.createOrReplaceTempView(\"test_1_5\")\n",
        "test_1_5_sdf = spark.sql(\"SELECT org, DATE_FORMAT(start_date, 'yyyy-MM-dd') as start_date, num_employees FROM test_1_5 ORDER BY num_employees DESC, org DESC, start_date ASC LIMIT 10\").toPandas()\n",
        "to_submit = pd.read_json(test_1_5_sdf.to_json())\n",
        "# spark.catalog.dropTempView(\"test_1_5\")\n",
        "# test_1_5_sdf.show(10)\n",
        "\n",
        "#grader.grade(question_id = \"1.5\", answer = (test_1_5_sdf.take(10), start_dates_sdf.dtypes))\n"
      ],
      "execution_count": 24,
      "outputs": [
        {
          "output_type": "display_data",
          "data": {
            "application/vnd.jupyter.widget-view+json": {
              "model_id": "d3ae2e89b8944bad96796bf4afd31836",
              "version_minor": 0,
              "version_major": 2
            },
            "text/plain": [
              "FloatProgress(value=0.0, bar_style='info', description='Progress:', layout=Layout(height='25px', width='50%'),…"
            ]
          },
          "metadata": {
            "tags": []
          }
        }
      ]
    },
    {
      "cell_type": "code",
      "metadata": {
        "id": "-bWO9dx1UYux",
        "colab_type": "code",
        "outputId": "e66f6231-bf2a-44b2-eb9c-b6f6693af454",
        "colab": {
          "base_uri": "https://localhost:8080/",
          "height": 68,
          "referenced_widgets": [
            "fa9fb5188cf84331b3cf21451237a6e7",
            "01a6599e4fba4909ab9cba5050551f60",
            "751e9a26703144b38870ceb462e24866"
          ]
        }
      },
      "source": [
        "%%spark\n",
        "grader.grade(test_case_id = 'gregarious', answer = to_submit)"
      ],
      "execution_count": 25,
      "outputs": [
        {
          "output_type": "display_data",
          "data": {
            "application/vnd.jupyter.widget-view+json": {
              "model_id": "fa9fb5188cf84331b3cf21451237a6e7",
              "version_minor": 0,
              "version_major": 2
            },
            "text/plain": [
              "FloatProgress(value=0.0, bar_style='info', description='Progress:', layout=Layout(height='25px', width='50%'),…"
            ]
          },
          "metadata": {
            "tags": []
          }
        },
        {
          "output_type": "stream",
          "text": [
            "Correct! You earned 7/7 points. You are a star!\n",
            "\n",
            "Your submission has been successfully recorded in the gradebook."
          ],
          "name": "stdout"
        }
      ]
    },
    {
      "cell_type": "markdown",
      "metadata": {
        "id": "QYScM3FwJnUz",
        "colab_type": "text"
      },
      "source": [
        "## Step 2: Hiring Trends Analysis\n",
        "\n",
        "Now we will analyze `start_dates_sdf` to find monthly and annual hiring trends.\n",
        "\n",
        "### Step 2.1: The Marvelous Months\n",
        "\n",
        "Your task is to answer the question: \"What is the **least popular month** for employees to start working?\" Create an sdf called `monthly_hires_sdf` which contains the total number of employees that started working on a specific month, at any company and on any year. The `month` column should be of type `int`, i.e. 1-12. The format of the sdf is shown below:\n",
        "\n",
        "```\n",
        "+---------------+---------------+\n",
        "|month          |num_employees  |\n",
        "+---------------+---------------+\n",
        "|1              |...            |\n",
        "|2              |...            |\n",
        "|3              |...            |\n",
        "|...            |...            |\n",
        "+---------------+---------------+\n",
        "```\n",
        "\n",
        "Find the month in which the *fewest* employees start working and save its number as an **integer** to the variable `least_common_month`.\n",
        "\n",
        "_Hint_: Be careful. The start dates we have right now have both month and year. We only want the common months. See if you can find something in the [function list](https://spark.apache.org/docs/2.3.0/api/sql/index.html) that will help you do this."
      ]
    },
    {
      "cell_type": "code",
      "metadata": {
        "id": "vLTmvD9WNQH3",
        "colab_type": "code",
        "outputId": "552e1095-b028-4122-cce7-e01d3ced308e",
        "colab": {
          "base_uri": "https://localhost:8080/",
          "height": 289,
          "referenced_widgets": [
            "50c403ac68f8455f9a58ac9aae8c68ee",
            "9e3055f80e994960b50d5962e59c3bd4",
            "4a3bf020e4eb400fa7759dc2f8775fbd"
          ]
        }
      },
      "source": [
        "%%spark\n",
        "\n",
        "# TODO: Create [monthly_hire_sdf] and find the least common month people were\n",
        "# hired. Save its number as an integer to [least_common_month]\n",
        "\n",
        "# HINT: You can aggregate by month, and use ordering to figure out the\n",
        "# most or least common.\n",
        "\n",
        "# MONTH() will return the month for any datetime object.\n",
        "\n",
        "# GROUP BY on the month of start_date using MONTH(). Sum the num_employees\n",
        "# column to find the total number of employees that started on that month\n",
        "\n",
        "start_dates_sdf.createOrReplaceTempView(\"start_dates\")\n",
        "\n",
        "monthly_hires_sdf = spark.sql(\n",
        "    '''select month(start_date) as month, sum(num_employees) as num_employees from start_dates\n",
        "    group by month\n",
        "    order by num_employees desc'''\n",
        ")\n",
        "\n",
        "monthly_hires_sdf.show(12)"
      ],
      "execution_count": 26,
      "outputs": [
        {
          "output_type": "display_data",
          "data": {
            "application/vnd.jupyter.widget-view+json": {
              "model_id": "50c403ac68f8455f9a58ac9aae8c68ee",
              "version_minor": 0,
              "version_major": 2
            },
            "text/plain": [
              "FloatProgress(value=0.0, bar_style='info', description='Progress:', layout=Layout(height='25px', width='50%'),…"
            ]
          },
          "metadata": {
            "tags": []
          }
        },
        {
          "output_type": "stream",
          "text": [
            "+-----+-------------+\n",
            "|month|num_employees|\n",
            "+-----+-------------+\n",
            "|    1|        38394|\n",
            "|    9|        29454|\n",
            "|    6|        28693|\n",
            "|    5|        25487|\n",
            "|    8|        25458|\n",
            "|    7|        23147|\n",
            "|   10|        22798|\n",
            "|    4|        21662|\n",
            "|    3|        21188|\n",
            "|    2|        19423|\n",
            "|   11|        18844|\n",
            "|   12|        14613|\n",
            "+-----+-------------+"
          ],
          "name": "stdout"
        }
      ]
    },
    {
      "cell_type": "code",
      "metadata": {
        "id": "H_5iXYz0SHxi",
        "colab_type": "code",
        "colab": {}
      },
      "source": [
        "least_common_month = 12"
      ],
      "execution_count": 0,
      "outputs": []
    },
    {
      "cell_type": "code",
      "metadata": {
        "id": "qCrtcH-KieIM",
        "colab_type": "code",
        "outputId": "1bf42498-9754-4639-a419-82e2807d8f7a",
        "colab": {
          "base_uri": "https://localhost:8080/",
          "height": 17,
          "referenced_widgets": [
            "56587c341f6c40a191b56dcc4180c75b",
            "bb60a65e817943178c42d6007f1fb62d",
            "4481ff8171bf49d4b15defcfa82b6818"
          ]
        }
      },
      "source": [
        "%%spark\n",
        "\n",
        "#NO TOUCH\n",
        "\n",
        "## AUTOGRADER Step 2.1: Run this to get your score. ##\n",
        "\n",
        "monthly_hires_sdf.createOrReplaceTempView(\"test_2_1\")\n",
        "test_2_1_sdf = spark.sql(\"SELECT * FROM test_2_1 ORDER BY month ASC\").toPandas()\n",
        "to_submit = pd.read_json(test_2_1_sdf.to_json())\n",
        "# spark.catalog.dropTempView(\"test_2_1\")\n",
        "\n",
        "# test_2_1_sdf.show(12)\n",
        "# print(least_common_month)\n",
        "#grader.grade(question_id = \"2.1\", answer = (test_2_1_sdf.take(12), least_common_month))\n"
      ],
      "execution_count": 28,
      "outputs": [
        {
          "output_type": "display_data",
          "data": {
            "application/vnd.jupyter.widget-view+json": {
              "model_id": "56587c341f6c40a191b56dcc4180c75b",
              "version_minor": 0,
              "version_major": 2
            },
            "text/plain": [
              "FloatProgress(value=0.0, bar_style='info', description='Progress:', layout=Layout(height='25px', width='50%'),…"
            ]
          },
          "metadata": {
            "tags": []
          }
        }
      ]
    },
    {
      "cell_type": "code",
      "metadata": {
        "id": "a6Ot6rFKUrH3",
        "colab_type": "code",
        "outputId": "b6713a01-f8aa-4975-cd46-5a512e079b56",
        "colab": {
          "base_uri": "https://localhost:8080/",
          "height": 68,
          "referenced_widgets": [
            "9e52a2e615984c73b0fb388771bf6d34",
            "d74ff89ed1b84526b7067016a540b9b8",
            "b35c53b4254145d89c243faba4868518"
          ]
        }
      },
      "source": [
        "%%spark\n",
        "grader.grade(test_case_id = 'marvelous_marko', answer = to_submit)"
      ],
      "execution_count": 29,
      "outputs": [
        {
          "output_type": "display_data",
          "data": {
            "application/vnd.jupyter.widget-view+json": {
              "model_id": "9e52a2e615984c73b0fb388771bf6d34",
              "version_minor": 0,
              "version_major": 2
            },
            "text/plain": [
              "FloatProgress(value=0.0, bar_style='info', description='Progress:', layout=Layout(height='25px', width='50%'),…"
            ]
          },
          "metadata": {
            "tags": []
          }
        },
        {
          "output_type": "stream",
          "text": [
            "Correct! You earned 4/4 points. You are a star!\n",
            "\n",
            "Your submission has been successfully recorded in the gradebook."
          ],
          "name": "stdout"
        }
      ]
    },
    {
      "cell_type": "markdown",
      "metadata": {
        "id": "CUtVHRcMUoWp",
        "colab_type": "text"
      },
      "source": [
        "### Step 2.2: The Preposterous Perennial Percentages\n",
        "\n",
        "The next question we will answer is \"What is the percentage change in hires between 2009 and 2010 for each company?\" Create an sdf called `percentage_change_sdf` that has the percentage change between 2009 and 2010 for each company. The sdf should look as follows:\n",
        "\n",
        "```\n",
        "+---------------------------+--------------------+\n",
        "|org                        |percentage_change   |\n",
        "+---------------------------+--------------------+\n",
        "|Walt Disney World Resort   |12.3                |\n",
        "|...                        |...                 |\n",
        "+---------------------------+--------------------+\n",
        "```\n",
        "\n",
        "_Note_: A percentage change can be positive or negative depending \n",
        "on the difference between the two years. The formula for percent change is given below,\n",
        "\n",
        "$$\\text{% change} = \\frac{P_f-P_i}{P_i} \\times 100$$\n",
        "\n",
        "Here, $P_f$ is the final element (in this case the number of hires in 2010) and $P_i$ is initial element (the number of hires in 2009).\n",
        "\n",
        "_Hint_: This is a **nontrivial** question and involves you putting the 2009 and 2010 data on the same row. I'm really sorry it isn't easier, but that's why you are in the class (I hope!). We recommend using a combination of `GROUP BY` and `JOIN`. Keep in mind that operations between columns in SQL dataframes are often easier than those between rows. Come to office hours if you need help."
      ]
    },
    {
      "cell_type": "code",
      "metadata": {
        "id": "_AhhfLXpWq7y",
        "colab_type": "code",
        "outputId": "eee458d9-8ac5-4a2a-8e1f-344f313cc97d",
        "colab": {
          "base_uri": "https://localhost:8080/",
          "height": 442,
          "referenced_widgets": [
            "25fd957ec65b4acc93b013417e991730",
            "27aae71cffe44ed49810a5a31e7d0cab",
            "09f2e881503e4cdfad0b5b7c0478b715"
          ]
        }
      },
      "source": [
        "%%spark\n",
        "\n",
        "# TODO: Create [percentage_change_sdf]\n",
        "\n",
        "# YEAR() will return the year of a datetime object.\n",
        "\n",
        "# The column percentage_change is calculated by doing a JOIN. We join an sdf\n",
        "# \"y1\" created by doing a GROUP BY on start_dates by org and the year of\n",
        "# start_date where the year is 2009. We sum the number of employees. That sdf is\n",
        "# joined with a similar sdf, \"y2\", but for the case when year is 2010. Then,\n",
        "# using the formula in the description above we find the percentage_change of\n",
        "# the two sum columns.\n",
        "\n",
        "sdf_09 = spark.sql(\n",
        "    '''select org, num_employees, year from (\n",
        "      select org, sum(num_employees) as num_employees, year(start_date) as year from start_dates\n",
        "    group by org, year)\n",
        "    where year == \"2009\"'''\n",
        ")\n",
        "sdf_09.createOrReplaceTempView(\"sdf_09\")\n",
        "\n",
        "sdf_10 = spark.sql(\n",
        "    '''select org, num_employees, year from (\n",
        "      select org, sum(num_employees) as num_employees, year(start_date) as year from start_dates\n",
        "    group by org, year)\n",
        "    where year == \"2010\"'''\n",
        ")\n",
        "sdf_10.createOrReplaceTempView(\"sdf_10\")\n",
        "\n",
        "sdf_change = spark.sql(\n",
        "    '''select sdf_09.org, sdf_09.num_employees as num_09, sdf_10.num_employees as num_10 from sdf_09\n",
        "    join sdf_10 on sdf_09.org = sdf_10.org'''\n",
        ")\n",
        "sdf_change.createOrReplaceTempView(\"sdf_change\")\n",
        "\n",
        "percentage_change_sdf = spark.sql(\n",
        "    '''select org, round(((num_10 - num_09)/num_09)*100,2) as percentage_change from sdf_change\n",
        "    order by percentage_change desc'''\n",
        ")\n",
        "\n",
        "percentage_change_sdf.show()"
      ],
      "execution_count": 30,
      "outputs": [
        {
          "output_type": "display_data",
          "data": {
            "application/vnd.jupyter.widget-view+json": {
              "model_id": "25fd957ec65b4acc93b013417e991730",
              "version_minor": 0,
              "version_major": 2
            },
            "text/plain": [
              "FloatProgress(value=0.0, bar_style='info', description='Progress:', layout=Layout(height='25px', width='50%'),…"
            ]
          },
          "metadata": {
            "tags": []
          }
        },
        {
          "output_type": "stream",
          "text": [
            "+--------------------+-----------------+\n",
            "|                 org|percentage_change|\n",
            "+--------------------+-----------------+\n",
            "|          Aon Hewitt|           1100.0|\n",
            "|             Groupon|            900.0|\n",
            "|             SunGard|            800.0|\n",
            "|             Artezio|            800.0|\n",
            "|             Cameron|            700.0|\n",
            "|            MKTG INC|            600.0|\n",
            "|             Paychex|            600.0|\n",
            "|               Capco|            600.0|\n",
            "|              Vestas|            600.0|\n",
            "|    Fifth Third Bank|            600.0|\n",
            "| Turner Broadcasting|            600.0|\n",
            "|            JCPenney|            600.0|\n",
            "|          UST Global|            600.0|\n",
            "|    Philips Lighting|            600.0|\n",
            "|    Societe Generale|            600.0|\n",
            "|         SNC-Lavalin|            500.0|\n",
            "|                ESPN|            500.0|\n",
            "|Accenture Service...|            500.0|\n",
            "|      Wolters Kluwer|            500.0|\n",
            "|     Sandbox Network|            500.0|\n",
            "+--------------------+-----------------+\n",
            "only showing top 20 rows"
          ],
          "name": "stdout"
        }
      ]
    },
    {
      "cell_type": "code",
      "metadata": {
        "id": "W3MZT21Qp5Fk",
        "colab_type": "code",
        "outputId": "7a5f2f71-d621-44fe-904a-b83c2917656d",
        "colab": {
          "base_uri": "https://localhost:8080/",
          "height": 17,
          "referenced_widgets": [
            "e41072917cc741a1808902cd9c45cda1",
            "5f42877036b448a5b4a64b3fc040a08b",
            "cb4cf26193574aba916defeb2e9f5220"
          ]
        }
      },
      "source": [
        "%%spark\n",
        "\n",
        "#NO TOUCH\n",
        "\n",
        "## AUTOGRADER Step 2.2: Run this to get your score. ##\n",
        "\n",
        "percentage_change_sdf.createOrReplaceTempView(\"test_2_2\")\n",
        "test_2_2_sdf = spark.sql(\"SELECT * FROM test_2_2 ORDER BY percentage_change DESC, org DESC LIMIT 10\")\n",
        "to_submit = pd.read_json(test_2_2_sdf.toPandas().to_json())\n",
        "# spark.catalog.dropTempView(\"test_2_2\")\n",
        "\n",
        "# test_2_2_sdf.show(10)\n",
        "\n",
        "#grader.grade(question_id = \"2.2\", answer = test_2_2_sdf.take(10))\n"
      ],
      "execution_count": 31,
      "outputs": [
        {
          "output_type": "display_data",
          "data": {
            "application/vnd.jupyter.widget-view+json": {
              "model_id": "e41072917cc741a1808902cd9c45cda1",
              "version_minor": 0,
              "version_major": 2
            },
            "text/plain": [
              "FloatProgress(value=0.0, bar_style='info', description='Progress:', layout=Layout(height='25px', width='50%'),…"
            ]
          },
          "metadata": {
            "tags": []
          }
        }
      ]
    },
    {
      "cell_type": "code",
      "metadata": {
        "id": "S8i_bc6bU93w",
        "colab_type": "code",
        "outputId": "d731e9c9-1ef4-426c-d755-8dcc6fb5024e",
        "colab": {
          "base_uri": "https://localhost:8080/",
          "height": 68,
          "referenced_widgets": [
            "37567e1ddc7b4eb391b249549fb595d4",
            "c1c08b78070949ffa77d7d4519ec77e9",
            "5a79e162a8b14a778e477224102da6ca"
          ]
        }
      },
      "source": [
        "%%spark\n",
        "grader.grade(test_case_id = 'preposterous', answer = to_submit)"
      ],
      "execution_count": 32,
      "outputs": [
        {
          "output_type": "display_data",
          "data": {
            "application/vnd.jupyter.widget-view+json": {
              "model_id": "37567e1ddc7b4eb391b249549fb595d4",
              "version_minor": 0,
              "version_major": 2
            },
            "text/plain": [
              "FloatProgress(value=0.0, bar_style='info', description='Progress:', layout=Layout(height='25px', width='50%'),…"
            ]
          },
          "metadata": {
            "tags": []
          }
        },
        {
          "output_type": "stream",
          "text": [
            "Correct! You earned 12/12 points. You are a star!\n",
            "\n",
            "Your submission has been successfully recorded in the gradebook."
          ],
          "name": "stdout"
        }
      ]
    },
    {
      "cell_type": "markdown",
      "metadata": {
        "colab_type": "text",
        "id": "AVLseuEKJcVN"
      },
      "source": [
        "## The Blessed Break\n",
        "\n",
        "That last question was hard. And it's gonna get harder. Take a break. Sit back and relax for a minute. Listen to some music. Here's a [suggestion](https://www.youtube.com/watch?v=9Crm6xJLJgs).\n",
        "\n",
        "In the cell below fill out the boolean variable `whatd_you_think` with `True` if you liked it or `False` if you didn't. You will be graded on your response. Put your answer as a string of \"True\" or \"False\""
      ]
    },
    {
      "cell_type": "code",
      "metadata": {
        "id": "WkA0_E2485jy",
        "colab_type": "code",
        "outputId": "d7f29b5f-aa9e-4c34-a480-8627b2483e36",
        "colab": {
          "base_uri": "https://localhost:8080/",
          "height": 17,
          "referenced_widgets": [
            "9c595eb760144a21a882d37c3c3ff789",
            "dca19d0e8a184c8db6a13d48d7fef1e2",
            "187ee057db77456682b4f41a0a1e7c1b"
          ]
        }
      },
      "source": [
        "%%spark\n",
        "\n",
        "whatd_you_think = \"True\""
      ],
      "execution_count": 33,
      "outputs": [
        {
          "output_type": "display_data",
          "data": {
            "application/vnd.jupyter.widget-view+json": {
              "model_id": "9c595eb760144a21a882d37c3c3ff789",
              "version_minor": 0,
              "version_major": 2
            },
            "text/plain": [
              "FloatProgress(value=0.0, bar_style='info', description='Progress:', layout=Layout(height='25px', width='50%'),…"
            ]
          },
          "metadata": {
            "tags": []
          }
        }
      ]
    },
    {
      "cell_type": "code",
      "metadata": {
        "id": "4lS-XkWl2deZ",
        "colab_type": "code",
        "outputId": "db16c744-ca9a-49c9-c93a-40c24b1aa1df",
        "colab": {
          "base_uri": "https://localhost:8080/",
          "height": 68,
          "referenced_widgets": [
            "b1cdc99da31e44a3916121366e6d0b13",
            "bcb9f6deef2f4247aeec507cd4e19dc5",
            "a89b80a853c7497897daab459e20d303"
          ]
        }
      },
      "source": [
        "%%spark\n",
        "grader.grade(test_case_id = 'tunes', answer = whatd_you_think)"
      ],
      "execution_count": 34,
      "outputs": [
        {
          "output_type": "display_data",
          "data": {
            "application/vnd.jupyter.widget-view+json": {
              "model_id": "b1cdc99da31e44a3916121366e6d0b13",
              "version_minor": 0,
              "version_major": 2
            },
            "text/plain": [
              "FloatProgress(value=0.0, bar_style='info', description='Progress:', layout=Layout(height='25px', width='50%'),…"
            ]
          },
          "metadata": {
            "tags": []
          }
        },
        {
          "output_type": "stream",
          "text": [
            "Correct! You earned 1/1 points. You are a star!\n",
            "\n",
            "Your submission has been successfully recorded in the gradebook."
          ],
          "name": "stdout"
        }
      ]
    },
    {
      "cell_type": "markdown",
      "metadata": {
        "id": "QkF2RfLSXO0u",
        "colab_type": "text"
      },
      "source": [
        "## Step 3: Formatting the Training Data\n",
        "\n",
        "\n",
        "Our overarching goal is to train a machine learning (ML) model that will use the monthly hiring trends of a company to predict a positive or negative gain in the company's stock in the first quarter of the following year. A ML model is trained on a set of observations. Each observation contains a set of features, `X`, and a label, `y`. The goal of the ML model is to create a function that takes any `X` as an input and outputs a predicted `y`. \n",
        "\n",
        "The machine learning model we will use is a [Random Forest Classifier](https://builtin.com/data-science/random-forest-algorithm). Each observation we will pass in will have 24 features (columns). These are the number of people hired from Jan to Dec and the company stock price on the last day of each month. The label will be the direction of the company's stock percentage change (positive, `1`, or negative, `-1`) in the first quarter of the following year. Each observation will correspond to a specified company's trends on a specified year. The format of our final training sdf is shown below. The first 26 columns define our observations, `X`, and the last column the label, `y`.\n",
        "```\n",
        "+----+-----+----------+---------+----------+----------+---------+----------+-------------+\n",
        "|org |year |jan_hired |   ...   |dec_hired |jan_stock |   ...   |dec_stock |stock_result |\n",
        "+----+-----+----------+---------+----------+----------+---------+----------+-------------+\n",
        "|IBM |2009 |...       |   ...   |...       |...       |   ...   |...       |1            |\n",
        "|IBM |2010 |...       |   ...   |...       |...       |   ...   |...       |-1           |\n",
        "|... |...  |...       |   ...   |...       |...       |   ...   |...       |...          |\n",
        "+----+-----+----------+---------+----------+----------+---------+----------+-------------+\n",
        "```\n",
        "\n",
        "_Note_: We will use the first three letters of each month in naming, i.e. `jan, feb, mar, apr, may, jun, jul, aug, sep, oct, nov, dec`.\n",
        "\n",
        "\n",
        "\n",
        "### Step 3.1: The Harmonious Hires\n",
        "\n",
        "Your first task is to create the first half of the training table, i.e. the `jan_hired` through `dec_hired` columns. This will involve reshaping `start_dates_sdf`. Currently, `start_dates_sdf` has columns `org`, `start_date`, and `num_employees`. We want to group the rows together based on common `org` and years and create new columns for the number of employees that started working in each month of that year.\n",
        "\n",
        "Create an sdf called `raw_hirings_for_training_sdf` that has for a single company and a single year, the number of hires in Jan through Dec, and the total number of hires that year. Note that for each company you will have several rows corresponding to years between 2000 and 2011. It is ok if for a given company you don't have a given year. However, ensure that for a given company and given year, each month column has an entry, i.e. if no one was hired the value should be `0`. The format of the sdf is shown below: \n",
        "```\n",
        "+----+-----+----------+---------+----------+----------+\n",
        "|org |year |jan_hired |   ...   |dec_hired |total_num |\n",
        "+----+-----+----------+---------+----------+----------+\n",
        "|IBM |2008 |...       |   ...   |...       |...       |\n",
        "|IBM |2009 |...       |   ...   |...       |...       |\n",
        "|... |...  |...       |   ...   |...       |...       |\n",
        "+----+-----+----------+---------+----------+----------+\n",
        "```\n",
        "_Hint_: This is a **fiddly and somewhat difficult** question. I'm really really sorry. The tricky part is creating the additional columns of monthly hires, specifically when there are missing dates. In our dataset, if a company did not hire anybody in a given date, it will not appear in `start_dates_sdf`. \n",
        "\n",
        "We suggest you look into `CASE` and `WHEN` statements in the [function list](https://spark.apache.org/docs/2.3.0/api/sql/index.html), and use these to **either** fill in a number for column (if appropriate) or put in a 0."
      ]
    },
    {
      "cell_type": "code",
      "metadata": {
        "id": "btp2wboHqg2J",
        "colab_type": "code",
        "outputId": "6cf05527-13a6-4af2-ed52-ea503aefde62",
        "colab": {
          "base_uri": "https://localhost:8080/",
          "height": 187,
          "referenced_widgets": [
            "d633f1d512dd429388164dc9f525adab",
            "85fc570e250341c89f5b573313724403",
            "ae48ab86f8fd4fe38aa57985181d4a1f"
          ]
        }
      },
      "source": [
        "%%spark\n",
        "\n",
        "# TODO: Create [raw_hire_train_sdf]\n",
        "\n",
        "# CASE() statements are SQL's equivalent of if else statements. WHEN a CASE is\n",
        "# true THEN we define a function. ELSE we do another function and then END the\n",
        "# statement.\n",
        "\n",
        "# The query is a GROUP BY. We group data based on the same company and year, as\n",
        "# in the previous step. We then do a CASE statement. This will seperate out the\n",
        "# sets of data corresponding to the same month using MONTH() in the WHEN clause.\n",
        "# If we have a piece of data, it will be the number of employees that started\n",
        "# working at a given company on a given year and a given month and we will save\n",
        "# it with a corresponding column name. If there is no piece of data here, as per\n",
        "# the question, we need to add a 0. This is the ELSE clause. Lastly, we do a\n",
        "# SUM() to find total_num\n",
        "# month(start_date) as month, \n",
        "\n",
        "start_year_month = spark.sql(\n",
        "    '''select org, year(start_date) as year, month(start_date) as month, num_employees from start_dates'''\n",
        ")\n",
        "start_year_month.createOrReplaceTempView(\"year_month\")\n",
        "# start_year_month.show()\n",
        "\n",
        "year_month_hired = spark.sql(\n",
        "    '''select org, year, month, num_employees,\n",
        "    case when month = 1 then num_employees else 0 end as jan,\n",
        "    case when month = 2 then num_employees else 0 end as feb,\n",
        "    case when month = 3 then num_employees else 0 end as mar,\n",
        "    case when month = 4 then num_employees else 0 end as apr,\n",
        "    case when month = 5 then num_employees else 0 end as may,\n",
        "    case when month = 6 then num_employees else 0 end as jun,\n",
        "    case when month = 7 then num_employees else 0 end as jul,\n",
        "    case when month = 8 then num_employees else 0 end as aug,\n",
        "    case when month = 9 then num_employees else 0 end as sep,\n",
        "    case when month = 10 then num_employees else 0 end as oct,\n",
        "    case when month = 11 then num_employees else 0 end as nov,\n",
        "    case when month = 12 then num_employees else 0 end as dec\n",
        "     from year_month'''\n",
        ")\n",
        "year_month_hired.createOrReplaceTempView(\"year_month_hired\")\n",
        "# year_month_hired.show()\n",
        "\n",
        "\n",
        "raw_hire_train_sdf = spark.sql(\n",
        "    '''select org, year,\n",
        "    sum(jan) as jan_hired,\n",
        "    sum(feb) as feb_hired,\n",
        "    sum(mar) as mar_hired,\n",
        "    sum(apr) as apr_hired,\n",
        "    sum(may) as may_hired,\n",
        "    sum(jun) as jun_hired,\n",
        "    sum(jul) as jul_hired,\n",
        "    sum(aug) as aug_hired,\n",
        "    sum(sep) as sep_hired,\n",
        "    sum(oct) as oct_hired,\n",
        "    sum(nov) as nov_hired,\n",
        "    sum(dec) as dec_hired\n",
        "    from year_month_hired\n",
        "    group by org, year'''\n",
        ")\n",
        "\n",
        "raw_hire_train_sdf.createOrReplaceTempView(\"raw_hire_train\")\n",
        "raw_hire_train_sdf = spark.sql(\n",
        "    '''select *, (jan_hired + feb_hired + mar_hired + apr_hired + may_hired + \n",
        "    jun_hired + jul_hired + aug_hired + sep_hired + oct_hired + nov_hired + dec_hired) as total_num \n",
        "    from raw_hire_train'''\n",
        ")\n",
        "\n",
        "raw_hire_train_sdf.show(5)"
      ],
      "execution_count": 35,
      "outputs": [
        {
          "output_type": "display_data",
          "data": {
            "application/vnd.jupyter.widget-view+json": {
              "model_id": "d633f1d512dd429388164dc9f525adab",
              "version_minor": 0,
              "version_major": 2
            },
            "text/plain": [
              "FloatProgress(value=0.0, bar_style='info', description='Progress:', layout=Layout(height='25px', width='50%'),…"
            ]
          },
          "metadata": {
            "tags": []
          }
        },
        {
          "output_type": "stream",
          "text": [
            "+--------------------+----+---------+---------+---------+---------+---------+---------+---------+---------+---------+---------+---------+---------+---------+\n",
            "|                 org|year|jan_hired|feb_hired|mar_hired|apr_hired|may_hired|jun_hired|jul_hired|aug_hired|sep_hired|oct_hired|nov_hired|dec_hired|total_num|\n",
            "+--------------------+----+---------+---------+---------+---------+---------+---------+---------+---------+---------+---------+---------+---------+---------+\n",
            "|Infosys Technolog...|2006|        1|        0|        1|        0|        1|        3|        1|        3|        2|        2|        1|        1|       16|\n",
            "|The Boston Consul...|2011|        2|        1|        0|        1|        1|        0|        3|        2|        0|        2|        1|        0|       13|\n",
            "|  Wipro Technologies|2007|        2|        2|        2|        2|        4|        3|        2|        3|        2|        3|        4|        3|       32|\n",
            "|Tata Consultancy ...|2002|        2|        1|        0|        0|        0|        3|        2|        0|        2|        0|        0|        1|       11|\n",
            "|           Citigroup|2005|        2|        0|        1|        2|        0|        1|        0|        1|        1|        3|        0|        0|       11|\n",
            "+--------------------+----+---------+---------+---------+---------+---------+---------+---------+---------+---------+---------+---------+---------+---------+\n",
            "only showing top 5 rows"
          ],
          "name": "stdout"
        }
      ]
    },
    {
      "cell_type": "code",
      "metadata": {
        "id": "WRMSunHVq296",
        "colab_type": "code",
        "outputId": "562206eb-c9cd-4192-8cf1-a9d218aca1f8",
        "colab": {
          "base_uri": "https://localhost:8080/",
          "height": 17,
          "referenced_widgets": [
            "c433e1e9f96e42be814d2499c5adcf05",
            "2f57b70ea4b84f5cafbf5a3a232dbad1",
            "f3ce10c8d0a34cde9f302f1d754c8641"
          ]
        }
      },
      "source": [
        "%%spark\n",
        "\n",
        "#NO TOUCH\n",
        "\n",
        "## AUTOGRADER Step 3.1: Run this to get your score. ##\n",
        "\n",
        "raw_hire_train_sdf.createOrReplaceTempView(\"test_3_1\")\n",
        "test_3_1_sdf = spark.sql(\"SELECT * FROM test_3_1 ORDER BY org DESC, year ASC LIMIT 10\")\n",
        "#grader.grade(question_id = \"3.1\", answer = test_3_1_sdf.take(10))\n",
        "to_submit = pd.read_json(test_3_1_sdf.toPandas().to_json())\n",
        "# test_3_1_sdf.show(10)\n",
        "# spark.catalog.dropTempView(\"test_3_1\")"
      ],
      "execution_count": 36,
      "outputs": [
        {
          "output_type": "display_data",
          "data": {
            "application/vnd.jupyter.widget-view+json": {
              "model_id": "c433e1e9f96e42be814d2499c5adcf05",
              "version_minor": 0,
              "version_major": 2
            },
            "text/plain": [
              "FloatProgress(value=0.0, bar_style='info', description='Progress:', layout=Layout(height='25px', width='50%'),…"
            ]
          },
          "metadata": {
            "tags": []
          }
        }
      ]
    },
    {
      "cell_type": "code",
      "metadata": {
        "id": "NluLbb4HX5AS",
        "colab_type": "code",
        "outputId": "49cf50db-4d50-400d-a49d-f6589786ceb7",
        "colab": {
          "base_uri": "https://localhost:8080/",
          "height": 68,
          "referenced_widgets": [
            "2a17183b042e4cfeb7ec0febe44705f7",
            "b8a127938b364f0ab7bd8f5d0c781677",
            "fa0a591902ed4f968482cc72de39b0fd"
          ]
        }
      },
      "source": [
        "%%spark\n",
        "grader.grade(test_case_id = 'harmonious', answer = to_submit)"
      ],
      "execution_count": 37,
      "outputs": [
        {
          "output_type": "display_data",
          "data": {
            "application/vnd.jupyter.widget-view+json": {
              "model_id": "2a17183b042e4cfeb7ec0febe44705f7",
              "version_minor": 0,
              "version_major": 2
            },
            "text/plain": [
              "FloatProgress(value=0.0, bar_style='info', description='Progress:', layout=Layout(height='25px', width='50%'),…"
            ]
          },
          "metadata": {
            "tags": []
          }
        },
        {
          "output_type": "stream",
          "text": [
            "Correct! You earned 10/10 points. You are a star!\n",
            "\n",
            "Your submission has been successfully recorded in the gradebook."
          ],
          "name": "stdout"
        }
      ]
    },
    {
      "cell_type": "markdown",
      "metadata": {
        "id": "IkXyet6rrczK",
        "colab_type": "text"
      },
      "source": [
        "### Step 3.2: The Formidable Filters\n",
        "\n",
        "Create an sdf called `hire_train_sdf` that contains all the observations in `raw_hire_train_sdf` with `total_num` greater than or equal to 100. The format of the sdf is shown below:\n",
        "\n",
        "```\n",
        "+----+-----+----------+---------+----------+----------+\n",
        "|org |year |jan_hired |   ...   |dec_hired |total_num |\n",
        "+----+-----+----------+---------+----------+----------+\n",
        "|IBM |2008 |...       |   ...   |...       |...       |\n",
        "|IBM |2009 |...       |   ...   |...       |...       |\n",
        "|... |...  |...       |   ...   |...       |...       |\n",
        "+----+-----+----------+---------+----------+----------+\n",
        "```\n"
      ]
    },
    {
      "cell_type": "code",
      "metadata": {
        "id": "dCH4mbNcshq9",
        "colab_type": "code",
        "outputId": "af3235aa-6ee4-4b6f-b34c-fa353d852302",
        "colab": {
          "base_uri": "https://localhost:8080/",
          "height": 17,
          "referenced_widgets": [
            "633734ba75314cdd8923af5e3606f3a1",
            "989ef9c2ab834b7e81634928fe0a8a10",
            "6dca7b7197ef41758d813810e9e3b871"
          ]
        }
      },
      "source": [
        "%%spark\n",
        "\n",
        "# TODO: Create [hire_train_sdf]\n",
        "\n",
        "# Keep all rows where total_num >= 100\n",
        "\n",
        "raw_hire_train_sdf.createOrReplaceTempView(\"raw_hire_train\")\n",
        "hire_train_sdf = spark.sql(\n",
        "    '''select * from raw_hire_train\n",
        "    where total_num >= 100'''\n",
        ")"
      ],
      "execution_count": 38,
      "outputs": [
        {
          "output_type": "display_data",
          "data": {
            "application/vnd.jupyter.widget-view+json": {
              "model_id": "633734ba75314cdd8923af5e3606f3a1",
              "version_minor": 0,
              "version_major": 2
            },
            "text/plain": [
              "FloatProgress(value=0.0, bar_style='info', description='Progress:', layout=Layout(height='25px', width='50%'),…"
            ]
          },
          "metadata": {
            "tags": []
          }
        }
      ]
    },
    {
      "cell_type": "code",
      "metadata": {
        "id": "WqUESMO2f3wS",
        "colab_type": "code",
        "outputId": "86a1e248-d260-491e-f7c3-42cac412154d",
        "colab": {
          "base_uri": "https://localhost:8080/",
          "height": 187,
          "referenced_widgets": [
            "bf4ace7451d44152a12c0b77b462638f",
            "8af9ca9bc0224214af6449fa07a34570",
            "8a9ca4f2b50f4c2e87a4914426b9f0e8"
          ]
        }
      },
      "source": [
        "%%spark\n",
        "\n",
        "hire_train_sdf.show(5)"
      ],
      "execution_count": 39,
      "outputs": [
        {
          "output_type": "display_data",
          "data": {
            "application/vnd.jupyter.widget-view+json": {
              "model_id": "bf4ace7451d44152a12c0b77b462638f",
              "version_minor": 0,
              "version_major": 2
            },
            "text/plain": [
              "FloatProgress(value=0.0, bar_style='info', description='Progress:', layout=Layout(height='25px', width='50%'),…"
            ]
          },
          "metadata": {
            "tags": []
          }
        },
        {
          "output_type": "stream",
          "text": [
            "+---------+----+---------+---------+---------+---------+---------+---------+---------+---------+---------+---------+---------+---------+---------+\n",
            "|      org|year|jan_hired|feb_hired|mar_hired|apr_hired|may_hired|jun_hired|jul_hired|aug_hired|sep_hired|oct_hired|nov_hired|dec_hired|total_num|\n",
            "+---------+----+---------+---------+---------+---------+---------+---------+---------+---------+---------+---------+---------+---------+---------+\n",
            "|Accenture|2010|        7|        7|        9|        7|       10|        7|        9|       10|       14|        9|       10|        9|      108|\n",
            "|Microsoft|2009|       14|        4|        3|        3|       11|       13|       11|       13|        7|        8|       10|        3|      100|\n",
            "|   Google|2011|       20|       12|        8|       18|       30|       15|       22|       18|        7|       15|        3|        6|      174|\n",
            "|      IBM|2011|       22|        5|        7|        3|       14|       10|       15|       10|        8|        8|        5|        1|      108|\n",
            "|Microsoft|2011|       17|        9|       11|        7|       10|        8|       11|       14|       11|       10|        9|        8|      125|\n",
            "+---------+----+---------+---------+---------+---------+---------+---------+---------+---------+---------+---------+---------+---------+---------+\n",
            "only showing top 5 rows"
          ],
          "name": "stdout"
        }
      ]
    },
    {
      "cell_type": "code",
      "metadata": {
        "id": "wc-4112zsvfF",
        "colab_type": "code",
        "outputId": "795e5ff5-4797-456e-b19c-5e9177080338",
        "colab": {
          "base_uri": "https://localhost:8080/",
          "height": 17,
          "referenced_widgets": [
            "c7b840f8772047c58bd398b4b4e5f5b6",
            "b31267c61d114b8792a2c005ddeeb272",
            "6e418daad0ad401890bdbd24d007b7f4"
          ]
        }
      },
      "source": [
        "%%spark\n",
        "\n",
        "\n",
        "#NO TOUCH\n",
        "\n",
        "## AUTOGRADER Step 3.2: Run this to get your score. ##\n",
        "\n",
        "hire_train_sdf.createOrReplaceTempView(\"test_3_2\")\n",
        "test_3_2_sdf = spark.sql(\"SELECT * FROM test_3_2 ORDER BY org DESC, year ASC LIMIT 10\")\n",
        "to_submit = pd.read_json(test_3_2_sdf.toPandas().to_json())\n",
        "#grader.grade(question_id = \"3.2\", answer = test_3_2_sdf.take(10))\n",
        "# test_3_2_sdf.show(10)\n",
        "# spark.catalog.dropTempView(\"test_3_2\")"
      ],
      "execution_count": 40,
      "outputs": [
        {
          "output_type": "display_data",
          "data": {
            "application/vnd.jupyter.widget-view+json": {
              "model_id": "c7b840f8772047c58bd398b4b4e5f5b6",
              "version_minor": 0,
              "version_major": 2
            },
            "text/plain": [
              "FloatProgress(value=0.0, bar_style='info', description='Progress:', layout=Layout(height='25px', width='50%'),…"
            ]
          },
          "metadata": {
            "tags": []
          }
        }
      ]
    },
    {
      "cell_type": "code",
      "metadata": {
        "id": "rCCwP4ldZBPd",
        "colab_type": "code",
        "outputId": "83d73533-991a-4b7d-fb2b-7b7b74fe7fd6",
        "colab": {
          "base_uri": "https://localhost:8080/",
          "height": 68,
          "referenced_widgets": [
            "7e4c9e81dc864111877780296289cf03",
            "0d9cadf1b5664397ae5e84b9d59e85ba",
            "6a40050d1ab4437b9c95054e644aeca8"
          ]
        }
      },
      "source": [
        "%%spark\n",
        "grader.grade(test_case_id = 'formidable', answer = to_submit)"
      ],
      "execution_count": 41,
      "outputs": [
        {
          "output_type": "display_data",
          "data": {
            "application/vnd.jupyter.widget-view+json": {
              "model_id": "7e4c9e81dc864111877780296289cf03",
              "version_minor": 0,
              "version_major": 2
            },
            "text/plain": [
              "FloatProgress(value=0.0, bar_style='info', description='Progress:', layout=Layout(height='25px', width='50%'),…"
            ]
          },
          "metadata": {
            "tags": []
          }
        },
        {
          "output_type": "stream",
          "text": [
            "Correct! You earned 5/5 points. You are a star!\n",
            "\n",
            "Your submission has been successfully recorded in the gradebook."
          ],
          "name": "stdout"
        }
      ]
    },
    {
      "cell_type": "markdown",
      "metadata": {
        "id": "MN4ik70Hta01",
        "colab_type": "text"
      },
      "source": [
        "### Step 3.3: The Stupendous Stocks\n",
        "\n",
        "Now we are ready for the stock data. The stock data we will use is saved in the same S3 bucket as `linkedin.json`. Load the data into the EMR cluster. Run the cell below. ***You do not need to edit this cell***."
      ]
    },
    {
      "cell_type": "code",
      "metadata": {
        "id": "APv4BxKw643q",
        "colab_type": "code",
        "outputId": "176ee31b-45fd-41e3-95ca-703a5e180d7f",
        "colab": {
          "base_uri": "https://localhost:8080/",
          "height": 272,
          "referenced_widgets": [
            "d14d444930b146ff9da8db2623eee637",
            "20fa5d14a3ea4aea9736842bef60b70f",
            "a9cbc189e4ce475bb97c97f1dc942aa2"
          ]
        }
      },
      "source": [
        "%%spark\n",
        "\n",
        "# Load stock data\n",
        "\n",
        "raw_stocks_sdf = spark.read.format(\"csv\") \\\n",
        "              .option(\"header\", \"true\") \\\n",
        "              .load(\"s3a://penn-cis545-files/stocks.csv\")\n",
        "\n",
        "# Creates SQL-accesible table\n",
        "raw_stocks_sdf.createOrReplaceTempView('raw_stocks')\n",
        "\n",
        "# Display the first 10 rows\n",
        "query = '''SELECT *\n",
        "           FROM raw_stocks'''\n",
        "spark.sql(query).show(10)\n"
      ],
      "execution_count": 42,
      "outputs": [
        {
          "output_type": "display_data",
          "data": {
            "application/vnd.jupyter.widget-view+json": {
              "model_id": "d14d444930b146ff9da8db2623eee637",
              "version_minor": 0,
              "version_major": 2
            },
            "text/plain": [
              "FloatProgress(value=0.0, bar_style='info', description='Progress:', layout=Layout(height='25px', width='50%'),…"
            ]
          },
          "metadata": {
            "tags": []
          }
        },
        {
          "output_type": "stream",
          "text": [
            "+----------+------------------+------------------+------------------+------------------+--------+-------+---+\n",
            "|      Date|              Open|              High|               Low|             Close|  Volume|OpenInt|org|\n",
            "+----------+------------------+------------------+------------------+------------------+--------+-------+---+\n",
            "|1999-11-18|            30.713|            33.754|            27.002|29.701999999999998|66277506|      0|  A|\n",
            "|1999-11-19|            28.986|29.026999999999997|            26.872|27.256999999999998|16142920|      0|  A|\n",
            "|1999-11-22|            27.886|29.701999999999998|            27.044|29.701999999999998| 6970266|      0|  A|\n",
            "|1999-11-23|28.688000000000002|29.445999999999998|            27.002|            27.002| 6332082|      0|  A|\n",
            "|1999-11-24|27.083000000000002|            28.309|            27.002|            27.717| 5132147|      0|  A|\n",
            "|1999-11-26|            27.594|28.011999999999997|            27.509|            27.807| 1832635|      0|  A|\n",
            "|1999-11-29|            27.676|             28.65|             27.38|            28.432| 4317826|      0|  A|\n",
            "|1999-11-30|             28.35|            28.986|            27.634|             28.48| 4567146|      0|  A|\n",
            "|1999-12-01|             28.48|            29.324|28.273000000000003|            28.986| 3133746|      0|  A|\n",
            "|1999-12-02|29.531999999999996|            30.375|            29.155|29.785999999999998| 3252997|      0|  A|\n",
            "+----------+------------------+------------------+------------------+------------------+--------+-------+---+\n",
            "only showing top 10 rows"
          ],
          "name": "stdout"
        }
      ]
    },
    {
      "cell_type": "markdown",
      "metadata": {
        "id": "JUCdr3zDUAFH",
        "colab_type": "text"
      },
      "source": [
        "Run the cell below to see the types of the columns in our data frame. These are not correct. We could have defined a schema when reading in data but we will handle this issue in another manner. You will do this in Step 3.4.2."
      ]
    },
    {
      "cell_type": "code",
      "metadata": {
        "id": "oNTGEfxsisqs",
        "colab_type": "code",
        "outputId": "da00331e-0b89-419e-b241-9ede593c9d70",
        "colab": {
          "base_uri": "https://localhost:8080/",
          "height": 54,
          "referenced_widgets": [
            "e521c52c5bb0443f8f40957ac233a0b3",
            "666c869939e248048803f2dd0d471ba6",
            "4e6e8474837a473589807ba175ada472"
          ]
        }
      },
      "source": [
        "%%spark \n",
        "\n",
        "# Print types of SDF\n",
        "raw_stocks_sdf.dtypes"
      ],
      "execution_count": 43,
      "outputs": [
        {
          "output_type": "display_data",
          "data": {
            "application/vnd.jupyter.widget-view+json": {
              "model_id": "e521c52c5bb0443f8f40957ac233a0b3",
              "version_minor": 0,
              "version_major": 2
            },
            "text/plain": [
              "FloatProgress(value=0.0, bar_style='info', description='Progress:', layout=Layout(height='25px', width='50%'),…"
            ]
          },
          "metadata": {
            "tags": []
          }
        },
        {
          "output_type": "stream",
          "text": [
            "[('Date', 'string'), ('Open', 'string'), ('High', 'string'), ('Low', 'string'), ('Close', 'string'), ('Volume', 'string'), ('OpenInt', 'string'), ('org', 'string')]"
          ],
          "name": "stdout"
        }
      ]
    },
    {
      "cell_type": "markdown",
      "metadata": {
        "id": "0DdnoFkP7mxz",
        "colab_type": "text"
      },
      "source": [
        "### Step 3.4 The Clairvoyant Cleaning\n",
        "\n",
        "We now want to format the stock data set into the second half of the training table. We will then merge it with `hire_train` based off the common `org` and `year` fields. The formatting will consist of 4 steps. Actually, it is 5.\n",
        "\n",
        "#### Step 3.4.1 The Ubiquitous UDF\n",
        "\n",
        "The companies in our stock dataset are defined by their stock tickers. Thus, we would not be able to merge it with the `org` field in `hire_train_sdf`. We must convert them to that format. Often times when using Spark, there may not be a built-in SQL function that can do the operation we desired. Instead, we can create one on our own with a user-defined function (udf).\n",
        "\n",
        "A udf is defined as a normal Python function and then registered to be used as a Spark SQL function. Your task is to create a udf, `TICKER_TO_NAME()` that will convert the ticker field in `raw_stocks` to the company's name. This will be done using the provided `ticker_to_name_dict` dictionary. We are only interested in the companies in that dictionary.\n",
        "\n",
        "Fill out the function `ticker_to_name()` below. Then use `spark.udf.register()` to register it as a SQL function. The command is provided. ***You do not need to edit it***. Note, we have defined the udf as returning `StringType()`. Ensure that your function returns this. You must also deal with any potential `null` cases."
      ]
    },
    {
      "cell_type": "code",
      "metadata": {
        "id": "P4cJWZsr8iNC",
        "colab_type": "code",
        "outputId": "a4257b59-48d2-4693-e601-924b17ffc4fd",
        "colab": {
          "base_uri": "https://localhost:8080/",
          "height": 34,
          "referenced_widgets": [
            "d757ed6505f445f6ae686e89aa044c72",
            "f53db8d9e3844a598ff67270070546f3",
            "5f93f51861514d91b029e5c4a6b50fb9"
          ]
        }
      },
      "source": [
        "%%spark\n",
        "\n",
        "# Dictionary linking stock ticker symbols to their names\n",
        "ticker_to_name_dict = {'NOK': 'Nokia',\n",
        "                       'UN': 'Unilever',\n",
        "                       'BP': 'BP',\n",
        "                       'JNJ': 'Johnson & Johnson',\n",
        "                       'TCS': 'Tata Consultancy Services',\n",
        "                       'SLB': 'Schlumberger',\n",
        "                       'NVS': 'Novartis',\n",
        "                       'CNY': 'Huawei',\n",
        "                       'PFE': 'Pfizer',\n",
        "                       'ACN': 'Accenture',\n",
        "                       'DELL': 'Dell',\n",
        "                       'MS': 'Morgan Stanley',\n",
        "                       'ORCL': 'Oracle',\n",
        "                       'BAC': 'Bank of America',\n",
        "                       'PG': 'Procter & Gamble',\n",
        "                       'CGEMY': 'Capgemini',\n",
        "                       'GS': 'Goldman Sachs',\n",
        "                       'C': 'Citi',\n",
        "                       'IBM': 'IBM',\n",
        "                       'CS': 'Credit Suisse',\n",
        "                       'MDLZ': 'Kraft Foods',\n",
        "                       'WIT': 'Wipro Technologies',\n",
        "                       'CSCO': 'Cisco Systems',\n",
        "                       'PWC': 'PwC',\n",
        "                       'GOOGL': 'Google',\n",
        "                       'CTSH': 'Cognizant Technology Solutions',\n",
        "                       'HSBC': 'HSBC',\n",
        "                       'DB': 'Deutsche Bank',\n",
        "                       'MSFT': 'Microsoft',\n",
        "                       'HPE': 'Hewlett-Packard',\n",
        "                       'ERIC': 'Ericsson',\n",
        "                       'BCS': 'Barclays Capital',\n",
        "                       'GSK': 'GlaxoSmithKline'}\n",
        "\n",
        "# TODO: Fill out [ticker_to_name()] and register it as a udf.\n",
        "# Fill out ticker_to_name()\n",
        "\n",
        "# In UDFs we have to cover all possible output cases, or else the function will\n",
        "# crash. Specifically, this means we need to handle the case when \"ticker\" is\n",
        "# not in \"ticker_to_name_dict\". We use a try and except statement to return null\n",
        "# for this case.\n",
        "\n",
        "\n",
        "def ticker_to_name(ticker):\n",
        "  #TODO\n",
        "  if ticker is not None:\n",
        "    if ticker in ticker_to_name_dict.keys():\n",
        "      return ticker_to_name_dict[ticker]\n",
        "    else:\n",
        "      return None\n",
        "  else:\n",
        "    return None\n",
        "\n",
        "\n",
        "# Register udf as a SQL function. DO NOT EDIT\n",
        "spark.udf.register(\"TICKER_TO_NAME\", ticker_to_name, StringType())\n"
      ],
      "execution_count": 44,
      "outputs": [
        {
          "output_type": "display_data",
          "data": {
            "application/vnd.jupyter.widget-view+json": {
              "model_id": "d757ed6505f445f6ae686e89aa044c72",
              "version_minor": 0,
              "version_major": 2
            },
            "text/plain": [
              "FloatProgress(value=0.0, bar_style='info', description='Progress:', layout=Layout(height='25px', width='50%'),…"
            ]
          },
          "metadata": {
            "tags": []
          }
        },
        {
          "output_type": "stream",
          "text": [
            "<function ticker_to_name at 0x7f39594f0ae8>"
          ],
          "name": "stdout"
        }
      ]
    },
    {
      "cell_type": "markdown",
      "metadata": {
        "id": "LSM0mzPRaKKr",
        "colab_type": "text"
      },
      "source": [
        "Submit a tuple to the autograder for the ticker value of Google and Tesla. If the ticker value isn't in the table, set it to a string equal to \"None\". If this is hardcoded, we will dock you."
      ]
    },
    {
      "cell_type": "code",
      "metadata": {
        "id": "NkdrFilOtKqx",
        "colab_type": "code",
        "outputId": "6c06797e-62ef-43c5-c1e5-c829f8de2b34",
        "colab": {
          "base_uri": "https://localhost:8080/",
          "height": 34,
          "referenced_widgets": [
            "f00d4194340e41558a1fef2b1adda633",
            "d0a76a8052844490a13b2d4d147a0c29",
            "a96a760ea7234e3fabd92f1086b7186b"
          ]
        }
      },
      "source": [
        "%%spark\n",
        "\n",
        "#NO TOUCH\n",
        "\n",
        "## AUTOGRADER Step 3.4.1: Run this to get your score. ##\n",
        "\n",
        "print((str(ticker_to_name(\"GOOGL\")),str(ticker_to_name(\"TSLA\"))))\n",
        "to_submit = ((str(ticker_to_name(\"GOOGL\")),str(ticker_to_name(\"TSLA\"))))\n",
        "## AUTOGRADER Step 3.4.1: Run this to get your score. ##\n",
        "#grader.grade(question_id = \"3.4.1\", answer = (str(ticker_to_name(\"GOOGL\")),str(ticker_to_name(\"TSLA\"))))"
      ],
      "execution_count": 45,
      "outputs": [
        {
          "output_type": "display_data",
          "data": {
            "application/vnd.jupyter.widget-view+json": {
              "model_id": "f00d4194340e41558a1fef2b1adda633",
              "version_minor": 0,
              "version_major": 2
            },
            "text/plain": [
              "FloatProgress(value=0.0, bar_style='info', description='Progress:', layout=Layout(height='25px', width='50%'),…"
            ]
          },
          "metadata": {
            "tags": []
          }
        },
        {
          "output_type": "stream",
          "text": [
            "('Google', 'None')"
          ],
          "name": "stdout"
        }
      ]
    },
    {
      "cell_type": "code",
      "metadata": {
        "id": "BA95n1lpZ4yy",
        "colab_type": "code",
        "outputId": "cf2f1b8d-970e-44cf-8254-b73ce3503996",
        "colab": {
          "base_uri": "https://localhost:8080/",
          "height": 68,
          "referenced_widgets": [
            "72d9535b113e479abadfa4bb54b45433",
            "dbb7ec8b6ca04a34a384472cbe450023",
            "6eda587895304b57b05bea0628e32ca1"
          ]
        }
      },
      "source": [
        "%%spark\n",
        "grader.grade(test_case_id = 'clairvoyant', answer = to_submit)"
      ],
      "execution_count": 46,
      "outputs": [
        {
          "output_type": "display_data",
          "data": {
            "application/vnd.jupyter.widget-view+json": {
              "model_id": "72d9535b113e479abadfa4bb54b45433",
              "version_minor": 0,
              "version_major": 2
            },
            "text/plain": [
              "FloatProgress(value=0.0, bar_style='info', description='Progress:', layout=Layout(height='25px', width='50%'),…"
            ]
          },
          "metadata": {
            "tags": []
          }
        },
        {
          "output_type": "stream",
          "text": [
            "Correct! You earned 2/2 points. You are a star!\n",
            "\n",
            "Your submission has been successfully recorded in the gradebook."
          ],
          "name": "stdout"
        }
      ]
    },
    {
      "cell_type": "markdown",
      "metadata": {
        "id": "u9YOYO9L-_GS",
        "colab_type": "text"
      },
      "source": [
        "#### Step 3.4.2: The Fastidious Filters\n",
        "\n",
        "With our new `TICKER_TO_NAME()` function we will begin to wrangle `raw_stocks_sdf`.\n",
        "\n",
        "Create an sdf called `filter_1_stocks_sdf` as follows. Convert all the ticker names in `raw_stocks_sdf` to the company names and save it as `org`. Next, convert the `date` field to a datetime type. As explained before this will help order and group the rows in future steps. Then, convert the type of the values in `closing_price` to `float`. This will take care of the `dtypes` issue we saw in Step 3.3.\n",
        "\n",
        "Drop any company names that do not appear in `ticker_to_name_dict`. Keep any date between January 1st 2001 and December 4th 2012 inclusive, in the format shown below (note this is a datetime object not a string):\n",
        "\n",
        "```\n",
        "+----+------------+--------------+\n",
        "|org |date        |Close         |\n",
        "+----+------------+--------------+\n",
        "|IBM |2000-01-03  |...           |\n",
        "|... |...         |...           |\n",
        "+----+------------+--------------+\n",
        "```\n",
        "_Hint_: You will use a similar function to filter the dates as in Step 1.4. In Spark SQL the format for the `date` field in `raw_stocks_sdf` is `\"yyyy-MM-dd\"`."
      ]
    },
    {
      "cell_type": "code",
      "metadata": {
        "id": "RuiitnWlBYJ7",
        "colab_type": "code",
        "outputId": "4e02fd71-4ddf-4601-c277-3b76985d8b1e",
        "colab": {
          "base_uri": "https://localhost:8080/",
          "height": 442,
          "referenced_widgets": [
            "a88a5ea402ac47f886e30a3c42954967",
            "6f48396ac4b5466b962e34aaf1110405",
            "315325801b5c4d648544a5b591a96d38"
          ]
        }
      },
      "source": [
        "%%spark\n",
        "\n",
        "# Format the \"org\" column using our UDF, TICKER_TO_NAME. Use TO_DATE() to\n",
        "# convert the string date column to datetime object and filter on this in the\n",
        "# same way as Step 1.4\n",
        "\n",
        "# TODO: Create [filter_1_stocks_sdf]\n",
        "\n",
        "filter_1_stocks_sdf = spark.sql(\n",
        "    '''select ticker_to_name(org) as org, to_date(date, \"yyyy-MM-dd\") as date, float(Close) from raw_stocks\n",
        "    where date >= to_date(\"2001-01-01\",\"yyyy-MM-dd\") and date <= to_date(\"2012-12-04\",\"yyyy-MM-dd\")'''\n",
        ").dropna()\n",
        "\n",
        "filter_1_stocks_sdf.show()"
      ],
      "execution_count": 47,
      "outputs": [
        {
          "output_type": "display_data",
          "data": {
            "application/vnd.jupyter.widget-view+json": {
              "model_id": "a88a5ea402ac47f886e30a3c42954967",
              "version_minor": 0,
              "version_major": 2
            },
            "text/plain": [
              "FloatProgress(value=0.0, bar_style='info', description='Progress:', layout=Layout(height='25px', width='50%'),…"
            ]
          },
          "metadata": {
            "tags": []
          }
        },
        {
          "output_type": "stream",
          "text": [
            "+---------+----------+------+\n",
            "|      org|      date| Close|\n",
            "+---------+----------+------+\n",
            "|Accenture|2005-02-25|21.363|\n",
            "|Accenture|2005-02-28|21.704|\n",
            "|Accenture|2005-03-01|21.735|\n",
            "|Accenture|2005-03-02|21.593|\n",
            "|Accenture|2005-03-03|21.329|\n",
            "|Accenture|2005-03-04|21.549|\n",
            "|Accenture|2005-03-07|21.651|\n",
            "|Accenture|2005-03-08|21.509|\n",
            "|Accenture|2005-03-09|21.379|\n",
            "|Accenture|2005-03-10|21.194|\n",
            "|Accenture|2005-03-11|20.777|\n",
            "|Accenture|2005-03-14|20.794|\n",
            "|Accenture|2005-03-15| 20.37|\n",
            "|Accenture|2005-03-16| 20.41|\n",
            "|Accenture|2005-03-17|20.344|\n",
            "|Accenture|2005-03-18|20.098|\n",
            "|Accenture|2005-03-21|20.395|\n",
            "|Accenture|2005-03-22|20.623|\n",
            "|Accenture|2005-03-23|20.641|\n",
            "|Accenture|2005-03-24|20.726|\n",
            "+---------+----------+------+\n",
            "only showing top 20 rows"
          ],
          "name": "stdout"
        }
      ]
    },
    {
      "cell_type": "code",
      "metadata": {
        "id": "qBm-D6FXtdv6",
        "colab_type": "code",
        "outputId": "0c5b8750-e93a-4044-fd11-04c0dafc581e",
        "colab": {
          "base_uri": "https://localhost:8080/",
          "height": 17,
          "referenced_widgets": [
            "fbb74f71aae249dd954b466652e35ef8",
            "caeb808c6d9d4a8da406696b00554437",
            "80c87c9a7076481988b9352748662407"
          ]
        }
      },
      "source": [
        "%%spark\n",
        "\n",
        "#NO TOUCH\n",
        "\n",
        "## AUTOGRADER Step 3.4.2: Run this to get your score. ##\n",
        "\n",
        "filter_1_stocks_sdf.createOrReplaceTempView(\"test_3_4_2\")\n",
        "test_3_4_2_sdf = spark.sql(\"SELECT org, DATE_FORMAT(date, 'yyyy-MM-dd') as date, Close FROM test_3_4_2 ORDER BY org, date, Close LIMIT 10\")\n",
        "to_submit = pd.read_json(test_3_4_2_sdf.toPandas().to_json())\n",
        "# spark.catalog.dropTempView(\"test_3_4_2\")\n",
        "# #grader.grade(question_id = \"3.4.2\", answer = (test_3_4_2_sdf.take(10), filter_1_stocks_sdf.dtypes))\n",
        "# test_3_4_2_sdf.show(10)"
      ],
      "execution_count": 48,
      "outputs": [
        {
          "output_type": "display_data",
          "data": {
            "application/vnd.jupyter.widget-view+json": {
              "model_id": "fbb74f71aae249dd954b466652e35ef8",
              "version_minor": 0,
              "version_major": 2
            },
            "text/plain": [
              "FloatProgress(value=0.0, bar_style='info', description='Progress:', layout=Layout(height='25px', width='50%'),…"
            ]
          },
          "metadata": {
            "tags": []
          }
        }
      ]
    },
    {
      "cell_type": "code",
      "metadata": {
        "id": "ghKZ3HHOaXIq",
        "colab_type": "code",
        "outputId": "8be6e1f6-f673-41ff-b9f3-ecd8f4e1086f",
        "colab": {
          "base_uri": "https://localhost:8080/",
          "height": 68,
          "referenced_widgets": [
            "16227875ec254d859321b1fc2821932a",
            "567939b3112c471c88b57590eff97f79",
            "5bcf7c1bc98d4879a059e951a2c8212c"
          ]
        }
      },
      "source": [
        "%%spark\n",
        "grader.grade(test_case_id = 'fastidious', answer = to_submit)"
      ],
      "execution_count": 49,
      "outputs": [
        {
          "output_type": "display_data",
          "data": {
            "application/vnd.jupyter.widget-view+json": {
              "model_id": "16227875ec254d859321b1fc2821932a",
              "version_minor": 0,
              "version_major": 2
            },
            "text/plain": [
              "FloatProgress(value=0.0, bar_style='info', description='Progress:', layout=Layout(height='25px', width='50%'),…"
            ]
          },
          "metadata": {
            "tags": []
          }
        },
        {
          "output_type": "stream",
          "text": [
            "Correct! You earned 7/7 points. You are a star!\n",
            "\n",
            "Your submission has been successfully recorded in the gradebook."
          ],
          "name": "stdout"
        }
      ]
    },
    {
      "cell_type": "markdown",
      "metadata": {
        "id": "Ne5NaT-6CLns",
        "colab_type": "text"
      },
      "source": [
        "#### Step 3.4.3: The Momentus Months\n",
        "\n",
        "The data in `filter_1_stocks_sdf` gives closing prices on a daily basis. Since we are interested in monthly trends, we will only keep the closing price on the **last trading day of each month**.\n",
        "\n",
        "Create an sdf `filter_2_stocks_sdf` that contains only the closing prices for the last trading day of each month. Note that a trading day is not simply the last day of each month, as this could be on a weekend when the market is closed . The format of the sdf is shown below:\n",
        "\n",
        "```\n",
        "+----+------------+--------------+\n",
        "|org |date        |Close         |\n",
        "+----+------------+--------------+\n",
        "|IBM |2000-01-31  |...           |\n",
        "|... |...         |...           |\n",
        "+----+------------+--------------+\n",
        "```\n",
        "\n",
        "  _Hint_: This is a **difficult** question. But if you made it this far, you're a star by now. It may be helpful to create an intermediate dataframe that will help you filter out the specific dates you desire."
      ]
    },
    {
      "cell_type": "code",
      "metadata": {
        "id": "AIx5LUuDD4q_",
        "colab_type": "code",
        "outputId": "5aa70e5d-2998-48f2-b479-410d139f1c2c",
        "colab": {
          "base_uri": "https://localhost:8080/",
          "height": 442,
          "referenced_widgets": [
            "ae4357d048c24692a098db4789801d04",
            "22f1c60fe505446689237a9d5d54f5fc",
            "98e60a9b60a14f2d851994cdd49882ef"
          ]
        }
      },
      "source": [
        "%%spark\n",
        "\n",
        "# TODO: Create [filter_2_stocks_sdf]\n",
        "\n",
        "# Create sdf that has for each company, the closing day for each month. We need\n",
        "# to preform a GROUP BY on three features, org, YEAR(date), and MONTH(date).\n",
        "# This will give us aggregations of the closing stock price for every day of a\n",
        "# specified month and a specified year. Since these are all datetime objects,\n",
        "# taking MAX() will give us the highest, i.e. last, one.\n",
        "\n",
        "filter_1_stocks_sdf.createOrReplaceTempView(\"filter_1\")\n",
        "\n",
        "last_day_sdf = spark.sql(\n",
        "    '''select org, year(date) as year, month(date) as month, max(date) as last_day from filter_1\n",
        "    group by org, year, month'''\n",
        ")\n",
        "last_day_sdf.createOrReplaceTempView(\"last_d\")\n",
        "# last_day_sdf.show()\n",
        "\n",
        "filter_2_stocks_sdf = spark.sql(\n",
        "    '''select last_d.org, last_d.last_day as date, filter_1.close from last_d\n",
        "    join filter_1 on last_d.org = filter_1.org and last_d.last_day = filter_1.date'''\n",
        ")\n",
        "\n",
        "filter_2_stocks_sdf.show()"
      ],
      "execution_count": 50,
      "outputs": [
        {
          "output_type": "display_data",
          "data": {
            "application/vnd.jupyter.widget-view+json": {
              "model_id": "ae4357d048c24692a098db4789801d04",
              "version_minor": 0,
              "version_major": 2
            },
            "text/plain": [
              "FloatProgress(value=0.0, bar_style='info', description='Progress:', layout=Layout(height='25px', width='50%'),…"
            ]
          },
          "metadata": {
            "tags": []
          }
        },
        {
          "output_type": "stream",
          "text": [
            "+--------------------+----------+------+\n",
            "|                 org|      date| close|\n",
            "+--------------------+----------+------+\n",
            "|                Citi|2004-06-30|451.11|\n",
            "|                Citi|2004-11-30|434.13|\n",
            "|                HSBC|2012-12-04|38.661|\n",
            "|                 IBM|2001-10-31| 90.24|\n",
            "|                 IBM|2004-08-31|70.718|\n",
            "|   Johnson & Johnson|2001-12-31|48.099|\n",
            "|   Johnson & Johnson|2006-09-29|52.852|\n",
            "|           Microsoft|2012-10-31|24.909|\n",
            "|            Novartis|2008-04-30|41.857|\n",
            "|              Oracle|2001-04-30|14.856|\n",
            "|    Procter & Gamble|2010-09-30| 48.38|\n",
            "|            Unilever|2007-08-31|24.722|\n",
            "|     Bank of America|2003-11-28|35.563|\n",
            "|     Bank of America|2008-07-31|31.016|\n",
            "|                Citi|2011-03-31| 42.88|\n",
            "|Cognizant Technol...|2011-01-31|36.312|\n",
            "|       Credit Suisse|2006-10-31|45.494|\n",
            "|       Credit Suisse|2007-05-31| 57.12|\n",
            "|       Credit Suisse|2012-05-31|15.431|\n",
            "|     GlaxoSmithKline|2007-02-28|38.973|\n",
            "+--------------------+----------+------+\n",
            "only showing top 20 rows"
          ],
          "name": "stdout"
        }
      ]
    },
    {
      "cell_type": "code",
      "metadata": {
        "id": "lM9tfdKpt8Yt",
        "colab_type": "code",
        "outputId": "f34f820f-59c5-42b0-a41d-ed076419d0bd",
        "colab": {
          "base_uri": "https://localhost:8080/",
          "height": 17,
          "referenced_widgets": [
            "2bcc72c09e774877a89b35c04509e210",
            "29cf66775ec34b768e7c98b5310968da",
            "63f0bb5a05184aedbea1ee6821b7f3a5"
          ]
        }
      },
      "source": [
        "%%spark\n",
        "\n",
        "#NO TOUCH\n",
        "\n",
        "## AUTOGRADER Step 3.4.3: Run this to get your score. ##\n",
        "\n",
        "filter_2_stocks_sdf.createOrReplaceTempView(\"test_3_4_3\")\n",
        "test_3_4_3_sdf = spark.sql(\"SELECT org, DATE_FORMAT(date, 'yyyy-MM-dd') as date, Close FROM test_3_4_3 ORDER BY org, date LIMIT 10\")\n",
        "to_submit = pd.read_json(test_3_4_3_sdf.toPandas().to_json())\n",
        "# spark.catalog.dropTempView(\"test_3_4_3\")\n",
        "\n",
        "# #grader.grade(question_id = \"3.4.3\", answer = (test_3_4_3_sdf.take(10), filter_2_stocks_sdf.dtypes))\n",
        "# test_3_4_3_sdf.show(10)"
      ],
      "execution_count": 51,
      "outputs": [
        {
          "output_type": "display_data",
          "data": {
            "application/vnd.jupyter.widget-view+json": {
              "model_id": "2bcc72c09e774877a89b35c04509e210",
              "version_minor": 0,
              "version_major": 2
            },
            "text/plain": [
              "FloatProgress(value=0.0, bar_style='info', description='Progress:', layout=Layout(height='25px', width='50%'),…"
            ]
          },
          "metadata": {
            "tags": []
          }
        }
      ]
    },
    {
      "cell_type": "code",
      "metadata": {
        "id": "g1gWwsFsa-PN",
        "colab_type": "code",
        "outputId": "5705eebe-8c8d-4810-81de-13cd4857ece9",
        "colab": {
          "base_uri": "https://localhost:8080/",
          "height": 68,
          "referenced_widgets": [
            "2752c685b6f64316b8f8a8862061e0ae",
            "894b4e4a4a2d457593854de36d19af07",
            "8a7cf9a20ccc48169d9f0b4ba18c6a1e"
          ]
        }
      },
      "source": [
        "%%spark\n",
        "\n",
        "grader.grade(test_case_id = 'momentus', answer = to_submit)"
      ],
      "execution_count": 52,
      "outputs": [
        {
          "output_type": "display_data",
          "data": {
            "application/vnd.jupyter.widget-view+json": {
              "model_id": "2752c685b6f64316b8f8a8862061e0ae",
              "version_minor": 0,
              "version_major": 2
            },
            "text/plain": [
              "FloatProgress(value=0.0, bar_style='info', description='Progress:', layout=Layout(height='25px', width='50%'),…"
            ]
          },
          "metadata": {
            "tags": []
          }
        },
        {
          "output_type": "stream",
          "text": [
            "Correct! You earned 12/12 points. You are a star!\n",
            "\n",
            "Your submission has been successfully recorded in the gradebook."
          ],
          "name": "stdout"
        }
      ]
    },
    {
      "cell_type": "markdown",
      "metadata": {
        "id": "AG4bACKKEQNl",
        "colab_type": "text"
      },
      "source": [
        "#### Step 3.4.4: The Really Random Reshape\n",
        "\n",
        "Now, we will begin to shape our dataframe into the format of the final training sdf.\n",
        "\n",
        "Create an sdf `filter_3_stocks_sdf` that has for a single company and a single year, the closing stock price for the last trading day of each month in that year. This is similar to the table you created in Step 3.1. In this case since we cannot make a proxy for the closing price if the data is not avaliable, drop any rows containing any `null` values, in any column. The format of the sdf is shown below:\n",
        "\n",
        "```\n",
        "+----+-----+----------+---------+----------+\n",
        "|org |year |jan_stock |   ...   |dec_stock |\n",
        "+----+-----+----------+---------+----------+\n",
        "|IBM |2008 |...       |   ...   |...       |\n",
        "|IBM |2009 |...       |   ...   |...       |\n",
        "|... |...  |...       |   ...   |...       |\n",
        "+----+-----+----------+---------+----------+\n",
        "```\n"
      ]
    },
    {
      "cell_type": "code",
      "metadata": {
        "id": "AucLEgvwIr_0",
        "colab_type": "code",
        "outputId": "0b119cd3-1168-411b-b44d-aba69d1f9874",
        "colab": {
          "base_uri": "https://localhost:8080/",
          "height": 207,
          "referenced_widgets": [
            "1edf9b66f5d749d189727c5da4cff70b",
            "487384b626c640f8bb47d9fe7580a18f",
            "11253129981344899d57a9cd9e688878"
          ]
        }
      },
      "source": [
        "%%spark\n",
        "\n",
        "# TODO: Create [filter_3_stocks_sdf]\n",
        "\n",
        "# We will do the same operation we did in Step 3.1. In this case, however, as\n",
        "# the question specifies, any missing entry in a given month are set to null.\n",
        "\n",
        "filter_2_stocks_sdf.createOrReplaceTempView(\"filter_2\")\n",
        "\n",
        "filter_3_stocks_sdf = spark.sql(\n",
        "    '''select org, year, sum(jan) as jan_stock, \n",
        "    sum(feb) as feb_stock,\n",
        "    sum(mar) as mar_stock,\n",
        "    sum(apr) as apr_stock,\n",
        "    sum(may) as may_stock,\n",
        "    sum(jun) as jun_stock,\n",
        "    sum(jul) as jul_stock,\n",
        "    sum(aug) as aug_stock,\n",
        "    sum(sep) as sep_stock,\n",
        "    sum(oct) as oct_stock,\n",
        "    sum(nov) as nov_stock,\n",
        "    sum(dec) as dec_stock from\n",
        "    (select org, year(date) as year,\n",
        "    case when month(date) = 1 then Close else 0 end as jan,\n",
        "    case when month(date) = 2 then Close else 0 end as feb,\n",
        "    case when month(date) = 3 then Close else 0 end as mar,\n",
        "    case when month(date) = 4 then Close else 0 end as apr,\n",
        "    case when month(date) = 5 then Close else 0 end as may,\n",
        "    case when month(date) = 6 then Close else 0 end as jun,\n",
        "    case when month(date) = 7 then Close else 0 end as jul,\n",
        "    case when month(date) = 8 then Close else 0 end as aug,\n",
        "    case when month(date) = 9 then Close else 0 end as sep,\n",
        "    case when month(date) = 10 then Close else 0 end as oct,\n",
        "    case when month(date) = 11 then Close else 0 end as nov,\n",
        "    case when month(date) = 12 then Close else 0 end as dec\n",
        "     from filter_2)\n",
        "     group by org, year'''\n",
        ").dropna()\n",
        "\n",
        "filter_3_stocks_sdf.show(5)"
      ],
      "execution_count": 53,
      "outputs": [
        {
          "output_type": "display_data",
          "data": {
            "application/vnd.jupyter.widget-view+json": {
              "model_id": "1edf9b66f5d749d189727c5da4cff70b",
              "version_minor": 0,
              "version_major": 2
            },
            "text/plain": [
              "FloatProgress(value=0.0, bar_style='info', description='Progress:', layout=Layout(height='25px', width='50%'),…"
            ]
          },
          "metadata": {
            "tags": []
          }
        },
        {
          "output_type": "stream",
          "text": [
            "+------------------+----+------------------+------------------+------------------+------------------+------------------+------------------+------------------+------------------+------------------+------------------+------------------+------------------+\n",
            "|               org|year|         jan_stock|         feb_stock|         mar_stock|         apr_stock|         may_stock|         jun_stock|         jul_stock|         aug_stock|         sep_stock|         oct_stock|         nov_stock|         dec_stock|\n",
            "+------------------+----+------------------+------------------+------------------+------------------+------------------+------------------+------------------+------------------+------------------+------------------+------------------+------------------+\n",
            "|              Citi|2005| 475.8500061035156|462.95001220703125| 435.9800109863281|455.55999755859375| 457.0199890136719| 448.4700012207031|             422.0| 424.6300048828125| 441.6000061035156| 444.0899963378906|             471.0|470.80999755859375|\n",
            "|Wipro Technologies|2007|  4.21999979019165|3.8666999340057373|3.8382999897003174| 4.025100231170654| 3.964099884033203|3.7894999980926514| 3.558000087738037| 3.565999984741211| 3.517400026321411| 4.012899875640869| 3.533600091934204| 3.614799976348877|\n",
            "|                BP|2011|  32.5890007019043| 33.27299880981445|30.299999237060547|31.667999267578125|  32.0369987487793|30.687999725341797| 31.48699951171875|27.558000564575195| 25.23900032043457|30.909000396728516|30.774999618530273| 30.19499969482422|\n",
            "|            Oracle|2008|18.889999389648438|17.281999588012695|17.981000900268555|19.166000366210938|  20.9950008392334| 19.30299949645996|19.792999267578125|20.159000396728516|18.670000076293945| 16.81399917602539|14.791999816894531| 16.29800033569336|\n",
            "|     Goldman Sachs|2009| 73.63099670410156| 83.07099914550781| 96.70899963378906|117.18000030517578|131.86000061035156|134.47999572753906| 148.9499969482422|150.88999938964844| 168.1300048828125|155.22000122070312|            154.75|153.97999572753906|\n",
            "+------------------+----+------------------+------------------+------------------+------------------+------------------+------------------+------------------+------------------+------------------+------------------+------------------+------------------+\n",
            "only showing top 5 rows"
          ],
          "name": "stdout"
        }
      ]
    },
    {
      "cell_type": "code",
      "metadata": {
        "id": "bhpQ2NaKuJSV",
        "colab_type": "code",
        "outputId": "dce76c0c-6294-455e-dd14-efbc16a3391f",
        "colab": {
          "base_uri": "https://localhost:8080/",
          "height": 17,
          "referenced_widgets": [
            "302e287852684d8e94477eb2a0f5796b",
            "f22a35d513c8446496fae0aae980e961",
            "6a3329650c14469688c33f911830e7fe"
          ]
        }
      },
      "source": [
        "%%spark\n",
        "\n",
        "#NO TOUCH\n",
        "\n",
        "## AUTOGRADER Step 3.4.4: Run this to get your score. ##\n",
        "\n",
        "filter_3_stocks_sdf.createOrReplaceTempView(\"test_3_4_4\")\n",
        "test_3_4_4_sdf = spark.sql(\"SELECT * FROM test_3_4_4 ORDER BY org, year LIMIT 12\")\n",
        "to_submit = pd.read_json(test_3_4_4_sdf.toPandas().to_json())\n",
        "# spark.catalog.dropTempView(\"test_3_4_4\")\n",
        "\n",
        "# test_3_4_4_sdf.show(10)\n",
        "#grader.grade(question_id = \"3.4.4\", answer = test_3_4_4_sdf.take(10))\n"
      ],
      "execution_count": 54,
      "outputs": [
        {
          "output_type": "display_data",
          "data": {
            "application/vnd.jupyter.widget-view+json": {
              "model_id": "302e287852684d8e94477eb2a0f5796b",
              "version_minor": 0,
              "version_major": 2
            },
            "text/plain": [
              "FloatProgress(value=0.0, bar_style='info', description='Progress:', layout=Layout(height='25px', width='50%'),…"
            ]
          },
          "metadata": {
            "tags": []
          }
        }
      ]
    },
    {
      "cell_type": "code",
      "metadata": {
        "id": "l6j-8VEIb-UV",
        "colab_type": "code",
        "outputId": "4b9c0b9d-5e52-45fe-965d-39ee21ff0930",
        "colab": {
          "base_uri": "https://localhost:8080/",
          "height": 272,
          "referenced_widgets": [
            "98bd2b09c79847b08075f1d9c0ef2962",
            "882d2c8662204aaf9237ab58110e2330",
            "ed2b31b7f0ad46db9278810f77d11d99"
          ]
        }
      },
      "source": [
        "%%spark\n",
        "to_submit"
      ],
      "execution_count": 55,
      "outputs": [
        {
          "output_type": "display_data",
          "data": {
            "application/vnd.jupyter.widget-view+json": {
              "model_id": "98bd2b09c79847b08075f1d9c0ef2962",
              "version_minor": 0,
              "version_major": 2
            },
            "text/plain": [
              "FloatProgress(value=0.0, bar_style='info', description='Progress:', layout=Layout(height='25px', width='50%'),…"
            ]
          },
          "metadata": {
            "tags": []
          }
        },
        {
          "output_type": "stream",
          "text": [
            "          org  year  jan_stock  ...  oct_stock  nov_stock  dec_stock\n",
            "0   Accenture  2005   0.000000  ...  22.349001  24.158001  24.521000\n",
            "1   Accenture  2006  26.782000  ...  27.952999  28.627001  31.368000\n",
            "2   Accenture  2007  32.066002  ...  33.171001  29.355000  30.604000\n",
            "3   Accenture  2008  29.407000  ...  28.073999  26.315001  27.851000\n",
            "4   Accenture  2009  26.806999  ...  31.497999  34.860001  35.252998\n",
            "5   Accenture  2010  34.818001  ...  37.973000  36.797001  41.189999\n",
            "6   Accenture  2011  43.720001  ...  52.223999  50.199001  46.127998\n",
            "7   Accenture  2012  49.693001  ...  59.734001  60.186001  60.798000\n",
            "8          BP  2005   0.000000  ...  45.581001  45.196999  44.084000\n",
            "9          BP  2006  49.637001  ...  46.062000  46.734001  46.062000\n",
            "10         BP  2007  43.597000  ...  53.536999  49.931999  50.229000\n",
            "11         BP  2008  43.898998  ...  34.118000  33.424000  32.084999\n",
            "\n",
            "[12 rows x 14 columns]"
          ],
          "name": "stdout"
        }
      ]
    },
    {
      "cell_type": "code",
      "metadata": {
        "id": "NxYnOS14bqZH",
        "colab_type": "code",
        "outputId": "bab86760-d0cf-4c94-def8-15581674ca05",
        "colab": {
          "base_uri": "https://localhost:8080/",
          "height": 68,
          "referenced_widgets": [
            "319986521a9e4e3ea6657aeb36d58ac1",
            "0cb82a2ca70e4370a2b07c85d288d37c",
            "572cb78563f8494abc0ed368985e14aa"
          ]
        }
      },
      "source": [
        "%%spark\n",
        "grader.grade(test_case_id = 'random', answer = to_submit)"
      ],
      "execution_count": 56,
      "outputs": [
        {
          "output_type": "display_data",
          "data": {
            "application/vnd.jupyter.widget-view+json": {
              "model_id": "319986521a9e4e3ea6657aeb36d58ac1",
              "version_minor": 0,
              "version_major": 2
            },
            "text/plain": [
              "FloatProgress(value=0.0, bar_style='info', description='Progress:', layout=Layout(height='25px', width='50%'),…"
            ]
          },
          "metadata": {
            "tags": []
          }
        },
        {
          "output_type": "stream",
          "text": [
            "Correct! You earned 9/9 points. You are a star!\n",
            "\n",
            "Your submission has been successfully recorded in the gradebook."
          ],
          "name": "stdout"
        }
      ]
    },
    {
      "cell_type": "markdown",
      "metadata": {
        "id": "82OQKp-nIulq",
        "colab_type": "text"
      },
      "source": [
        "#### Step 3.4.5: The Decisive Direction\n",
        "\n",
        "The final element in our training set is the binary output for each case, i.e. the `y` label. \n",
        "\n",
        "Create an sdf `stocks_train_sdf` from `filter_3_stocks_sdf` with an additional column `direction`. This should be the direction of percentage change in the closing stock price, i.e. `1` for positive or `-1` for negative, in the first quarter of a given year. Make this an **integer**.  The quarter of a year begins in January and ends in April, inclusive. We want to know the percent change between these two months. Reference Step 2.2 for the percent change formula. The format of the sdf is shown below:\n",
        "\n",
        "```\n",
        "+----+-----+----------+---------+----------+-------------+\n",
        "|org |year |jan_stock |   ...   |dec_stock |direction    |\n",
        "+----+-----+----------+---------+----------+-------------+\n",
        "|IBM |2008 |...       |   ...   |...       |1            |\n",
        "|IBM |2009 |...       |   ...   |...       |-1           |\n",
        "|... |...  |...       |   ...   |...       |...          |\n",
        "+----+-----+----------+---------+----------+-------------+\n",
        "```"
      ]
    },
    {
      "cell_type": "code",
      "metadata": {
        "id": "yEFJIfyZKf7B",
        "colab_type": "code",
        "outputId": "b0756ca7-21bb-462a-b235-912cc8880ce1",
        "colab": {
          "base_uri": "https://localhost:8080/",
          "height": 207,
          "referenced_widgets": [
            "464a0c87aa3a4838b5e6d949d4f32a27",
            "cab4983edb3e48528f4b814fb3c0b4e3",
            "51b4fe6e25984cb7bd288613d416583b"
          ]
        }
      },
      "source": [
        "%%spark\n",
        "\n",
        "# TODO: Create [stocks_train_sdf]\n",
        "\n",
        "# SIGN() will return -1 if the input is negative, 0 if the input is zero, and 1\n",
        "# if the input is positive.\n",
        "\n",
        "# Keep all rows in filter_3_stocks and add another based on the sign of the\n",
        "# percentage change in stock\n",
        "\n",
        "filter_3_stocks_sdf.createOrReplaceTempView(\"filter_3\")\n",
        "\n",
        "stocks_train_sdf = spark.sql(\n",
        "    '''select *, \n",
        "    case when apr_stock > jan_stock then 1 else -1 end as direction\n",
        "    from filter_3  \n",
        "    order by direction desc'''\n",
        ")\n",
        "\n",
        "stocks_train_sdf.show(5)"
      ],
      "execution_count": 57,
      "outputs": [
        {
          "output_type": "display_data",
          "data": {
            "application/vnd.jupyter.widget-view+json": {
              "model_id": "464a0c87aa3a4838b5e6d949d4f32a27",
              "version_minor": 0,
              "version_major": 2
            },
            "text/plain": [
              "FloatProgress(value=0.0, bar_style='info', description='Progress:', layout=Layout(height='25px', width='50%'),…"
            ]
          },
          "metadata": {
            "tags": []
          }
        },
        {
          "output_type": "stream",
          "text": [
            "+--------------------+----+------------------+------------------+------------------+------------------+------------------+------------------+------------------+------------------+------------------+------------------+------------------+------------------+---------+\n",
            "|                 org|year|         jan_stock|         feb_stock|         mar_stock|         apr_stock|         may_stock|         jun_stock|         jul_stock|         aug_stock|         sep_stock|         oct_stock|         nov_stock|         dec_stock|direction|\n",
            "+--------------------+----+------------------+------------------+------------------+------------------+------------------+------------------+------------------+------------------+------------------+------------------+------------------+------------------+---------+\n",
            "|    Barclays Capital|2009| 4.517199993133545| 4.066299915313721|6.7245001792907715|12.666000366210938|15.274999618530273|14.586999893188477|             16.25|19.333999633789062|18.702999114990234|16.533000946044922|15.609000205993652|13.923999786376953|        1|\n",
            "|     GlaxoSmithKline|2007| 37.57899856567383|38.972999572753906| 38.36000061035156| 40.11199951171875|36.222999572753906| 36.35599899291992| 35.46099853515625|36.250999450683594|36.930999755859375| 35.57699966430664| 36.57099914550781|34.983001708984375|        1|\n",
            "|       Goldman Sachs|2007|193.49000549316406|             184.0| 188.4499969482422|199.41000366210938|210.52999877929688|197.69000244140625|171.77000427246094| 160.5399932861328|197.67999267578125| 226.1199951171875|206.69000244140625| 196.1300048828125|        1|\n",
            "|Cognizant Technol...|2006|13.031999588012695|14.336000442504883|14.807999610900879|15.829000473022461|  14.6850004196167|16.770000457763672|16.297000885009766| 17.39699935913086| 18.42300033569336|18.736000061035156|20.299999237060547| 19.20400047302246|        1|\n",
            "|                 IBM|2009| 76.52799987792969| 76.84700012207031| 80.90599822998047| 86.18199920654297| 88.74500274658203| 87.19100189208984| 98.48500061035156| 98.58499908447266| 99.87999725341797|100.70999908447266|             105.5|109.29000091552734|        1|\n",
            "+--------------------+----+------------------+------------------+------------------+------------------+------------------+------------------+------------------+------------------+------------------+------------------+------------------+------------------+---------+\n",
            "only showing top 5 rows"
          ],
          "name": "stdout"
        }
      ]
    },
    {
      "cell_type": "code",
      "metadata": {
        "id": "thJtUQY6uwYA",
        "colab_type": "code",
        "outputId": "a917b8b7-7ffb-4299-f139-c2fb4dfc761a",
        "colab": {
          "base_uri": "https://localhost:8080/",
          "height": 17,
          "referenced_widgets": [
            "879f7010427146a0a3dc05a2ccebb22a",
            "f73cde8240184e39b659e2a1b0b909a9",
            "d0193417136c48bd8b00ff9a716dcaed"
          ]
        }
      },
      "source": [
        "%%spark\n",
        "\n",
        "#NO TOUCH\n",
        "\n",
        "## AUTOGRADER Step 3.4.5: Run this to get your score. ##\n",
        "\n",
        "stocks_train_sdf.createOrReplaceTempView(\"test_3_4_5\")\n",
        "test_3_4_5_sdf = spark.sql(\"SELECT * FROM test_3_4_5 ORDER BY org, year LIMIT 10\")\n",
        "to_submit = pd.read_json(test_3_4_5_sdf.toPandas().to_json())\n",
        "# spark.catalog.dropTempView(\"test_3_4_5\")\n",
        "\n",
        "# test_3_4_5_sdf.show(10)\n",
        "#grader.grade(question_id = \"3.4.5\", answer = test_3_4_5_sdf.take(10))\n"
      ],
      "execution_count": 58,
      "outputs": [
        {
          "output_type": "display_data",
          "data": {
            "application/vnd.jupyter.widget-view+json": {
              "model_id": "879f7010427146a0a3dc05a2ccebb22a",
              "version_minor": 0,
              "version_major": 2
            },
            "text/plain": [
              "FloatProgress(value=0.0, bar_style='info', description='Progress:', layout=Layout(height='25px', width='50%'),…"
            ]
          },
          "metadata": {
            "tags": []
          }
        }
      ]
    },
    {
      "cell_type": "code",
      "metadata": {
        "id": "kIR72BANd9Mv",
        "colab_type": "code",
        "outputId": "730b59de-ff13-4347-e8bb-871457d5bb48",
        "colab": {
          "base_uri": "https://localhost:8080/",
          "height": 68,
          "referenced_widgets": [
            "a40decd5967041c4b31e219a10fb906e",
            "4a8cc040fde943969bf89683bcb4e289",
            "a8130666b07741baad5d40172373fac7"
          ]
        }
      },
      "source": [
        "%%spark\n",
        "grader.grade(test_case_id = 'decisive', answer = to_submit)"
      ],
      "execution_count": 59,
      "outputs": [
        {
          "output_type": "display_data",
          "data": {
            "application/vnd.jupyter.widget-view+json": {
              "model_id": "a40decd5967041c4b31e219a10fb906e",
              "version_minor": 0,
              "version_major": 2
            },
            "text/plain": [
              "FloatProgress(value=0.0, bar_style='info', description='Progress:', layout=Layout(height='25px', width='50%'),…"
            ]
          },
          "metadata": {
            "tags": []
          }
        },
        {
          "output_type": "stream",
          "text": [
            "Correct! You earned 3/3 points. You are a star!\n",
            "\n",
            "Your submission has been successfully recorded in the gradebook."
          ],
          "name": "stdout"
        }
      ]
    },
    {
      "cell_type": "markdown",
      "metadata": {
        "id": "Fd2nviNpM2dF",
        "colab_type": "text"
      },
      "source": [
        "### Step 3.5: The C-r-a-z-y Combination\n",
        "\n",
        "Now that we have individually created the two halves of our training data we will merge them together to create the final training sdf we showed in the beginning of Step 3.\n",
        "\n",
        "Create an sdf called `training_sdf` in the format of the one shown at the beginning of Step 3. Note that in our definition for the `stock_result` column, the `stock_result` value for a particular year corresponds to the direction of the stock percentage change in the **following** year. For example, the stock_result in the `2008` row for `IBM` will contain the direction of IBM's stock in the first quarter of 2009. The format of the sdf is shown below:\n",
        "```\n",
        "+----+-----+----------+---------+----------+----------+---------+----------+-------------+\n",
        "|org |year |jan_hired |   ...   |dec_hired |jan_stock |   ...   |dec_stock |stock_result |\n",
        "+----+-----+----------+---------+----------+----------+---------+----------+-------------+\n",
        "|IBM |2008 |...       |   ...   |...       |...       |   ...   |...       |-1           |\n",
        "|IBM |2009 |...       |   ...   |...       |...       |   ...   |...       |1            |\n",
        "|... |...  |...       |   ...   |...       |...       |   ...   |...       |...          |\n",
        "+----+-----+----------+---------+----------+----------+---------+----------+-------------+\n",
        "```"
      ]
    },
    {
      "cell_type": "code",
      "metadata": {
        "id": "8ZIb6QkcO5RB",
        "colab_type": "code",
        "outputId": "9d7e35bf-91ae-4b80-9e83-18beae94a32e",
        "colab": {
          "base_uri": "https://localhost:8080/",
          "height": 309,
          "referenced_widgets": [
            "55d0370f9dcf4adeb4f0be1ce2fe8a0e",
            "376262fa538a48c593390784b6d61d73",
            "27c4b122291e48c29ba9f41614669b04"
          ]
        }
      },
      "source": [
        "%%spark\n",
        "\n",
        "# TODO: Create [training_sdf]\n",
        "\n",
        "# Our merge will consist of two joins. The first will use filter_3_stocks to\n",
        "# join the monthly hiring rates and closing prices. The next join will be with\n",
        "# stock_train and to find stock_result. This join will be done such that the\n",
        "# correct years are matched between hire_train and stocks_train (think about how \n",
        "# to get one year's stock result to be the direction of the stock for the following\n",
        "# year's first quarter). \n",
        "\n",
        "hire_train_sdf.createOrReplaceTempView(\"hire_train\")\n",
        "stocks_train_sdf.createOrReplaceTempView(\"stocks_train\")\n",
        "\n",
        "hiring_stock_sdf = spark.sql(\n",
        "    '''select hire_train.org, hire_train.year, \n",
        "    hire_train.jan_hired,\n",
        "    hire_train.feb_hired,\n",
        "    hire_train.mar_hired,\n",
        "    hire_train.apr_hired,\n",
        "    hire_train.may_hired,\n",
        "    hire_train.jun_hired,\n",
        "    hire_train.jul_hired,\n",
        "    hire_train.aug_hired,\n",
        "    hire_train.sep_hired,\n",
        "    hire_train.oct_hired,\n",
        "    hire_train.nov_hired,\n",
        "    hire_train.dec_hired,\n",
        "    filter_3.jan_stock,\n",
        "    filter_3.feb_stock,\n",
        "    filter_3.mar_stock,\n",
        "    filter_3.apr_stock,\n",
        "    filter_3.may_stock,\n",
        "    filter_3.jun_stock,\n",
        "    filter_3.jul_stock,\n",
        "    filter_3.aug_stock,\n",
        "    filter_3.sep_stock,\n",
        "    filter_3.oct_stock,\n",
        "    filter_3.nov_stock,\n",
        "    filter_3.dec_stock from hire_train\n",
        "    join filter_3 on hire_train.org = filter_3.org and hire_train.year=filter_3.year'''\n",
        ")\n",
        "\n",
        "hiring_stock_sdf.createOrReplaceTempView(\"hiring_stock\")\n",
        "# hiring_stock_sdf.show()\n",
        "\n",
        "training_sdf = spark.sql(\n",
        "    '''select hiring_stock.*, stocks_train.direction as stock_result from hiring_stock\n",
        "    join stocks_train on hiring_stock.org=stocks_train.org and hiring_stock.year = stocks_train.year-1'''\n",
        ")\n",
        "\n",
        "training_sdf.show()"
      ],
      "execution_count": 61,
      "outputs": [
        {
          "output_type": "display_data",
          "data": {
            "application/vnd.jupyter.widget-view+json": {
              "model_id": "55d0370f9dcf4adeb4f0be1ce2fe8a0e",
              "version_minor": 0,
              "version_major": 2
            },
            "text/plain": [
              "FloatProgress(value=0.0, bar_style='info', description='Progress:', layout=Layout(height='25px', width='50%'),…"
            ]
          },
          "metadata": {
            "tags": []
          }
        },
        {
          "output_type": "stream",
          "text": [
            "+---------+----+---------+---------+---------+---------+---------+---------+---------+---------+---------+---------+---------+---------+------------------+------------------+------------------+------------------+------------------+------------------+------------------+------------------+------------------+------------------+------------------+------------------+------------+\n",
            "|      org|year|jan_hired|feb_hired|mar_hired|apr_hired|may_hired|jun_hired|jul_hired|aug_hired|sep_hired|oct_hired|nov_hired|dec_hired|         jan_stock|         feb_stock|         mar_stock|         apr_stock|         may_stock|         jun_stock|         jul_stock|         aug_stock|         sep_stock|         oct_stock|         nov_stock|         dec_stock|stock_result|\n",
            "+---------+----+---------+---------+---------+---------+---------+---------+---------+---------+---------+---------+---------+---------+------------------+------------------+------------------+------------------+------------------+------------------+------------------+------------------+------------------+------------------+------------------+------------------+------------+\n",
            "|Accenture|2010|        7|        7|        9|        7|       10|        7|        9|       10|       14|        9|       10|        9| 34.81800079345703| 33.95199966430664| 35.63399887084961| 37.06999969482422|31.871000289916992|32.832000732421875|33.672000885009766|  31.0939998626709|36.095001220703125|37.972999572753906|36.797000885009766|41.189998626708984|           1|\n",
            "|   Google|2011|       20|       12|        8|       18|       30|       15|       22|       18|        7|       15|        3|        6|300.17999267578125|306.70001220703125| 293.3800048828125|272.04998779296875|  264.510009765625|253.19000244140625| 301.8500061035156| 270.4800109863281| 257.5199890136719|296.32000732421875|299.70001220703125|322.95001220703125|           1|\n",
            "|Microsoft|2009|       14|        4|        3|        3|       11|       13|       11|       13|        7|        8|       10|        3| 14.33899974822998|13.543000221252441|15.404999732971191| 16.98900032043457| 17.51799964904785|19.933000564575195|19.722000122070312| 20.67099952697754| 21.56800079345703|  23.2549991607666|24.663999557495117| 25.56100082397461|           1|\n",
            "|      IBM|2011|       22|        5|        7|        3|       14|       10|       15|       10|        8|        8|        5|        1| 135.2899932861328|135.17999267578125| 136.1699981689453| 142.4499969482422|141.69000244140625| 143.8699951171875| 152.5399932861328| 144.8300018310547|147.32000732421875|155.52000427246094|159.00999450683594|             155.5|           1|\n",
            "|Microsoft|2011|       17|        9|       11|        7|       10|        8|       11|       14|       11|       10|        9|        8|23.253000259399414|22.292999267578125|21.291000366210938|21.736000061035156|21.108999252319336| 21.94300079345703|23.124000549316406|22.594999313354492|21.138999938964844|22.621000289916992|21.893999099731445|22.215999603271484|           1|\n",
            "|Microsoft|2008|       16|       12|       12|        8|       17|       21|       19|        2|       14|       10|        4|        1|27.336999893188477|22.801000595092773| 23.79599952697754| 23.91699981689453| 23.74799919128418|23.069000244140625| 21.56800079345703|22.885000228881836|22.381000518798828|18.722999572753906| 16.95599937438965|16.302000045776367|           1|\n",
            "|      IBM|2006|       17|        6|        6|        9|       13|       10|        5|        9|       10|        8|        6|        3| 67.88600158691406|              67.0| 68.86299896240234| 68.75599670410156| 66.71700286865234|  64.1449966430664| 64.63800048828125| 67.61199951171875|  68.4219970703125| 77.09500122070312| 76.75599670410156| 81.12100219726562|           1|\n",
            "|   Google|2010|       13|        5|        8|       13|        7|       22|       17|       14|       10|       10|       17|        4| 264.9700012207031| 263.3999938964844|             283.5| 262.7200012207031|242.58999633789062|222.47999572753906| 242.4199981689453|225.00999450683594| 262.8999938964844| 306.8500061035156| 277.8599853515625| 296.9800109863281|          -1|\n",
            "|Microsoft|2006|        8|        5|        9|        9|       15|       18|        8|       10|        8|        9|        6|        5|23.606000900268555|22.531999588012695|22.816999435424805|20.250999450683594|18.993000030517578|19.538000106811523|20.177000045776367|21.551000595092773|22.934999465942383|24.073999404907227|24.621999740600586|25.041000366210938|          -1|\n",
            "|      IBM|2007|       15|        5|        8|       16|       10|       14|        4|        7|        7|        8|        3|        6| 82.79100036621094| 77.60600280761719| 78.70700073242188| 85.34700012207031| 89.02100372314453| 87.88800048828125| 92.39900207519531| 97.43499755859375| 98.36699676513672|  96.9489974975586| 87.82599639892578| 90.26699829101562|           1|\n",
            "|      IBM|2010|       20|        9|       12|        6|        5|       13|       12|        8|        7|        9|        5|        3|102.20999908447266|106.19000244140625|107.08999633789062|107.70999908447266|104.56999969482422|103.12000274658203|107.23999786376953|102.80000305175781|112.01000213623047|119.88999938964844|118.12000274658203|122.55999755859375|           1|\n",
            "|      IBM|2008|       15|        9|        7|        8|       10|       13|        2|       13|       12|        3|        5|        9| 89.44000244140625| 95.07599639892578| 96.14099884033203|102.56999969482422|108.06999969482422| 98.97100067138672| 106.8499984741211| 101.6500015258789|  97.6719970703125| 77.63099670410156| 68.13800048828125|  70.2750015258789|           1|\n",
            "+---------+----+---------+---------+---------+---------+---------+---------+---------+---------+---------+---------+---------+---------+------------------+------------------+------------------+------------------+------------------+------------------+------------------+------------------+------------------+------------------+------------------+------------------+------------+"
          ],
          "name": "stdout"
        }
      ]
    },
    {
      "cell_type": "code",
      "metadata": {
        "id": "XC_J080jvt6W",
        "colab_type": "code",
        "colab": {
          "base_uri": "https://localhost:8080/",
          "height": 17,
          "referenced_widgets": [
            "ae04cca639604ef3bcf7b2886bed5c6f",
            "4a6ee76ca127420d83b4b8b2c179bcc9",
            "83bc5f293e564abbba7b8708117ed8bd"
          ]
        },
        "outputId": "e54a31f6-38fe-4824-b80f-4f67ba1065ae"
      },
      "source": [
        "%%spark\n",
        "\n",
        "#NO TOUCH\n",
        "\n",
        "## AUTOGRADER Step 3.5: Run this to get your score. ##\n",
        "\n",
        "training_sdf.createOrReplaceTempView(\"test_3_5\")\n",
        "test_3_5_sdf = spark.sql(\"SELECT * FROM test_3_5 ORDER BY org, year LIMIT 10\")\n",
        "to_submit = pd.read_json(test_3_5_sdf.toPandas().to_json())\n",
        "# spark.catalog.dropTempView(\"test_3_5\")\n",
        "\n",
        "# test_3_5_sdf.show(10)\n",
        "#grader.grade(question_id = \"3.5\", answer = test_3_5_sdf.take(10))\n"
      ],
      "execution_count": 62,
      "outputs": [
        {
          "output_type": "display_data",
          "data": {
            "application/vnd.jupyter.widget-view+json": {
              "model_id": "ae04cca639604ef3bcf7b2886bed5c6f",
              "version_minor": 0,
              "version_major": 2
            },
            "text/plain": [
              "FloatProgress(value=0.0, bar_style='info', description='Progress:', layout=Layout(height='25px', width='50%'),…"
            ]
          },
          "metadata": {
            "tags": []
          }
        }
      ]
    },
    {
      "cell_type": "code",
      "metadata": {
        "id": "KMMK9rAQekCh",
        "colab_type": "code",
        "colab": {
          "base_uri": "https://localhost:8080/",
          "height": 68,
          "referenced_widgets": [
            "4a7ba9c174fc45b08697a3408be5a008",
            "5efa42d6051e45ee822cee2dfbed3a04",
            "ef597216436b4eac9b3ceaacdc5c0043"
          ]
        },
        "outputId": "e062fac6-e544-4af7-e315-dcbd67385304"
      },
      "source": [
        "%%spark\n",
        "grader.grade(test_case_id = 'crazy_craig', answer = to_submit)"
      ],
      "execution_count": 63,
      "outputs": [
        {
          "output_type": "display_data",
          "data": {
            "application/vnd.jupyter.widget-view+json": {
              "model_id": "4a7ba9c174fc45b08697a3408be5a008",
              "version_minor": 0,
              "version_major": 2
            },
            "text/plain": [
              "FloatProgress(value=0.0, bar_style='info', description='Progress:', layout=Layout(height='25px', width='50%'),…"
            ]
          },
          "metadata": {
            "tags": []
          }
        },
        {
          "output_type": "stream",
          "text": [
            "Correct! You earned 15/15 points. You are a star!\n",
            "\n",
            "Your submission has been successfully recorded in the gradebook."
          ],
          "name": "stdout"
        }
      ]
    },
    {
      "cell_type": "markdown",
      "metadata": {
        "id": "ZnwHS5-kPtVl",
        "colab_type": "text"
      },
      "source": [
        "## Step 4: Machine ... Learning?\n",
        "\n",
        "Well here we go. Who's ready to make some money? Well... it's not gonna happen. We didn't code the random forest model, sorry! The second half of the course will be about scalable machine learning, and we will learn how to take this beautiful data and make billions of dollars.\n",
        "\n",
        "![Jumping for $$](https://cdn.dribbble.com/users/2749602/screenshots/7065140/shot-cropped-1567085403260.png)\n",
        "\n",
        "One last thing, as I predicted before, you're a star.\n"
      ]
    },
    {
      "cell_type": "markdown",
      "metadata": {
        "id": "U5KO8ba2zdxf",
        "colab_type": "text"
      },
      "source": [
        "## Optional Extra-Credit Step: Full PageRank on Spark\n",
        "\n",
        "We've given a basic implementation of MapReduce using Spark's matrix types in:\n",
        "https://colab.research.google.com/drive/1Mr2zf-Oz6W9kRFrzSN08S1lo14mGYnw2\n",
        "\n",
        "Your task for extra credit, worth up to 5 points, is to take this basic example and flesh it out:\n",
        "\n",
        "1. You should write a function called `pagerank` that takes two inputs: (1) a Spark dataframe `df` conforming to the schema of `initial_graph`, (2) an integer `n` specifying the max number of iterations until termination.  It **returns a Spark dataframe** with two columns: `node_id` and `pagerank` (the latter can be of type double), where the latter is the PageRank score after $n$ iterations.\n",
        "\n",
        "2. Your PageRank algorithm should incorporate the standard \"decay factor\" as we've described in the lecture slides.  Use the standard value $\\alpha=0.85$.  It should use Apache Spark matrices to do the computation.\n",
        "\n",
        "3. Your PageRank algorithm should remove sinks and self-loops."
      ]
    },
    {
      "cell_type": "markdown",
      "metadata": {
        "id": "EHVFHPVIrvu1",
        "colab_type": "text"
      },
      "source": [
        "# HW Submission\n",
        "\n",
        "**Double check that you have the correct PennID (all numbers) in the autograder**. \n",
        "\n",
        "Go to the \"File\" tab at the top left, and click \"Download .ipynb\". Zip it (name doesn't matter) and submit it to OpenSubmit. \n",
        "\n",
        "You must submit your notebook to receive credit.\n",
        "\n",
        "**On OpenSubmit, go to Settings and make sure to set your Student ID to your PennID (all numbers)**."
      ]
    },
    {
      "cell_type": "code",
      "metadata": {
        "id": "34MB1FfAVgcp",
        "colab_type": "code",
        "colab": {}
      },
      "source": [
        ""
      ],
      "execution_count": 0,
      "outputs": []
    }
  ]
}
