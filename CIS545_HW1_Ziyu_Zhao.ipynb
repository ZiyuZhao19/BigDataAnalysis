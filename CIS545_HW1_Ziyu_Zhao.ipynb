{
  "nbformat": 4,
  "nbformat_minor": 0,
  "metadata": {
    "colab": {
      "name": "CIS545_HW1_Ziyu_Zhao",
      "provenance": [],
      "collapsed_sections": [],
      "machine_shape": "hm"
    },
    "kernelspec": {
      "name": "python3",
      "display_name": "Python 3"
    }
  },
  "cells": [
    {
      "cell_type": "markdown",
      "metadata": {
        "id": "upCKAd8JB6bO",
        "colab_type": "text"
      },
      "source": [
        "#CIS545 Homework 1: Data Wrangling and Cleaning\n",
        "\n",
        "Hello future data scientists and welcome to CIS 545! In this homework, you will familiarize yourself with Pandas 🐼! The cutest animal and one of the essential libraries for Data Science.\n",
        "\n",
        "This homework will focus on Uber and AirBnB data so that you can put this on your resume and pass those resume buzz word detectors! It will be broken into 3 sections:\n",
        "\n",
        "1. Working with Uber Data\n",
        "\n",
        "2. Working with Airbnb Data\n",
        "\n",
        "3. Working on a merged/joined version of the two (More on this later...)\n",
        "\n",
        "**Note: Before starting, I highly recommend you click on the \"Copy To Drive\" option in the top bar. Once you click on that, make sure you are working on that version of the notebook so that your work is saved** \n",
        "\n",
        "Run the following two cells to setup the notebook"
      ]
    },
    {
      "cell_type": "code",
      "metadata": {
        "id": "7B8jsqghNLaw",
        "colab_type": "code",
        "colab": {}
      },
      "source": [
        "%%capture\n",
        "!pip3 install penngrader\n",
        "!pip3 install py_stringsimjoin\n",
        "!pip install python-Levenshtein\n",
        "\n",
        "from penngrader.grader import *\n",
        "\n",
        "#Import neccessary libraries\n",
        "!pip install geocoder\n",
        "import pandas as pd\n",
        "import numpy as np\n",
        "import seaborn as sns\n",
        "from string import ascii_letters\n",
        "import matplotlib.pyplot as plt\n",
        "from datetime import datetime\n",
        "import time\n",
        "import geocoder\n",
        "import py_stringsimjoin as ssj\n",
        "import py_stringmatching as sm\n",
        "from Levenshtein import distance\n",
        "from difflib import SequenceMatcher\n",
        "import requests\n",
        "from lxml import html"
      ],
      "execution_count": 0,
      "outputs": []
    },
    {
      "cell_type": "code",
      "metadata": {
        "id": "n_KXUKCBU9vQ",
        "colab_type": "code",
        "outputId": "674fc414-18e5-48ac-d825-6eb513b4d845",
        "colab": {
          "base_uri": "https://localhost:8080/",
          "height": 765
        }
      },
      "source": [
        "!wget https://cis545hw1data.s3.amazonaws.com/airbnb_data_start.csv\n",
        "!wget https://cis545hw1data.s3.amazonaws.com/airbnb_zipcode.csv\n",
        "!wget https://cis545hw1data.s3.amazonaws.com/uber_data_start.csv\n",
        "!wget https://cis545hw1data.s3.amazonaws.com/zillow_data_start.csv"
      ],
      "execution_count": 2,
      "outputs": [
        {
          "output_type": "stream",
          "text": [
            "--2020-02-07 05:22:41--  https://cis545hw1data.s3.amazonaws.com/airbnb_data_start.csv\n",
            "Resolving cis545hw1data.s3.amazonaws.com (cis545hw1data.s3.amazonaws.com)... 52.216.94.227\n",
            "Connecting to cis545hw1data.s3.amazonaws.com (cis545hw1data.s3.amazonaws.com)|52.216.94.227|:443... connected.\n",
            "HTTP request sent, awaiting response... 200 OK\n",
            "Length: 4261780 (4.1M) [text/csv]\n",
            "Saving to: ‘airbnb_data_start.csv.1’\n",
            "\n",
            "airbnb_data_start.c 100%[===================>]   4.06M  3.16MB/s    in 1.3s    \n",
            "\n",
            "2020-02-07 05:22:43 (3.16 MB/s) - ‘airbnb_data_start.csv.1’ saved [4261780/4261780]\n",
            "\n",
            "--2020-02-07 05:22:44--  https://cis545hw1data.s3.amazonaws.com/airbnb_zipcode.csv\n",
            "Resolving cis545hw1data.s3.amazonaws.com (cis545hw1data.s3.amazonaws.com)... 52.216.140.236\n",
            "Connecting to cis545hw1data.s3.amazonaws.com (cis545hw1data.s3.amazonaws.com)|52.216.140.236|:443... connected.\n",
            "HTTP request sent, awaiting response... 200 OK\n",
            "Length: 4657 (4.5K) [text/csv]\n",
            "Saving to: ‘airbnb_zipcode.csv.1’\n",
            "\n",
            "airbnb_zipcode.csv. 100%[===================>]   4.55K  --.-KB/s    in 0s      \n",
            "\n",
            "2020-02-07 05:22:45 (137 MB/s) - ‘airbnb_zipcode.csv.1’ saved [4657/4657]\n",
            "\n",
            "--2020-02-07 05:22:46--  https://cis545hw1data.s3.amazonaws.com/uber_data_start.csv\n",
            "Resolving cis545hw1data.s3.amazonaws.com (cis545hw1data.s3.amazonaws.com)... 52.216.140.236\n",
            "Connecting to cis545hw1data.s3.amazonaws.com (cis545hw1data.s3.amazonaws.com)|52.216.140.236|:443... connected.\n",
            "HTTP request sent, awaiting response... 200 OK\n",
            "Length: 1865960 (1.8M) [text/csv]\n",
            "Saving to: ‘uber_data_start.csv.1’\n",
            "\n",
            "uber_data_start.csv 100%[===================>]   1.78M  1.64MB/s    in 1.1s    \n",
            "\n",
            "2020-02-07 05:22:47 (1.64 MB/s) - ‘uber_data_start.csv.1’ saved [1865960/1865960]\n",
            "\n",
            "--2020-02-07 05:22:49--  https://cis545hw1data.s3.amazonaws.com/zillow_data_start.csv\n",
            "Resolving cis545hw1data.s3.amazonaws.com (cis545hw1data.s3.amazonaws.com)... 52.216.142.36\n",
            "Connecting to cis545hw1data.s3.amazonaws.com (cis545hw1data.s3.amazonaws.com)|52.216.142.36|:443... connected.\n",
            "HTTP request sent, awaiting response... 200 OK\n",
            "Length: 10061011 (9.6M) [text/csv]\n",
            "Saving to: ‘zillow_data_start.csv.1’\n",
            "\n",
            "zillow_data_start.c 100%[===================>]   9.59M  5.88MB/s    in 1.6s    \n",
            "\n",
            "2020-02-07 05:22:51 (5.88 MB/s) - ‘zillow_data_start.csv.1’ saved [10061011/10061011]\n",
            "\n"
          ],
          "name": "stdout"
        }
      ]
    },
    {
      "cell_type": "markdown",
      "metadata": {
        "id": "2K3-m4JuNh9X",
        "colab_type": "text"
      },
      "source": [
        "#What is Pandas?\n",
        "\n",
        "Pandas are \n",
        "\n",
        "<p align = \"center\">\n",
        "<img src = \"https://thehill.com/sites/default/files/styles/article_full/public/panda_getty.jpg?itok=4ce_5sip\" width= \"600\" align =\"center\"/>\n",
        "\n",
        "<img src = \"https://cff2.earth.com/uploads/2016/09/08101343/giant-panda-bear_1big_stock1.jpg\" width= \"600\" align =\"center\"/>\n",
        "\n",
        "</p>\n",
        "\n",
        "\n",
        "But apart from animals, Pandas is a Python library to aid with data manipulation/analysis. It is built with support from Numpy. Numpy is another Python package/library that provides efficient calculations for matricies and other math problems."
      ]
    },
    {
      "cell_type": "markdown",
      "metadata": {
        "id": "HvihpkXCO-zo",
        "colab_type": "text"
      },
      "source": [
        "Let's also get familiarized with the PennGrader. It was developed by a previous TA, Leonardo Murri. He's a cutie and loves Chipotle. What more could you want? This is him here:\n",
        "\n",
        "<p align = \"center\">\n",
        "<img src = \"https://imgur.com/rNd3gIg.png\" width= \"200\" align =\"center\"/>\n",
        "</p>\n",
        "\n",
        "PennGrader was developed to provide students with instant feedback on their answer. You can submit your answer and know whether it's right or wrong instantly. We then record your most recent answer in our backend database. Let's try it out! Fill in the cell below with your 8-digit Penn ID and then run the following cell to initialize the grader."
      ]
    },
    {
      "cell_type": "code",
      "metadata": {
        "id": "9ucPnPp25tgM",
        "colab_type": "code",
        "colab": {}
      },
      "source": [
        "#PLEASE ENSURE YOUR PENN-ID IS ENTERED CORRECTLY. IF NOT, THE AUTOGRADER WON'T KNOW WHO \n",
        "#TO ASSIGN POINTS TO YOU IN OUR BACKEND\n",
        "STUDENT_ID = 71435169 # YOUR PENN-ID GOES HERE AS AN INTEGER#"
      ],
      "execution_count": 0,
      "outputs": []
    },
    {
      "cell_type": "code",
      "metadata": {
        "id": "A8YZ-1NV6Du4",
        "colab_type": "code",
        "outputId": "9a2593e5-a33d-48bb-d3df-b10cb8fbe125",
        "colab": {
          "base_uri": "https://localhost:8080/",
          "height": 68
        }
      },
      "source": [
        "grader = PennGrader(homework_id = 'CIS545_Spring_2020_HW1', student_id = STUDENT_ID)"
      ],
      "execution_count": 4,
      "outputs": [
        {
          "output_type": "stream",
          "text": [
            "PennGrader initialized with Student ID: 71435169\n",
            "\n",
            "Make sure this correct or we will not be able to store your grade\n"
          ],
          "name": "stdout"
        }
      ]
    },
    {
      "cell_type": "markdown",
      "metadata": {
        "id": "_MEl5f0lTdpJ",
        "colab_type": "text"
      },
      "source": [
        "Pandas (the animal) are lazy. Their days are made up of eating and sleeping. Just like mine. (1 point)\n",
        "\n",
        "In the following cell, put which panda activity you prefer in lowercase(eating or sleeping)"
      ]
    },
    {
      "cell_type": "code",
      "metadata": {
        "id": "3idBcMu3TZi8",
        "colab_type": "code",
        "colab": {}
      },
      "source": [
        "#Input activity in all lowercase\n",
        "favorite_activity = \"eating\""
      ],
      "execution_count": 0,
      "outputs": []
    },
    {
      "cell_type": "code",
      "metadata": {
        "id": "A_8s2HvkUS32",
        "colab_type": "code",
        "outputId": "6a7a6108-ef73-43e2-c5b2-534e3a2872ef",
        "colab": {
          "base_uri": "https://localhost:8080/",
          "height": 68
        }
      },
      "source": [
        "# Run this cell to submit to PennGrader!\n",
        "grader.grade(test_case_id = 'panda_test', answer = favorite_activity)"
      ],
      "execution_count": 6,
      "outputs": [
        {
          "output_type": "stream",
          "text": [
            "Correct! You earned 1/1 points. You are a star!\n",
            "\n",
            "Your submission has been successfully recorded in the gradebook.\n"
          ],
          "name": "stdout"
        }
      ]
    },
    {
      "cell_type": "markdown",
      "metadata": {
        "id": "zymOmddn6OPs",
        "colab_type": "text"
      },
      "source": [
        "You just had your first experience with the Penn Grader! For the future questions, once you have completed a question, you can submit your answer to the Penn Grader for immediate feedback. Awesome, right?\n",
        "\n",
        "We will use scores from Penn Grader to determine your grade. You will still need to submit your notebook so we can check for cheating and plagarism. Do not cheat. \n",
        "\n",
        "**Note:** If you run Penn Grader after the due date for any question, your assignment will be marked late, even if you already had full points for the question before the deadline. To remedy this, if you're going to run your notebook after the deadline, either do not run the grading cells, or reinitialize the grader with an empty ID."
      ]
    },
    {
      "cell_type": "markdown",
      "metadata": {
        "id": "L5Ay_hRPgLDV",
        "colab_type": "text"
      },
      "source": [
        "#Adding our data so that our code can find it\n",
        "\n",
        "We can't be data scientist without data! We provided code for you to download the data(the \"wget\" cell from earlier). If you go to the view on the left and click files, you should see something similar to the image(plus the airbnb_zipcode.csv)\n",
        "\n",
        "<p align = \"center\">\n",
        "<img src = \"https://imgur.com/dCOO2Xk.png\" width= \"200\" align =\"center\"/>\n",
        "</p>"
      ]
    },
    {
      "cell_type": "markdown",
      "metadata": {
        "id": "bt_SIy9kUbAC",
        "colab_type": "text"
      },
      "source": [
        "#Part 1: Working with Uber Data\n",
        "\n",
        "Let's first get our Uber data loaded into a Pandas Dataframe.\n",
        "\n",
        "I would recommend looking into pandas' \"read_csv\" functionality:\n",
        "\n",
        "https://pandas.pydata.org/pandas-docs/stable/reference/api/pandas.read_csv.html\n",
        "\n",
        "Save the dataframe to a variable named: \"uber_df\""
      ]
    },
    {
      "cell_type": "code",
      "metadata": {
        "id": "UWWaROO0Ue0N",
        "colab_type": "code",
        "colab": {}
      },
      "source": [
        "uber_df = pd.read_csv(\"uber_data_start.csv\")"
      ],
      "execution_count": 0,
      "outputs": []
    },
    {
      "cell_type": "markdown",
      "metadata": {
        "id": "TgZES3hzXJSn",
        "colab_type": "text"
      },
      "source": [
        "Let's visualize the dataframe. In the following cell, type the name of the variable you assigned the dataframe to. It should show the dataframe:"
      ]
    },
    {
      "cell_type": "code",
      "metadata": {
        "id": "ogfCNlYlXVQn",
        "colab_type": "code",
        "outputId": "47ce575c-7a6c-48a6-dcd9-6609656d910c",
        "colab": {
          "base_uri": "https://localhost:8080/",
          "height": 439
        }
      },
      "source": [
        "uber_df"
      ],
      "execution_count": 8,
      "outputs": [
        {
          "output_type": "execute_result",
          "data": {
            "text/html": [
              "<div>\n",
              "<style scoped>\n",
              "    .dataframe tbody tr th:only-of-type {\n",
              "        vertical-align: middle;\n",
              "    }\n",
              "\n",
              "    .dataframe tbody tr th {\n",
              "        vertical-align: top;\n",
              "    }\n",
              "\n",
              "    .dataframe thead th {\n",
              "        text-align: right;\n",
              "    }\n",
              "</style>\n",
              "<table border=\"1\" class=\"dataframe\">\n",
              "  <thead>\n",
              "    <tr style=\"text-align: right;\">\n",
              "      <th></th>\n",
              "      <th>index</th>\n",
              "      <th>id</th>\n",
              "      <th>vendor_id</th>\n",
              "      <th>pickup_datetime</th>\n",
              "      <th>dropoff_datetime</th>\n",
              "      <th>passenger_count</th>\n",
              "      <th>pickup_longitude</th>\n",
              "      <th>pickup_latitude</th>\n",
              "      <th>dropoff_longitude</th>\n",
              "      <th>dropoff_latitude</th>\n",
              "      <th>day_of_trip</th>\n",
              "      <th>pickup_zip</th>\n",
              "      <th>pickup_borough</th>\n",
              "      <th>dropoff_zip</th>\n",
              "      <th>dropoff_borough</th>\n",
              "    </tr>\n",
              "  </thead>\n",
              "  <tbody>\n",
              "    <tr>\n",
              "      <th>0</th>\n",
              "      <td>0</td>\n",
              "      <td>id2875421</td>\n",
              "      <td>2</td>\n",
              "      <td>3/14/16 17:24</td>\n",
              "      <td>3/14/16 17:32</td>\n",
              "      <td>1</td>\n",
              "      <td>-73.982155</td>\n",
              "      <td>40.767937</td>\n",
              "      <td>-73.964630</td>\n",
              "      <td>40.765602</td>\n",
              "      <td>Monday</td>\n",
              "      <td>10023</td>\n",
              "      <td>Manhattan</td>\n",
              "      <td>10065</td>\n",
              "      <td>Manhattan</td>\n",
              "    </tr>\n",
              "    <tr>\n",
              "      <th>1</th>\n",
              "      <td>1</td>\n",
              "      <td>id2377394</td>\n",
              "      <td>1</td>\n",
              "      <td>6/12/16 0:43</td>\n",
              "      <td>6/12/16 0:54</td>\n",
              "      <td>1</td>\n",
              "      <td>-73.980415</td>\n",
              "      <td>40.738564</td>\n",
              "      <td>-73.999481</td>\n",
              "      <td>40.731152</td>\n",
              "      <td>Sunday</td>\n",
              "      <td>10010</td>\n",
              "      <td>Manhattan</td>\n",
              "      <td>10012</td>\n",
              "      <td>Manhattan</td>\n",
              "    </tr>\n",
              "    <tr>\n",
              "      <th>2</th>\n",
              "      <td>2</td>\n",
              "      <td>id3858529</td>\n",
              "      <td>2</td>\n",
              "      <td>1/19/16 11:35</td>\n",
              "      <td>1/19/16 12:10</td>\n",
              "      <td>1</td>\n",
              "      <td>-73.979027</td>\n",
              "      <td>40.763939</td>\n",
              "      <td>-74.005333</td>\n",
              "      <td>40.710087</td>\n",
              "      <td>Tuesday</td>\n",
              "      <td>10019</td>\n",
              "      <td>Manhattan</td>\n",
              "      <td>10038</td>\n",
              "      <td>Manhattan</td>\n",
              "    </tr>\n",
              "    <tr>\n",
              "      <th>3</th>\n",
              "      <td>3</td>\n",
              "      <td>id3504673</td>\n",
              "      <td>2</td>\n",
              "      <td>4/6/16 19:32</td>\n",
              "      <td>4/6/16 19:39</td>\n",
              "      <td>1</td>\n",
              "      <td>-74.010040</td>\n",
              "      <td>40.719971</td>\n",
              "      <td>-74.012268</td>\n",
              "      <td>40.706718</td>\n",
              "      <td>Wednesday</td>\n",
              "      <td>10013</td>\n",
              "      <td>Manhattan</td>\n",
              "      <td>10004</td>\n",
              "      <td>Manhattan</td>\n",
              "    </tr>\n",
              "    <tr>\n",
              "      <th>4</th>\n",
              "      <td>4</td>\n",
              "      <td>id2181028</td>\n",
              "      <td>2</td>\n",
              "      <td>3/26/16 13:30</td>\n",
              "      <td>3/26/16 13:38</td>\n",
              "      <td>1</td>\n",
              "      <td>-73.973053</td>\n",
              "      <td>40.793209</td>\n",
              "      <td>-73.972923</td>\n",
              "      <td>40.782520</td>\n",
              "      <td>Saturday</td>\n",
              "      <td>10025</td>\n",
              "      <td>Manhattan</td>\n",
              "      <td>10024</td>\n",
              "      <td>Manhattan</td>\n",
              "    </tr>\n",
              "    <tr>\n",
              "      <th>...</th>\n",
              "      <td>...</td>\n",
              "      <td>...</td>\n",
              "      <td>...</td>\n",
              "      <td>...</td>\n",
              "      <td>...</td>\n",
              "      <td>...</td>\n",
              "      <td>...</td>\n",
              "      <td>...</td>\n",
              "      <td>...</td>\n",
              "      <td>...</td>\n",
              "      <td>...</td>\n",
              "      <td>...</td>\n",
              "      <td>...</td>\n",
              "      <td>...</td>\n",
              "      <td>...</td>\n",
              "    </tr>\n",
              "    <tr>\n",
              "      <th>13647</th>\n",
              "      <td>15045</td>\n",
              "      <td>id1883521</td>\n",
              "      <td>2</td>\n",
              "      <td>1/22/16 16:55</td>\n",
              "      <td>1/22/16 17:13</td>\n",
              "      <td>2</td>\n",
              "      <td>-74.014778</td>\n",
              "      <td>40.709770</td>\n",
              "      <td>-73.982513</td>\n",
              "      <td>40.764381</td>\n",
              "      <td>Friday</td>\n",
              "      <td>10006</td>\n",
              "      <td>Manhattan</td>\n",
              "      <td>10019</td>\n",
              "      <td>Manhattan</td>\n",
              "    </tr>\n",
              "    <tr>\n",
              "      <th>13648</th>\n",
              "      <td>15047</td>\n",
              "      <td>id0546294</td>\n",
              "      <td>1</td>\n",
              "      <td>3/23/16 13:12</td>\n",
              "      <td>3/23/16 13:19</td>\n",
              "      <td>2</td>\n",
              "      <td>-73.964386</td>\n",
              "      <td>40.773315</td>\n",
              "      <td>-73.955849</td>\n",
              "      <td>40.785049</td>\n",
              "      <td>Wednesday</td>\n",
              "      <td>10021</td>\n",
              "      <td>Manhattan</td>\n",
              "      <td>10128</td>\n",
              "      <td>Manhattan</td>\n",
              "    </tr>\n",
              "    <tr>\n",
              "      <th>13649</th>\n",
              "      <td>15048</td>\n",
              "      <td>id2764754</td>\n",
              "      <td>1</td>\n",
              "      <td>1/7/16 12:48</td>\n",
              "      <td>1/7/16 13:04</td>\n",
              "      <td>1</td>\n",
              "      <td>-73.975426</td>\n",
              "      <td>40.752224</td>\n",
              "      <td>-73.985977</td>\n",
              "      <td>40.755810</td>\n",
              "      <td>Thursday</td>\n",
              "      <td>10017</td>\n",
              "      <td>Manhattan</td>\n",
              "      <td>10036</td>\n",
              "      <td>Manhattan</td>\n",
              "    </tr>\n",
              "    <tr>\n",
              "      <th>13650</th>\n",
              "      <td>15049</td>\n",
              "      <td>id1811455</td>\n",
              "      <td>2</td>\n",
              "      <td>3/23/16 15:02</td>\n",
              "      <td>3/23/16 15:18</td>\n",
              "      <td>1</td>\n",
              "      <td>-73.953751</td>\n",
              "      <td>40.775089</td>\n",
              "      <td>-73.982193</td>\n",
              "      <td>40.778511</td>\n",
              "      <td>Wednesday</td>\n",
              "      <td>10028</td>\n",
              "      <td>Manhattan</td>\n",
              "      <td>10023</td>\n",
              "      <td>Manhattan</td>\n",
              "    </tr>\n",
              "    <tr>\n",
              "      <th>13651</th>\n",
              "      <td>15050</td>\n",
              "      <td>id1264465</td>\n",
              "      <td>2</td>\n",
              "      <td>4/11/16 11:09</td>\n",
              "      <td>4/11/16 11:24</td>\n",
              "      <td>2</td>\n",
              "      <td>-73.994461</td>\n",
              "      <td>40.765064</td>\n",
              "      <td>-73.976875</td>\n",
              "      <td>40.764553</td>\n",
              "      <td>Monday</td>\n",
              "      <td>10019</td>\n",
              "      <td>Manhattan</td>\n",
              "      <td>10019</td>\n",
              "      <td>Manhattan</td>\n",
              "    </tr>\n",
              "  </tbody>\n",
              "</table>\n",
              "<p>13652 rows × 15 columns</p>\n",
              "</div>"
            ],
            "text/plain": [
              "       index         id  vendor_id  ... pickup_borough dropoff_zip  dropoff_borough\n",
              "0          0  id2875421          2  ...      Manhattan       10065        Manhattan\n",
              "1          1  id2377394          1  ...      Manhattan       10012        Manhattan\n",
              "2          2  id3858529          2  ...      Manhattan       10038        Manhattan\n",
              "3          3  id3504673          2  ...      Manhattan       10004        Manhattan\n",
              "4          4  id2181028          2  ...      Manhattan       10024        Manhattan\n",
              "...      ...        ...        ...  ...            ...         ...              ...\n",
              "13647  15045  id1883521          2  ...      Manhattan       10019        Manhattan\n",
              "13648  15047  id0546294          1  ...      Manhattan       10128        Manhattan\n",
              "13649  15048  id2764754          1  ...      Manhattan       10036        Manhattan\n",
              "13650  15049  id1811455          2  ...      Manhattan       10023        Manhattan\n",
              "13651  15050  id1264465          2  ...      Manhattan       10019        Manhattan\n",
              "\n",
              "[13652 rows x 15 columns]"
            ]
          },
          "metadata": {
            "tags": []
          },
          "execution_count": 8
        }
      ]
    },
    {
      "cell_type": "markdown",
      "metadata": {
        "id": "FTsd4gbgXZoD",
        "colab_type": "text"
      },
      "source": [
        "##1.1 Dropping data\n",
        "\n",
        "When you work with data, you'll have NaNs, duplicates or columns that don't give much insight into the data. There are different ways to deal with missing values (i.e. imputation, which you can read into on your own), but for now, let's drop some of these rows to clean up our data. \n",
        "\n",
        "1. Drop duplicate rows\n",
        "2. Drop rows that have a nan in them\n",
        "3. Drop the \"index\", \"id\", and \"vendor_id\" columns. These columns don't provide much info on our data. "
      ]
    },
    {
      "cell_type": "code",
      "metadata": {
        "id": "7_IUqZanYGHj",
        "colab_type": "code",
        "colab": {}
      },
      "source": [
        "# drop duplicates\n",
        "uber_df.drop_duplicates(inplace=True)\n",
        "\n",
        "# drop rows with NaNs\n",
        "uber_df.dropna(axis=0, how='any', inplace=True)\n",
        "\n",
        "# drop selected columns\n",
        "uber_df.drop(columns=['index','id','vendor_id'], axis=1, inplace=True)\n"
      ],
      "execution_count": 0,
      "outputs": []
    },
    {
      "cell_type": "markdown",
      "metadata": {
        "id": "2GwTkUYXY4sO",
        "colab_type": "text"
      },
      "source": [
        "Visualize your dataframe again to check if you dropped the columns properly:"
      ]
    },
    {
      "cell_type": "code",
      "metadata": {
        "id": "StmzPy6kYYkn",
        "colab_type": "code",
        "outputId": "31c23ae8-a1ac-4e07-d55c-8d70f3dcbb41",
        "colab": {
          "base_uri": "https://localhost:8080/",
          "height": 439
        }
      },
      "source": [
        "uber_df"
      ],
      "execution_count": 10,
      "outputs": [
        {
          "output_type": "execute_result",
          "data": {
            "text/html": [
              "<div>\n",
              "<style scoped>\n",
              "    .dataframe tbody tr th:only-of-type {\n",
              "        vertical-align: middle;\n",
              "    }\n",
              "\n",
              "    .dataframe tbody tr th {\n",
              "        vertical-align: top;\n",
              "    }\n",
              "\n",
              "    .dataframe thead th {\n",
              "        text-align: right;\n",
              "    }\n",
              "</style>\n",
              "<table border=\"1\" class=\"dataframe\">\n",
              "  <thead>\n",
              "    <tr style=\"text-align: right;\">\n",
              "      <th></th>\n",
              "      <th>pickup_datetime</th>\n",
              "      <th>dropoff_datetime</th>\n",
              "      <th>passenger_count</th>\n",
              "      <th>pickup_longitude</th>\n",
              "      <th>pickup_latitude</th>\n",
              "      <th>dropoff_longitude</th>\n",
              "      <th>dropoff_latitude</th>\n",
              "      <th>day_of_trip</th>\n",
              "      <th>pickup_zip</th>\n",
              "      <th>pickup_borough</th>\n",
              "      <th>dropoff_zip</th>\n",
              "      <th>dropoff_borough</th>\n",
              "    </tr>\n",
              "  </thead>\n",
              "  <tbody>\n",
              "    <tr>\n",
              "      <th>0</th>\n",
              "      <td>3/14/16 17:24</td>\n",
              "      <td>3/14/16 17:32</td>\n",
              "      <td>1</td>\n",
              "      <td>-73.982155</td>\n",
              "      <td>40.767937</td>\n",
              "      <td>-73.964630</td>\n",
              "      <td>40.765602</td>\n",
              "      <td>Monday</td>\n",
              "      <td>10023</td>\n",
              "      <td>Manhattan</td>\n",
              "      <td>10065</td>\n",
              "      <td>Manhattan</td>\n",
              "    </tr>\n",
              "    <tr>\n",
              "      <th>1</th>\n",
              "      <td>6/12/16 0:43</td>\n",
              "      <td>6/12/16 0:54</td>\n",
              "      <td>1</td>\n",
              "      <td>-73.980415</td>\n",
              "      <td>40.738564</td>\n",
              "      <td>-73.999481</td>\n",
              "      <td>40.731152</td>\n",
              "      <td>Sunday</td>\n",
              "      <td>10010</td>\n",
              "      <td>Manhattan</td>\n",
              "      <td>10012</td>\n",
              "      <td>Manhattan</td>\n",
              "    </tr>\n",
              "    <tr>\n",
              "      <th>2</th>\n",
              "      <td>1/19/16 11:35</td>\n",
              "      <td>1/19/16 12:10</td>\n",
              "      <td>1</td>\n",
              "      <td>-73.979027</td>\n",
              "      <td>40.763939</td>\n",
              "      <td>-74.005333</td>\n",
              "      <td>40.710087</td>\n",
              "      <td>Tuesday</td>\n",
              "      <td>10019</td>\n",
              "      <td>Manhattan</td>\n",
              "      <td>10038</td>\n",
              "      <td>Manhattan</td>\n",
              "    </tr>\n",
              "    <tr>\n",
              "      <th>3</th>\n",
              "      <td>4/6/16 19:32</td>\n",
              "      <td>4/6/16 19:39</td>\n",
              "      <td>1</td>\n",
              "      <td>-74.010040</td>\n",
              "      <td>40.719971</td>\n",
              "      <td>-74.012268</td>\n",
              "      <td>40.706718</td>\n",
              "      <td>Wednesday</td>\n",
              "      <td>10013</td>\n",
              "      <td>Manhattan</td>\n",
              "      <td>10004</td>\n",
              "      <td>Manhattan</td>\n",
              "    </tr>\n",
              "    <tr>\n",
              "      <th>4</th>\n",
              "      <td>3/26/16 13:30</td>\n",
              "      <td>3/26/16 13:38</td>\n",
              "      <td>1</td>\n",
              "      <td>-73.973053</td>\n",
              "      <td>40.793209</td>\n",
              "      <td>-73.972923</td>\n",
              "      <td>40.782520</td>\n",
              "      <td>Saturday</td>\n",
              "      <td>10025</td>\n",
              "      <td>Manhattan</td>\n",
              "      <td>10024</td>\n",
              "      <td>Manhattan</td>\n",
              "    </tr>\n",
              "    <tr>\n",
              "      <th>...</th>\n",
              "      <td>...</td>\n",
              "      <td>...</td>\n",
              "      <td>...</td>\n",
              "      <td>...</td>\n",
              "      <td>...</td>\n",
              "      <td>...</td>\n",
              "      <td>...</td>\n",
              "      <td>...</td>\n",
              "      <td>...</td>\n",
              "      <td>...</td>\n",
              "      <td>...</td>\n",
              "      <td>...</td>\n",
              "    </tr>\n",
              "    <tr>\n",
              "      <th>13647</th>\n",
              "      <td>1/22/16 16:55</td>\n",
              "      <td>1/22/16 17:13</td>\n",
              "      <td>2</td>\n",
              "      <td>-74.014778</td>\n",
              "      <td>40.709770</td>\n",
              "      <td>-73.982513</td>\n",
              "      <td>40.764381</td>\n",
              "      <td>Friday</td>\n",
              "      <td>10006</td>\n",
              "      <td>Manhattan</td>\n",
              "      <td>10019</td>\n",
              "      <td>Manhattan</td>\n",
              "    </tr>\n",
              "    <tr>\n",
              "      <th>13648</th>\n",
              "      <td>3/23/16 13:12</td>\n",
              "      <td>3/23/16 13:19</td>\n",
              "      <td>2</td>\n",
              "      <td>-73.964386</td>\n",
              "      <td>40.773315</td>\n",
              "      <td>-73.955849</td>\n",
              "      <td>40.785049</td>\n",
              "      <td>Wednesday</td>\n",
              "      <td>10021</td>\n",
              "      <td>Manhattan</td>\n",
              "      <td>10128</td>\n",
              "      <td>Manhattan</td>\n",
              "    </tr>\n",
              "    <tr>\n",
              "      <th>13649</th>\n",
              "      <td>1/7/16 12:48</td>\n",
              "      <td>1/7/16 13:04</td>\n",
              "      <td>1</td>\n",
              "      <td>-73.975426</td>\n",
              "      <td>40.752224</td>\n",
              "      <td>-73.985977</td>\n",
              "      <td>40.755810</td>\n",
              "      <td>Thursday</td>\n",
              "      <td>10017</td>\n",
              "      <td>Manhattan</td>\n",
              "      <td>10036</td>\n",
              "      <td>Manhattan</td>\n",
              "    </tr>\n",
              "    <tr>\n",
              "      <th>13650</th>\n",
              "      <td>3/23/16 15:02</td>\n",
              "      <td>3/23/16 15:18</td>\n",
              "      <td>1</td>\n",
              "      <td>-73.953751</td>\n",
              "      <td>40.775089</td>\n",
              "      <td>-73.982193</td>\n",
              "      <td>40.778511</td>\n",
              "      <td>Wednesday</td>\n",
              "      <td>10028</td>\n",
              "      <td>Manhattan</td>\n",
              "      <td>10023</td>\n",
              "      <td>Manhattan</td>\n",
              "    </tr>\n",
              "    <tr>\n",
              "      <th>13651</th>\n",
              "      <td>4/11/16 11:09</td>\n",
              "      <td>4/11/16 11:24</td>\n",
              "      <td>2</td>\n",
              "      <td>-73.994461</td>\n",
              "      <td>40.765064</td>\n",
              "      <td>-73.976875</td>\n",
              "      <td>40.764553</td>\n",
              "      <td>Monday</td>\n",
              "      <td>10019</td>\n",
              "      <td>Manhattan</td>\n",
              "      <td>10019</td>\n",
              "      <td>Manhattan</td>\n",
              "    </tr>\n",
              "  </tbody>\n",
              "</table>\n",
              "<p>13652 rows × 12 columns</p>\n",
              "</div>"
            ],
            "text/plain": [
              "      pickup_datetime dropoff_datetime  ...  dropoff_zip  dropoff_borough\n",
              "0       3/14/16 17:24    3/14/16 17:32  ...        10065        Manhattan\n",
              "1        6/12/16 0:43     6/12/16 0:54  ...        10012        Manhattan\n",
              "2       1/19/16 11:35    1/19/16 12:10  ...        10038        Manhattan\n",
              "3        4/6/16 19:32     4/6/16 19:39  ...        10004        Manhattan\n",
              "4       3/26/16 13:30    3/26/16 13:38  ...        10024        Manhattan\n",
              "...               ...              ...  ...          ...              ...\n",
              "13647   1/22/16 16:55    1/22/16 17:13  ...        10019        Manhattan\n",
              "13648   3/23/16 13:12    3/23/16 13:19  ...        10128        Manhattan\n",
              "13649    1/7/16 12:48     1/7/16 13:04  ...        10036        Manhattan\n",
              "13650   3/23/16 15:02    3/23/16 15:18  ...        10023        Manhattan\n",
              "13651   4/11/16 11:09    4/11/16 11:24  ...        10019        Manhattan\n",
              "\n",
              "[13652 rows x 12 columns]"
            ]
          },
          "metadata": {
            "tags": []
          },
          "execution_count": 10
        }
      ]
    },
    {
      "cell_type": "markdown",
      "metadata": {
        "id": "dIlJxXVigr18",
        "colab_type": "text"
      },
      "source": [
        "Pass the cleaned Uber dataframe to the following cell as the input for the \"answer\" parameter (3 point)"
      ]
    },
    {
      "cell_type": "code",
      "metadata": {
        "id": "cyQRhEXsYt3q",
        "colab_type": "code",
        "outputId": "e946b005-d445-48f0-aeec-38b941f8220c",
        "colab": {
          "base_uri": "https://localhost:8080/",
          "height": 68
        }
      },
      "source": [
        "#Penn Grader entry\n",
        "grader.grade(test_case_id = 'uber_drop_test', answer = uber_df)"
      ],
      "execution_count": 11,
      "outputs": [
        {
          "output_type": "stream",
          "text": [
            "Correct! You earned 3/3 points. You are a star!\n",
            "\n",
            "Your submission has been successfully recorded in the gradebook.\n"
          ],
          "name": "stdout"
        }
      ]
    },
    {
      "cell_type": "markdown",
      "metadata": {
        "id": "xaY5kOL2ZPyK",
        "colab_type": "text"
      },
      "source": [
        "##1.2 Extracting day, month and hour for each uber trip\n",
        "\n",
        "Next, let's filter out information from the pickup_datetime and dropoff_datetime columns. We want to add columns for the month, day and hour the trip occured. \n",
        "\n",
        "Hint: Highly recommend using the \"apply\" function\n",
        "\n",
        "\n",
        "**Give the following names to the columns to represent their values(case sensitive):**\n",
        "\n",
        "**pickup_year,\tpickup_day,\tpickup_month,\tpickup_hour,\tdropoff_year,\tdropoff_day,\tdropoff_month,\tdropoff_hour** "
      ]
    },
    {
      "cell_type": "code",
      "metadata": {
        "id": "4JAKEQ7MZG_g",
        "colab_type": "code",
        "outputId": "60495fc1-1dde-4d06-a436-47a66cad5315",
        "colab": {
          "base_uri": "https://localhost:8080/",
          "height": 439
        }
      },
      "source": [
        "# pick up time strip\n",
        "uber_df['pickup_date'] = uber_df['pickup_datetime'].apply(lambda x: datetime.strptime(x, '%m/%d/%y %H:%M'))\n",
        "uber_df['pickup_year'] = uber_df['pickup_date'].apply(lambda x: x.year)\n",
        "uber_df['pickup_month'] = uber_df['pickup_date'].apply(lambda x: x.month)\n",
        "uber_df['pickup_day'] = uber_df['pickup_date'].apply(lambda x: x.day)\n",
        "uber_df['pickup_hour'] = uber_df['pickup_date'].apply(lambda x: x.hour)\n",
        "\n",
        "\n",
        "# drop off time strip\n",
        "uber_df['dropoff_date'] = uber_df['dropoff_datetime'].apply(lambda x: datetime.strptime(x, '%m/%d/%y %H:%M'))\n",
        "uber_df['dropoff_year'] = uber_df['dropoff_date'].apply(lambda x: x.year)\n",
        "uber_df['dropoff_month'] = uber_df['dropoff_date'].apply(lambda x: x.month)\n",
        "uber_df['dropoff_day'] = uber_df['dropoff_date'].apply(lambda x: x.day)\n",
        "uber_df['dropoff_hour'] = uber_df['dropoff_date'].apply(lambda x: x.hour)\n",
        "\n",
        "# turn columns' type to string as requested\n",
        "uber_df['pickup_year'] = uber_df['pickup_year'].astype(str)\n",
        "uber_df['pickup_month'] = uber_df['pickup_month'].astype(str)\n",
        "uber_df['pickup_day'] = uber_df['pickup_day'].astype(str)\n",
        "uber_df['pickup_hour'] = uber_df['pickup_hour'].astype(str)\n",
        "\n",
        "uber_df['dropoff_year'] = uber_df['dropoff_year'].astype(str)\n",
        "uber_df['dropoff_month'] = uber_df['dropoff_month'].astype(str)\n",
        "uber_df['dropoff_day'] = uber_df['dropoff_day'].astype(str)\n",
        "uber_df['dropoff_hour'] = uber_df['dropoff_hour'].astype(str)\n",
        "\n",
        "# drop extra columns\n",
        "uber_df.drop(columns=['pickup_date','dropoff_date'], axis=1, inplace=True)\n",
        "uber_df"
      ],
      "execution_count": 12,
      "outputs": [
        {
          "output_type": "execute_result",
          "data": {
            "text/html": [
              "<div>\n",
              "<style scoped>\n",
              "    .dataframe tbody tr th:only-of-type {\n",
              "        vertical-align: middle;\n",
              "    }\n",
              "\n",
              "    .dataframe tbody tr th {\n",
              "        vertical-align: top;\n",
              "    }\n",
              "\n",
              "    .dataframe thead th {\n",
              "        text-align: right;\n",
              "    }\n",
              "</style>\n",
              "<table border=\"1\" class=\"dataframe\">\n",
              "  <thead>\n",
              "    <tr style=\"text-align: right;\">\n",
              "      <th></th>\n",
              "      <th>pickup_datetime</th>\n",
              "      <th>dropoff_datetime</th>\n",
              "      <th>passenger_count</th>\n",
              "      <th>pickup_longitude</th>\n",
              "      <th>pickup_latitude</th>\n",
              "      <th>dropoff_longitude</th>\n",
              "      <th>dropoff_latitude</th>\n",
              "      <th>day_of_trip</th>\n",
              "      <th>pickup_zip</th>\n",
              "      <th>pickup_borough</th>\n",
              "      <th>dropoff_zip</th>\n",
              "      <th>dropoff_borough</th>\n",
              "      <th>pickup_year</th>\n",
              "      <th>pickup_month</th>\n",
              "      <th>pickup_day</th>\n",
              "      <th>pickup_hour</th>\n",
              "      <th>dropoff_year</th>\n",
              "      <th>dropoff_month</th>\n",
              "      <th>dropoff_day</th>\n",
              "      <th>dropoff_hour</th>\n",
              "    </tr>\n",
              "  </thead>\n",
              "  <tbody>\n",
              "    <tr>\n",
              "      <th>0</th>\n",
              "      <td>3/14/16 17:24</td>\n",
              "      <td>3/14/16 17:32</td>\n",
              "      <td>1</td>\n",
              "      <td>-73.982155</td>\n",
              "      <td>40.767937</td>\n",
              "      <td>-73.964630</td>\n",
              "      <td>40.765602</td>\n",
              "      <td>Monday</td>\n",
              "      <td>10023</td>\n",
              "      <td>Manhattan</td>\n",
              "      <td>10065</td>\n",
              "      <td>Manhattan</td>\n",
              "      <td>2016</td>\n",
              "      <td>3</td>\n",
              "      <td>14</td>\n",
              "      <td>17</td>\n",
              "      <td>2016</td>\n",
              "      <td>3</td>\n",
              "      <td>14</td>\n",
              "      <td>17</td>\n",
              "    </tr>\n",
              "    <tr>\n",
              "      <th>1</th>\n",
              "      <td>6/12/16 0:43</td>\n",
              "      <td>6/12/16 0:54</td>\n",
              "      <td>1</td>\n",
              "      <td>-73.980415</td>\n",
              "      <td>40.738564</td>\n",
              "      <td>-73.999481</td>\n",
              "      <td>40.731152</td>\n",
              "      <td>Sunday</td>\n",
              "      <td>10010</td>\n",
              "      <td>Manhattan</td>\n",
              "      <td>10012</td>\n",
              "      <td>Manhattan</td>\n",
              "      <td>2016</td>\n",
              "      <td>6</td>\n",
              "      <td>12</td>\n",
              "      <td>0</td>\n",
              "      <td>2016</td>\n",
              "      <td>6</td>\n",
              "      <td>12</td>\n",
              "      <td>0</td>\n",
              "    </tr>\n",
              "    <tr>\n",
              "      <th>2</th>\n",
              "      <td>1/19/16 11:35</td>\n",
              "      <td>1/19/16 12:10</td>\n",
              "      <td>1</td>\n",
              "      <td>-73.979027</td>\n",
              "      <td>40.763939</td>\n",
              "      <td>-74.005333</td>\n",
              "      <td>40.710087</td>\n",
              "      <td>Tuesday</td>\n",
              "      <td>10019</td>\n",
              "      <td>Manhattan</td>\n",
              "      <td>10038</td>\n",
              "      <td>Manhattan</td>\n",
              "      <td>2016</td>\n",
              "      <td>1</td>\n",
              "      <td>19</td>\n",
              "      <td>11</td>\n",
              "      <td>2016</td>\n",
              "      <td>1</td>\n",
              "      <td>19</td>\n",
              "      <td>12</td>\n",
              "    </tr>\n",
              "    <tr>\n",
              "      <th>3</th>\n",
              "      <td>4/6/16 19:32</td>\n",
              "      <td>4/6/16 19:39</td>\n",
              "      <td>1</td>\n",
              "      <td>-74.010040</td>\n",
              "      <td>40.719971</td>\n",
              "      <td>-74.012268</td>\n",
              "      <td>40.706718</td>\n",
              "      <td>Wednesday</td>\n",
              "      <td>10013</td>\n",
              "      <td>Manhattan</td>\n",
              "      <td>10004</td>\n",
              "      <td>Manhattan</td>\n",
              "      <td>2016</td>\n",
              "      <td>4</td>\n",
              "      <td>6</td>\n",
              "      <td>19</td>\n",
              "      <td>2016</td>\n",
              "      <td>4</td>\n",
              "      <td>6</td>\n",
              "      <td>19</td>\n",
              "    </tr>\n",
              "    <tr>\n",
              "      <th>4</th>\n",
              "      <td>3/26/16 13:30</td>\n",
              "      <td>3/26/16 13:38</td>\n",
              "      <td>1</td>\n",
              "      <td>-73.973053</td>\n",
              "      <td>40.793209</td>\n",
              "      <td>-73.972923</td>\n",
              "      <td>40.782520</td>\n",
              "      <td>Saturday</td>\n",
              "      <td>10025</td>\n",
              "      <td>Manhattan</td>\n",
              "      <td>10024</td>\n",
              "      <td>Manhattan</td>\n",
              "      <td>2016</td>\n",
              "      <td>3</td>\n",
              "      <td>26</td>\n",
              "      <td>13</td>\n",
              "      <td>2016</td>\n",
              "      <td>3</td>\n",
              "      <td>26</td>\n",
              "      <td>13</td>\n",
              "    </tr>\n",
              "    <tr>\n",
              "      <th>...</th>\n",
              "      <td>...</td>\n",
              "      <td>...</td>\n",
              "      <td>...</td>\n",
              "      <td>...</td>\n",
              "      <td>...</td>\n",
              "      <td>...</td>\n",
              "      <td>...</td>\n",
              "      <td>...</td>\n",
              "      <td>...</td>\n",
              "      <td>...</td>\n",
              "      <td>...</td>\n",
              "      <td>...</td>\n",
              "      <td>...</td>\n",
              "      <td>...</td>\n",
              "      <td>...</td>\n",
              "      <td>...</td>\n",
              "      <td>...</td>\n",
              "      <td>...</td>\n",
              "      <td>...</td>\n",
              "      <td>...</td>\n",
              "    </tr>\n",
              "    <tr>\n",
              "      <th>13647</th>\n",
              "      <td>1/22/16 16:55</td>\n",
              "      <td>1/22/16 17:13</td>\n",
              "      <td>2</td>\n",
              "      <td>-74.014778</td>\n",
              "      <td>40.709770</td>\n",
              "      <td>-73.982513</td>\n",
              "      <td>40.764381</td>\n",
              "      <td>Friday</td>\n",
              "      <td>10006</td>\n",
              "      <td>Manhattan</td>\n",
              "      <td>10019</td>\n",
              "      <td>Manhattan</td>\n",
              "      <td>2016</td>\n",
              "      <td>1</td>\n",
              "      <td>22</td>\n",
              "      <td>16</td>\n",
              "      <td>2016</td>\n",
              "      <td>1</td>\n",
              "      <td>22</td>\n",
              "      <td>17</td>\n",
              "    </tr>\n",
              "    <tr>\n",
              "      <th>13648</th>\n",
              "      <td>3/23/16 13:12</td>\n",
              "      <td>3/23/16 13:19</td>\n",
              "      <td>2</td>\n",
              "      <td>-73.964386</td>\n",
              "      <td>40.773315</td>\n",
              "      <td>-73.955849</td>\n",
              "      <td>40.785049</td>\n",
              "      <td>Wednesday</td>\n",
              "      <td>10021</td>\n",
              "      <td>Manhattan</td>\n",
              "      <td>10128</td>\n",
              "      <td>Manhattan</td>\n",
              "      <td>2016</td>\n",
              "      <td>3</td>\n",
              "      <td>23</td>\n",
              "      <td>13</td>\n",
              "      <td>2016</td>\n",
              "      <td>3</td>\n",
              "      <td>23</td>\n",
              "      <td>13</td>\n",
              "    </tr>\n",
              "    <tr>\n",
              "      <th>13649</th>\n",
              "      <td>1/7/16 12:48</td>\n",
              "      <td>1/7/16 13:04</td>\n",
              "      <td>1</td>\n",
              "      <td>-73.975426</td>\n",
              "      <td>40.752224</td>\n",
              "      <td>-73.985977</td>\n",
              "      <td>40.755810</td>\n",
              "      <td>Thursday</td>\n",
              "      <td>10017</td>\n",
              "      <td>Manhattan</td>\n",
              "      <td>10036</td>\n",
              "      <td>Manhattan</td>\n",
              "      <td>2016</td>\n",
              "      <td>1</td>\n",
              "      <td>7</td>\n",
              "      <td>12</td>\n",
              "      <td>2016</td>\n",
              "      <td>1</td>\n",
              "      <td>7</td>\n",
              "      <td>13</td>\n",
              "    </tr>\n",
              "    <tr>\n",
              "      <th>13650</th>\n",
              "      <td>3/23/16 15:02</td>\n",
              "      <td>3/23/16 15:18</td>\n",
              "      <td>1</td>\n",
              "      <td>-73.953751</td>\n",
              "      <td>40.775089</td>\n",
              "      <td>-73.982193</td>\n",
              "      <td>40.778511</td>\n",
              "      <td>Wednesday</td>\n",
              "      <td>10028</td>\n",
              "      <td>Manhattan</td>\n",
              "      <td>10023</td>\n",
              "      <td>Manhattan</td>\n",
              "      <td>2016</td>\n",
              "      <td>3</td>\n",
              "      <td>23</td>\n",
              "      <td>15</td>\n",
              "      <td>2016</td>\n",
              "      <td>3</td>\n",
              "      <td>23</td>\n",
              "      <td>15</td>\n",
              "    </tr>\n",
              "    <tr>\n",
              "      <th>13651</th>\n",
              "      <td>4/11/16 11:09</td>\n",
              "      <td>4/11/16 11:24</td>\n",
              "      <td>2</td>\n",
              "      <td>-73.994461</td>\n",
              "      <td>40.765064</td>\n",
              "      <td>-73.976875</td>\n",
              "      <td>40.764553</td>\n",
              "      <td>Monday</td>\n",
              "      <td>10019</td>\n",
              "      <td>Manhattan</td>\n",
              "      <td>10019</td>\n",
              "      <td>Manhattan</td>\n",
              "      <td>2016</td>\n",
              "      <td>4</td>\n",
              "      <td>11</td>\n",
              "      <td>11</td>\n",
              "      <td>2016</td>\n",
              "      <td>4</td>\n",
              "      <td>11</td>\n",
              "      <td>11</td>\n",
              "    </tr>\n",
              "  </tbody>\n",
              "</table>\n",
              "<p>13652 rows × 20 columns</p>\n",
              "</div>"
            ],
            "text/plain": [
              "      pickup_datetime dropoff_datetime  ...  dropoff_day  dropoff_hour\n",
              "0       3/14/16 17:24    3/14/16 17:32  ...           14            17\n",
              "1        6/12/16 0:43     6/12/16 0:54  ...           12             0\n",
              "2       1/19/16 11:35    1/19/16 12:10  ...           19            12\n",
              "3        4/6/16 19:32     4/6/16 19:39  ...            6            19\n",
              "4       3/26/16 13:30    3/26/16 13:38  ...           26            13\n",
              "...               ...              ...  ...          ...           ...\n",
              "13647   1/22/16 16:55    1/22/16 17:13  ...           22            17\n",
              "13648   3/23/16 13:12    3/23/16 13:19  ...           23            13\n",
              "13649    1/7/16 12:48     1/7/16 13:04  ...            7            13\n",
              "13650   3/23/16 15:02    3/23/16 15:18  ...           23            15\n",
              "13651   4/11/16 11:09    4/11/16 11:24  ...           11            11\n",
              "\n",
              "[13652 rows x 20 columns]"
            ]
          },
          "metadata": {
            "tags": []
          },
          "execution_count": 12
        }
      ]
    },
    {
      "cell_type": "markdown",
      "metadata": {
        "id": "XCv-NoAhg49M",
        "colab_type": "text"
      },
      "source": [
        "Pass the cleaned Uber dataframe to the following cell as the input for the \"answer\" parameter (10 points)"
      ]
    },
    {
      "cell_type": "code",
      "metadata": {
        "id": "T5xBYSVkoOXj",
        "colab_type": "code",
        "outputId": "1c6a3485-bd08-4d61-b710-29ba46ff5bc2",
        "colab": {
          "base_uri": "https://localhost:8080/",
          "height": 68
        }
      },
      "source": [
        "#Penn Grader entry\n",
        "grader.grade(test_case_id = 'uber_extract', answer = uber_df)"
      ],
      "execution_count": 13,
      "outputs": [
        {
          "output_type": "stream",
          "text": [
            "Correct! You earned 10/10 points. You are a star!\n",
            "\n",
            "Your submission has been successfully recorded in the gradebook.\n"
          ],
          "name": "stdout"
        }
      ]
    },
    {
      "cell_type": "markdown",
      "metadata": {
        "id": "qVeDP1olq28R",
        "colab_type": "text"
      },
      "source": [
        "Now get the duration of the trip in seconds. I recommend looking into the datetime library in Python. Name this new column: \"seconds\""
      ]
    },
    {
      "cell_type": "code",
      "metadata": {
        "id": "1b4DRhTPp2qZ",
        "colab_type": "code",
        "colab": {}
      },
      "source": [
        "# strip time\n",
        "uber_df['pickup_date'] = uber_df['pickup_datetime'].apply(lambda x: datetime.strptime(x, '%m/%d/%y %H:%M'))\n",
        "uber_df['dropoff_date'] = uber_df['dropoff_datetime'].apply(lambda x: datetime.strptime(x, '%m/%d/%y %H:%M'))\n",
        "\n",
        "# calculate time span\n",
        "uber_df['diff'] = uber_df['dropoff_date'] - uber_df['pickup_date']\n",
        "uber_df['seconds'] = uber_df['diff'].dt.total_seconds()\n",
        "\n",
        "# drop unwanted columns\n",
        "uber_df.drop(columns=['pickup_date', 'dropoff_date', 'diff'], inplace=True)"
      ],
      "execution_count": 0,
      "outputs": []
    },
    {
      "cell_type": "markdown",
      "metadata": {
        "id": "FxZG0BYbhCM9",
        "colab_type": "text"
      },
      "source": [
        "Pass the \"seconds\" column(a Series) of the Uber dataframe to the autograder (4 points)"
      ]
    },
    {
      "cell_type": "code",
      "metadata": {
        "id": "YW_2OT1WsAgy",
        "colab_type": "code",
        "outputId": "ce57fa5c-c299-4a57-cbba-95d1c53a2bc2",
        "colab": {
          "base_uri": "https://localhost:8080/",
          "height": 68
        }
      },
      "source": [
        "#Penn Grader entry\n",
        "grader.grade(test_case_id = 'uber_seconds', answer = uber_df['seconds'])"
      ],
      "execution_count": 15,
      "outputs": [
        {
          "output_type": "stream",
          "text": [
            "Correct! You earned 4/4 points. You are a star!\n",
            "\n",
            "Your submission has been successfully recorded in the gradebook.\n"
          ],
          "name": "stdout"
        }
      ]
    },
    {
      "cell_type": "markdown",
      "metadata": {
        "id": "Alul5KAyuvZ8",
        "colab_type": "text"
      },
      "source": [
        "Now, find the average uber trip duration in seconds for all trips that are dropped off in Manhattan. Assign your value to the manhattan_duration variable as an int\n",
        "\n",
        "Hint: think split-apply-combine..."
      ]
    },
    {
      "cell_type": "code",
      "metadata": {
        "id": "ZnYVA2Sxul3z",
        "colab_type": "code",
        "colab": {}
      },
      "source": [
        "# group dataframe by drop_off places and calculate the mean of seconds\n",
        "manhattan_duration = uber_df.groupby('dropoff_borough')['seconds'].mean()['Manhattan']"
      ],
      "execution_count": 0,
      "outputs": []
    },
    {
      "cell_type": "markdown",
      "metadata": {
        "id": "LDk4B30KhKc5",
        "colab_type": "text"
      },
      "source": [
        "Pass the manhattan_duration variable to the autograder (5 points)"
      ]
    },
    {
      "cell_type": "code",
      "metadata": {
        "id": "rznwI-lGwyAd",
        "colab_type": "code",
        "outputId": "dc4479b9-5beb-4bc9-bf53-54ccf2059c0d",
        "colab": {
          "base_uri": "https://localhost:8080/",
          "height": 68
        }
      },
      "source": [
        "#Penn grader entry\n",
        "grader.grade(test_case_id = 'manhattan', answer = manhattan_duration)"
      ],
      "execution_count": 17,
      "outputs": [
        {
          "output_type": "stream",
          "text": [
            "Correct! You earned 5/5 points. You are a star!\n",
            "\n",
            "Your submission has been successfully recorded in the gradebook.\n"
          ],
          "name": "stdout"
        }
      ]
    },
    {
      "cell_type": "markdown",
      "metadata": {
        "id": "t4LEvxVt01gM",
        "colab_type": "text"
      },
      "source": [
        "##1.3 Find where the cool kids live\n",
        "\n",
        "I'm usually asleep by 11PM but a cool kid is someone whose taking an Uber Friday night and getting dropped off between 12 - 2AM after a fun night of being cool.\n",
        "\n",
        "1. Narrow down your dataframe to rows where the trip happened on a Friday and have a drop off time between 12 - 2AM (inclusive).\n",
        "\n",
        "2. Get a count of how many rows belong to each dropoff_zipcode (This represents the number of trips that are dropped off at each zipcode). Save this as a series to a variable named 'by_zipcode' for grading. Use \"size\" instead of \"count\" for the groupby\n",
        "\n",
        "3. Return the top 3 zipcodes with the highest count zipcodes as a list in descending order of the count. (If zipcode 11111 has 300 rows, 22222 has 100, 33333 has 200, it should be [11111, 33333, 22222]).\n",
        "\n",
        "Name this list as a variable: \"popular_zipcodes\""
      ]
    },
    {
      "cell_type": "code",
      "metadata": {
        "id": "wmKnVIKcwzX_",
        "colab_type": "code",
        "outputId": "3f1acfdb-22b3-4172-9d83-55b7916b119d",
        "colab": {
          "base_uri": "https://localhost:8080/",
          "height": 119
        }
      },
      "source": [
        "# narrow dataframe to Friday data\n",
        "uber_fri = uber_df.loc[uber_df.day_of_trip == 'Friday']\n",
        "\n",
        "# narrow dataframe with dropoff time between 12:00-2:00 am\n",
        "uber_fri['dropoff_hour'] = uber_fri['dropoff_hour'].astype(int)\n",
        "uber_fri = uber_fri.loc[uber_fri.dropoff_hour < 3]\n",
        "\n",
        "# store by_zipcode\n",
        "by_zipcode = uber_fri.groupby('dropoff_zip').size()\n",
        "by_zipcode.sort_values(ascending=False, inplace=True)\n",
        "\n",
        "# get top 3 popular zipcodes\n",
        "popular_zipcodes = list(by_zipcode.iloc[:3].keys())"
      ],
      "execution_count": 18,
      "outputs": [
        {
          "output_type": "stream",
          "text": [
            "/usr/local/lib/python3.6/dist-packages/ipykernel_launcher.py:4: SettingWithCopyWarning: \n",
            "A value is trying to be set on a copy of a slice from a DataFrame.\n",
            "Try using .loc[row_indexer,col_indexer] = value instead\n",
            "\n",
            "See the caveats in the documentation: http://pandas.pydata.org/pandas-docs/stable/user_guide/indexing.html#returning-a-view-versus-a-copy\n",
            "  after removing the cwd from sys.path.\n"
          ],
          "name": "stderr"
        }
      ]
    },
    {
      "cell_type": "markdown",
      "metadata": {
        "id": "-ADONXahl8fe",
        "colab_type": "text"
      },
      "source": [
        "Pass in a tuple as your answer to the autograder in the form (Series from part 2, list of 3 zipcodes from part 3) (11 points)"
      ]
    },
    {
      "cell_type": "code",
      "metadata": {
        "id": "YGaFwGU26STh",
        "colab_type": "code",
        "outputId": "cc0ac019-ac7e-4e50-e343-a6c14c7a4263",
        "colab": {
          "base_uri": "https://localhost:8080/",
          "height": 68
        }
      },
      "source": [
        "#Penn grader entry\n",
        "grader.grade(test_case_id = 'not_craig', answer = (by_zipcode, popular_zipcodes))"
      ],
      "execution_count": 19,
      "outputs": [
        {
          "output_type": "stream",
          "text": [
            "Correct! You earned 11/11 points. You are a star!\n",
            "\n",
            "Your submission has been successfully recorded in the gradebook.\n"
          ],
          "name": "stdout"
        }
      ]
    },
    {
      "cell_type": "markdown",
      "metadata": {
        "id": "2GARNK9g3x5k",
        "colab_type": "text"
      },
      "source": [
        "## 1.4 Find the popular days to Uber\n",
        "\n",
        "Which days of the week have highest Uber activity? Get the count of Uber Trips per day and then plot a histogram of it."
      ]
    },
    {
      "cell_type": "code",
      "metadata": {
        "id": "thkF6a1Z3y35",
        "colab_type": "code",
        "outputId": "0616466a-18ce-4c50-bc9e-aaab853ab7a0",
        "colab": {
          "base_uri": "https://localhost:8080/",
          "height": 170
        }
      },
      "source": [
        "day_of_week = uber_df.groupby('day_of_trip').size()\n",
        "day_of_week.sort_values(inplace=True)\n",
        "day_of_week"
      ],
      "execution_count": 20,
      "outputs": [
        {
          "output_type": "execute_result",
          "data": {
            "text/plain": [
              "day_of_trip\n",
              "Monday       1714\n",
              "Sunday       1810\n",
              "Wednesday    1942\n",
              "Tuesday      1964\n",
              "Thursday     1997\n",
              "Friday       2074\n",
              "Saturday     2151\n",
              "dtype: int64"
            ]
          },
          "metadata": {
            "tags": []
          },
          "execution_count": 20
        }
      ]
    },
    {
      "cell_type": "code",
      "metadata": {
        "id": "5tmv_kWsuOHa",
        "colab_type": "code",
        "outputId": "8d36068f-a8f2-4d1e-acea-ccb6656523e0",
        "colab": {
          "base_uri": "https://localhost:8080/",
          "height": 367
        }
      },
      "source": [
        "plt.figure(figsize=(7,5))\n",
        "w = 0.5\n",
        "\n",
        "plt.bar(day_of_week.index, day_of_week.values, width=w, color=\"orange\")\n",
        "plt.title('Uber Activity in Days of the Week')\n",
        "plt.xlabel('Day of the Week')\n",
        "plt.ylabel('Counts')"
      ],
      "execution_count": 21,
      "outputs": [
        {
          "output_type": "execute_result",
          "data": {
            "text/plain": [
              "Text(0, 0.5, 'Counts')"
            ]
          },
          "metadata": {
            "tags": []
          },
          "execution_count": 21
        },
        {
          "output_type": "display_data",
          "data": {
            "image/png": "[encoded data removed]",
            "text/plain": [
              "<Figure size 504x360 with 1 Axes>"
            ]
          },
          "metadata": {
            "tags": []
          }
        }
      ]
    },
    {
      "cell_type": "markdown",
      "metadata": {
        "id": "Ga-8H0juW0ip",
        "colab_type": "text"
      },
      "source": [
        "Assign (hardcode) the least and most popular days to different variables"
      ]
    },
    {
      "cell_type": "code",
      "metadata": {
        "id": "u7zrg1hjS1yj",
        "colab_type": "code",
        "colab": {}
      },
      "source": [
        "least_popular = \"Monday\"\n",
        "most_popular = \"Saturday\""
      ],
      "execution_count": 0,
      "outputs": []
    },
    {
      "cell_type": "markdown",
      "metadata": {
        "id": "Ghm9lDgonEfR",
        "colab_type": "text"
      },
      "source": [
        "Submit your answer to the autograder as a tuple (least_popular, most_popular) (4 points)"
      ]
    },
    {
      "cell_type": "code",
      "metadata": {
        "id": "CMNw86uL9jWU",
        "colab_type": "code",
        "outputId": "dc194cfa-c576-4633-98db-fe4522c4dee5",
        "colab": {
          "base_uri": "https://localhost:8080/",
          "height": 68
        }
      },
      "source": [
        "#Penn grader entry\n",
        "grader.grade(test_case_id = 'popularity_histogram', answer = (least_popular, most_popular))"
      ],
      "execution_count": 23,
      "outputs": [
        {
          "output_type": "stream",
          "text": [
            "Correct! You earned 4/4 points. You are a star!\n",
            "\n",
            "Your submission has been successfully recorded in the gradebook.\n"
          ],
          "name": "stdout"
        }
      ]
    },
    {
      "cell_type": "markdown",
      "metadata": {
        "id": "rxh3QKx_BLoK",
        "colab_type": "text"
      },
      "source": [
        "#Part 2: Working with Airbnb Data\n",
        "\n",
        "Read in the AirBnB data similar to the Uber data.\n",
        "\n",
        "Assign it to a variable named: \"airbnb_df\""
      ]
    },
    {
      "cell_type": "code",
      "metadata": {
        "id": "mxCE7HNY6wuy",
        "colab_type": "code",
        "colab": {}
      },
      "source": [
        "airbnb_df = pd.read_csv('airbnb_data_start.csv')"
      ],
      "execution_count": 0,
      "outputs": []
    },
    {
      "cell_type": "markdown",
      "metadata": {
        "id": "zwXjh9zU1aPH",
        "colab_type": "text"
      },
      "source": [
        "Do the same drop check as Uber with the duplicates and NaN values\n",
        "\n",
        "For our test, take the first 75 rows of the cleaned airbnb data, save it to a variable and send that to the autograder. (3 points)\n",
        "\n",
        "Name this 75 row df: \"first_75\"\n",
        "\n",
        "**Make sure that when you grab the first 75 rows, you assign this to a new variable and not overwrite the original airbnb_df**"
      ]
    },
    {
      "cell_type": "code",
      "metadata": {
        "id": "0KkShi2V1C2g",
        "colab_type": "code",
        "colab": {}
      },
      "source": [
        "airbnb_df.drop_duplicates(inplace=True)\n",
        "airbnb_df.dropna(axis=0, how='any', inplace=True)\n",
        "\n",
        "first_75 = airbnb_df.iloc[:75,:]"
      ],
      "execution_count": 0,
      "outputs": []
    },
    {
      "cell_type": "code",
      "metadata": {
        "id": "NxYCbk1Y17Jz",
        "colab_type": "code",
        "outputId": "567a7f6a-6006-435a-8752-18c4972d6253",
        "colab": {
          "base_uri": "https://localhost:8080/",
          "height": 68
        }
      },
      "source": [
        "#Penn grader entry\n",
        "grader.grade(test_case_id = 'airbnb_drop', answer = first_75)"
      ],
      "execution_count": 26,
      "outputs": [
        {
          "output_type": "stream",
          "text": [
            "Correct! You earned 3/3 points. You are a star!\n",
            "\n",
            "Your submission has been successfully recorded in the gradebook.\n"
          ],
          "name": "stdout"
        }
      ]
    },
    {
      "cell_type": "markdown",
      "metadata": {
        "id": "X0lbc-EJ2gop",
        "colab_type": "text"
      },
      "source": [
        "Nobody wants to stay in an AirBnB that has very few ratings. Seems very sketchy. Let's drop all the rows/listings that have less than 5 reviews.\n",
        "\n",
        "Save this to a variable named: \"airbnb_review_5_df\""
      ]
    },
    {
      "cell_type": "code",
      "metadata": {
        "id": "N90ACUHK2EBh",
        "colab_type": "code",
        "colab": {}
      },
      "source": [
        "airbnb_review_5_df = airbnb_df.loc[airbnb_df.number_of_reviews >= 5]"
      ],
      "execution_count": 0,
      "outputs": []
    },
    {
      "cell_type": "markdown",
      "metadata": {
        "id": "S1HbxHCznTjA",
        "colab_type": "text"
      },
      "source": [
        "Pass in the filtered dataframe into the autograder (3 points)"
      ]
    },
    {
      "cell_type": "code",
      "metadata": {
        "id": "2RFQEwST2wst",
        "colab_type": "code",
        "outputId": "d9bcaa88-3557-4916-a787-3fe962c104dd",
        "colab": {
          "base_uri": "https://localhost:8080/",
          "height": 68
        }
      },
      "source": [
        "#Penn grader entry\n",
        "grader.grade(test_case_id = 'airbnb_filter', answer = airbnb_review_5_df)"
      ],
      "execution_count": 28,
      "outputs": [
        {
          "output_type": "stream",
          "text": [
            "Correct! You earned 3/3 points. You are a star!\n",
            "\n",
            "Your submission has been successfully recorded in the gradebook.\n"
          ],
          "name": "stdout"
        }
      ]
    },
    {
      "cell_type": "markdown",
      "metadata": {
        "id": "GPl8bysR0hZc",
        "colab_type": "text"
      },
      "source": [
        "###2.1 Get more data that you don't already have\n",
        "\n",
        "In this case, we gave you a CSV that had zipcodes for AirBnbs. However, in the real world, you'll need to add additional data to your existing data. That's what we'll do here.\n",
        "\n",
        "Read in airbnb_zipcode.csv into a dataframe and delete the columns that have NaN. You'll notice this data doesn't have a zipcode column. We want the zipcode for each row. Add a new column to the dataframe with the associated zipcode for the given longitude/latitude point. This can be achieved through using the latitude and longitude. Google around for ways to convert latitude/longitude points into a zipcode in Python. I suggest a few options:\n",
        "\n",
        "* https://geopy.readthedocs.io/en/stable/\n",
        "\n",
        "* https://developer.mapquest.com/\n",
        "\n",
        "* https://stackoverflow.com/questions/54320931/python-code-for-reverse-geo-coding-using-google-api\n",
        "\n",
        "This part can be a little challenging. Keep working at it and don't get discouraged! We believe in you. TAs are also here to help (office hours & Piazza)!\n",
        "\n",
        "**Make sure the added zipcode column name is named \"zipcode\"**\n",
        "\n",
        "Name the variable that you read in the data as: \"airbnb_zip\""
      ]
    },
    {
      "cell_type": "code",
      "metadata": {
        "id": "aUhTb_6L0-7E",
        "colab_type": "code",
        "outputId": "4d348379-c4b4-44d5-a416-fffc21194535",
        "colab": {
          "base_uri": "https://localhost:8080/",
          "height": 419
        }
      },
      "source": [
        "# drop columns with NaNs\n",
        "airbnb_zipcode = pd.read_csv('airbnb_zipcode.csv')\n",
        "airbnb_zipcode.dropna(axis=1,how='any',inplace=True)\n",
        "\n",
        "import re\n",
        "\n",
        "def get_zipcode(latlongi_string):\n",
        "  '''request map reverse information using API and regex the text with wanted postcode pattern'''\n",
        "  link_base = 'http://www.mapquestapi.com/geocoding/v1/reverse?key=KtWGHmvS0CEJpdygqsVZnI1DLShHFS4u&location='\n",
        "  link = link_base+latlongi_string\n",
        "  response = requests.get(link).text\n",
        "  zip_regex = re.compile(r'\"postalCode\":\".*?\"')\n",
        "  zip_output = zip_regex.search(response).group()[14:19]\n",
        "  return zip_output\n",
        "\n",
        "# create functional columns to generate unque url for each row\n",
        "airbnb_zipcode['latitude1'] = airbnb_zipcode['latitude'].astype(str)\n",
        "airbnb_zipcode['longitude1'] = airbnb_zipcode['longitude'].astype(str)\n",
        "airbnb_zipcode['latlong'] = airbnb_zipcode['latitude1'] + ',' + airbnb_zipcode['longitude1']\n",
        "# apply the get zipcode function and turn the variables into integers\n",
        "airbnb_zipcode['zipcode'] = airbnb_zipcode['latlong'].apply(lambda x: get_zipcode(x))\n",
        "airbnb_zipcode['zipcode'] = airbnb_zipcode['zipcode'].astype(int)\n",
        "\n",
        "# drop temporary columns and make a copy of the dataframe\n",
        "airbnb_zipcode.drop(columns=['latitude1','longitude1','latlong'], inplace=True)\n",
        "airbnb_zip = airbnb_zipcode\n",
        "airbnb_zip"
      ],
      "execution_count": 29,
      "outputs": [
        {
          "output_type": "execute_result",
          "data": {
            "text/html": [
              "<div>\n",
              "<style scoped>\n",
              "    .dataframe tbody tr th:only-of-type {\n",
              "        vertical-align: middle;\n",
              "    }\n",
              "\n",
              "    .dataframe tbody tr th {\n",
              "        vertical-align: top;\n",
              "    }\n",
              "\n",
              "    .dataframe thead th {\n",
              "        text-align: right;\n",
              "    }\n",
              "</style>\n",
              "<table border=\"1\" class=\"dataframe\">\n",
              "  <thead>\n",
              "    <tr style=\"text-align: right;\">\n",
              "      <th></th>\n",
              "      <th>id</th>\n",
              "      <th>neighbourhood_group</th>\n",
              "      <th>neighbourhood</th>\n",
              "      <th>latitude</th>\n",
              "      <th>longitude</th>\n",
              "      <th>room_type</th>\n",
              "      <th>price</th>\n",
              "      <th>zipcode</th>\n",
              "    </tr>\n",
              "  </thead>\n",
              "  <tbody>\n",
              "    <tr>\n",
              "      <th>0</th>\n",
              "      <td>0</td>\n",
              "      <td>Brooklyn</td>\n",
              "      <td>Crown Heights</td>\n",
              "      <td>40.67780</td>\n",
              "      <td>-73.94339</td>\n",
              "      <td>single</td>\n",
              "      <td>100</td>\n",
              "      <td>11216</td>\n",
              "    </tr>\n",
              "    <tr>\n",
              "      <th>1</th>\n",
              "      <td>1</td>\n",
              "      <td>Brooklyn</td>\n",
              "      <td>Bedford-Stuyvesant</td>\n",
              "      <td>40.68317</td>\n",
              "      <td>-73.94701</td>\n",
              "      <td>single</td>\n",
              "      <td>70</td>\n",
              "      <td>11216</td>\n",
              "    </tr>\n",
              "    <tr>\n",
              "      <th>2</th>\n",
              "      <td>2</td>\n",
              "      <td>Brooklyn</td>\n",
              "      <td>Crown Heights</td>\n",
              "      <td>40.67610</td>\n",
              "      <td>-73.95290</td>\n",
              "      <td>single</td>\n",
              "      <td>110</td>\n",
              "      <td>11216</td>\n",
              "    </tr>\n",
              "    <tr>\n",
              "      <th>3</th>\n",
              "      <td>3</td>\n",
              "      <td>Brooklyn</td>\n",
              "      <td>Crown Heights</td>\n",
              "      <td>40.67586</td>\n",
              "      <td>-73.95155</td>\n",
              "      <td>single</td>\n",
              "      <td>60</td>\n",
              "      <td>11216</td>\n",
              "    </tr>\n",
              "    <tr>\n",
              "      <th>4</th>\n",
              "      <td>4</td>\n",
              "      <td>Manhattan</td>\n",
              "      <td>Little Italy</td>\n",
              "      <td>40.71702</td>\n",
              "      <td>-73.99811</td>\n",
              "      <td>whole</td>\n",
              "      <td>90</td>\n",
              "      <td>10013</td>\n",
              "    </tr>\n",
              "    <tr>\n",
              "      <th>...</th>\n",
              "      <td>...</td>\n",
              "      <td>...</td>\n",
              "      <td>...</td>\n",
              "      <td>...</td>\n",
              "      <td>...</td>\n",
              "      <td>...</td>\n",
              "      <td>...</td>\n",
              "      <td>...</td>\n",
              "    </tr>\n",
              "    <tr>\n",
              "      <th>70</th>\n",
              "      <td>70</td>\n",
              "      <td>Brooklyn</td>\n",
              "      <td>Greenpoint</td>\n",
              "      <td>40.73813</td>\n",
              "      <td>-73.95394</td>\n",
              "      <td>single</td>\n",
              "      <td>179</td>\n",
              "      <td>11222</td>\n",
              "    </tr>\n",
              "    <tr>\n",
              "      <th>71</th>\n",
              "      <td>71</td>\n",
              "      <td>Brooklyn</td>\n",
              "      <td>Crown Heights</td>\n",
              "      <td>40.67591</td>\n",
              "      <td>-73.94715</td>\n",
              "      <td>whole</td>\n",
              "      <td>150</td>\n",
              "      <td>11216</td>\n",
              "    </tr>\n",
              "    <tr>\n",
              "      <th>72</th>\n",
              "      <td>72</td>\n",
              "      <td>Manhattan</td>\n",
              "      <td>East Village</td>\n",
              "      <td>40.72843</td>\n",
              "      <td>-73.98895</td>\n",
              "      <td>whole</td>\n",
              "      <td>139</td>\n",
              "      <td>10003</td>\n",
              "    </tr>\n",
              "    <tr>\n",
              "      <th>73</th>\n",
              "      <td>73</td>\n",
              "      <td>Manhattan</td>\n",
              "      <td>Two Bridges</td>\n",
              "      <td>40.71271</td>\n",
              "      <td>-73.99776</td>\n",
              "      <td>single</td>\n",
              "      <td>95</td>\n",
              "      <td>10038</td>\n",
              "    </tr>\n",
              "    <tr>\n",
              "      <th>74</th>\n",
              "      <td>74</td>\n",
              "      <td>Brooklyn</td>\n",
              "      <td>Crown Heights</td>\n",
              "      <td>40.66966</td>\n",
              "      <td>-73.94735</td>\n",
              "      <td>whole</td>\n",
              "      <td>79</td>\n",
              "      <td>11213</td>\n",
              "    </tr>\n",
              "  </tbody>\n",
              "</table>\n",
              "<p>75 rows × 8 columns</p>\n",
              "</div>"
            ],
            "text/plain": [
              "    id neighbourhood_group       neighbourhood  ...  room_type  price zipcode\n",
              "0    0            Brooklyn       Crown Heights  ...     single    100   11216\n",
              "1    1            Brooklyn  Bedford-Stuyvesant  ...     single     70   11216\n",
              "2    2            Brooklyn       Crown Heights  ...     single    110   11216\n",
              "3    3            Brooklyn       Crown Heights  ...     single     60   11216\n",
              "4    4           Manhattan        Little Italy  ...      whole     90   10013\n",
              "..  ..                 ...                 ...  ...        ...    ...     ...\n",
              "70  70            Brooklyn          Greenpoint  ...     single    179   11222\n",
              "71  71            Brooklyn       Crown Heights  ...      whole    150   11216\n",
              "72  72           Manhattan        East Village  ...      whole    139   10003\n",
              "73  73           Manhattan         Two Bridges  ...     single     95   10038\n",
              "74  74            Brooklyn       Crown Heights  ...      whole     79   11213\n",
              "\n",
              "[75 rows x 8 columns]"
            ]
          },
          "metadata": {
            "tags": []
          },
          "execution_count": 29
        }
      ]
    },
    {
      "cell_type": "markdown",
      "metadata": {
        "id": "-Waa5nGD2zR5",
        "colab_type": "text"
      },
      "source": [
        "Depending on the method you used to obtain the zipcode, you might have rows with a zipcode that look like \"11216-2813\". We only care about what's before the \"-\". If a row already has a zipcode that is only 5 numbers (i.e. 11216), then we want to leave it how it is.\n",
        "\n",
        "Fix your dataframe from the previous step so that the zipcode column only has the 5 numbers for each zipcode."
      ]
    },
    {
      "cell_type": "markdown",
      "metadata": {
        "id": "RxO3SHXnWAxV",
        "colab_type": "text"
      },
      "source": [
        "For our test, make sure the zipcode column is all ints. Once you make sure that the zipcode column is ints, submit the newly made dataframe with the extra zipcode column. Double check that you named the extra column what we want it to be. (13 points)"
      ]
    },
    {
      "cell_type": "code",
      "metadata": {
        "id": "sFkwimb53hUW",
        "colab_type": "code",
        "outputId": "8d370815-49be-4296-b1bd-e83be6a38b66",
        "colab": {
          "base_uri": "https://localhost:8080/",
          "height": 68
        }
      },
      "source": [
        "#Penn grader entry\n",
        "grader.grade(test_case_id = 'airbnb_zip', answer = airbnb_zip)"
      ],
      "execution_count": 30,
      "outputs": [
        {
          "output_type": "stream",
          "text": [
            "Correct! You earned 13/13 points. You are a star!\n",
            "\n",
            "Your submission has been successfully recorded in the gradebook.\n"
          ],
          "name": "stdout"
        }
      ]
    },
    {
      "cell_type": "markdown",
      "metadata": {
        "id": "mh4pp5Nd3Wx3",
        "colab_type": "text"
      },
      "source": [
        "#Part 3: Combining the data\n",
        "\n",
        "When you become a full time data scientist, a lot of times, data will be spread out across multiple files/tables. The way to combine these tables is through join/merge operations. If you're familiar with SQL, this will be very familiar to you. If not, don't worry. I believe in you!\n",
        "\n",
        "To start, here's a nice diagram which shows you the different types of joins\n",
        "\n",
        "\n",
        "<p align = \"center\">\n",
        "<img src = \"https://i.stack.imgur.com/hMKKt.jpg\" width= \"600\" align =\"center\"/>\n",
        "</p>\n",
        "\n",
        "A clarifying point: The two venn diagrams with the \"(if Null)\" are also called Left Outer Join and Right Outer Join\n",
        "\n"
      ]
    },
    {
      "cell_type": "markdown",
      "metadata": {
        "id": "DitIiPoGXhUW",
        "colab_type": "text"
      },
      "source": [
        "Now, we want all the zipcodes that don't appear in both datasets (If 11111 is in uber data and airbnb data, we don't want it. If 22222 is in uber data but not in airbnb, we want to keep it. If 33333 is in airbnb data but not in uber, we want to keep it). In other words, we want all the zipcodes that have airbnbs where an Uber has never dropped someone off at those zipcodes and all Ubers that have dropped people off at zipcodes where no AirBnB exists (this is probably impossible in the real world, but our data is a small sample of the real world). \n",
        "\n",
        "Hint: Google around for Exclusive Full Joins\n",
        "\n",
        "We want the final answer as a two column dataframe with columns named: uber_zips, airbnb_zips. Uber_zips should contain the zipcodes that only exist within the uber dataset and vice-a-versa for airbnb_zips column. To clarify, this means if there is a row where airbnb_zip has a zipcode, that same row should not have an uber_zip entry(Should be NaN) as otherwise, that means that zipcode is shared between both datasets\n",
        "\n",
        "Make sure your final answer dataframe is named: \"combined_df\""
      ]
    },
    {
      "cell_type": "code",
      "metadata": {
        "id": "yYatJp7q2xlu",
        "colab_type": "code",
        "colab": {}
      },
      "source": [
        "# using left and right merge to label with complementary set with nan value\n",
        "uber_airbnb_left = uber_df.merge(airbnb_df, how='left', left_on='dropoff_zip', right_on='zipcode')\n",
        "uber_airbnb_right = uber_df.merge(airbnb_df, how='right', left_on='dropoff_zip', right_on='zipcode')\n",
        "\n",
        "# create an empty dataframe to store data\n",
        "combined = {'uber_zips':[],\n",
        "            'airbnb_zips':[]}\n",
        "combined_df = pd.DataFrame(combined)\n",
        "\n",
        "# take complementary sets by looking for nan\n",
        "ua_left = uber_airbnb_left[uber_airbnb_left.zipcode.isna()]\n",
        "ua_right = uber_airbnb_right[uber_airbnb_right.dropoff_zip.isna()]\n",
        "\n",
        "# store values in dataframe and remove duplicates\n",
        "combined_df['uber_zips'] = ua_left['dropoff_zip']\n",
        "combined_df['airbnb_zips'] = ua_right['zipcode']\n",
        "combined_df.drop_duplicates(inplace=True)"
      ],
      "execution_count": 0,
      "outputs": []
    },
    {
      "cell_type": "markdown",
      "metadata": {
        "id": "B6ZbXLORaBeC",
        "colab_type": "text"
      },
      "source": [
        "Submit the above specified 2 column dataframe to the autograder (12 points)"
      ]
    },
    {
      "cell_type": "code",
      "metadata": {
        "id": "Gqp-zo9GZPzo",
        "colab_type": "code",
        "outputId": "9b88147b-5266-4f64-b571-7855e5085b9b",
        "colab": {
          "base_uri": "https://localhost:8080/",
          "height": 68
        }
      },
      "source": [
        "grader.grade(test_case_id = 'join_test', answer = combined_df)"
      ],
      "execution_count": 32,
      "outputs": [
        {
          "output_type": "stream",
          "text": [
            "Correct! You earned 12/12 points. You are a star!\n",
            "\n",
            "Your submission has been successfully recorded in the gradebook.\n"
          ],
          "name": "stdout"
        }
      ]
    },
    {
      "cell_type": "markdown",
      "metadata": {
        "id": "rVuQYQlCaczc",
        "colab_type": "text"
      },
      "source": [
        "#Part 4: Exploring AirBnBs and Zillow\n",
        "\n",
        "Read in the Zillow CSV into a dataframe. If you view the dataframe, you might notice that this csv/dataframe has a lot more NaNs than the AirBnb/Uber data. Soooo let's do the same thing we did with AirBnB and Uber and drop the NaNs and duplicates.\n",
        "\n",
        "Name the dataframe: zillow_df"
      ]
    },
    {
      "cell_type": "code",
      "metadata": {
        "id": "Hmz6vRcPagfm",
        "colab_type": "code",
        "colab": {}
      },
      "source": [
        "zillow_df = pd.read_csv('zillow_data_start.csv')\n",
        "zillow_df.drop_duplicates(inplace=True)\n",
        "zillow_df.dropna(how='any', inplace=True)"
      ],
      "execution_count": 0,
      "outputs": []
    },
    {
      "cell_type": "markdown",
      "metadata": {
        "id": "rkXtLkkqodxx",
        "colab_type": "text"
      },
      "source": [
        "Submit the cleaned zillow dataframe to the autograder (3 points)"
      ]
    },
    {
      "cell_type": "code",
      "metadata": {
        "id": "5oiHjRzbaqM5",
        "colab_type": "code",
        "outputId": "3f48c948-8983-469b-d8e4-ea6a5fa23bf3",
        "colab": {
          "base_uri": "https://localhost:8080/",
          "height": 68
        }
      },
      "source": [
        "#Penn Grader entry\n",
        "grader.grade(test_case_id = 'zillow_drop', answer = zillow_df)"
      ],
      "execution_count": 34,
      "outputs": [
        {
          "output_type": "stream",
          "text": [
            "Correct! You earned 3/3 points. You are a star!\n",
            "\n",
            "Your submission has been successfully recorded in the gradebook.\n"
          ],
          "name": "stdout"
        }
      ]
    },
    {
      "cell_type": "code",
      "metadata": {
        "id": "2RIAjGAyeNSp",
        "colab_type": "code",
        "colab": {
          "base_uri": "https://localhost:8080/",
          "height": 340
        },
        "outputId": "a8ac9f0a-3b41-4591-f7b3-3c945fd813fe"
      },
      "source": [
        "zillow_df.info()"
      ],
      "execution_count": 35,
      "outputs": [
        {
          "output_type": "stream",
          "text": [
            "<class 'pandas.core.frame.DataFrame'>\n",
            "Int64Index: 28522 entries, 0 to 84547\n",
            "Data columns (total 14 columns):\n",
            "BOROUGH                      28522 non-null object\n",
            "NEIGHBORHOOD                 28522 non-null object\n",
            "BUILDING CLASS CATEGORY      28522 non-null object\n",
            "BLOCK                        28522 non-null int64\n",
            "LOT                          28522 non-null int64\n",
            "BUILDING_CLASS_AT_PRESENT    28522 non-null object\n",
            "ADDRESS                      28522 non-null object\n",
            "ZIPCODE                      28522 non-null float64\n",
            "LAND_SQUARE_FEET             28522 non-null float64\n",
            "GROSS_SQUARE_FEET            28522 non-null float64\n",
            "YEAR_BUILT                   28522 non-null float64\n",
            "SALE_PRICE                   28522 non-null float64\n",
            "SALE_DATE                    28522 non-null object\n",
            "id                           28522 non-null int64\n",
            "dtypes: float64(5), int64(3), object(6)\n",
            "memory usage: 3.3+ MB\n"
          ],
          "name": "stdout"
        }
      ]
    },
    {
      "cell_type": "markdown",
      "metadata": {
        "id": "LNAeU-oabPqx",
        "colab_type": "text"
      },
      "source": [
        "##4.1 Correlation Matrix\n",
        "\n",
        "We want to see if, on average, there is any correlation between the gross square footage of apartments versus airbnb prices for shared zipcodes, and if there is a correlation, how strong is it?\n",
        "\n",
        "This can be broken into several steps:\n",
        "\n",
        "1. Find the average value of each column for each zipcode within Zillow\n",
        "\n",
        "2. Find the average value of each column for each zipcode within AirBnb\n",
        "\n",
        "3. Merge them on the matching column.\n",
        "  Your merged table now has 3 nonsense columns. That is, since the values have been averaged by zipcode, these columns no longer include valid information... think on it and visit office hours if you get stuck! Identify and drop these (can also be done in steps 1 and 2).\n",
        "\n",
        "4. Generate the correlation matrix. Find the value associated with Zillow Gross Square footage vs Airbnb Price\n",
        "\n",
        "Hint: Read about Pandas \"corr()\" function.\n",
        "\n",
        "**You can correctly answer the following section just using Zillow's gross square footage column and Airbnb's price column but after this question, we want to plot a correlation matrix which will require all the columns(not just the two listed above)**\n",
        "\n",
        "Name your final answer correlation matrix dataframe to: \"correlation_matrix\""
      ]
    },
    {
      "cell_type": "code",
      "metadata": {
        "id": "6aYhg_ypdSsk",
        "colab_type": "code",
        "colab": {
          "base_uri": "https://localhost:8080/",
          "height": 534
        },
        "outputId": "ade74b91-307e-47a4-b906-edacbc795941"
      },
      "source": [
        "zillow_mean = zillow_df.groupby(by='ZIPCODE').mean()\n",
        "airbnb_mean = airbnb_df.groupby(by='zipcode').mean()\n",
        "zillow_airbnb = zillow_mean.merge(airbnb_mean, how='inner', left_on=zillow_mean.index, right_on=airbnb_mean.index)\n",
        "zillow_airbnb.drop(columns=['id_x','id_y','host_id'], inplace=True)\n",
        "\n",
        "correlation_matrix = zillow_airbnb.corr(method='pearson')\n",
        "correlation_matrix.rename(columns={'GROSS_SQUARE_FEET':'Zillow_GROSS_SQUARE_FEET', 'price':'Airbnb_price'}, inplace=True)\n",
        "correlation_matrix"
      ],
      "execution_count": 36,
      "outputs": [
        {
          "output_type": "execute_result",
          "data": {
            "text/html": [
              "<div>\n",
              "<style scoped>\n",
              "    .dataframe tbody tr th:only-of-type {\n",
              "        vertical-align: middle;\n",
              "    }\n",
              "\n",
              "    .dataframe tbody tr th {\n",
              "        vertical-align: top;\n",
              "    }\n",
              "\n",
              "    .dataframe thead th {\n",
              "        text-align: right;\n",
              "    }\n",
              "</style>\n",
              "<table border=\"1\" class=\"dataframe\">\n",
              "  <thead>\n",
              "    <tr style=\"text-align: right;\">\n",
              "      <th></th>\n",
              "      <th>key_0</th>\n",
              "      <th>BLOCK</th>\n",
              "      <th>LOT</th>\n",
              "      <th>LAND_SQUARE_FEET</th>\n",
              "      <th>Zillow_GROSS_SQUARE_FEET</th>\n",
              "      <th>YEAR_BUILT</th>\n",
              "      <th>SALE_PRICE</th>\n",
              "      <th>latitude</th>\n",
              "      <th>longitude</th>\n",
              "      <th>Airbnb_price</th>\n",
              "      <th>minimum_nights</th>\n",
              "      <th>number_of_reviews</th>\n",
              "      <th>reviews_per_month</th>\n",
              "      <th>calculated_host_listings_count</th>\n",
              "      <th>availability_365</th>\n",
              "    </tr>\n",
              "  </thead>\n",
              "  <tbody>\n",
              "    <tr>\n",
              "      <th>key_0</th>\n",
              "      <td>1.000000</td>\n",
              "      <td>0.610283</td>\n",
              "      <td>-0.111614</td>\n",
              "      <td>-0.268238</td>\n",
              "      <td>-0.314787</td>\n",
              "      <td>0.079247</td>\n",
              "      <td>-0.298540</td>\n",
              "      <td>-0.398480</td>\n",
              "      <td>0.551096</td>\n",
              "      <td>-0.356521</td>\n",
              "      <td>-0.450542</td>\n",
              "      <td>0.228293</td>\n",
              "      <td>0.332995</td>\n",
              "      <td>-0.334814</td>\n",
              "      <td>0.333924</td>\n",
              "    </tr>\n",
              "    <tr>\n",
              "      <th>BLOCK</th>\n",
              "      <td>0.610283</td>\n",
              "      <td>1.000000</td>\n",
              "      <td>-0.000170</td>\n",
              "      <td>-0.141402</td>\n",
              "      <td>-0.237998</td>\n",
              "      <td>0.233650</td>\n",
              "      <td>-0.234486</td>\n",
              "      <td>-0.353179</td>\n",
              "      <td>0.577455</td>\n",
              "      <td>-0.297214</td>\n",
              "      <td>-0.444935</td>\n",
              "      <td>0.201525</td>\n",
              "      <td>0.365334</td>\n",
              "      <td>-0.197880</td>\n",
              "      <td>0.471887</td>\n",
              "    </tr>\n",
              "    <tr>\n",
              "      <th>LOT</th>\n",
              "      <td>-0.111614</td>\n",
              "      <td>-0.000170</td>\n",
              "      <td>1.000000</td>\n",
              "      <td>0.242259</td>\n",
              "      <td>-0.020067</td>\n",
              "      <td>0.335491</td>\n",
              "      <td>-0.025537</td>\n",
              "      <td>0.102329</td>\n",
              "      <td>-0.013973</td>\n",
              "      <td>-0.078731</td>\n",
              "      <td>0.040121</td>\n",
              "      <td>-0.094617</td>\n",
              "      <td>-0.086840</td>\n",
              "      <td>-0.092304</td>\n",
              "      <td>-0.043803</td>\n",
              "    </tr>\n",
              "    <tr>\n",
              "      <th>LAND_SQUARE_FEET</th>\n",
              "      <td>-0.268238</td>\n",
              "      <td>-0.141402</td>\n",
              "      <td>0.242259</td>\n",
              "      <td>1.000000</td>\n",
              "      <td>0.537471</td>\n",
              "      <td>0.221794</td>\n",
              "      <td>0.336105</td>\n",
              "      <td>0.137775</td>\n",
              "      <td>-0.118233</td>\n",
              "      <td>0.024285</td>\n",
              "      <td>0.054639</td>\n",
              "      <td>-0.098148</td>\n",
              "      <td>-0.095575</td>\n",
              "      <td>0.143672</td>\n",
              "      <td>-0.178614</td>\n",
              "    </tr>\n",
              "    <tr>\n",
              "      <th>GROSS_SQUARE_FEET</th>\n",
              "      <td>-0.314787</td>\n",
              "      <td>-0.237998</td>\n",
              "      <td>-0.020067</td>\n",
              "      <td>0.537471</td>\n",
              "      <td>1.000000</td>\n",
              "      <td>0.175736</td>\n",
              "      <td>0.922209</td>\n",
              "      <td>0.047076</td>\n",
              "      <td>-0.172018</td>\n",
              "      <td>0.250503</td>\n",
              "      <td>0.248059</td>\n",
              "      <td>-0.149194</td>\n",
              "      <td>-0.156892</td>\n",
              "      <td>0.534339</td>\n",
              "      <td>-0.164858</td>\n",
              "    </tr>\n",
              "    <tr>\n",
              "      <th>YEAR_BUILT</th>\n",
              "      <td>0.079247</td>\n",
              "      <td>0.233650</td>\n",
              "      <td>0.335491</td>\n",
              "      <td>0.221794</td>\n",
              "      <td>0.175736</td>\n",
              "      <td>1.000000</td>\n",
              "      <td>0.233948</td>\n",
              "      <td>-0.252755</td>\n",
              "      <td>-0.025818</td>\n",
              "      <td>-0.172988</td>\n",
              "      <td>-0.222033</td>\n",
              "      <td>0.046124</td>\n",
              "      <td>0.137312</td>\n",
              "      <td>0.090607</td>\n",
              "      <td>0.332937</td>\n",
              "    </tr>\n",
              "    <tr>\n",
              "      <th>SALE_PRICE</th>\n",
              "      <td>-0.298540</td>\n",
              "      <td>-0.234486</td>\n",
              "      <td>-0.025537</td>\n",
              "      <td>0.336105</td>\n",
              "      <td>0.922209</td>\n",
              "      <td>0.233948</td>\n",
              "      <td>1.000000</td>\n",
              "      <td>0.006009</td>\n",
              "      <td>-0.180997</td>\n",
              "      <td>0.288503</td>\n",
              "      <td>0.261104</td>\n",
              "      <td>-0.149162</td>\n",
              "      <td>-0.162949</td>\n",
              "      <td>0.551779</td>\n",
              "      <td>-0.158165</td>\n",
              "    </tr>\n",
              "    <tr>\n",
              "      <th>latitude</th>\n",
              "      <td>-0.398480</td>\n",
              "      <td>-0.353179</td>\n",
              "      <td>0.102329</td>\n",
              "      <td>0.137775</td>\n",
              "      <td>0.047076</td>\n",
              "      <td>-0.252755</td>\n",
              "      <td>0.006009</td>\n",
              "      <td>1.000000</td>\n",
              "      <td>0.349127</td>\n",
              "      <td>-0.096914</td>\n",
              "      <td>0.123208</td>\n",
              "      <td>-0.000256</td>\n",
              "      <td>-0.052404</td>\n",
              "      <td>0.064450</td>\n",
              "      <td>-0.135522</td>\n",
              "    </tr>\n",
              "    <tr>\n",
              "      <th>longitude</th>\n",
              "      <td>0.551096</td>\n",
              "      <td>0.577455</td>\n",
              "      <td>-0.013973</td>\n",
              "      <td>-0.118233</td>\n",
              "      <td>-0.172018</td>\n",
              "      <td>-0.025818</td>\n",
              "      <td>-0.180997</td>\n",
              "      <td>0.349127</td>\n",
              "      <td>1.000000</td>\n",
              "      <td>-0.326864</td>\n",
              "      <td>-0.335525</td>\n",
              "      <td>0.241179</td>\n",
              "      <td>0.329785</td>\n",
              "      <td>-0.124773</td>\n",
              "      <td>0.324480</td>\n",
              "    </tr>\n",
              "    <tr>\n",
              "      <th>price</th>\n",
              "      <td>-0.356521</td>\n",
              "      <td>-0.297214</td>\n",
              "      <td>-0.078731</td>\n",
              "      <td>0.024285</td>\n",
              "      <td>0.250503</td>\n",
              "      <td>-0.172988</td>\n",
              "      <td>0.288503</td>\n",
              "      <td>-0.096914</td>\n",
              "      <td>-0.326864</td>\n",
              "      <td>1.000000</td>\n",
              "      <td>0.368324</td>\n",
              "      <td>-0.234551</td>\n",
              "      <td>-0.305022</td>\n",
              "      <td>0.362155</td>\n",
              "      <td>-0.301777</td>\n",
              "    </tr>\n",
              "    <tr>\n",
              "      <th>minimum_nights</th>\n",
              "      <td>-0.450542</td>\n",
              "      <td>-0.444935</td>\n",
              "      <td>0.040121</td>\n",
              "      <td>0.054639</td>\n",
              "      <td>0.248059</td>\n",
              "      <td>-0.222033</td>\n",
              "      <td>0.261104</td>\n",
              "      <td>0.123208</td>\n",
              "      <td>-0.335525</td>\n",
              "      <td>0.368324</td>\n",
              "      <td>1.000000</td>\n",
              "      <td>-0.386079</td>\n",
              "      <td>-0.438240</td>\n",
              "      <td>0.492595</td>\n",
              "      <td>-0.269669</td>\n",
              "    </tr>\n",
              "    <tr>\n",
              "      <th>number_of_reviews</th>\n",
              "      <td>0.228293</td>\n",
              "      <td>0.201525</td>\n",
              "      <td>-0.094617</td>\n",
              "      <td>-0.098148</td>\n",
              "      <td>-0.149194</td>\n",
              "      <td>0.046124</td>\n",
              "      <td>-0.149162</td>\n",
              "      <td>-0.000256</td>\n",
              "      <td>0.241179</td>\n",
              "      <td>-0.234551</td>\n",
              "      <td>-0.386079</td>\n",
              "      <td>1.000000</td>\n",
              "      <td>0.913933</td>\n",
              "      <td>-0.187895</td>\n",
              "      <td>0.166446</td>\n",
              "    </tr>\n",
              "    <tr>\n",
              "      <th>reviews_per_month</th>\n",
              "      <td>0.332995</td>\n",
              "      <td>0.365334</td>\n",
              "      <td>-0.086840</td>\n",
              "      <td>-0.095575</td>\n",
              "      <td>-0.156892</td>\n",
              "      <td>0.137312</td>\n",
              "      <td>-0.162949</td>\n",
              "      <td>-0.052404</td>\n",
              "      <td>0.329785</td>\n",
              "      <td>-0.305022</td>\n",
              "      <td>-0.438240</td>\n",
              "      <td>0.913933</td>\n",
              "      <td>1.000000</td>\n",
              "      <td>-0.195753</td>\n",
              "      <td>0.273881</td>\n",
              "    </tr>\n",
              "    <tr>\n",
              "      <th>calculated_host_listings_count</th>\n",
              "      <td>-0.334814</td>\n",
              "      <td>-0.197880</td>\n",
              "      <td>-0.092304</td>\n",
              "      <td>0.143672</td>\n",
              "      <td>0.534339</td>\n",
              "      <td>0.090607</td>\n",
              "      <td>0.551779</td>\n",
              "      <td>0.064450</td>\n",
              "      <td>-0.124773</td>\n",
              "      <td>0.362155</td>\n",
              "      <td>0.492595</td>\n",
              "      <td>-0.187895</td>\n",
              "      <td>-0.195753</td>\n",
              "      <td>1.000000</td>\n",
              "      <td>-0.004894</td>\n",
              "    </tr>\n",
              "    <tr>\n",
              "      <th>availability_365</th>\n",
              "      <td>0.333924</td>\n",
              "      <td>0.471887</td>\n",
              "      <td>-0.043803</td>\n",
              "      <td>-0.178614</td>\n",
              "      <td>-0.164858</td>\n",
              "      <td>0.332937</td>\n",
              "      <td>-0.158165</td>\n",
              "      <td>-0.135522</td>\n",
              "      <td>0.324480</td>\n",
              "      <td>-0.301777</td>\n",
              "      <td>-0.269669</td>\n",
              "      <td>0.166446</td>\n",
              "      <td>0.273881</td>\n",
              "      <td>-0.004894</td>\n",
              "      <td>1.000000</td>\n",
              "    </tr>\n",
              "  </tbody>\n",
              "</table>\n",
              "</div>"
            ],
            "text/plain": [
              "                                   key_0  ...  availability_365\n",
              "key_0                           1.000000  ...          0.333924\n",
              "BLOCK                           0.610283  ...          0.471887\n",
              "LOT                            -0.111614  ...         -0.043803\n",
              "LAND_SQUARE_FEET               -0.268238  ...         -0.178614\n",
              "GROSS_SQUARE_FEET              -0.314787  ...         -0.164858\n",
              "YEAR_BUILT                      0.079247  ...          0.332937\n",
              "SALE_PRICE                     -0.298540  ...         -0.158165\n",
              "latitude                       -0.398480  ...         -0.135522\n",
              "longitude                       0.551096  ...          0.324480\n",
              "price                          -0.356521  ...         -0.301777\n",
              "minimum_nights                 -0.450542  ...         -0.269669\n",
              "number_of_reviews               0.228293  ...          0.166446\n",
              "reviews_per_month               0.332995  ...          0.273881\n",
              "calculated_host_listings_count -0.334814  ...         -0.004894\n",
              "availability_365                0.333924  ...          1.000000\n",
              "\n",
              "[15 rows x 15 columns]"
            ]
          },
          "metadata": {
            "tags": []
          },
          "execution_count": 36
        }
      ]
    },
    {
      "cell_type": "markdown",
      "metadata": {
        "id": "zlvhiaJ2ER7R",
        "colab_type": "text"
      },
      "source": [
        "After the join, the columns might be confusing. Rename the two columns that we are interested in to: \n",
        "'Zillow_GROSS_SQUARE_FEET' and 'Airbnb_price'. "
      ]
    },
    {
      "cell_type": "markdown",
      "metadata": {
        "id": "egr36TSzoi5s",
        "colab_type": "text"
      },
      "source": [
        "Submit the correlation matrix to the autograder \n",
        "(5 points)"
      ]
    },
    {
      "cell_type": "code",
      "metadata": {
        "id": "uBXmVlggd3Fc",
        "colab_type": "code",
        "colab": {
          "base_uri": "https://localhost:8080/",
          "height": 68
        },
        "outputId": "ac8c6364-4468-4d76-82bc-76fa20d71b76"
      },
      "source": [
        "#Penn grader entry\n",
        "grader.grade(test_case_id = 'corr_mat', answer = correlation_matrix)"
      ],
      "execution_count": 37,
      "outputs": [
        {
          "output_type": "stream",
          "text": [
            "Correct! You earned 5/5 points. You are a star!\n",
            "\n",
            "Your submission has been successfully recorded in the gradebook.\n"
          ],
          "name": "stdout"
        }
      ]
    },
    {
      "cell_type": "markdown",
      "metadata": {
        "id": "gWRRlGRnetav",
        "colab_type": "text"
      },
      "source": [
        "Here we provide code for you to visualize the correlation matrix. In the following code snippet below, please assign your correlation matrix to the variable named \"corr\" and then run the cell. You should see a correlation matrix"
      ]
    },
    {
      "cell_type": "code",
      "metadata": {
        "id": "KCQjctyGeJQI",
        "colab_type": "code",
        "colab": {
          "base_uri": "https://localhost:8080/",
          "height": 714
        },
        "outputId": "24f6e0e9-f089-4fe8-a881-7740fc3f527c"
      },
      "source": [
        "sns.set(style=\"white\")\n",
        "\n",
        "# Generate a large random dataset\n",
        "rs = np.random.RandomState(33)\n",
        "d = pd.DataFrame(data=rs.normal(size=(100, 26)),\n",
        "                 columns=list(ascii_letters[26:]))\n",
        "\n",
        "# Compute the correlation matrix\n",
        "#ASSIGN THE \"corr\" VARIABLE TO YOUR CORRELATION MATRIX\n",
        "corr = correlation_matrix\n",
        "\n",
        "# Generate a mask for the upper triangle\n",
        "mask = np.zeros_like(corr, dtype=np.bool)\n",
        "mask[np.triu_indices_from(mask)] = True\n",
        "\n",
        "# Set up the matplotlib figure\n",
        "f, ax = plt.subplots(figsize=(11, 9))\n",
        "\n",
        "# Generate a custom diverging colormap\n",
        "cmap = sns.diverging_palette(220, 10, as_cmap=True)\n",
        "\n",
        "# Draw the heatmap with the mask and correct aspect ratio\n",
        "sns.heatmap(corr, mask=mask, cmap=cmap, vmax=.3, center=0,\n",
        "            square=True, linewidths=.5, cbar_kws={\"shrink\": .5})\n",
        "plt.title(\"Correlation Heatmap: Airbnb & Zillow Data\")\n",
        "plt.show()"
      ],
      "execution_count": 38,
      "outputs": [
        {
          "output_type": "display_data",
          "data": {
            "image/png": "[encoded data removed]",
            "text/plain": [
              "<Figure size 792x648 with 2 Axes>"
            ]
          },
          "metadata": {
            "tags": []
          }
        }
      ]
    },
    {
      "cell_type": "markdown",
      "metadata": {
        "id": "FaomiQJhvhwI",
        "colab_type": "text"
      },
      "source": [
        "##4.2 Joining columns on roughly similar data\n",
        "\n",
        "**This problem is pretty difficult conceptually. But if my dumb self can get into this school, I know you can do this. Don't get discouraged! Ask questions on Piazza/come to OH!**\n",
        "\n",
        "There will be times when you have similar (but not exact) data between columns that you would like to join on. Convential joins, like the one you did above, will scan through each of the specified join columns, and find **exact** matches to establish that the rows from the associated datasets can be combined together into one row. But what happens if the join operation sees \"Mr.Smith\" in one dataset versus \"Mr Smith\"? It will skip over and think these two entries can't be joined even though there is a minor difference and the two values should be matched. This is where we combine n-grams with Jaccard Simalirty.\n",
        "\n",
        "This sounds scary but I'll break it down. An n-gram is a contiguous sequence of n items. An example would be given the sentence: \"Craig has a 2.2 GPA\" ... If we were looking at an n-gram of two, the results would be: [\"Craig has\", \"has a\", \"a 2.2\", \"2.2 GPA\"] (I swear my GPA isn't that. It's lower.)\n",
        "\n",
        "The above example is tokenizing/breaking up the n-grams by spaces. However, we can also do it characterwise. Given \"Craig has a 2.2 GPA\" with n-gram of 2 and doing characterwise splits, we will have: [\"Cr\", \"ra\", \"ai\", \"ig\", \" h\", \"ha\" ...]\n",
        "\n",
        "\n",
        "Jaccard similarity is a way to measure similarity between two sets. I recommend Googling around for more clarification but here is the notation for it: \n",
        "\n",
        "<p align = \"center\">\n",
        "<img src = \"https://i.ytimg.com/vi/Ah_4xqvS1WU/maxresdefault.jpg\" width= \"600\" align =\"center\"/>\n",
        "</p>\n",
        "\n"
      ]
    },
    {
      "cell_type": "markdown",
      "metadata": {
        "id": "epEhAzcy9G_y",
        "colab_type": "text"
      },
      "source": [
        "_________"
      ]
    },
    {
      "cell_type": "markdown",
      "metadata": {
        "id": "1e8owGlf8jwE",
        "colab_type": "text"
      },
      "source": [
        "We will focus on the \"NEIGHBORHOOD\" column in zillow_df and the \"neighbourhood\" in airbnb_df. If you take a look, these two columns share the same type of information but are formatted differently (i.e. \"UPPER WEST SIDE (59-79)\" in zillow_df versus \"Upper West Side\" in airbnb_df. We know these columns mean very similar things but merge/join operations don't. A possibility is to clean that column so that the formats match. But what if you have a ton of entries and you can't possibly account for everything?\n",
        "\n",
        "Our goal here is to join the neighbourhood columns without having to perform extensive cleaning operations in one of the columns.\n",
        "\n",
        "This can be broken down into:\n",
        "\n",
        "1. Take your zillow_df NEIGHBORHOOD column and lowercase all the entries except the first entry (aka capitalize). We do this to make the neighborhood columns between the two datasets as similar as possible without needing extensive cleaning.\n",
        "\n",
        "2. Define a Tokenizer with 5 grams. We have already imported our recommended library to do this at the top. I suggest looking at this for how to define a tokenzier: http://anhaidgroup.github.io/py_stringmatching/v0.2.x/QgramTokenizer.html\n",
        "\n",
        "3. Do a jaccard join. Again, we have already imported our recommended library for doing this at the top. Look here for documentaiton on how to do it: http://anhaidgroup.github.io/py_stringsimjoin/v0.1.x/api/jaccard_join.html ... When calling this function, set the l_out_attrs and r_out_attrs parameters to their associated table's neighbourhood column so that we keep those columns as we want to see our join results\n",
        "\n",
        "4. When selecting the tolerance, play around with some values between .1 < x < .4 to see what the join thinks could be joinable\n",
        "\n",
        "5. Drop duplicates from your jaccard-joined dataframe based on both neighbourhood columns as you will have a lot of duplicates. In other words, you might have 100+ entries of [\"MURRAY HILL\", \"MURRAY HILL\"]. We only want one entry for this.\n",
        "\n",
        "Name your answer to this section: \"answer_df\""
      ]
    },
    {
      "cell_type": "code",
      "metadata": {
        "id": "mz5tD0iQvh7m",
        "colab_type": "code",
        "colab": {
          "base_uri": "https://localhost:8080/",
          "height": 453
        },
        "outputId": "e215c686-0083-4a5f-cbfb-a1183e201357"
      },
      "source": [
        "zillow_df['NEIGHBORHOOD'] = zillow_df['NEIGHBORHOOD'].str.capitalize()\n",
        "\n",
        "tok = sm.QgramTokenizer(qval=5,return_set=True)\n",
        "answer_df = ssj.jaccard_join(zillow_df, airbnb_df, 'id', 'id', 'NEIGHBORHOOD', 'neighbourhood', tok, 0.35, \n",
        "                                l_out_attrs=['NEIGHBORHOOD'], r_out_attrs=['neighbourhood'])\n",
        "\n",
        "answer_df.drop(columns=['_id','l_id','r_id'], inplace=True)\n",
        "answer_df.drop_duplicates(inplace=True)\n",
        "answer_df"
      ],
      "execution_count": 39,
      "outputs": [
        {
          "output_type": "stream",
          "text": [
            "0% [##############################] 100% | ETA: 00:00:00\n",
            "Total time elapsed: 00:00:18\n"
          ],
          "name": "stderr"
        },
        {
          "output_type": "execute_result",
          "data": {
            "text/html": [
              "<div>\n",
              "<style scoped>\n",
              "    .dataframe tbody tr th:only-of-type {\n",
              "        vertical-align: middle;\n",
              "    }\n",
              "\n",
              "    .dataframe tbody tr th {\n",
              "        vertical-align: top;\n",
              "    }\n",
              "\n",
              "    .dataframe thead th {\n",
              "        text-align: right;\n",
              "    }\n",
              "</style>\n",
              "<table border=\"1\" class=\"dataframe\">\n",
              "  <thead>\n",
              "    <tr style=\"text-align: right;\">\n",
              "      <th></th>\n",
              "      <th>l_NEIGHBORHOOD</th>\n",
              "      <th>r_neighbourhood</th>\n",
              "      <th>_sim_score</th>\n",
              "    </tr>\n",
              "  </thead>\n",
              "  <tbody>\n",
              "    <tr>\n",
              "      <th>0</th>\n",
              "      <td>Kensington</td>\n",
              "      <td>Kensington</td>\n",
              "      <td>1.000000</td>\n",
              "    </tr>\n",
              "    <tr>\n",
              "      <th>39</th>\n",
              "      <td>Midtown cbd</td>\n",
              "      <td>Midtown</td>\n",
              "      <td>0.368421</td>\n",
              "    </tr>\n",
              "    <tr>\n",
              "      <th>48</th>\n",
              "      <td>Midtown east</td>\n",
              "      <td>Midtown</td>\n",
              "      <td>0.350000</td>\n",
              "    </tr>\n",
              "    <tr>\n",
              "      <th>65</th>\n",
              "      <td>Midtown west</td>\n",
              "      <td>Midtown</td>\n",
              "      <td>0.350000</td>\n",
              "    </tr>\n",
              "    <tr>\n",
              "      <th>143</th>\n",
              "      <td>Clinton</td>\n",
              "      <td>Clinton Hill</td>\n",
              "      <td>0.350000</td>\n",
              "    </tr>\n",
              "    <tr>\n",
              "      <th>...</th>\n",
              "      <td>...</td>\n",
              "      <td>...</td>\n",
              "      <td>...</td>\n",
              "    </tr>\n",
              "    <tr>\n",
              "      <th>3757490</th>\n",
              "      <td>Mill basin</td>\n",
              "      <td>Mill Basin</td>\n",
              "      <td>0.473684</td>\n",
              "    </tr>\n",
              "    <tr>\n",
              "      <th>3790425</th>\n",
              "      <td>Hollis</td>\n",
              "      <td>Hollis</td>\n",
              "      <td>1.000000</td>\n",
              "    </tr>\n",
              "    <tr>\n",
              "      <th>3790726</th>\n",
              "      <td>Hollis hills</td>\n",
              "      <td>Hollis</td>\n",
              "      <td>0.368421</td>\n",
              "    </tr>\n",
              "    <tr>\n",
              "      <th>4319572</th>\n",
              "      <td>Arden heights</td>\n",
              "      <td>Arden Heights</td>\n",
              "      <td>0.545455</td>\n",
              "    </tr>\n",
              "    <tr>\n",
              "      <th>4887247</th>\n",
              "      <td>Rossville</td>\n",
              "      <td>Rossville</td>\n",
              "      <td>1.000000</td>\n",
              "    </tr>\n",
              "  </tbody>\n",
              "</table>\n",
              "<p>161 rows × 3 columns</p>\n",
              "</div>"
            ],
            "text/plain": [
              "        l_NEIGHBORHOOD r_neighbourhood  _sim_score\n",
              "0           Kensington      Kensington    1.000000\n",
              "39         Midtown cbd         Midtown    0.368421\n",
              "48        Midtown east         Midtown    0.350000\n",
              "65        Midtown west         Midtown    0.350000\n",
              "143            Clinton    Clinton Hill    0.350000\n",
              "...                ...             ...         ...\n",
              "3757490     Mill basin      Mill Basin    0.473684\n",
              "3790425         Hollis          Hollis    1.000000\n",
              "3790726   Hollis hills          Hollis    0.368421\n",
              "4319572  Arden heights   Arden Heights    0.545455\n",
              "4887247      Rossville       Rossville    1.000000\n",
              "\n",
              "[161 rows x 3 columns]"
            ]
          },
          "metadata": {
            "tags": []
          },
          "execution_count": 39
        }
      ]
    },
    {
      "cell_type": "markdown",
      "metadata": {
        "id": "-whqsZ7YCYD7",
        "colab_type": "text"
      },
      "source": [
        "Find a row entry in this dataframe where the airbnb and zillow neighborhoods aren't the same but are similar (i.e \"Clinton\" vs \"Clinton Hill\" or \"Mill basin\" vs \"Mill Basin\". Assign (You can manually type it out) the associated name to the following variables based on the dataset they originally belonged to.\n",
        "\n",
        "When you submit your answer to the autograder, make it a tuple of (result dataframe from the join, airbnb_neighborhood, zillow_neighborhood). (14 points)"
      ]
    },
    {
      "cell_type": "code",
      "metadata": {
        "id": "DAMNRl7KCZIQ",
        "colab_type": "code",
        "colab": {}
      },
      "source": [
        "airbnb_neighborhood = \"Midtown\"\n",
        "zillow_neighborhood = \"Midtown cbd\"\n",
        "\n",
        "answer = (answer_df, airbnb_neighborhood, zillow_neighborhood)"
      ],
      "execution_count": 0,
      "outputs": []
    },
    {
      "cell_type": "code",
      "metadata": {
        "id": "kpiHPep81MoG",
        "colab_type": "code",
        "colab": {
          "base_uri": "https://localhost:8080/",
          "height": 68
        },
        "outputId": "ee38b1e4-5609-4b0b-85c4-336082df8515"
      },
      "source": [
        "#Penn grader entry\n",
        "grader.grade(test_case_id = 'jaccard_join', answer = answer)"
      ],
      "execution_count": 41,
      "outputs": [
        {
          "output_type": "stream",
          "text": [
            "Correct! You earned 14/14 points. You are a star!\n",
            "\n",
            "Your submission has been successfully recorded in the gradebook.\n"
          ],
          "name": "stdout"
        }
      ]
    },
    {
      "cell_type": "markdown",
      "metadata": {
        "id": "ZRNdFcIYfl9s",
        "colab_type": "text"
      },
      "source": [
        "#Part 5 XPath\n",
        "###Brought to you by popular demand from students...\n",
        "\n",
        "So far, we've looked at data from Airbnb, Uber, and Zillow. What do Airbnb and Uber have in common? They both were/are unicorn startups! \n",
        "According to Wikipedia, a unicorn is a privately held startup company with a current valuation of US$1 billion or more. Important to know for if/when you recruit for jobs!\n",
        "\n",
        "Also, while we're on the topic of pandas and unicorns:\n",
        "\n",
        "<p align = \"center\">\n",
        "<img src = \"https://ih0.redbubble.net/image.470874856.3122/flat,750x,075,f-pad,750x1000,f8f8f8.jpg\" width= \"200\" align =\"center\"/>\n",
        "</p>\n",
        "\n",
        "Let's look into unicorn startup companies some more. Take a look at this wikpedia page that has a full list of unicorn startup companies. https://en.wikipedia.org/wiki/List_of_unicorn_startup_companies. <br>\n",
        "Uber is on the former unicorns list due to IPO and Airbnb is still considered a unicorn. \n",
        "\n",
        "\n",
        "Using this data, return a dataframe that has the top 50 unicorn companies by Valuation. Your dataframe should be \n",
        "1. In descending order by Valuation. \n",
        "2. Have exactly two columns, \"Company\" and \"Valuation\". \n",
        "\n",
        "Hint: The first row should be: Ant Financial, 150. \n",
        "\n",
        "There are many different ways to do this but we recommend trying it with XPath. P.S. If you come to OH for help, we will mostly only know how to do it using the XPath way. (9 points)\n",
        "\n",
        "Assign the answer of this section to a dataframe named: \"answer_df\""
      ]
    },
    {
      "cell_type": "code",
      "metadata": {
        "id": "NhTadSKAfmGi",
        "colab_type": "code",
        "colab": {
          "base_uri": "https://localhost:8080/",
          "height": 1000
        },
        "outputId": "3d67eddd-c08b-4c28-e940-5580f3d8e298"
      },
      "source": [
        "from lxml import etree\n",
        "\n",
        "unicorn_dict = {'Company':[],\n",
        "                'Valuation':[]}\n",
        "pd.DataFrame(columns=['Company', 'Valuation'])\n",
        "web = 'https://en.wikipedia.org/wiki/List_of_unicorn_startup_companies'\n",
        "\n",
        "response = requests.get(web)\n",
        "unicorn = etree.HTML(response.content.decode(\"utf-8\"))\n",
        "unicorn_table = unicorn.xpath('/html/body/div[3]/div[3]/div[4]/div/table[2]/tbody')\n",
        "\n",
        "for i in unicorn_table:\n",
        "  name = i.xpath(\"//td[1]/a/text()\")[0:50]\n",
        "  value = i.xpath(\"//td[2]/text()\")[6:56]\n",
        "  unicorn_dict['Company'] = name\n",
        "  unicorn_dict['Valuation'] = value\n",
        "\n",
        "unicorn_df = pd.DataFrame(unicorn_dict)\n",
        "unicorn_df['Valuation'] = unicorn_df['Valuation'].apply(lambda x: x[0:-1])\n",
        "unicorn_df['Company'] = unicorn_df['Company'].astype(str)\n",
        "unicorn_df['Valuation'] = unicorn_df['Valuation'].astype(str)\n",
        "\n",
        "\n",
        "answer_df = unicorn_df\n",
        "answer_df.reindex()\n",
        "answer_df\n",
        "\n",
        "xpath_str = '/html/body/div[3]/div[3]/div[4]/div/table[2]/tbody/tr/td[1]/a/text()'\n",
        "\n",
        "answer_df"
      ],
      "execution_count": 42,
      "outputs": [
        {
          "output_type": "execute_result",
          "data": {
            "text/html": [
              "<div>\n",
              "<style scoped>\n",
              "    .dataframe tbody tr th:only-of-type {\n",
              "        vertical-align: middle;\n",
              "    }\n",
              "\n",
              "    .dataframe tbody tr th {\n",
              "        vertical-align: top;\n",
              "    }\n",
              "\n",
              "    .dataframe thead th {\n",
              "        text-align: right;\n",
              "    }\n",
              "</style>\n",
              "<table border=\"1\" class=\"dataframe\">\n",
              "  <thead>\n",
              "    <tr style=\"text-align: right;\">\n",
              "      <th></th>\n",
              "      <th>Company</th>\n",
              "      <th>Valuation</th>\n",
              "    </tr>\n",
              "  </thead>\n",
              "  <tbody>\n",
              "    <tr>\n",
              "      <th>0</th>\n",
              "      <td>Ant Financial</td>\n",
              "      <td>150</td>\n",
              "    </tr>\n",
              "    <tr>\n",
              "      <th>1</th>\n",
              "      <td>Bytedance</td>\n",
              "      <td>78.0</td>\n",
              "    </tr>\n",
              "    <tr>\n",
              "      <th>2</th>\n",
              "      <td>DiDi</td>\n",
              "      <td>51.6</td>\n",
              "    </tr>\n",
              "    <tr>\n",
              "      <th>3</th>\n",
              "      <td>Airbnb</td>\n",
              "      <td>38.0</td>\n",
              "    </tr>\n",
              "    <tr>\n",
              "      <th>4</th>\n",
              "      <td>Stripe</td>\n",
              "      <td>35.0</td>\n",
              "    </tr>\n",
              "    <tr>\n",
              "      <th>5</th>\n",
              "      <td>SpaceX</td>\n",
              "      <td>33.3</td>\n",
              "    </tr>\n",
              "    <tr>\n",
              "      <th>6</th>\n",
              "      <td>Lufax</td>\n",
              "      <td>30.0</td>\n",
              "    </tr>\n",
              "    <tr>\n",
              "      <th>7</th>\n",
              "      <td>JUUL Labs</td>\n",
              "      <td>24.0</td>\n",
              "    </tr>\n",
              "    <tr>\n",
              "      <th>8</th>\n",
              "      <td>Cainiao</td>\n",
              "      <td>20.0</td>\n",
              "    </tr>\n",
              "    <tr>\n",
              "      <th>9</th>\n",
              "      <td>Palantir Technologies</td>\n",
              "      <td>20.0</td>\n",
              "    </tr>\n",
              "    <tr>\n",
              "      <th>10</th>\n",
              "      <td>Kuaishou</td>\n",
              "      <td>18.0</td>\n",
              "    </tr>\n",
              "    <tr>\n",
              "      <th>11</th>\n",
              "      <td>Paytm</td>\n",
              "      <td>18.0</td>\n",
              "    </tr>\n",
              "    <tr>\n",
              "      <th>12</th>\n",
              "      <td>DJI</td>\n",
              "      <td>15.0</td>\n",
              "    </tr>\n",
              "    <tr>\n",
              "      <th>13</th>\n",
              "      <td>Epic Games</td>\n",
              "      <td>15.0</td>\n",
              "    </tr>\n",
              "    <tr>\n",
              "      <th>14</th>\n",
              "      <td>Lianjia</td>\n",
              "      <td>13.0</td>\n",
              "    </tr>\n",
              "    <tr>\n",
              "      <th>15</th>\n",
              "      <td>Wish</td>\n",
              "      <td>11.0+</td>\n",
              "    </tr>\n",
              "    <tr>\n",
              "      <th>16</th>\n",
              "      <td>Jiedaibao</td>\n",
              "      <td>10.77</td>\n",
              "    </tr>\n",
              "    <tr>\n",
              "      <th>17</th>\n",
              "      <td>Nubank</td>\n",
              "      <td>10.0+</td>\n",
              "    </tr>\n",
              "    <tr>\n",
              "      <th>18</th>\n",
              "      <td>OYO</td>\n",
              "      <td>10.0</td>\n",
              "    </tr>\n",
              "    <tr>\n",
              "      <th>19</th>\n",
              "      <td>Grab</td>\n",
              "      <td>10.0</td>\n",
              "    </tr>\n",
              "    <tr>\n",
              "      <th>20</th>\n",
              "      <td>Go-Jek</td>\n",
              "      <td>10.0</td>\n",
              "    </tr>\n",
              "    <tr>\n",
              "      <th>21</th>\n",
              "      <td>WeBank</td>\n",
              "      <td>9.23</td>\n",
              "    </tr>\n",
              "    <tr>\n",
              "      <th>22</th>\n",
              "      <td>Coupang</td>\n",
              "      <td>9.0</td>\n",
              "    </tr>\n",
              "    <tr>\n",
              "      <th>23</th>\n",
              "      <td>PingAn Health Insurance Tech</td>\n",
              "      <td>8.8</td>\n",
              "    </tr>\n",
              "    <tr>\n",
              "      <th>24</th>\n",
              "      <td>Coinbase</td>\n",
              "      <td>8.0</td>\n",
              "    </tr>\n",
              "    <tr>\n",
              "      <th>25</th>\n",
              "      <td>OneConnect</td>\n",
              "      <td>8.0</td>\n",
              "    </tr>\n",
              "    <tr>\n",
              "      <th>26</th>\n",
              "      <td>Robinhood</td>\n",
              "      <td>7.6</td>\n",
              "    </tr>\n",
              "    <tr>\n",
              "      <th>27</th>\n",
              "      <td>Instacart</td>\n",
              "      <td>7.6</td>\n",
              "    </tr>\n",
              "    <tr>\n",
              "      <th>28</th>\n",
              "      <td>JD Finance</td>\n",
              "      <td>7.3</td>\n",
              "    </tr>\n",
              "    <tr>\n",
              "      <th>29</th>\n",
              "      <td>DoorDash</td>\n",
              "      <td>7.1</td>\n",
              "    </tr>\n",
              "    <tr>\n",
              "      <th>30</th>\n",
              "      <td>Tokopedia</td>\n",
              "      <td>7.0</td>\n",
              "    </tr>\n",
              "    <tr>\n",
              "      <th>31</th>\n",
              "      <td>Roivant Sciences</td>\n",
              "      <td>7.0</td>\n",
              "    </tr>\n",
              "    <tr>\n",
              "      <th>32</th>\n",
              "      <td>UiPath Inc.</td>\n",
              "      <td>7.0</td>\n",
              "    </tr>\n",
              "    <tr>\n",
              "      <th>33</th>\n",
              "      <td>WeWork</td>\n",
              "      <td>7</td>\n",
              "    </tr>\n",
              "    <tr>\n",
              "      <th>34</th>\n",
              "      <td>Tanium</td>\n",
              "      <td>6.5</td>\n",
              "    </tr>\n",
              "    <tr>\n",
              "      <th>35</th>\n",
              "      <td>Compass</td>\n",
              "      <td>6.4</td>\n",
              "    </tr>\n",
              "    <tr>\n",
              "      <th>36</th>\n",
              "      <td>Ola Cabs</td>\n",
              "      <td>10</td>\n",
              "    </tr>\n",
              "    <tr>\n",
              "      <th>37</th>\n",
              "      <td>Farfetch</td>\n",
              "      <td>6.2</td>\n",
              "    </tr>\n",
              "    <tr>\n",
              "      <th>38</th>\n",
              "      <td>Databricks</td>\n",
              "      <td>6.2</td>\n",
              "    </tr>\n",
              "    <tr>\n",
              "      <th>39</th>\n",
              "      <td>Klarna</td>\n",
              "      <td>5.5</td>\n",
              "    </tr>\n",
              "    <tr>\n",
              "      <th>40</th>\n",
              "      <td>Byju's</td>\n",
              "      <td>5.4</td>\n",
              "    </tr>\n",
              "    <tr>\n",
              "      <th>41</th>\n",
              "      <td>Rivian</td>\n",
              "      <td>5.0+</td>\n",
              "    </tr>\n",
              "    <tr>\n",
              "      <th>42</th>\n",
              "      <td>CloudKitchens</td>\n",
              "      <td>5.0</td>\n",
              "    </tr>\n",
              "    <tr>\n",
              "      <th>43</th>\n",
              "      <td>Bluehole</td>\n",
              "      <td>5.0</td>\n",
              "    </tr>\n",
              "    <tr>\n",
              "      <th>44</th>\n",
              "      <td>United Imaging Healthcare</td>\n",
              "      <td>5.0</td>\n",
              "    </tr>\n",
              "    <tr>\n",
              "      <th>45</th>\n",
              "      <td>Magic Leap</td>\n",
              "      <td>4.5</td>\n",
              "    </tr>\n",
              "    <tr>\n",
              "      <th>46</th>\n",
              "      <td>Zenefits</td>\n",
              "      <td>4.5</td>\n",
              "    </tr>\n",
              "    <tr>\n",
              "      <th>47</th>\n",
              "      <td>Meizu</td>\n",
              "      <td>4.4</td>\n",
              "    </tr>\n",
              "    <tr>\n",
              "      <th>48</th>\n",
              "      <td>SoFi</td>\n",
              "      <td>4.3</td>\n",
              "    </tr>\n",
              "    <tr>\n",
              "      <th>49</th>\n",
              "      <td>BAIC BJEV</td>\n",
              "      <td>4.2</td>\n",
              "    </tr>\n",
              "  </tbody>\n",
              "</table>\n",
              "</div>"
            ],
            "text/plain": [
              "                         Company Valuation\n",
              "0                  Ant Financial       150\n",
              "1                      Bytedance      78.0\n",
              "2                           DiDi      51.6\n",
              "3                         Airbnb      38.0\n",
              "4                         Stripe      35.0\n",
              "5                         SpaceX      33.3\n",
              "6                          Lufax      30.0\n",
              "7                      JUUL Labs      24.0\n",
              "8                        Cainiao      20.0\n",
              "9          Palantir Technologies      20.0\n",
              "10                      Kuaishou      18.0\n",
              "11                         Paytm      18.0\n",
              "12                           DJI      15.0\n",
              "13                    Epic Games      15.0\n",
              "14                       Lianjia      13.0\n",
              "15                          Wish     11.0+\n",
              "16                     Jiedaibao     10.77\n",
              "17                        Nubank     10.0+\n",
              "18                           OYO      10.0\n",
              "19                          Grab      10.0\n",
              "20                        Go-Jek      10.0\n",
              "21                        WeBank      9.23\n",
              "22                       Coupang       9.0\n",
              "23  PingAn Health Insurance Tech       8.8\n",
              "24                      Coinbase       8.0\n",
              "25                    OneConnect       8.0\n",
              "26                     Robinhood       7.6\n",
              "27                     Instacart       7.6\n",
              "28                    JD Finance       7.3\n",
              "29                      DoorDash       7.1\n",
              "30                     Tokopedia       7.0\n",
              "31              Roivant Sciences       7.0\n",
              "32                   UiPath Inc.       7.0\n",
              "33                        WeWork         7\n",
              "34                        Tanium       6.5\n",
              "35                       Compass       6.4\n",
              "36                      Ola Cabs        10\n",
              "37                      Farfetch       6.2\n",
              "38                    Databricks       6.2\n",
              "39                        Klarna       5.5\n",
              "40                        Byju's       5.4\n",
              "41                        Rivian      5.0+\n",
              "42                 CloudKitchens       5.0\n",
              "43                      Bluehole       5.0\n",
              "44     United Imaging Healthcare       5.0\n",
              "45                    Magic Leap       4.5\n",
              "46                      Zenefits       4.5\n",
              "47                         Meizu       4.4\n",
              "48                          SoFi       4.3\n",
              "49                     BAIC BJEV       4.2"
            ]
          },
          "metadata": {
            "tags": []
          },
          "execution_count": 42
        }
      ]
    },
    {
      "cell_type": "code",
      "metadata": {
        "id": "1v-zVSMLrYHh",
        "colab_type": "code",
        "colab": {
          "base_uri": "https://localhost:8080/",
          "height": 68
        },
        "outputId": "d65f7f5f-6a22-4bd6-b3e8-43aca0b02dce"
      },
      "source": [
        "#Penn grader entry\n",
        "grader.grade(test_case_id = 'xPath_test', answer = (answer_df, xpath_str))"
      ],
      "execution_count": 43,
      "outputs": [
        {
          "output_type": "stream",
          "text": [
            "Correct! You earned 9/9 points. You are a star!\n",
            "\n",
            "Your submission has been successfully recorded in the gradebook.\n"
          ],
          "name": "stdout"
        }
      ]
    },
    {
      "cell_type": "markdown",
      "metadata": {
        "id": "UjD6jZO5ieAG",
        "colab_type": "text"
      },
      "source": [
        "You're done! You are now a master data wrangler. Yeehaw!\n",
        "\n",
        "<p align = \"center\">\n",
        "<img src = \"https://compendiumofcountries.org/wiki/images/6/68/Data_Wrangler_-_Gaucho.png\" width= \"200\" align =\"center\"/>\n",
        "</p>\n",
        "\n",
        "This image shows up on google images when you search for \"data wrangler\". "
      ]
    },
    {
      "cell_type": "markdown",
      "metadata": {
        "id": "ydELAEzkzpE_",
        "colab_type": "text"
      },
      "source": [
        "# HW Submission\n",
        "\n",
        "The good news is you basically know the score you already got because of the autograder. \n",
        "**Double check that you have the correct PennID (all numbers) in the autograder**. \n",
        "\n",
        "However, we will still double check your notebook to check for plagarism. Again, do not cheat. Go to the \"File\" tab at the top left, and click \"Download .ipynb\". Zip it (name shouldn't matter) and submit it to OpenSubmit. \n",
        "\n",
        "You must submit your notebook to receive credit.\n",
        "\n",
        "**On OpenSubmit, go to Settings and make sure to set your Student ID to your PennID (all numbers)**."
      ]
    },
    {
      "cell_type": "markdown",
      "metadata": {
        "id": "LKEKjKDJAHk3",
        "colab_type": "text"
      },
      "source": [
        "Lastly, enjoy this picture of what true love is\n",
        "\n",
        "<p align = \"center\">\n",
        "<img src = \"https://www.dataquest.io/wp-content/uploads/2019/01/6990634-panda-hug-832x520.jpg\" width= \"600\" align =\"center\"/>\n",
        "</p>"
      ]
    }
  ]
}